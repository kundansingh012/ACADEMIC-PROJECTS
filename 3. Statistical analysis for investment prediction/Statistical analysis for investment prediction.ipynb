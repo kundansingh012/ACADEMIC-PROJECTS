{
 "cells": [
  {
   "cell_type": "markdown",
   "id": "458ccaa8",
   "metadata": {},
   "source": [
    "# Fundamental Statistical Analysis (linear and logistic regression techniques)\n",
    "## Scenario\n",
    "\n",
    "A data scientist working in a venture capital investment firm. He has been given some\n",
    "data about a potential company to invest in. He needs to create some models to predict what the\n",
    "potential company will be like in 12 months' time.\n",
    "\n",
    "\n",
    "## About this project\n",
    "\n",
    "This project focuses on fundamental statistical analysis, which\n",
    "will apply linear and logistic regression techniques on one or more\n",
    "data sets.\n",
    "\n",
    "- Identify the appropriate Data Science analysis for a problem and\n",
    "  apply that method to the problem.\n",
    "\n",
    "- Interpret Data Science analyses and summarise and identify the most\n",
    "  important aspects of a Data Science analysis."
   ]
  },
  {
   "cell_type": "code",
   "id": "f5487614",
   "metadata": {
    "ExecuteTime": {
     "end_time": "2025-08-02T14:57:22.909969Z",
     "start_time": "2025-08-02T14:57:22.877463Z"
    }
   },
   "source": [
    "%matplotlib inline\n",
    "\n",
    "import pandas as pd\n",
    "import numpy as np\n",
    "import matplotlib.pyplot as plt\n",
    "import seaborn as sns\n",
    "\n",
    "from sklearn import linear_model,metrics\n",
    "import sklearn.linear_model\n",
    "\n",
    "\n",
    "from sklearn.model_selection import train_test_split\n",
    "from sklearn.metrics import r2_score\n",
    "\n",
    "from sklearn.linear_model import HuberRegressor\n",
    "from sklearn.metrics import mean_squared_error,mean_absolute_error\n",
    "\n",
    "from sklearn.linear_model import LogisticRegression\n",
    "from sklearn import preprocessing\n",
    "from sklearn.metrics import accuracy_score, confusion_matrix\n"
   ],
   "outputs": [],
   "execution_count": 115
  },
  {
   "cell_type": "markdown",
   "id": "395baf81",
   "metadata": {},
   "source": "I'm only using libraries from panda, sklearn, and numpy."
  },
  {
   "cell_type": "markdown",
   "id": "c3a6a158",
   "metadata": {},
   "source": [
    "\n",
    "\n",
    "### Load the Data\n",
    "\n",
    "- Loaded the data into a DataFrame using `pd.read_csv()` into a variable called `df`.\n",
    "\n"
   ]
  },
  {
   "cell_type": "code",
   "id": "b77daba1",
   "metadata": {
    "ExecuteTime": {
     "end_time": "2025-08-02T14:57:23.061333Z",
     "start_time": "2025-08-02T14:57:23.023450Z"
    }
   },
   "source": [
    "df = pd.read_csv('48849855_Cochran_LLC_PLC.csv')\n",
    "df.head()"
   ],
   "outputs": [
    {
     "data": {
      "text/plain": [
       "   Months_Since_Launch      Payroll   Revenue  Base_10_Log_Revenue  Scandals  \\\n",
       "0                    1  31665663.39  13071.26               4.1163         0   \n",
       "1                    2  29205967.35  21781.64               4.3381         0   \n",
       "2                    3  30418749.46  26865.96               4.4292         0   \n",
       "3                    4  33955359.07  35216.11               4.5467         0   \n",
       "4                    5  34313947.08  37571.16               4.5749         0   \n",
       "\n",
       "  Media Coverage  \n",
       "0       Negative  \n",
       "1       Negative  \n",
       "2       Negative  \n",
       "3       Negative  \n",
       "4       Negative  "
      ],
      "text/html": [
       "<div>\n",
       "<style scoped>\n",
       "    .dataframe tbody tr th:only-of-type {\n",
       "        vertical-align: middle;\n",
       "    }\n",
       "\n",
       "    .dataframe tbody tr th {\n",
       "        vertical-align: top;\n",
       "    }\n",
       "\n",
       "    .dataframe thead th {\n",
       "        text-align: right;\n",
       "    }\n",
       "</style>\n",
       "<table border=\"1\" class=\"dataframe\">\n",
       "  <thead>\n",
       "    <tr style=\"text-align: right;\">\n",
       "      <th></th>\n",
       "      <th>Months_Since_Launch</th>\n",
       "      <th>Payroll</th>\n",
       "      <th>Revenue</th>\n",
       "      <th>Base_10_Log_Revenue</th>\n",
       "      <th>Scandals</th>\n",
       "      <th>Media Coverage</th>\n",
       "    </tr>\n",
       "  </thead>\n",
       "  <tbody>\n",
       "    <tr>\n",
       "      <th>0</th>\n",
       "      <td>1</td>\n",
       "      <td>31665663.39</td>\n",
       "      <td>13071.26</td>\n",
       "      <td>4.1163</td>\n",
       "      <td>0</td>\n",
       "      <td>Negative</td>\n",
       "    </tr>\n",
       "    <tr>\n",
       "      <th>1</th>\n",
       "      <td>2</td>\n",
       "      <td>29205967.35</td>\n",
       "      <td>21781.64</td>\n",
       "      <td>4.3381</td>\n",
       "      <td>0</td>\n",
       "      <td>Negative</td>\n",
       "    </tr>\n",
       "    <tr>\n",
       "      <th>2</th>\n",
       "      <td>3</td>\n",
       "      <td>30418749.46</td>\n",
       "      <td>26865.96</td>\n",
       "      <td>4.4292</td>\n",
       "      <td>0</td>\n",
       "      <td>Negative</td>\n",
       "    </tr>\n",
       "    <tr>\n",
       "      <th>3</th>\n",
       "      <td>4</td>\n",
       "      <td>33955359.07</td>\n",
       "      <td>35216.11</td>\n",
       "      <td>4.5467</td>\n",
       "      <td>0</td>\n",
       "      <td>Negative</td>\n",
       "    </tr>\n",
       "    <tr>\n",
       "      <th>4</th>\n",
       "      <td>5</td>\n",
       "      <td>34313947.08</td>\n",
       "      <td>37571.16</td>\n",
       "      <td>4.5749</td>\n",
       "      <td>0</td>\n",
       "      <td>Negative</td>\n",
       "    </tr>\n",
       "  </tbody>\n",
       "</table>\n",
       "</div>"
      ]
     },
     "execution_count": 116,
     "metadata": {},
     "output_type": "execute_result"
    }
   ],
   "execution_count": 116
  },
  {
   "cell_type": "markdown",
   "id": "297c4b99",
   "metadata": {},
   "source": [
    "\n",
    "\n",
    "### Inspect the Data\n",
    "\n",
    "- Listed the column names using `df.columns`.\n",
    "\n"
   ]
  },
  {
   "cell_type": "code",
   "id": "0ef2b3b7",
   "metadata": {
    "ExecuteTime": {
     "end_time": "2025-08-02T14:57:23.298985Z",
     "start_time": "2025-08-02T14:57:23.286721Z"
    }
   },
   "source": "print(df.columns)",
   "outputs": [
    {
     "name": "stdout",
     "output_type": "stream",
     "text": [
      "Index(['Months_Since_Launch', 'Payroll', 'Revenue', 'Base_10_Log_Revenue',\n",
      "       'Scandals', 'Media Coverage'],\n",
      "      dtype='object')\n"
     ]
    }
   ],
   "execution_count": 117
  },
  {
   "metadata": {},
   "cell_type": "markdown",
   "source": [
    "There are six Series in the data frame:\n",
    "1. Months since launch - This one represents time elapsed since launch of the company.\n",
    "2. Payroll—This colum shows how much salary a company is paying to its employees.\n",
    "3. Revenue colum shows the turnover of the company.\n",
    "4. By using log10, we are reducing the scale of data to a smaller number, which is easy to interpret data.\n",
    "5. Scandals seem to be related to any financial fraud or unethical activities in a company.\n",
    "6. This represents the state of company reputation represented by media.\n"
   ],
   "id": "f70f448ea46a55a4"
  },
  {
   "cell_type": "code",
   "id": "d527e47c",
   "metadata": {
    "ExecuteTime": {
     "end_time": "2025-08-02T14:57:23.543590Z",
     "start_time": "2025-08-02T14:57:23.497064Z"
    }
   },
   "source": [
    "df.info()  # Checks column names and data types\n",
    "df.head()  # gives the first few rows\n"
   ],
   "outputs": [
    {
     "name": "stdout",
     "output_type": "stream",
     "text": [
      "<class 'pandas.core.frame.DataFrame'>\n",
      "RangeIndex: 24 entries, 0 to 23\n",
      "Data columns (total 6 columns):\n",
      " #   Column               Non-Null Count  Dtype  \n",
      "---  ------               --------------  -----  \n",
      " 0   Months_Since_Launch  24 non-null     int64  \n",
      " 1   Payroll              24 non-null     float64\n",
      " 2   Revenue              24 non-null     float64\n",
      " 3   Base_10_Log_Revenue  24 non-null     float64\n",
      " 4   Scandals             24 non-null     int64  \n",
      " 5   Media Coverage       24 non-null     object \n",
      "dtypes: float64(3), int64(2), object(1)\n",
      "memory usage: 1.3+ KB\n"
     ]
    },
    {
     "data": {
      "text/plain": [
       "   Months_Since_Launch      Payroll   Revenue  Base_10_Log_Revenue  Scandals  \\\n",
       "0                    1  31665663.39  13071.26               4.1163         0   \n",
       "1                    2  29205967.35  21781.64               4.3381         0   \n",
       "2                    3  30418749.46  26865.96               4.4292         0   \n",
       "3                    4  33955359.07  35216.11               4.5467         0   \n",
       "4                    5  34313947.08  37571.16               4.5749         0   \n",
       "\n",
       "  Media Coverage  \n",
       "0       Negative  \n",
       "1       Negative  \n",
       "2       Negative  \n",
       "3       Negative  \n",
       "4       Negative  "
      ],
      "text/html": [
       "<div>\n",
       "<style scoped>\n",
       "    .dataframe tbody tr th:only-of-type {\n",
       "        vertical-align: middle;\n",
       "    }\n",
       "\n",
       "    .dataframe tbody tr th {\n",
       "        vertical-align: top;\n",
       "    }\n",
       "\n",
       "    .dataframe thead th {\n",
       "        text-align: right;\n",
       "    }\n",
       "</style>\n",
       "<table border=\"1\" class=\"dataframe\">\n",
       "  <thead>\n",
       "    <tr style=\"text-align: right;\">\n",
       "      <th></th>\n",
       "      <th>Months_Since_Launch</th>\n",
       "      <th>Payroll</th>\n",
       "      <th>Revenue</th>\n",
       "      <th>Base_10_Log_Revenue</th>\n",
       "      <th>Scandals</th>\n",
       "      <th>Media Coverage</th>\n",
       "    </tr>\n",
       "  </thead>\n",
       "  <tbody>\n",
       "    <tr>\n",
       "      <th>0</th>\n",
       "      <td>1</td>\n",
       "      <td>31665663.39</td>\n",
       "      <td>13071.26</td>\n",
       "      <td>4.1163</td>\n",
       "      <td>0</td>\n",
       "      <td>Negative</td>\n",
       "    </tr>\n",
       "    <tr>\n",
       "      <th>1</th>\n",
       "      <td>2</td>\n",
       "      <td>29205967.35</td>\n",
       "      <td>21781.64</td>\n",
       "      <td>4.3381</td>\n",
       "      <td>0</td>\n",
       "      <td>Negative</td>\n",
       "    </tr>\n",
       "    <tr>\n",
       "      <th>2</th>\n",
       "      <td>3</td>\n",
       "      <td>30418749.46</td>\n",
       "      <td>26865.96</td>\n",
       "      <td>4.4292</td>\n",
       "      <td>0</td>\n",
       "      <td>Negative</td>\n",
       "    </tr>\n",
       "    <tr>\n",
       "      <th>3</th>\n",
       "      <td>4</td>\n",
       "      <td>33955359.07</td>\n",
       "      <td>35216.11</td>\n",
       "      <td>4.5467</td>\n",
       "      <td>0</td>\n",
       "      <td>Negative</td>\n",
       "    </tr>\n",
       "    <tr>\n",
       "      <th>4</th>\n",
       "      <td>5</td>\n",
       "      <td>34313947.08</td>\n",
       "      <td>37571.16</td>\n",
       "      <td>4.5749</td>\n",
       "      <td>0</td>\n",
       "      <td>Negative</td>\n",
       "    </tr>\n",
       "  </tbody>\n",
       "</table>\n",
       "</div>"
      ]
     },
     "execution_count": 118,
     "metadata": {},
     "output_type": "execute_result"
    }
   ],
   "execution_count": 118
  },
  {
   "metadata": {},
   "cell_type": "markdown",
   "source": [
    "\n",
    "\n",
    "### Visualise Payroll Over Time\n",
    "\n",
    "- Created a line plot clearly showing payroll over months since launch.\n",
    "\n"
   ],
   "id": "54d98499"
  },
  {
   "metadata": {
    "ExecuteTime": {
     "end_time": "2025-08-02T14:57:25.055257Z",
     "start_time": "2025-08-02T14:57:23.970600Z"
    }
   },
   "cell_type": "code",
   "source": [
    "\n",
    "# Size of the plot\n",
    "plt.figure(figsize=(10, 5))\n",
    "# Line plot using Months_Since_Launch and Payroll columns where X is months and Y is Payroll\n",
    "sns.lineplot(x=df['Months_Since_Launch'], y=df['Payroll'], marker='o', linestyle='-', label='Payroll')\n",
    "\n",
    "\n",
    "# Label the X and Y axes so that the graph is easy to understand\n",
    "plt.xlabel(\"Months Since Launch\")\n",
    "plt.ylabel(\"Payroll ($)\")\n",
    "plt.title(\"Payroll Over Time\")\n",
    "plt.legend()\n",
    "# This will keep the grid on for better visualisation; if you set it to False, it will turn off the grid in the graph\n",
    "plt.grid(True)\n",
    "plt.show()"
   ],
   "id": "b94ab09875651573",
   "outputs": [
    {
     "data": {
      "text/plain": [
       "<Figure size 1000x500 with 1 Axes>"
      ],
      "image/png": "[encoded data removed]"
     },
     "metadata": {},
     "output_type": "display_data"
    }
   ],
   "execution_count": 119
  },
  {
   "metadata": {},
   "cell_type": "markdown",
   "source": [
    "\n",
    "\n",
    "### Identifying and briefly discussing visible outliers\n",
    "\n"
   ],
   "id": "15f41995"
  },
  {
   "cell_type": "code",
   "id": "0c11f64b",
   "metadata": {
    "ExecuteTime": {
     "end_time": "2025-08-02T14:57:25.997338Z",
     "start_time": "2025-08-02T14:57:25.310223Z"
    }
   },
   "source": [
    "# Plot the line graph\n",
    "plt.figure(figsize=(12, 6))\n",
    "sns.lineplot(x=df['Months_Since_Launch'], y=df['Payroll'], marker='o', linestyle='-', label='Payroll')\n",
    "\n",
    "# Highlight the outlier at the 16th month\n",
    "outlier_month = 16\n",
    "# filtering the rows with month value 16th and making a small df containing value for this month, also it will provide the value of payroll for the same month.\n",
    "outlier_value = df[df['Months_Since_Launch'] == outlier_month]['Payroll'].values[0]\n",
    "\n",
    "# this will highlight the outliner month in graph\n",
    "plt.scatter(outlier_month, outlier_value, color='red', label='Outlier (Month 16)', zorder=5)\n",
    "\n",
    "# Customize the plot\n",
    "plt.xlabel(\"Months Since Launch\")\n",
    "plt.ylabel(\"Payroll ($)\")\n",
    "plt.title(\"Payroll Over Time (Outlier Highlighted)\")\n",
    "plt.grid(True)\n",
    "plt.legend()\n",
    "plt.show()\n",
    "\n",
    "# Print information about the outlier\n",
    "print(f\"Outlier detected at Month {outlier_month} with Payroll: ${outlier_value}\")"
   ],
   "outputs": [
    {
     "data": {
      "text/plain": [
       "<Figure size 1200x600 with 1 Axes>"
      ],
      "image/png": "[encoded data removed]"
     },
     "metadata": {},
     "output_type": "display_data"
    },
    {
     "name": "stdout",
     "output_type": "stream",
     "text": [
      "Outlier detected at Month 16 with Payroll: $83910399.83\n"
     ]
    }
   ],
   "execution_count": 120
  },
  {
   "cell_type": "markdown",
   "id": "6c632ec9",
   "metadata": {},
   "source": [
    "— The Payroll has been increasing over the period of 24 months, and there is a sudden spike in the 16th month. We can observe small fluctuations in month 7, 10, 18, and 22.\n",
    "\n",
    "— From this chart, we can assume hiring trends in the company."
   ]
  },
  {
   "cell_type": "markdown",
   "id": "4914e39e",
   "metadata": {},
   "source": [
    "\n",
    "\n",
    "## Linear Regression: Payroll\n",
    "\n",
    "### Step-by-step breakdown:\n",
    "\n",
    "- Created training, validation, and test sets correctly:\n",
    "  - Training: all months except the last two.\n",
    "  - Validation: second-last month.\n",
    "  - Test: last month.\n",
    "\n"
   ]
  },
  {
   "metadata": {
    "ExecuteTime": {
     "end_time": "2025-08-02T14:57:26.055099Z",
     "start_time": "2025-08-02T14:57:26.049057Z"
    }
   },
   "cell_type": "code",
   "source": [
    "# Ensures that the data is sorted by Months_Since_Launch\n",
    "data = df.sort_values(by='Months_Since_Launch')\n",
    "\n",
    "# Created training, validation, and test sets\n",
    "train_df = df.iloc[:-2]  # All months except the last two\n",
    "val_df = df.iloc[-2:-1]  # Second-to-last month (validation set)\n",
    "test_df = df.iloc[-1:]  # Last month (test set)\n",
    "\n",
    "# Print sizes of each set\n",
    "print(\"Training set size:\", train_df.shape)\n",
    "print(\"Validation set size:\", val_df.shape)\n",
    "print(\"Test set size:\", test_df.shape)\n"
   ],
   "id": "c1652068bfa0bdbc",
   "outputs": [
    {
     "name": "stdout",
     "output_type": "stream",
     "text": [
      "Training set size: (22, 6)\n",
      "Validation set size: (1, 6)\n",
      "Test set size: (1, 6)\n"
     ]
    }
   ],
   "execution_count": 121
  },
  {
   "cell_type": "code",
   "id": "01749011",
   "metadata": {
    "ExecuteTime": {
     "end_time": "2025-08-02T14:57:26.116205Z",
     "start_time": "2025-08-02T14:57:26.105965Z"
    }
   },
   "source": [
    "#print all sets separately\n",
    "print('Training set: \\n',train_df)\n",
    "print('Validation set: \\n',val_df)\n",
    "print('Testing set: \\n',test_df)"
   ],
   "outputs": [
    {
     "name": "stdout",
     "output_type": "stream",
     "text": [
      "Training set: \n",
      "     Months_Since_Launch      Payroll     Revenue  Base_10_Log_Revenue  \\\n",
      "0                     1  31665663.39    13071.26               4.1163   \n",
      "1                     2  29205967.35    21781.64               4.3381   \n",
      "2                     3  30418749.46    26865.96               4.4292   \n",
      "3                     4  33955359.07    35216.11               4.5467   \n",
      "4                     5  34313947.08    37571.16               4.5749   \n",
      "5                     6  35406830.21    53093.39               4.7250   \n",
      "6                     7  40766617.07    65360.82               4.8153   \n",
      "7                     8  39114209.10   104404.16               5.0187   \n",
      "8                     9  40565000.80   122931.37               5.0897   \n",
      "9                    10  46020064.85   161692.37               5.2087   \n",
      "10                   11  44155171.22   173990.51               5.2405   \n",
      "11                   12  46122724.45   186311.15               5.2702   \n",
      "12                   13  46662902.75   289812.85               5.4621   \n",
      "13                   14  47232434.10   315532.37               5.4990   \n",
      "14                   15  49975437.48   453341.61               5.6564   \n",
      "15                   16  83910399.83   569954.21               5.7558   \n",
      "16                   17  51664397.78   725367.55               5.8606   \n",
      "17                   18  57020391.62   927087.81               5.9671   \n",
      "18                   19  55922043.95   809800.97               5.9084   \n",
      "19                   20  56864828.34  1356885.93               6.1325   \n",
      "20                   21  58545172.68  2058488.32               6.3135   \n",
      "21                   22  62622096.88  2264471.29               6.3550   \n",
      "\n",
      "    Scandals Media Coverage  \n",
      "0          0       Negative  \n",
      "1          0       Negative  \n",
      "2          0       Negative  \n",
      "3          0       Negative  \n",
      "4          0       Negative  \n",
      "5          0       Negative  \n",
      "6          0       Negative  \n",
      "7          0       Negative  \n",
      "8          0       Negative  \n",
      "9          0       Negative  \n",
      "10         0       Negative  \n",
      "11         0       Negative  \n",
      "12         0       Negative  \n",
      "13         0       Negative  \n",
      "14         0       Positive  \n",
      "15         0       Positive  \n",
      "16         0       Positive  \n",
      "17         0       Positive  \n",
      "18         0       Positive  \n",
      "19         0       Positive  \n",
      "20         0       Positive  \n",
      "21         0       Positive  \n",
      "Validation set: \n",
      "     Months_Since_Launch     Payroll    Revenue  Base_10_Log_Revenue  Scandals  \\\n",
      "22                   23  61879056.9  5814972.0               6.7645         0   \n",
      "\n",
      "   Media Coverage  \n",
      "22       Positive  \n",
      "Testing set: \n",
      "     Months_Since_Launch      Payroll     Revenue  Base_10_Log_Revenue  \\\n",
      "23                   24  64464881.68  3996801.95               6.6017   \n",
      "\n",
      "    Scandals Media Coverage  \n",
      "23         0       Positive  \n"
     ]
    }
   ],
   "execution_count": 122
  },
  {
   "cell_type": "markdown",
   "id": "f6b4327d",
   "metadata": {},
   "source": [
    "\n",
    "  \n",
    "### Train an Ordinary Least Squares (OLS) regressor.\n",
    "\n"
   ]
  },
  {
   "cell_type": "code",
   "id": "9d524cdd",
   "metadata": {
    "ExecuteTime": {
     "end_time": "2025-08-02T14:57:26.179858Z",
     "start_time": "2025-08-02T14:57:26.172162Z"
    }
   },
   "source": [
    "\n",
    "# Defined features (X) and target (y) for the training set\n",
    "X_train = train_df[['Months_Since_Launch']]\n",
    "y_train = train_df['Payroll']\n",
    "\n",
    "# Initialize the OLS regressor\n",
    "ols = sklearn.linear_model.LinearRegression()\n",
    "#ols_model = LinearRegression()\n",
    "\n",
    "# Train the model (fit the regressor to the training data)\n",
    "ols.fit(X_train, y_train)\n",
    "\n",
    "# Print the coefficients and intercept\n",
    "print(\"Model Coefficients:\", ols.coef_)\n",
    "print(\"Model Intercept:\", ols.intercept_)\n"
   ],
   "outputs": [
    {
     "name": "stdout",
     "output_type": "stream",
     "text": [
      "Model Coefficients: [1672606.72949746]\n",
      "Model Intercept: 27225495.76805195\n"
     ]
    }
   ],
   "execution_count": 123
  },
  {
   "cell_type": "markdown",
   "id": "915ed13c",
   "metadata": {},
   "source": [
    "\n",
    "### Train a robust regressor (Huber Regressor)\n",
    "\n"
   ]
  },
  {
   "cell_type": "code",
   "id": "5d337f8c",
   "metadata": {
    "ExecuteTime": {
     "end_time": "2025-08-02T14:57:26.245632Z",
     "start_time": "2025-08-02T14:57:26.223137Z"
    }
   },
   "source": [
    "\n",
    "# Define features (X) and target (y) for the training set\n",
    "#X_train = train_df[['Months_Since_Launch']]\n",
    "#y_train = train_df['Payroll']\n",
    "\n",
    "# Initialize the robust regressor\n",
    "robust_model = sklearn.linear_model.HuberRegressor()\n",
    "\n",
    "# Train the model\n",
    "robust_model.fit(X_train, y_train)\n",
    "\n",
    "# Print the coefficients and intercept\n",
    "print(\"Model Coefficients:\", robust_model.coef_)\n",
    "print(\"Model Intercept:\", robust_model.intercept_)\n"
   ],
   "outputs": [
    {
     "name": "stdout",
     "output_type": "stream",
     "text": [
      "Model Coefficients: [1155591.34025661]\n",
      "Model Intercept: 31821668.27175965\n"
     ]
    }
   ],
   "execution_count": 124
  },
  {
   "cell_type": "markdown",
   "id": "d4dade55",
   "metadata": {},
   "source": [
    "\n",
    "\n",
    "### Clearly identify and justify an appropriate evaluation metric\n",
    "\n"
   ]
  },
  {
   "metadata": {},
   "cell_type": "markdown",
   "source": [
    "As we can see that there is a rouge data point in the 16th month, the Huber Regressor is the best for this case. It will provide a clean and stable solution by reducing the influence of this data point.\n",
    "\n",
    "OLS is not suitable for this case as it will treat that rouge data point same as any other data point, and it can give wrong predication."
   ],
   "id": "a3ca52492f9420b8"
  },
  {
   "cell_type": "markdown",
   "id": "bf97c7a9",
   "metadata": {},
   "source": [
    "\n",
    "\n",
    "### Evaluation of both models using the validation set to see which performed better.\n",
    "\n"
   ]
  },
  {
   "metadata": {
    "ExecuteTime": {
     "end_time": "2025-08-02T14:57:26.302642Z",
     "start_time": "2025-08-02T14:57:26.299553Z"
    }
   },
   "cell_type": "code",
   "source": [
    "# validation set features and target\n",
    "#X_val = val_df[['Months_Since_Launch']]\n",
    "#y_val = val_df['Payroll']\n",
    "\n",
    "# Predict using the OLS model\n",
    "#ols_predictions = ols.predict(X_val)\n",
    "# to evaluate these models, we will use similar method same as week 2 prac\n",
    "#val_df.Payroll - ols_predictions"
   ],
   "id": "c76f6fe3b13783fd",
   "outputs": [],
   "execution_count": 125
  },
  {
   "metadata": {
    "ExecuteTime": {
     "end_time": "2025-08-02T14:57:26.336610Z",
     "start_time": "2025-08-02T14:57:26.333427Z"
    }
   },
   "cell_type": "code",
   "source": [
    "# validation set features and target\n",
    "# = val_df[['Months_Since_Launch']]\n",
    "#y_val = val_df['Payroll']\n",
    "# Predict using the Robust model (Huber Regressor)\n",
    "#huber_predictions = huber.predict(X_val)\n",
    "# to evaluate these models, we will use similar method same as week 2 prac\n",
    "#val_df.Payroll - huber_predictions"
   ],
   "id": "495d3b2c8043a92d",
   "outputs": [],
   "execution_count": 126
  },
  {
   "cell_type": "code",
   "id": "8df0b17e",
   "metadata": {
    "ExecuteTime": {
     "end_time": "2025-08-02T14:57:26.384860Z",
     "start_time": "2025-08-02T14:57:26.371723Z"
    }
   },
   "source": [
    "# validation set features and target\n",
    "X_val = val_df[['Months_Since_Launch']]\n",
    "y_val = val_df['Payroll']\n",
    "\n",
    "# Predict using the OLS model\n",
    "ols_predictions = ols.predict(X_val)\n",
    "#ols_mae = sklearn.metrics.mean_absolute_error(y_val, ols_predictions)\n",
    "ols_mae = metrics.mean_absolute_error(y_val, ols_predictions)\n",
    "ols_mse = metrics.mean_squared_error(y_val, ols_predictions)\n",
    "\n",
    "# Predict using the Robust model (Huber Regressor)\n",
    "# not putting the name of variable as huber_prediction, huber_mae or huber_mse because just in case I have to change my model in future\n",
    "robust_predictions = robust_model.predict(X_val)\n",
    "#robust_mae = sklearn.metrics.mean_absolute_error(y_val, robust_predictions)\n",
    "robust_mae = metrics.mean_absolute_error(y_val, robust_predictions)\n",
    "robust_mse = metrics.mean_squared_error(y_val, robust_predictions)\n",
    "\n",
    "# Print the validation results\n",
    "print(f\"OLS Model MAE on Validation Set: {ols_mae}\")\n",
    "print(f\"Robust Model MAE on Validation Set: {robust_mae}\")\n",
    "print(\"OLS Model MSE on Validation Set: {:.4f}\".format(ols_mse))\n",
    "print(\"Robust Model MSE on Validation Set: {:.4f}\".format(robust_mse))\n",
    "\n",
    "# Compare and decide which is better\n",
    "if ols_mae < robust_mae:\n",
    "    print(\"The OLS model performed better when we use MAE on the validation set.\")\n",
    "else:\n",
    "    print(\"The Robust model (Huber Regressor) performed better when we use MAE on the validation set.\")\n",
    "# compare with mse\n",
    "if ols_mse < robust_mse:\n",
    "    print(\"The OLS model performed better when we use MSE on the validation set.\")\n",
    "else:\n",
    "    print(\"The Robust model (Huber Regressor) performed better when we use MSE on the validation set.\")\n"
   ],
   "outputs": [
    {
     "name": "stdout",
     "output_type": "stream",
     "text": [
      "OLS Model MAE on Validation Set: 3816393.646493502\n",
      "Robust Model MAE on Validation Set: 3478787.8023382872\n",
      "OLS Model MSE on Validation Set: 14564860464995.9688\n",
      "Robust Model MSE on Validation Set: 12101964573697.6504\n",
      "The Robust model (Huber Regressor) performed better when we use MAE on the validation set.\n",
      "The Robust model (Huber Regressor) performed better when we use MSE on the validation set.\n"
     ]
    }
   ],
   "execution_count": 127
  },
  {
   "cell_type": "markdown",
   "id": "7689eb11",
   "metadata": {},
   "source": [
    "Answer:\n",
    "To evaluate both models, we need to use validation data along with MAE or MSE (performance metrics). Both MAE and MSE are indicating that Huber Regressor is performing better, but since outliners can influence MSE, so in this case, MAE is better as it is insensitive to outliners.\n",
    "\n",
    "Conclusion: The Robust model performed better as MAE (Mean absolute error) is less than an OLS model. I'll not use MSE as performance metrics further in this project as number is not realistic, and it will only give us unrealistic results like the above."
   ]
  },
  {
   "cell_type": "markdown",
   "id": "f5abbbd3",
   "metadata": {},
   "source": [
    "\n",
    "\n",
    "### Report accuracy of the best-performing model on the test set.\n",
    "\n"
   ]
  },
  {
   "cell_type": "code",
   "id": "d93cd93a",
   "metadata": {
    "ExecuteTime": {
     "end_time": "2025-08-02T14:57:26.430322Z",
     "start_time": "2025-08-02T14:57:26.420548Z"
    }
   },
   "source": [
    "# since HuberRegressor is the best-performing model determined during validation\n",
    "X_test = test_df[['Months_Since_Launch']]\n",
    "y_test = test_df['Payroll']\n",
    "\n",
    "#fit the model on training data\n",
    "#robust_model.fit(X_train, y_train)\n",
    "#ols.fit(X_train, y_train)\n",
    "\n",
    "# Predict on the test set\n",
    "robust_model_test_predictions = robust_model.predict(X_test)\n",
    "ols_test_predictions = ols.predict(X_test)\n",
    "\n",
    "# MAE for accuracy reporting\n",
    "robust_model_test_mae = metrics.mean_absolute_error(y_test, robust_model_test_predictions)\n",
    "ols_test_mae = metrics.mean_absolute_error(y_test, ols_test_predictions)\n",
    "\n",
    "# Report the accuracy\n",
    "print(f\"Mean Absolute Error of the Best Model on the Test Set: {robust_model_test_mae:.4f}\")\n",
    "print(\"Test Prediction (Single Sample):\", robust_model_test_predictions)\n",
    "print(f\"Mean Absolute Error of the OLS Model on the Test Set: {ols_test_mae:.4f}\")\n",
    "print(\"Test Prediction (Single Sample):\", ols_test_predictions)\n",
    "print(\"Actual Value (Single Sample):\", y_test)\n",
    "\n",
    "# Compare and decide which is better\n",
    "if ols_test_mae < robust_model_test_predictions:\n",
    "    print(\"The OLS model performed better on the test set.\")\n",
    "else:\n",
    "    print(\"The Robust model (Huber Regressor) performed better on the test set.\")"
   ],
   "outputs": [
    {
     "name": "stdout",
     "output_type": "stream",
     "text": [
      "Mean Absolute Error of the Best Model on the Test Set: 4909021.2421\n",
      "Test Prediction (Single Sample): [59555860.43791832]\n",
      "Mean Absolute Error of the OLS Model on the Test Set: 2903175.5960\n",
      "Test Prediction (Single Sample): [67368057.27599096]\n",
      "Actual Value (Single Sample): 23    64464881.68\n",
      "Name: Payroll, dtype: float64\n",
      "The OLS model performed better on the test set.\n"
     ]
    }
   ],
   "execution_count": 128
  },
  {
   "cell_type": "markdown",
   "id": "b2adae10",
   "metadata": {},
   "source": [
    "### Reflection of models\n",
    "- As you can see, that both test results and validation results are conflicting with each other.\n",
    "Theoretically, a Huber model should have outperformed the OLS model because an OLS model handles outliners poorly. But since we are limited to using only a single data point for assessing, the results for OLS model might have given better results by chance or this particular sample aligns with OLS's assumptions.\n",
    "In my opinion, a Huber model has broder use case in this type of predictions as they work really well when it comes to handling outliners."
   ]
  },
  {
   "cell_type": "markdown",
   "id": "242ae26e",
   "metadata": {},
   "source": [
    "### Payroll Prediction\n",
    "\n",
    "- Best estimate for payroll in 12 months.\n",
    "\n"
   ]
  },
  {
   "metadata": {
    "ExecuteTime": {
     "end_time": "2025-08-02T14:57:26.481964Z",
     "start_time": "2025-08-02T14:57:26.475Z"
    }
   },
   "cell_type": "code",
   "source": [
    "X_predict = pd.DataFrame([[36]], columns=['Months_Since_Launch'])\n",
    "\n",
    "# HuberRegressor model to predict the payroll\n",
    "robust_model_36_month_prediction = robust_model.predict(X_predict)\n",
    "\n",
    "# Provide the estimate\n",
    "print(f\"Estimation of Payroll in the 36th Month: {robust_model_36_month_prediction[0]:.2f}\")\n"
   ],
   "id": "981fd378",
   "outputs": [
    {
     "name": "stdout",
     "output_type": "stream",
     "text": [
      "Estimation of Payroll in the 36th Month: 73422956.52\n"
     ]
    }
   ],
   "execution_count": 129
  },
  {
   "cell_type": "markdown",
   "id": "01132455",
   "metadata": {},
   "source": "The Estimation of Payroll in the 36th Month is 73422956.52, which is 1.14 times higher than the payroll in the 24th month (64464881.68)."
  },
  {
   "cell_type": "markdown",
   "id": "2b533514",
   "metadata": {},
   "source": [
    "\n",
    "\n",
    "### Estimation for uncertainty\n",
    "  (keeping in mind the evaluation metric)\n",
    "  \n"
   ]
  },
  {
   "metadata": {
    "ExecuteTime": {
     "end_time": "2025-08-02T14:57:26.556741Z",
     "start_time": "2025-08-02T14:57:26.551186Z"
    }
   },
   "cell_type": "code",
   "source": [
    "\n",
    "# MAE from Validation Set\n",
    "uncertainty_range_36 = robust_model_36_month_prediction[0] + np.array([-1, 1]) * robust_mae\n",
    "\n",
    "# Print estimated payroll with uncertainty\n",
    "print(f\"Estimated Payroll with Uncertainty: ${uncertainty_range_36[0]:.2f} to ${uncertainty_range_36[1]:.2f}\")\n"
   ],
   "id": "831bac67",
   "outputs": [
    {
     "name": "stdout",
     "output_type": "stream",
     "text": [
      "Estimated Payroll with Uncertainty: $69944168.72 to $76901744.32\n"
     ]
    }
   ],
   "execution_count": 130
  },
  {
   "cell_type": "markdown",
   "id": "5146bb4d",
   "metadata": {},
   "source": [
    "### Story Board:\n",
    "1. why did I choose Huber Regressor over OLS or any other Regressors like Theil-Sen, RANSAC?\n",
    "\n",
    "Answer:\n",
    "— a Huber model is known for its insesitive nature to outliners while models like OLS will perform poorly when subjected to a similar situation. But in test set OLS performed better, but that is just a coincidence because we only single data point in a test set.\n",
    "\n",
    "1. After deciding which model to choose (we choose Huber), we decided that there are multiple ways to evaluate like MAE, MSE, R^2, and RSME\n",
    "But to do R^2 we need at least two samples (eliminated).\n",
    "MSE and RMSE (are sensitive to outliners) I don't want to do my predictions based on or influenced by one single data point.\n",
    "\n",
    "2. So finally, We have selected MAE as this will not react to outliners. (We have validated this theory while doing the validation testing)"
   ]
  },
  {
   "cell_type": "markdown",
   "id": "b415b9db",
   "metadata": {},
   "source": [
    "\n",
    "\n",
    "## Revenue Visualisation and Transformation\n",
    "\n",
    "- Visualise revenue over time.\n",
    "\n"
   ]
  },
  {
   "cell_type": "code",
   "id": "d921ce12",
   "metadata": {
    "ExecuteTime": {
     "end_time": "2025-08-02T14:57:26.795126Z",
     "start_time": "2025-08-02T14:57:26.607137Z"
    }
   },
   "source": [
    "# Visualize Revenue Over Time\n",
    "plt.figure(figsize=(10, 6))\n",
    "sns.lineplot(x=df['Months_Since_Launch'], y=df['Revenue'], marker='o', linestyle='-', label='Revenue')\n",
    "\n",
    "# Customize Plot\n",
    "plt.xlabel(\"Months Since Launch\")\n",
    "plt.ylabel(\"Revenue ($)\")\n",
    "plt.title(\"Revenue Over Time\")\n",
    "plt.grid(True)\n",
    "plt.legend()\n",
    "plt.show()\n"
   ],
   "outputs": [
    {
     "data": {
      "text/plain": [
       "<Figure size 1000x600 with 1 Axes>"
      ],
      "image/png": "[encoded data removed]"
     },
     "metadata": {},
     "output_type": "display_data"
    }
   ],
   "execution_count": 131
  },
  {
   "metadata": {
    "ExecuteTime": {
     "end_time": "2025-08-02T14:57:26.984848Z",
     "start_time": "2025-08-02T14:57:26.831252Z"
    }
   },
   "cell_type": "code",
   "source": [
    "# Visualize Revenue Over Time\n",
    "plt.figure(figsize=(10, 6))\n",
    "sns.lineplot(x=df['Months_Since_Launch'], y=df['Base_10_Log_Revenue'], marker='o', linestyle='-', label='Log-transformed Revenue', color='orange')\n",
    "\n",
    "# Customize Plot\n",
    "plt.xlabel(\"Log-transformed Revenue\")\n",
    "plt.ylabel(\"Log Revenue\")\n",
    "plt.title(\"Log-transformed Revenue Over Time\")\n",
    "plt.grid(True)\n",
    "plt.legend()\n",
    "plt.show()\n"
   ],
   "id": "ce3ea5f26e697004",
   "outputs": [
    {
     "data": {
      "text/plain": [
       "<Figure size 1000x600 with 1 Axes>"
      ],
      "image/png": "[encoded data removed]"
     },
     "metadata": {},
     "output_type": "display_data"
    }
   ],
   "execution_count": 132
  },
  {
   "cell_type": "markdown",
   "id": "30a91417",
   "metadata": {},
   "source": [
    "\n",
    "\n",
    "### Explanation for applying a log transformation to revenue may help linear modelling.\n",
    "\n"
   ]
  },
  {
   "metadata": {},
   "cell_type": "markdown",
   "source": [
    "There are multiple reasons to use log-transformed revenue:\n",
    "1. It can normalise the data which is easy to interpret.\n",
    "2. Variance in the revenue column is very high while we know that linear models assume that errors have constant variance, so having a high variance will create difficulties when predicting future revenues.\n",
    "3. In addition, I already know that I have to predict future data this log revenue will help me create a linear relationship."
   ],
   "id": "e62efae2f24058ab"
  },
  {
   "cell_type": "markdown",
   "id": "74bb53e4",
   "metadata": {},
   "source": [
    "\n",
    "\n",
    "## Revenue Modelling\n",
    "\n",
    "- Trained a linear regression model on the original revenue data.\n",
    "\n"
   ]
  },
  {
   "cell_type": "code",
   "id": "f4b477da",
   "metadata": {
    "ExecuteTime": {
     "end_time": "2025-08-02T14:57:27.035523Z",
     "start_time": "2025-08-02T14:57:27.017465Z"
    }
   },
   "source": [
    "# Feature (independent variable) and target (dependent variable)\n",
    "X_train = train_df[['Months_Since_Launch']]\n",
    "y_train = train_df['Revenue']\n",
    "\n",
    "# Initialize linear regression model\n",
    "linear_model_original = HuberRegressor()\n",
    "\n",
    "# Train the model on training data\n",
    "linear_model_original.fit(X_train, y_train)\n",
    "\n",
    "# Print coefficients\n",
    "print(\"Slope (Coefficient):\", linear_model_original.coef_)\n",
    "print(\"Intercept:\", linear_model_original.intercept_)\n"
   ],
   "outputs": [
    {
     "name": "stdout",
     "output_type": "stream",
     "text": [
      "Slope (Coefficient): [56962.43708641]\n",
      "Intercept: -270561.7793366122\n"
     ]
    }
   ],
   "execution_count": 133
  },
  {
   "cell_type": "markdown",
   "id": "b5ddbbc1",
   "metadata": {},
   "source": [
    "\n",
    "\n",
    "## Training a linear regression model on the log-transformed revenue data.\n",
    "\n"
   ]
  },
  {
   "cell_type": "code",
   "id": "c17821f7",
   "metadata": {
    "ExecuteTime": {
     "end_time": "2025-08-02T14:57:27.095214Z",
     "start_time": "2025-08-02T14:57:27.075359Z"
    }
   },
   "source": [
    "# Feature (Months_Since_Launch) and Target (Log_Revenue)\n",
    "X_train = train_df[['Months_Since_Launch']]\n",
    "y_train = train_df['Base_10_Log_Revenue']\n",
    "\n",
    "# Initialize the linear regression model\n",
    "linear_model_log = HuberRegressor()\n",
    "\n",
    "# Train the model on training data\n",
    "linear_model_log.fit(X_train, y_train)\n",
    "\n",
    "# Print the coefficients\n",
    "print(\"Slope (Coefficient):\", linear_model_log.coef_[0])\n",
    "print(\"Intercept:\", linear_model_log.intercept_)\n"
   ],
   "outputs": [
    {
     "name": "stdout",
     "output_type": "stream",
     "text": [
      "Slope (Coefficient): 0.10181592442563914\n",
      "Intercept: 4.121372366480968\n"
     ]
    }
   ],
   "execution_count": 134
  },
  {
   "cell_type": "markdown",
   "id": "9f68f8f6",
   "metadata": {},
   "source": [
    "\n",
    "\n",
    "### Comparing both models clearly and identify the better-performing model.\n",
    "\n"
   ]
  },
  {
   "cell_type": "code",
   "id": "c5dec647",
   "metadata": {
    "ExecuteTime": {
     "end_time": "2025-08-02T14:57:27.129881Z",
     "start_time": "2025-08-02T14:57:27.123475Z"
    }
   },
   "source": [
    "# Define independent variable (Months_Since_Launch)\n",
    "X = df[[\"Months_Since_Launch\"]].values  # Ensure it’s in 2D format for sklearn models\n",
    "\n",
    "# Define dependent variables\n",
    "y_original = df[\"Revenue\"].values  # Original Revenue\n",
    "y_log = df[\"Base_10_Log_Revenue\"].values  # Log-Transformed Revenue (Base 10)\n",
    "\n",
    "# Split data into training and testing sets\n",
    "X_train, X_test, y_train_original, y_test_original, y_train_log, y_test_log = train_test_split(\n",
    "    X, y_original, y_log, test_size=0.2, random_state=42\n",
    ")\n",
    "\n"
   ],
   "outputs": [],
   "execution_count": 135
  },
  {
   "metadata": {
    "ExecuteTime": {
     "end_time": "2025-08-02T14:57:27.190575Z",
     "start_time": "2025-08-02T14:57:27.166851Z"
    }
   },
   "cell_type": "code",
   "source": [
    "# fit the original revenue model\n",
    "\n",
    "linear_model_original.fit(X_train, y_train_original)\n",
    "# Function to evaluate Original Revenue Model\n",
    "def evaluate_original_model(model, X_train, y_train, X_test, y_test):\n",
    "\n",
    "    # Make predictions\n",
    "    y_train_pred = model.predict(X_train)\n",
    "    y_test_pred = model.predict(X_test)\n",
    "\n",
    "    # Calculate metrics\n",
    "    metrics_original = {\n",
    "        \"MAE (Train)\": mean_absolute_error(y_train, y_train_pred),\n",
    "        \"MAE (Test)\": mean_absolute_error(y_test, y_test_pred),\n",
    "        \"RMSE (Train)\": np.sqrt(mean_squared_error(y_train, y_train_pred)),\n",
    "        \"RMSE (Test)\": np.sqrt(mean_squared_error(y_test, y_test_pred)),\n",
    "        \"R-squared (Train)\": r2_score(y_train, y_train_pred),\n",
    "        \"R-squared (Test)\": r2_score(y_test, y_test_pred),\n",
    "    }\n",
    "\n",
    "    return metrics_original\n",
    "\n",
    "\n",
    "# Example usage (ensure your actual `original_model` exists):\n",
    "metrics_original = evaluate_original_model(\n",
    "    model=linear_model_original,\n",
    "    X_train=X_train,\n",
    "    y_train=y_train_original,\n",
    "    X_test=X_test,\n",
    "    y_test=y_test_original\n",
    ")\n",
    "\n",
    "# Print the evaluation metrics for Original Revenue Model\n",
    "print(\"Original Revenue Model Metrics:\")\n",
    "for metric, value in metrics_original.items():\n",
    "    print(f\"{metric}: {value:.4f}\")\n"
   ],
   "id": "69339df4be191d6a",
   "outputs": [
    {
     "name": "stdout",
     "output_type": "stream",
     "text": [
      "Original Revenue Model Metrics:\n",
      "MAE (Train): 609613.1708\n",
      "MAE (Test): 437808.2317\n",
      "RMSE (Train): 1095302.3398\n",
      "RMSE (Test): 456427.7104\n",
      "R-squared (Train): 0.4842\n",
      "R-squared (Test): -0.9222\n"
     ]
    }
   ],
   "execution_count": 136
  },
  {
   "metadata": {
    "ExecuteTime": {
     "end_time": "2025-08-02T14:57:27.267548Z",
     "start_time": "2025-08-02T14:57:27.231570Z"
    }
   },
   "cell_type": "code",
   "source": [
    "# fit the Linear Regression model for Log Revenue\n",
    "\n",
    "linear_model_log.fit(X_train, y_train_log)\n",
    "\n",
    "# Function to evaluate Log Revenue Model\n",
    "def evaluate_log_model(model, X_train, y_train, X_test, y_test):\n",
    "    # Make predictions\n",
    "    y_train_pred = model.predict(X_train)\n",
    "    y_test_pred = model.predict(X_test)\n",
    "\n",
    "    # Calculate metrics\n",
    "    metrics_log = {\n",
    "        \"MAE (Train)\": mean_absolute_error(y_train, y_train_pred),\n",
    "        \"MAE (Test)\": mean_absolute_error(y_test, y_test_pred),\n",
    "        \"RMSE (Train)\": np.sqrt(mean_squared_error(y_train, y_train_pred)),\n",
    "        \"RMSE (Test)\": np.sqrt(mean_squared_error(y_test, y_test_pred)),\n",
    "        \"R-squared (Train)\": r2_score(y_train, y_train_pred),\n",
    "        \"R-squared (Test)\": r2_score(y_test, y_test_pred),\n",
    "    }\n",
    "\n",
    "    return metrics_log\n",
    "\n",
    "\n",
    "# Evaluate the Log-Transformed Revenue Model\n",
    "metrics_log = evaluate_log_model(\n",
    "    model=linear_model_log,\n",
    "    X_train=X_train,\n",
    "    y_train=y_train_log,\n",
    "    X_test=X_test,\n",
    "    y_test=y_test_log\n",
    ")\n",
    "\n",
    "# Print the evaluation metrics\n",
    "print(\"Log-Transformed Revenue Model Metrics:\")\n",
    "for metric, value in metrics_log.items():\n",
    "    print(f\"{metric}: {value:.4f}\")\n"
   ],
   "id": "a5d1fde3df2aa5d4",
   "outputs": [
    {
     "name": "stdout",
     "output_type": "stream",
     "text": [
      "Log-Transformed Revenue Model Metrics:\n",
      "MAE (Train): 0.0397\n",
      "MAE (Test): 0.0806\n",
      "RMSE (Train): 0.0727\n",
      "RMSE (Test): 0.0967\n",
      "R-squared (Train): 0.9905\n",
      "R-squared (Test): 0.9779\n"
     ]
    }
   ],
   "execution_count": 137
  },
  {
   "cell_type": "markdown",
   "id": "ec8f0822",
   "metadata": {},
   "source": [
    "1. The above data shows that log transformed data model is the real deal as it outperforms the original data model in accuracy.\n",
    "\n",
    "2. The scale of data in an original data model is the reason for its inaccuracy."
   ]
  },
  {
   "cell_type": "markdown",
   "id": "0819a23e",
   "metadata": {},
   "source": [
    "\n",
    "\n",
    "## Predicting revenue 12 months ahead\n",
    "\n",
    "  \n"
   ]
  },
  {
   "metadata": {
    "ExecuteTime": {
     "end_time": "2025-08-02T14:57:27.334775Z",
     "start_time": "2025-08-02T14:57:27.309861Z"
    }
   },
   "cell_type": "code",
   "source": [
    "\n",
    "# Define feature (month) and target (log10 revenue)\n",
    "X = df[['Months_Since_Launch']]\n",
    "y_log = df['Base_10_Log_Revenue']\n",
    "\n",
    "# Train Huber Regressor\n",
    "huber_model = HuberRegressor()\n",
    "huber_model.fit(X, y_log)\n",
    "\n",
    "# Predict log10 revenue at month 36\n",
    "#month_36 = np.array([[36]])\n",
    "month_36 = pd.DataFrame({'Months_Since_Launch': [36]})\n",
    "log_revenue_pred = huber_model.predict(month_36)[0]\n",
    "\n",
    "# Convert log10 prediction back to actual revenue (dollars)\n",
    "revenue_pred = 10 ** log_revenue_pred\n",
    "\n",
    "# Print result\n",
    "print(f\"Predicted Revenue for Month 36: ${revenue_pred:.2f}\")\n"
   ],
   "id": "bff5d25e6509e1a",
   "outputs": [
    {
     "name": "stdout",
     "output_type": "stream",
     "text": [
      "Predicted Revenue for Month 36: $66174993.22\n"
     ]
    }
   ],
   "execution_count": 138
  },
  {
   "metadata": {
    "ExecuteTime": {
     "end_time": "2025-08-02T14:57:27.374693Z",
     "start_time": "2025-08-02T14:57:27.369841Z"
    }
   },
   "cell_type": "code",
   "source": [
    "# Extend Months_Since_Launch for the next 12 months\n",
    "#last_month_since_launch = df['Months_Since_Launch'].max()\n",
    "#future_months = pd.DataFrame({\n",
    "    #'Months_Since_Launch': range(last_month_since_launch + 1, last_month_since_launch + 13)\n",
    "#})\n",
    "\n",
    "\n",
    "# Define features and target for revenue training\n",
    "# Define features ('Months_Since_Launch') and target variable ('Base_10_Log_Revenue') for training\n",
    "#X_train_revenue = train_df[['Months_Since_Launch']]\n",
    "#y_train_revenue_log = train_df['Base_10_Log_Revenue']\n",
    "\n",
    "\n",
    "# Train the OLS model on Base_10_Log_Revenue\n",
    "#linear_model_log_revenue = LinearRegression()\n",
    "#linear_model_log_revenue.fit(X_train_revenue, y_train_revenue_log)\n",
    "\n",
    "# Print coefficients and intercept for verification\n",
    "#print(\"Log Revenue Model Coefficients:\", linear_model_log_revenue.coef_)\n",
    "#print(\"Log Revenue Model Intercept:\", linear_model_log_revenue.intercept_)\n",
    "\n",
    "\n",
    "\n",
    "# Predict log-transformed revenue for future months\n",
    "#future_months['Predicted_Log_Revenue'] = linear_model_log_revenue.predict(future_months[['Months_Since_Launch']])\n",
    "# Back-transform the predicted log revenue to get actual revenue values\n",
    "#future_months['Predicted_Revenue'] = 10 ** future_months['Predicted_Log_Revenue']\n",
    "\n",
    "\n",
    "# Plot predicted revenue\n",
    "#plt.figure(figsize=(12, 6))\n",
    "#sns.lineplot(\n",
    "   # x=future_months['Months_Since_Launch'],\n",
    "   # y=future_months['Predicted_Revenue'],\n",
    "   # marker='o',\n",
    "   # linestyle='-',\n",
    "   # label=\"Predicted Revenue\"\n",
    "#)\n",
    "\n",
    "# Customize plot\n",
    "#plt.xlabel(\"Months Since Launch\")\n",
    "#plt.ylabel(\"Revenue ($)\")\n",
    "#plt.title(\"Predicted Revenue for the Next 12 Months\")\n",
    "#plt.grid(True)\n",
    "#plt.legend()\n",
    "#plt.show()\n",
    "# Display the resulting DataFrame\n",
    "#print(future_months)\n"
   ],
   "id": "65bf2a698aa4845d",
   "outputs": [],
   "execution_count": 139
  },
  {
   "cell_type": "markdown",
   "id": "303bbc87",
   "metadata": {},
   "source": [
    "\n",
    "\n",
    "## Prediction of revenue 20 years ahead"
   ]
  },
  {
   "cell_type": "code",
   "id": "9005e083",
   "metadata": {
    "ExecuteTime": {
     "end_time": "2025-08-02T14:57:27.419319Z",
     "start_time": "2025-08-02T14:57:27.413205Z"
    }
   },
   "source": [
    "\n",
    "# Extend the timeline for 20 years (240 months)\n",
    "months_264 = pd.DataFrame({'Months_Since_Launch': [264]})\n",
    "\n",
    "\n",
    "# Predict Base_10_Log_Revenue using the existing model\n",
    "log_revenue_264 = huber_model.predict(months_264)[0]\n",
    "\n",
    "# Back-transform log-revenue to actual revenue values\n",
    "predicted_revenue_264 = 10 ** log_revenue_264\n",
    "# Print result\n",
    "print(f\"Predicted Revenue for Month 264 (20 years ahead): ${predicted_revenue_264:.2f}\")\n",
    "\n",
    "# Combine future months, log-revenue, and actual revenue\n",
    "#future_predictions = months_future.copy()\n",
    "#future_predictions['Predicted_Log_Revenue'] = predicted_log_revenue_240\n",
    "#future_predictions['Predicted_Revenue'] = predicted_revenue_240\n",
    "\n",
    "#print(future_predictions)"
   ],
   "outputs": [
    {
     "name": "stdout",
     "output_type": "stream",
     "text": [
      "Predicted Revenue for Month 264 (20 years ahead): $20827935581749721349272868225024.00\n"
     ]
    }
   ],
   "execution_count": 140
  },
  {
   "cell_type": "markdown",
   "id": "894ae908",
   "metadata": {},
   "source": [
    "1. The results are unrealistic as this is showing unimaginable exponential growth of $20827935581749721349272868225024.00, which is obviously wrong.\n",
    "\n",
    "2. Our current prediction ignores real world situations like market correction, uncertainty in long-term growth trends.\n",
    "\n",
    "3. Just like a lot of startups or other companies, generally, these financial models show rapid growth in the beginning and then slow down for a time period which is followed by a decline in growth.\n",
    "\n",
    "4. There are several other limitations like market size, resource constraints, and impractical outcomes.\n",
    "\n",
    "5. This process of predicting revenue for 20 years using a huber model shows only mathematical possibilities.\n"
   ]
  },
  {
   "cell_type": "markdown",
   "id": "2dda3201",
   "metadata": {},
   "source": "## Logistic Regression: Predicting Negative Media Coverage\n"
  },
  {
   "cell_type": "markdown",
   "id": "67d935e7",
   "metadata": {},
   "source": "The most appropriate and directly related feature to Media coverage is scandals. It is definitely correlated to negative media coverage. This feature should be used to predict the media coverage. whereas for positive media courage, we can use revenue and payroll. but since revenue is continuously increasing, I'll use only scandals for any negative coverage in the media."
  },
  {
   "cell_type": "markdown",
   "id": "1b492d4b",
   "metadata": {},
   "source": [
    "\n",
    "\n",
    "- We don't need validation data (we aren't comparing any models), but we do need test\n",
    "  data so that we can see if the model is worthwhile.\n",
    "- We will Randomly select some data to act as test data.\n",
    "  \n"
   ]
  },
  {
   "metadata": {
    "ExecuteTime": {
     "end_time": "2025-08-02T14:57:27.471811Z",
     "start_time": "2025-08-02T14:57:27.468199Z"
    }
   },
   "cell_type": "code",
   "source": [
    "# normalize the data\n",
    "scaler = preprocessing.MinMaxScaler()\n",
    "#scaler = StandardScaler()\n",
    "print(list(df.keys().copy())) #let's print all feature names just like week4 prac so that we know which feature we can use to predict media coverage"
   ],
   "id": "4cb078abed522de9",
   "outputs": [
    {
     "name": "stdout",
     "output_type": "stream",
     "text": [
      "['Months_Since_Launch', 'Payroll', 'Revenue', 'Base_10_Log_Revenue', 'Scandals', 'Media Coverage']\n"
     ]
    }
   ],
   "execution_count": 141
  },
  {
   "metadata": {
    "ExecuteTime": {
     "end_time": "2025-08-02T14:57:27.523881Z",
     "start_time": "2025-08-02T14:57:27.510781Z"
    }
   },
   "cell_type": "code",
   "source": [
    "# Scandals, payroll and Revenue will be used to predict media coverage\n",
    "prams = ['Scandals', 'Revenue','Payroll']\n",
    "df_new = df[[*prams,'Media Coverage']]\n",
    "\n",
    "scaler.fit(df_new[prams])\n",
    "df_new.loc[:, prams] = scaler.transform(df_new[prams])\n",
    "\n",
    "train_df, test_df = train_test_split(df_new, test_size=0.2, random_state=42)"
   ],
   "id": "de5ced2c9aafd0b4",
   "outputs": [],
   "execution_count": 142
  },
  {
   "metadata": {
    "ExecuteTime": {
     "end_time": "2025-08-02T14:57:27.568317Z",
     "start_time": "2025-08-02T14:57:27.559433Z"
    }
   },
   "cell_type": "code",
   "source": "df_new.head()",
   "id": "88cd34c2336a2db9",
   "outputs": [
    {
     "data": {
      "text/plain": [
       "   Scandals   Revenue   Payroll Media Coverage\n",
       "0         0  0.000000  0.044963       Negative\n",
       "1         0  0.001501  0.000000       Negative\n",
       "2         0  0.002378  0.022170       Negative\n",
       "3         0  0.003817  0.086819       Negative\n",
       "4         0  0.004223  0.093374       Negative"
      ],
      "text/html": [
       "<div>\n",
       "<style scoped>\n",
       "    .dataframe tbody tr th:only-of-type {\n",
       "        vertical-align: middle;\n",
       "    }\n",
       "\n",
       "    .dataframe tbody tr th {\n",
       "        vertical-align: top;\n",
       "    }\n",
       "\n",
       "    .dataframe thead th {\n",
       "        text-align: right;\n",
       "    }\n",
       "</style>\n",
       "<table border=\"1\" class=\"dataframe\">\n",
       "  <thead>\n",
       "    <tr style=\"text-align: right;\">\n",
       "      <th></th>\n",
       "      <th>Scandals</th>\n",
       "      <th>Revenue</th>\n",
       "      <th>Payroll</th>\n",
       "      <th>Media Coverage</th>\n",
       "    </tr>\n",
       "  </thead>\n",
       "  <tbody>\n",
       "    <tr>\n",
       "      <th>0</th>\n",
       "      <td>0</td>\n",
       "      <td>0.000000</td>\n",
       "      <td>0.044963</td>\n",
       "      <td>Negative</td>\n",
       "    </tr>\n",
       "    <tr>\n",
       "      <th>1</th>\n",
       "      <td>0</td>\n",
       "      <td>0.001501</td>\n",
       "      <td>0.000000</td>\n",
       "      <td>Negative</td>\n",
       "    </tr>\n",
       "    <tr>\n",
       "      <th>2</th>\n",
       "      <td>0</td>\n",
       "      <td>0.002378</td>\n",
       "      <td>0.022170</td>\n",
       "      <td>Negative</td>\n",
       "    </tr>\n",
       "    <tr>\n",
       "      <th>3</th>\n",
       "      <td>0</td>\n",
       "      <td>0.003817</td>\n",
       "      <td>0.086819</td>\n",
       "      <td>Negative</td>\n",
       "    </tr>\n",
       "    <tr>\n",
       "      <th>4</th>\n",
       "      <td>0</td>\n",
       "      <td>0.004223</td>\n",
       "      <td>0.093374</td>\n",
       "      <td>Negative</td>\n",
       "    </tr>\n",
       "  </tbody>\n",
       "</table>\n",
       "</div>"
      ]
     },
     "execution_count": 143,
     "metadata": {},
     "output_type": "execute_result"
    }
   ],
   "execution_count": 143
  },
  {
   "metadata": {
    "ExecuteTime": {
     "end_time": "2025-08-02T14:57:27.645507Z",
     "start_time": "2025-08-02T14:57:27.636607Z"
    }
   },
   "cell_type": "code",
   "source": "train_df.head()\n",
   "id": "fbf9fa49176924f7",
   "outputs": [
    {
     "data": {
      "text/plain": [
       "    Scandals   Revenue   Payroll Media Coverage\n",
       "9          0  0.025616  0.307363       Negative\n",
       "13         0  0.052131  0.329525       Negative\n",
       "1          0  0.001501  0.000000       Negative\n",
       "21         0  0.388045  0.610849       Positive\n",
       "5          0  0.006898  0.113352       Negative"
      ],
      "text/html": [
       "<div>\n",
       "<style scoped>\n",
       "    .dataframe tbody tr th:only-of-type {\n",
       "        vertical-align: middle;\n",
       "    }\n",
       "\n",
       "    .dataframe tbody tr th {\n",
       "        vertical-align: top;\n",
       "    }\n",
       "\n",
       "    .dataframe thead th {\n",
       "        text-align: right;\n",
       "    }\n",
       "</style>\n",
       "<table border=\"1\" class=\"dataframe\">\n",
       "  <thead>\n",
       "    <tr style=\"text-align: right;\">\n",
       "      <th></th>\n",
       "      <th>Scandals</th>\n",
       "      <th>Revenue</th>\n",
       "      <th>Payroll</th>\n",
       "      <th>Media Coverage</th>\n",
       "    </tr>\n",
       "  </thead>\n",
       "  <tbody>\n",
       "    <tr>\n",
       "      <th>9</th>\n",
       "      <td>0</td>\n",
       "      <td>0.025616</td>\n",
       "      <td>0.307363</td>\n",
       "      <td>Negative</td>\n",
       "    </tr>\n",
       "    <tr>\n",
       "      <th>13</th>\n",
       "      <td>0</td>\n",
       "      <td>0.052131</td>\n",
       "      <td>0.329525</td>\n",
       "      <td>Negative</td>\n",
       "    </tr>\n",
       "    <tr>\n",
       "      <th>1</th>\n",
       "      <td>0</td>\n",
       "      <td>0.001501</td>\n",
       "      <td>0.000000</td>\n",
       "      <td>Negative</td>\n",
       "    </tr>\n",
       "    <tr>\n",
       "      <th>21</th>\n",
       "      <td>0</td>\n",
       "      <td>0.388045</td>\n",
       "      <td>0.610849</td>\n",
       "      <td>Positive</td>\n",
       "    </tr>\n",
       "    <tr>\n",
       "      <th>5</th>\n",
       "      <td>0</td>\n",
       "      <td>0.006898</td>\n",
       "      <td>0.113352</td>\n",
       "      <td>Negative</td>\n",
       "    </tr>\n",
       "  </tbody>\n",
       "</table>\n",
       "</div>"
      ]
     },
     "execution_count": 144,
     "metadata": {},
     "output_type": "execute_result"
    }
   ],
   "execution_count": 144
  },
  {
   "metadata": {
    "ExecuteTime": {
     "end_time": "2025-08-02T14:57:27.858992Z",
     "start_time": "2025-08-02T14:57:27.850568Z"
    }
   },
   "cell_type": "code",
   "source": "test_df.head()",
   "id": "cd934c260a63490",
   "outputs": [
    {
     "data": {
      "text/plain": [
       "    Scandals   Revenue   Payroll Media Coverage\n",
       "8          0  0.018935  0.207644       Negative\n",
       "16         0  0.122769  0.410541       Positive\n",
       "0          0  0.000000  0.044963       Negative\n",
       "18         0  0.137322  0.488371       Positive\n",
       "11         0  0.029859  0.309239       Negative"
      ],
      "text/html": [
       "<div>\n",
       "<style scoped>\n",
       "    .dataframe tbody tr th:only-of-type {\n",
       "        vertical-align: middle;\n",
       "    }\n",
       "\n",
       "    .dataframe tbody tr th {\n",
       "        vertical-align: top;\n",
       "    }\n",
       "\n",
       "    .dataframe thead th {\n",
       "        text-align: right;\n",
       "    }\n",
       "</style>\n",
       "<table border=\"1\" class=\"dataframe\">\n",
       "  <thead>\n",
       "    <tr style=\"text-align: right;\">\n",
       "      <th></th>\n",
       "      <th>Scandals</th>\n",
       "      <th>Revenue</th>\n",
       "      <th>Payroll</th>\n",
       "      <th>Media Coverage</th>\n",
       "    </tr>\n",
       "  </thead>\n",
       "  <tbody>\n",
       "    <tr>\n",
       "      <th>8</th>\n",
       "      <td>0</td>\n",
       "      <td>0.018935</td>\n",
       "      <td>0.207644</td>\n",
       "      <td>Negative</td>\n",
       "    </tr>\n",
       "    <tr>\n",
       "      <th>16</th>\n",
       "      <td>0</td>\n",
       "      <td>0.122769</td>\n",
       "      <td>0.410541</td>\n",
       "      <td>Positive</td>\n",
       "    </tr>\n",
       "    <tr>\n",
       "      <th>0</th>\n",
       "      <td>0</td>\n",
       "      <td>0.000000</td>\n",
       "      <td>0.044963</td>\n",
       "      <td>Negative</td>\n",
       "    </tr>\n",
       "    <tr>\n",
       "      <th>18</th>\n",
       "      <td>0</td>\n",
       "      <td>0.137322</td>\n",
       "      <td>0.488371</td>\n",
       "      <td>Positive</td>\n",
       "    </tr>\n",
       "    <tr>\n",
       "      <th>11</th>\n",
       "      <td>0</td>\n",
       "      <td>0.029859</td>\n",
       "      <td>0.309239</td>\n",
       "      <td>Negative</td>\n",
       "    </tr>\n",
       "  </tbody>\n",
       "</table>\n",
       "</div>"
      ]
     },
     "execution_count": 145,
     "metadata": {},
     "output_type": "execute_result"
    }
   ],
   "execution_count": 145
  },
  {
   "metadata": {
    "ExecuteTime": {
     "end_time": "2025-08-02T14:57:27.995906Z",
     "start_time": "2025-08-02T14:57:27.992436Z"
    }
   },
   "cell_type": "code",
   "source": [
    "# Separating features and target variable\n",
    "#X = df.drop(columns=['Media Coverage'])\n",
    "#y = df['Media Coverage']\n",
    "\n",
    "# Splitting the dataset into training and test sets (80:20)\n",
    "#X_train, X_test, y_train, y_test = train_test_split(X, y, test_size=0.2, random_state=42)\n",
    "\n",
    "# Print the sizes of the training and test sets\n",
    "#print(f\"Training set size: {X_train.shape[0]}\")\n",
    "#print(f\"Test set size: {X_test.shape[0]}\")"
   ],
   "id": "191a0b19",
   "outputs": [],
   "execution_count": 146
  },
  {
   "cell_type": "markdown",
   "id": "a01c49fa",
   "metadata": {},
   "source": [
    "\n",
    "  \n",
    "### logistic regression model on the training (non-test) data\n",
    "\n"
   ]
  },
  {
   "metadata": {
    "ExecuteTime": {
     "end_time": "2025-08-02T14:57:28.208046Z",
     "start_time": "2025-08-02T14:57:28.198795Z"
    }
   },
   "cell_type": "code",
   "source": [
    "\n",
    "# Define features and target\n",
    "X_train = train_df[['Scandals', 'Revenue','Payroll']]\n",
    "y_train = train_df['Media Coverage']\n",
    "\n",
    "# Initialize the logistic regression model\n",
    "log_reg_model = LogisticRegression()\n",
    "\n",
    "# Train the logistic regression model\n",
    "log_reg_model.fit(X_train, y_train)\n",
    "\n",
    "# Confirm the model has been trained\n",
    "print(\"Logistic Regression model training complete.\")\n"
   ],
   "id": "a2571203bf9d9166",
   "outputs": [
    {
     "name": "stdout",
     "output_type": "stream",
     "text": [
      "Logistic Regression model training complete.\n"
     ]
    }
   ],
   "execution_count": 147
  },
  {
   "cell_type": "markdown",
   "id": "f45d91e4",
   "metadata": {},
   "source": [
    "\n",
    "\n",
    "### Choosing a metric and evaluating the success of your logistic regression\n",
    "\n"
   ]
  },
  {
   "cell_type": "code",
   "id": "ca4e405e",
   "metadata": {
    "ExecuteTime": {
     "end_time": "2025-08-02T14:57:28.285966Z",
     "start_time": "2025-08-02T14:57:28.276292Z"
    }
   },
   "source": [
    "\n",
    "# Define the features and target for the test set\n",
    "X_test = test_df[['Scandals', 'Revenue','Payroll']]\n",
    "y_test = test_df['Media Coverage']\n",
    "\n",
    "# Make predictions on the test set\n",
    "y_pred = log_reg_model.predict(X_test)\n",
    "\n",
    "# Calculate accuracy\n",
    "accuracy = accuracy_score(y_test, y_pred)\n",
    "\n",
    "# Display accuracy\n",
    "print(f\"Accuracy of the Logistic Regression model: {accuracy:.2f}\")\n",
    "\n",
    "# Display confusion matrix for deeper analysis\n",
    "conf_matrix = confusion_matrix(y_test, y_pred)\n",
    "print(\"Confusion Matrix:\")\n",
    "print(conf_matrix)\n"
   ],
   "outputs": [
    {
     "name": "stdout",
     "output_type": "stream",
     "text": [
      "Accuracy of the Logistic Regression model: 0.60\n",
      "Confusion Matrix:\n",
      "[[3 0]\n",
      " [2 0]]\n"
     ]
    }
   ],
   "execution_count": 148
  },
  {
   "cell_type": "code",
   "id": "6481a955",
   "metadata": {
    "ExecuteTime": {
     "end_time": "2025-08-02T14:57:28.370431Z",
     "start_time": "2025-08-02T14:57:28.364916Z"
    }
   },
   "source": [
    "# Examine the coefficients of the logistic regression model\n",
    "coefficients = log_reg_model.coef_[0]  # Coefficients for each feature\n",
    "intercept = log_reg_model.intercept_[0]  # Intercept term\n",
    "\n",
    "# Display the coefficients and intercept\n",
    "feature_names = ['Scandals', 'Revenue','Payroll']\n",
    "print(\"Coefficients:\")\n",
    "for feature, coefficient in zip(feature_names, coefficients):\n",
    "    print(f\"{feature}: {coefficient:.2f}\")\n",
    "print(f\"Intercept: {intercept:.4f}\")"
   ],
   "outputs": [
    {
     "name": "stdout",
     "output_type": "stream",
     "text": [
      "Coefficients:\n",
      "Scandals: 0.00\n",
      "Revenue: 1.08\n",
      "Payroll: 1.38\n",
      "Intercept: -1.0007\n"
     ]
    }
   ],
   "execution_count": 149
  },
  {
   "cell_type": "markdown",
   "id": "87ba3589",
   "metadata": {},
   "source": [
    "As shown above, let's talk about each factor separately:\n",
    "\n",
    "1. Scandals: We can see that this feature has zero influence on the media coverage as the coefficient is 0.\n",
    "2. Revenue and payroll: They have a positive coefficient which shows that if revenue and payroll are increasing, then it may reduce the chance of negative media coverage.\n",
    "3. But if you pay attention, then you'll see that payroll has higher influence over media coverage, and it is more like likely to influence the media coverage in a positive direction if it is increasing.\n",
    "4. Since Log_revenue is the same as revenue, I did not consider that as a factor, but even if I do that results will be similar."
   ]
  },
  {
   "cell_type": "markdown",
   "id": "a8273f1c",
   "metadata": {},
   "source": [
    "\n",
    "\n",
    "### We'll use the logistic regression model to predict the probability of negative media\n",
    "  (coverage 12 months from now, assuming that there are no scandals in that month)\n",
    "  \n"
   ]
  },
  {
   "cell_type": "code",
   "id": "3818cf8a",
   "metadata": {
    "ExecuteTime": {
     "end_time": "2025-08-02T14:57:28.452510Z",
     "start_time": "2025-08-02T14:57:28.448053Z"
    }
   },
   "source": [
    "import math\n",
    "\n",
    "# Given values\n",
    "intercept = -1.0007\n",
    "revenue_coefficient = 1.08\n",
    "payroll_coefficient = 1.38\n",
    "revenue_value = 66174993.22\n",
    "payroll_value = 73422956.52\n",
    "\n",
    "# Logistic regression formula\n",
    "log_odds = intercept + (revenue_coefficient * revenue_value) + (payroll_coefficient * payroll_value)\n",
    "probability_negative_coverage = 1 / (1 + math.exp(-log_odds))\n",
    "\n",
    "# Output the result\n",
    "print(f\"Probability of Negative Media Coverage: {probability_negative_coverage:.0f}\")\n"
   ],
   "outputs": [
    {
     "name": "stdout",
     "output_type": "stream",
     "text": [
      "Probability of Negative Media Coverage: 1\n"
     ]
    }
   ],
   "execution_count": 150
  },
  {
   "cell_type": "markdown",
   "id": "e8818012",
   "metadata": {},
   "source": "The Probability of Negative Media Coverage is 1.0; it means that the logistic regression model predicts that there is a 100 % chance of negative media coverage.\n"
  },
  {
   "cell_type": "markdown",
   "id": "eb90fe01",
   "metadata": {},
   "source": [
    "## Summary of Findings\n",
    "\n"
   ]
  },
  {
   "metadata": {
    "ExecuteTime": {
     "end_time": "2025-08-02T14:57:28.662315Z",
     "start_time": "2025-08-02T14:57:28.492016Z"
    }
   },
   "cell_type": "code",
   "source": [
    "x1 = 36\n",
    "y1 = 73422956.52\n",
    "# Size of the plot\n",
    "plt.figure(figsize=(10, 5))\n",
    "# Line plot using Months_Since_Launch and Payroll columns where X is months and Y is Payroll\n",
    "sns.lineplot(x=df['Months_Since_Launch'], y=df['Payroll'], marker='o', linestyle='-', label='Payroll')\n",
    "\n",
    "# Add the 36th month prediction point marked prominently (in red)\n",
    "plt.scatter(x1, y1, color='red', label='Extrapolated Prediction (36th Month)')\n",
    "#plt.text(x1, y1, f\"({x1}, {y1:,.2f})\", color='red', fontsize=10, ha='right')\n",
    "x_24 = 24\n",
    "y_24 = 64464881.68\n",
    "\n",
    "# Add a connecting line between the 24th and 36th points\n",
    "plt.plot([x_24, x1], [y_24, y1], color='blue', linestyle='--', label='Prediction Line (24th to 36th Month)')\n",
    "\n",
    "\n",
    "# Label the X and Y axes so that the graph is easy to understand\n",
    "plt.xlabel(\"Months Since Launch\")\n",
    "plt.ylabel(\"Payroll ($)\")\n",
    "plt.title(\"Payroll Prediction for the Next 12 Months\")\n",
    "\n",
    "# Add legend\n",
    "plt.legend()\n",
    "# This will keep the grid on for better visualisation; if you set it to False, it will turn off the grid in the graph\n",
    "plt.grid(True)\n",
    "plt.show()"
   ],
   "id": "5deee9916f2b4fd1",
   "outputs": [
    {
     "data": {
      "text/plain": [
       "<Figure size 1000x500 with 1 Axes>"
      ],
      "image/png": "[encoded data removed]"
     },
     "metadata": {},
     "output_type": "display_data"
    }
   ],
   "execution_count": 151
  },
  {
   "metadata": {
    "ExecuteTime": {
     "end_time": "2025-08-02T14:57:28.873892Z",
     "start_time": "2025-08-02T14:57:28.695905Z"
    }
   },
   "cell_type": "code",
   "source": [
    "x1 = 36\n",
    "y1 = 66174993.22\n",
    "# The Size of the plot\n",
    "# Visualize Revenue Over Time\n",
    "plt.figure(figsize=(10, 6))\n",
    "sns.lineplot(x=df['Months_Since_Launch'], y=df['Revenue'], marker='o', linestyle='-', label='Revenue')\n",
    "\n",
    "# Add the 36th month prediction point marked prominently (in red)\n",
    "plt.scatter(x1, y1, color='red', label='Extrapolated Prediction (36th Month)')\n",
    "#plt.text(x1, y1, f\"({x1}, {y1:,.2f})\", color='red', fontsize=10, ha='right')\n",
    "x_24 = 24\n",
    "y_24 = 3996801.95\n",
    "\n",
    "\n",
    "# Add a connecting line between the 24th and 36th points\n",
    "plt.plot([x_24, x1], [y_24, y1], color='blue', linestyle='--', label='Prediction Line (24th to 36th Month)')\n",
    "\n",
    "\n",
    "# Customize Plot\n",
    "plt.xlabel(\"Months Since Launch\")\n",
    "plt.ylabel(\"Revenue ($)\")\n",
    "plt.title(\"Revenue prediction for the Next 12 Months\")\n",
    "plt.grid(True)\n",
    "plt.legend()\n",
    "plt.show()"
   ],
   "id": "1f669098",
   "outputs": [
    {
     "data": {
      "text/plain": [
       "<Figure size 1000x600 with 1 Axes>"
      ],
      "image/png": "[encoded data removed]"
     },
     "metadata": {},
     "output_type": "display_data"
    }
   ],
   "execution_count": 152
  },
  {
   "cell_type": "markdown",
   "id": "206e8d91",
   "metadata": {},
   "source": [
    "The notebook has two major parts:\n",
    "1. Linear Regression: Predict Revenue and payroll\n",
    "    - In this section, we identified how a Huber Regressor model is better than OLS because the Huber can handle outliers very efficiently. Although our test data results were conflicting, since the size of that test was tiny (only single data), it may have given us a wrong result.\n",
    "    - Moving ahead, we predicted payroll and revenue for 12 months ahead, and the results show great outcomes in the company's favour.\n",
    "        — In my opinion, the Company has performed very well for the last 24 months and results are influenced by those factors only. So even for a timeline as short as the next 12 months, we can't be very certain that the company is going to perform well.\n",
    "        — To actually get the idea about how the company will perform, there are multiple factors like EBITA, Future deals, Share holding patterns (if the founder is continuously selling his stock, that might be a red flag for any investor).\n",
    "        — I'd need more details before finalising the that we should invest in the company or not.\n",
    "    - We further predicted revenue for the next 20 years, which shows unrealistic figures that further show that I was right about the prediction of the 36th month.\n",
    "        — Revenue and payroll are exponentially increasing with time, which is unbelievably high. Suggesting a client that we should invest in this company on the basis of this analysis is the same as investing in a company which has been showing growth for the last two years. But If I suggest that a client should invest in this company, that will be a speculation only not a properly analysed suggestion.\n",
    "\n",
    "2. Logistic Regression: Predicting Negative Media Coverage\n",
    "    - We have identified in during the Linear Regression that payroll after 12 months is **$73422956.52** and revenue after 12 months is **66,174,993.22**.\n",
    "    - This shows that payroll expenses are higher than revenue that indicates financial instability in the company. Also, that can be the reason for the negative media coverage after 12 months.\n",
    "\n",
    "Overall,\n",
    "I cannot suggest this company to any investor because\n",
    "1. I need more data.\n",
    "2. With current data, Payroll predictions are higher than Revenue.\n",
    "3. Also, Soon the media coverage outcome is going to be negative.\n"
   ]
  },
  {
   "cell_type": "markdown",
   "id": "4cc55c1d",
   "metadata": {},
   "source": [
    "\n",
    "\n",
    "\n",
    "## There is a Video Presentation with this notbook please watch that to see the conclusion"
   ]
  }
 ],
 "metadata": {
  "kernelspec": {
   "name": "python3",
   "language": "python",
   "display_name": "Python 3 (ipykernel)"
  }
 },
 "nbformat": 4,
 "nbformat_minor": 5
}
