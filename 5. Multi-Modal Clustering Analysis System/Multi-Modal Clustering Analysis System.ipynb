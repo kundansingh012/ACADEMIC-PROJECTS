{
 "cells": [
  {
   "cell_type": "markdown",
   "id": "f1bb248f-79a9-4448-a3ee-e626982ffa58",
   "metadata": {},
   "source": [
    "# COMP2200/6200 Week 6 Prac"
   ]
  },
  {
   "cell_type": "markdown",
   "id": "3fc03066-aee9-42f5-a1d6-23a2d0757662",
   "metadata": {},
   "source": [
    "## Part 1 -- Interactive Immersive Experience\n",
    "\n",
    "Interactive k-means and DBSCAN to help understand these algorithms.\n",
    "\n",
    "There is no code to submit for this prac activity, but your participation will help! Take a seat.\n",
    "\n",
    "### K-means instructions\n",
    "\n",
    "To start: your SGTA leader will place a few random objects around the room. Depending on what is at hand, this might be a pen, whiteboard eraser, ball or piece of paper. These are the *centroids* for the algorithm.\n",
    "\n",
    "Cycle through the following:\n",
    "\n",
    "- The SGTA leader asks \"what object (the pen, the eraser, ...) are you closest to?\" If everybody is closest to the same object as they were in the last round, then the algorithm has completed\n",
    " \n",
    "- The SGTA leader then moves the first object. They ask \"who was closest to (the first object)?\" and then place it in the \"average\" of the position in the room of those people.\n",
    "\n",
    "- Then the second object, the third and so on.\n",
    "\n",
    "- Repeat the cycle\n",
    "\n",
    "Observe what happened. Where are the centroids now? How many distinct groups are there? \n",
    "\n",
    "#### Variations\n",
    "\n",
    "Try some variations:\n",
    "\n",
    "- Different starting points -- what if all the centroids are in one corner of the room, or in the centre?\n",
    "\n",
    "- Different numbers of centroids -- if there is an obvious number of clusters in the room, what happens if you start with a different number of centroids?\n",
    "\n",
    "### DBSCAN instructions\n",
    "\n",
    "We'll set \"epsilon\" (the radius for the algorithm) to be \"one arm's length\". Initially we'll set \"number of points\" to 2. So if anyone is in arm's length range of you, you will form a cluster with them.\n",
    "\n",
    "- To start: you are a cluster of one. Your cluster has no name.\n",
    "- \n",
    "- If you can reach someone else, you need to merge clusters with them. You will need to negotiate a name for your cluster. Make sure everyone in the cluster agrees on your cluster name.\n",
    "\n",
    "- Repeat the process with each other person you can reach. Keep going until you everyone within reach of anyone else agrees on the name of their cluster.\n",
    "\n",
    "How many clusters did you form? Were there any outliers? (Clusters with 1 person in them.)\n",
    "\n",
    "#### Variations\n",
    "\n",
    "- What happens if you set \"number of points\" to 3? Only negotiate to merge clusters if there are two people in arm's length of you. That means that if only one person is within reach of you, you won't initiate cluster forming with them -- but they might initiate cluster formation with you. How many clusters did you form? Were there any outliers? (Which could even be two people standing next to each other).\n",
    "\n",
    "- What happens if you set epsilon to be \"within hearing range\"?\n"
   ]
  },
  {
   "cell_type": "markdown",
   "id": "cc5c2eed-b590-4388-976d-84cd8d61225b",
   "metadata": {},
   "source": [
    "## Part 2 -- Can we determine how many different countries or cities your prac group is from?\n",
    "\n",
    "We will use DBSCAN on some geographic data"
   ]
  },
  {
   "cell_type": "markdown",
   "id": "87d63efc-708d-465c-bf6b-ee09516ba849",
   "metadata": {},
   "source": [
    "We will need to import the part of the scikit-learn library that deals with clustering."
   ]
  },
  {
   "cell_type": "code",
   "id": "18313271-9264-4e9c-8975-6858835bb4ff",
   "metadata": {
    "ExecuteTime": {
     "end_time": "2025-04-03T09:05:59.575574Z",
     "start_time": "2025-04-03T09:05:59.566730Z"
    }
   },
   "source": [
    "import sklearn.cluster\n",
    "import sklearn.metrics"
   ],
   "outputs": [],
   "execution_count": 2
  },
  {
   "cell_type": "markdown",
   "id": "fabd6b29-2588-4207-a64f-afdce79fa1c3",
   "metadata": {},
   "source": [
    "We will also need to import the pandas (PAnels, DAtaframes and Series) library"
   ]
  },
  {
   "cell_type": "code",
   "id": "5c163bb2-1dc5-41b0-a112-1b81d67edb86",
   "metadata": {
    "ExecuteTime": {
     "end_time": "2025-04-03T09:06:01.300472Z",
     "start_time": "2025-04-03T09:06:01.295344Z"
    }
   },
   "source": [
    "import pandas as pd"
   ],
   "outputs": [],
   "execution_count": 3
  },
  {
   "cell_type": "markdown",
   "id": "7f50ec0a-9e4a-4686-a977-7a83dddbead9",
   "metadata": {},
   "source": [
    "Unless your SGTA leader has created another spreadsheet for you, use the following spreadsheet.\n",
    "\n",
    "https://mqoutlook-my.sharepoint.com/:x:/g/personal/greg_baker_mq_edu_au/EcBcNwpXINhNgJ1r56CjI3YBJ-QmjoGs-Rf3hcbsea-n3w?e=oCfJ2b\n",
    "\n",
    "Look for the spreadsheet tab with your prac group in it. \n",
    "\n",
    "Add a row for some place in your home town -- it could be a famous landmark, a place you liked to visit or you could\n",
    "just make something up and pretend you are from somewhere else.\n",
    "\n",
    "----\n",
    "\n",
    "When everyone has finished entering data, download the spreadsheet. (File -> Create a copy -> Download). \n",
    "\n",
    "Create a dataframe from it using `pd.read_excel`. You will need to supply the filename you saved it as. You will also need to supply the sheetname.\n",
    "\n",
    "----\n",
    "\n",
    "If you get this error: `ModuleNotFoundError: No module named 'openpyxl'` then you need to install the openpyxl library for manipulating\n",
    "Excel spreadsheets.\n",
    "\n",
    "- If you use anaconda: `!conda install openpyxl`\n",
    "\n",
    "- If you use uv, `!uv add openpyxl`\n",
    "\n",
    "- If you use pip to install things, `!pip install openpyxl`"
   ]
  },
  {
   "cell_type": "code",
   "id": "58aa1ba7-cf33-402d-9657-bbdc870c388b",
   "metadata": {
    "ExecuteTime": {
     "end_time": "2025-04-03T09:06:17.372502Z",
     "start_time": "2025-04-03T09:06:16.272012Z"
    }
   },
   "source": [
    "locations = pd.read_excel('COMP2200-6200 Week 6 Prac - Interesting locations.xlsx', sheet_name='Sheet2')\n",
    "locations"
   ],
   "outputs": [
    {
     "data": {
      "text/plain": [
       "     Latitude   Longitude\n",
       "0  -34.052535  150.830568\n",
       "1  -33.773763  151.112000\n",
       "2  -44.670172  167.924372\n",
       "3  -33.778732  151.121487\n",
       "4  -34.039404  150.840588\n",
       "5    0.981885  104.041583\n",
       "6  -34.049802  150.823777\n",
       "7   27.987930   86.924460\n",
       "8  -33.806944  150.972500\n",
       "9   29.159240   75.798513\n",
       "10 -34.049874  150.832017\n",
       "11  35.737148   51.405461\n",
       "12  27.707643   85.513632\n",
       "13 -34.052982  150.831350\n",
       "14  27.988170   86.924973\n",
       "15  31.223629  121.445660\n",
       "16 -33.816300  151.050900\n",
       "17  -0.000086   -0.000043\n",
       "18 -34.074460  150.799936\n",
       "19  32.877544  -96.716184\n",
       "20  17.824298   83.357178\n",
       "21 -33.774962  151.118627\n",
       "22   0.049181   -0.850584\n",
       "23  16.508993   80.665283\n",
       "24 -33.696627  151.026892\n",
       "25 -33.775543  151.074402\n",
       "26  -0.000004   -0.000001\n",
       "27  14.563782  121.018953\n",
       "28 -33.777460  151.071516\n",
       "29 -34.051482  150.833389\n",
       "30 -33.891465  151.276495"
      ],
      "text/html": [
       "<div>\n",
       "<style scoped>\n",
       "    .dataframe tbody tr th:only-of-type {\n",
       "        vertical-align: middle;\n",
       "    }\n",
       "\n",
       "    .dataframe tbody tr th {\n",
       "        vertical-align: top;\n",
       "    }\n",
       "\n",
       "    .dataframe thead th {\n",
       "        text-align: right;\n",
       "    }\n",
       "</style>\n",
       "<table border=\"1\" class=\"dataframe\">\n",
       "  <thead>\n",
       "    <tr style=\"text-align: right;\">\n",
       "      <th></th>\n",
       "      <th>Latitude</th>\n",
       "      <th>Longitude</th>\n",
       "    </tr>\n",
       "  </thead>\n",
       "  <tbody>\n",
       "    <tr>\n",
       "      <th>0</th>\n",
       "      <td>-34.052535</td>\n",
       "      <td>150.830568</td>\n",
       "    </tr>\n",
       "    <tr>\n",
       "      <th>1</th>\n",
       "      <td>-33.773763</td>\n",
       "      <td>151.112000</td>\n",
       "    </tr>\n",
       "    <tr>\n",
       "      <th>2</th>\n",
       "      <td>-44.670172</td>\n",
       "      <td>167.924372</td>\n",
       "    </tr>\n",
       "    <tr>\n",
       "      <th>3</th>\n",
       "      <td>-33.778732</td>\n",
       "      <td>151.121487</td>\n",
       "    </tr>\n",
       "    <tr>\n",
       "      <th>4</th>\n",
       "      <td>-34.039404</td>\n",
       "      <td>150.840588</td>\n",
       "    </tr>\n",
       "    <tr>\n",
       "      <th>5</th>\n",
       "      <td>0.981885</td>\n",
       "      <td>104.041583</td>\n",
       "    </tr>\n",
       "    <tr>\n",
       "      <th>6</th>\n",
       "      <td>-34.049802</td>\n",
       "      <td>150.823777</td>\n",
       "    </tr>\n",
       "    <tr>\n",
       "      <th>7</th>\n",
       "      <td>27.987930</td>\n",
       "      <td>86.924460</td>\n",
       "    </tr>\n",
       "    <tr>\n",
       "      <th>8</th>\n",
       "      <td>-33.806944</td>\n",
       "      <td>150.972500</td>\n",
       "    </tr>\n",
       "    <tr>\n",
       "      <th>9</th>\n",
       "      <td>29.159240</td>\n",
       "      <td>75.798513</td>\n",
       "    </tr>\n",
       "    <tr>\n",
       "      <th>10</th>\n",
       "      <td>-34.049874</td>\n",
       "      <td>150.832017</td>\n",
       "    </tr>\n",
       "    <tr>\n",
       "      <th>11</th>\n",
       "      <td>35.737148</td>\n",
       "      <td>51.405461</td>\n",
       "    </tr>\n",
       "    <tr>\n",
       "      <th>12</th>\n",
       "      <td>27.707643</td>\n",
       "      <td>85.513632</td>\n",
       "    </tr>\n",
       "    <tr>\n",
       "      <th>13</th>\n",
       "      <td>-34.052982</td>\n",
       "      <td>150.831350</td>\n",
       "    </tr>\n",
       "    <tr>\n",
       "      <th>14</th>\n",
       "      <td>27.988170</td>\n",
       "      <td>86.924973</td>\n",
       "    </tr>\n",
       "    <tr>\n",
       "      <th>15</th>\n",
       "      <td>31.223629</td>\n",
       "      <td>121.445660</td>\n",
       "    </tr>\n",
       "    <tr>\n",
       "      <th>16</th>\n",
       "      <td>-33.816300</td>\n",
       "      <td>151.050900</td>\n",
       "    </tr>\n",
       "    <tr>\n",
       "      <th>17</th>\n",
       "      <td>-0.000086</td>\n",
       "      <td>-0.000043</td>\n",
       "    </tr>\n",
       "    <tr>\n",
       "      <th>18</th>\n",
       "      <td>-34.074460</td>\n",
       "      <td>150.799936</td>\n",
       "    </tr>\n",
       "    <tr>\n",
       "      <th>19</th>\n",
       "      <td>32.877544</td>\n",
       "      <td>-96.716184</td>\n",
       "    </tr>\n",
       "    <tr>\n",
       "      <th>20</th>\n",
       "      <td>17.824298</td>\n",
       "      <td>83.357178</td>\n",
       "    </tr>\n",
       "    <tr>\n",
       "      <th>21</th>\n",
       "      <td>-33.774962</td>\n",
       "      <td>151.118627</td>\n",
       "    </tr>\n",
       "    <tr>\n",
       "      <th>22</th>\n",
       "      <td>0.049181</td>\n",
       "      <td>-0.850584</td>\n",
       "    </tr>\n",
       "    <tr>\n",
       "      <th>23</th>\n",
       "      <td>16.508993</td>\n",
       "      <td>80.665283</td>\n",
       "    </tr>\n",
       "    <tr>\n",
       "      <th>24</th>\n",
       "      <td>-33.696627</td>\n",
       "      <td>151.026892</td>\n",
       "    </tr>\n",
       "    <tr>\n",
       "      <th>25</th>\n",
       "      <td>-33.775543</td>\n",
       "      <td>151.074402</td>\n",
       "    </tr>\n",
       "    <tr>\n",
       "      <th>26</th>\n",
       "      <td>-0.000004</td>\n",
       "      <td>-0.000001</td>\n",
       "    </tr>\n",
       "    <tr>\n",
       "      <th>27</th>\n",
       "      <td>14.563782</td>\n",
       "      <td>121.018953</td>\n",
       "    </tr>\n",
       "    <tr>\n",
       "      <th>28</th>\n",
       "      <td>-33.777460</td>\n",
       "      <td>151.071516</td>\n",
       "    </tr>\n",
       "    <tr>\n",
       "      <th>29</th>\n",
       "      <td>-34.051482</td>\n",
       "      <td>150.833389</td>\n",
       "    </tr>\n",
       "    <tr>\n",
       "      <th>30</th>\n",
       "      <td>-33.891465</td>\n",
       "      <td>151.276495</td>\n",
       "    </tr>\n",
       "  </tbody>\n",
       "</table>\n",
       "</div>"
      ]
     },
     "execution_count": 4,
     "metadata": {},
     "output_type": "execute_result"
    }
   ],
   "execution_count": 4
  },
  {
   "cell_type": "markdown",
   "id": "3f7d8fa3-7ec8-4f91-afd1-ef5ac4e3b7cb",
   "metadata": {},
   "source": [
    "What sort of epsilon (`eps`) should we use? If two students have chosen sites within one longitude or one latitude (about 111km at the equator) should that be close enough to put them in the same cluster?\n",
    "\n",
    "What should we use for `min_samples`?\n",
    "\n",
    "Create a DBScan object (`sklearn.cluster.DBSCAN`) and use `fit_predict` on the location data."
   ]
  },
  {
   "cell_type": "code",
   "id": "7bef1b90-b357-47aa-9c61-1b16daed1419",
   "metadata": {
    "ExecuteTime": {
     "end_time": "2025-04-03T09:06:19.162305Z",
     "start_time": "2025-04-03T09:06:19.132182Z"
    }
   },
   "source": [
    "dbscan =sklearn.cluster.DBSCAN(min_samples=2, eps=0.5)\n",
    "locations['dbscan_results'] = dbscan.fit_predict(locations[['Longitude', 'Latitude']])"
   ],
   "outputs": [],
   "execution_count": 5
  },
  {
   "cell_type": "markdown",
   "id": "c9ea13e0-1384-41c0-82b3-792944f6d28b",
   "metadata": {},
   "source": [
    "If you aren't confident with programming, export this updated dataframe to Excel and have a look at it there."
   ]
  },
  {
   "cell_type": "code",
   "id": "41aa4e7f-c3c1-449e-baea-0f73930a656c",
   "metadata": {
    "ExecuteTime": {
     "end_time": "2025-04-03T09:06:22.089614Z",
     "start_time": "2025-04-03T09:06:22.021370Z"
    }
   },
   "source": [
    "locations.to_excel('locations-with-cluster.xlsx')"
   ],
   "outputs": [],
   "execution_count": 6
  },
  {
   "cell_type": "markdown",
   "id": "94ec535a-5cb5-447e-95a3-3560493d5b9a",
   "metadata": {},
   "source": [
    "How many different clusters did it find? Which points were in the cluster?"
   ]
  },
  {
   "cell_type": "code",
   "id": "432bd721-f392-409d-8008-2d835f53c1d1",
   "metadata": {
    "ExecuteTime": {
     "end_time": "2025-04-03T09:06:23.324380Z",
     "start_time": "2025-04-03T09:06:23.312643Z"
    }
   },
   "source": [
    "#here's how we do it in python\n",
    "locations['dbscan_results'].value_counts()"
   ],
   "outputs": [
    {
     "data": {
      "text/plain": [
       "dbscan_results\n",
       " 0    16\n",
       "-1    11\n",
       " 1     2\n",
       " 2     2\n",
       "Name: count, dtype: int64"
      ]
     },
     "execution_count": 7,
     "metadata": {},
     "output_type": "execute_result"
    }
   ],
   "execution_count": 7
  },
  {
   "cell_type": "markdown",
   "id": "65eee7d4-21a1-41f2-8bcb-fa04fde2dd91",
   "metadata": {},
   "source": [
    "If you are comfortable programming, create a scatter plot."
   ]
  },
  {
   "cell_type": "code",
   "id": "a8ea6b00-96cd-457f-aeff-7b5987074002",
   "metadata": {
    "ExecuteTime": {
     "end_time": "2025-04-03T09:06:25.783435Z",
     "start_time": "2025-04-03T09:06:24.615775Z"
    }
   },
   "source": "locations.plot.scatter(x='Longitude', y='Latitude', c='dbscan_results', cmap='jet')",
   "outputs": [
    {
     "data": {
      "text/plain": [
       "<Axes: xlabel='Longitude', ylabel='Latitude'>"
      ]
     },
     "execution_count": 8,
     "metadata": {},
     "output_type": "execute_result"
    },
    {
     "data": {
      "text/plain": [
       "<Figure size 640x480 with 2 Axes>"
      ],
      "image/png": "[encoded data removed]"
     },
     "metadata": {},
     "output_type": "display_data"
    }
   ],
   "execution_count": 8
  },
  {
   "cell_type": "markdown",
   "id": "29f280aa-9180-4378-8928-9482f1428f45",
   "metadata": {},
   "source": [
    "### Advanced\n",
    "\n",
    "This isn't part of the prac. But if you are a computer science student with a strong mathematical background, you might enjoy this.\n",
    "\n",
    "There's a problem with what we have done. Two people that live 100km apart at the equator could be in one cluster, but two people that live  50km apart very close to the north pole would be several longitudes apart.\n",
    "\n",
    "We should map these locations into 3D space and cluster on the 3D coordinates."
   ]
  },
  {
   "cell_type": "code",
   "id": "e38ff9c4-099f-4b18-a668-dac777ca20fd",
   "metadata": {
    "ExecuteTime": {
     "end_time": "2025-04-03T09:06:26.110341Z",
     "start_time": "2025-04-03T09:06:26.071699Z"
    }
   },
   "source": [
    "import numpy as np\n",
    "#earth's radius in kilometers\n",
    "R = 6371.0\n",
    "\n",
    "#Convert degree to radians\n",
    "lat_rad = np.radians(locations['Latitude'])\n",
    "lon_rad = np.radians(locations['Longitude']) #assuming the typo is deliberate\n",
    "#spherical to cartesian\n",
    "locations['x'] = R * np.cos(lat_rad) * np.cos(lon_rad)\n",
    "locations['y'] = R * np.cos(lat_rad) * np.sin(lon_rad)\n",
    "locations['z'] = R * np.sin(lat_rad)\n",
    "locations\n",
    "\n",
    "dbscan =sklearn.cluster.DBSCAN(eps=3, min_samples=2)\n",
    "locations['3d_cluster'] = dbscan.fit_predict(locations[['x', 'y', 'z']])\n",
    "locations"
   ],
   "outputs": [
    {
     "data": {
      "text/plain": [
       "     Latitude   Longitude  dbscan_results            x            y  \\\n",
       "0  -34.052535  150.830568               0 -4609.118192  2572.723009   \n",
       "1  -33.773763  151.112000               0 -4636.842388  2558.407584   \n",
       "2  -44.670172  167.924372              -1 -4430.578882   947.862768   \n",
       "3  -33.778732  151.121487               0 -4636.996944  2557.491388   \n",
       "4  -34.039404  150.840588               0 -4610.281930  2572.315225   \n",
       "5    0.981885  104.041583              -1 -1545.543532  6179.726285   \n",
       "6  -34.049802  150.823777               0 -4608.961819  2573.352171   \n",
       "7   27.987930   86.924460               1   301.843151  5617.785904   \n",
       "8  -33.806944  150.972500               0 -4628.805359  2568.693774   \n",
       "9   29.159240   75.798513              -1  1364.931197  5393.567126   \n",
       "10 -34.049874  150.832017               0 -4609.327981  2572.687168   \n",
       "11  35.737148   51.405461              -1  3225.928658  4041.841084   \n",
       "12  27.707643   85.513632              -1   441.206556  5623.165202   \n",
       "13 -34.052982  150.831350               0 -4609.129062  2572.646475   \n",
       "14  27.988170   86.924973               1   301.792143  5617.776117   \n",
       "15  31.223629  121.445660              -1 -2842.250958  4648.021331   \n",
       "16 -33.816300  151.050900               0 -4631.809314  2562.077402   \n",
       "17  -0.000086   -0.000043               2  6371.000000    -0.004773   \n",
       "18 -34.074460  150.799936               0 -4606.550105  2574.520617   \n",
       "19  32.877544  -96.716184              -1  -625.756401 -5313.856571   \n",
       "20  17.824298   83.357178              -1   701.618437  6024.471752   \n",
       "21 -33.774962  151.118627               0 -4637.073375  2557.835451   \n",
       "22   0.049181   -0.850584              -1  6370.295619   -94.577084   \n",
       "23  16.508993   80.665283              -1   990.786104  6027.467253   \n",
       "24 -33.696627  151.026892               0 -4637.204185  2567.599711   \n",
       "25 -33.775543  151.074402               0 -4635.066213  2561.396549   \n",
       "26  -0.000004   -0.000001               2  6371.000000    -0.000115   \n",
       "27  14.563782  121.018953              -1 -3177.621911  5284.490475   \n",
       "28 -33.777460  151.071516               0 -4634.833446  2561.572685   \n",
       "29 -34.051482  150.833389               0 -4609.302154  2572.527977   \n",
       "30 -33.891465  151.276495               0 -4637.778110  2541.582811   \n",
       "\n",
       "              z  3d_cluster  \n",
       "0  -3567.459434           0  \n",
       "1  -3541.734647           1  \n",
       "2  -4478.969518          -1  \n",
       "3  -3542.193973           1  \n",
       "4  -3566.249557           0  \n",
       "5    109.175233          -1  \n",
       "6  -3567.207669           0  \n",
       "7   2989.818264           2  \n",
       "8  -3544.801016          -1  \n",
       "9   3104.196754          -1  \n",
       "10 -3567.214221           0  \n",
       "11  3721.094724          -1  \n",
       "12  2962.261110          -1  \n",
       "13 -3567.500582           0  \n",
       "14  2989.841803           2  \n",
       "15  3302.597189          -1  \n",
       "16 -3545.665363          -1  \n",
       "17    -0.009544           3  \n",
       "18 -3569.479054          -1  \n",
       "19  3458.467618          -1  \n",
       "20  1950.157090          -1  \n",
       "21 -3541.845469           1  \n",
       "22     5.468661          -1  \n",
       "23  1810.420505          -1  \n",
       "24 -3534.601826          -1  \n",
       "25 -3541.899197           4  \n",
       "26    -0.000450           3  \n",
       "27  1602.036332          -1  \n",
       "28 -3542.076412           4  \n",
       "29 -3567.362395           0  \n",
       "30 -3552.606370          -1  "
      ],
      "text/html": [
       "<div>\n",
       "<style scoped>\n",
       "    .dataframe tbody tr th:only-of-type {\n",
       "        vertical-align: middle;\n",
       "    }\n",
       "\n",
       "    .dataframe tbody tr th {\n",
       "        vertical-align: top;\n",
       "    }\n",
       "\n",
       "    .dataframe thead th {\n",
       "        text-align: right;\n",
       "    }\n",
       "</style>\n",
       "<table border=\"1\" class=\"dataframe\">\n",
       "  <thead>\n",
       "    <tr style=\"text-align: right;\">\n",
       "      <th></th>\n",
       "      <th>Latitude</th>\n",
       "      <th>Longitude</th>\n",
       "      <th>dbscan_results</th>\n",
       "      <th>x</th>\n",
       "      <th>y</th>\n",
       "      <th>z</th>\n",
       "      <th>3d_cluster</th>\n",
       "    </tr>\n",
       "  </thead>\n",
       "  <tbody>\n",
       "    <tr>\n",
       "      <th>0</th>\n",
       "      <td>-34.052535</td>\n",
       "      <td>150.830568</td>\n",
       "      <td>0</td>\n",
       "      <td>-4609.118192</td>\n",
       "      <td>2572.723009</td>\n",
       "      <td>-3567.459434</td>\n",
       "      <td>0</td>\n",
       "    </tr>\n",
       "    <tr>\n",
       "      <th>1</th>\n",
       "      <td>-33.773763</td>\n",
       "      <td>151.112000</td>\n",
       "      <td>0</td>\n",
       "      <td>-4636.842388</td>\n",
       "      <td>2558.407584</td>\n",
       "      <td>-3541.734647</td>\n",
       "      <td>1</td>\n",
       "    </tr>\n",
       "    <tr>\n",
       "      <th>2</th>\n",
       "      <td>-44.670172</td>\n",
       "      <td>167.924372</td>\n",
       "      <td>-1</td>\n",
       "      <td>-4430.578882</td>\n",
       "      <td>947.862768</td>\n",
       "      <td>-4478.969518</td>\n",
       "      <td>-1</td>\n",
       "    </tr>\n",
       "    <tr>\n",
       "      <th>3</th>\n",
       "      <td>-33.778732</td>\n",
       "      <td>151.121487</td>\n",
       "      <td>0</td>\n",
       "      <td>-4636.996944</td>\n",
       "      <td>2557.491388</td>\n",
       "      <td>-3542.193973</td>\n",
       "      <td>1</td>\n",
       "    </tr>\n",
       "    <tr>\n",
       "      <th>4</th>\n",
       "      <td>-34.039404</td>\n",
       "      <td>150.840588</td>\n",
       "      <td>0</td>\n",
       "      <td>-4610.281930</td>\n",
       "      <td>2572.315225</td>\n",
       "      <td>-3566.249557</td>\n",
       "      <td>0</td>\n",
       "    </tr>\n",
       "    <tr>\n",
       "      <th>5</th>\n",
       "      <td>0.981885</td>\n",
       "      <td>104.041583</td>\n",
       "      <td>-1</td>\n",
       "      <td>-1545.543532</td>\n",
       "      <td>6179.726285</td>\n",
       "      <td>109.175233</td>\n",
       "      <td>-1</td>\n",
       "    </tr>\n",
       "    <tr>\n",
       "      <th>6</th>\n",
       "      <td>-34.049802</td>\n",
       "      <td>150.823777</td>\n",
       "      <td>0</td>\n",
       "      <td>-4608.961819</td>\n",
       "      <td>2573.352171</td>\n",
       "      <td>-3567.207669</td>\n",
       "      <td>0</td>\n",
       "    </tr>\n",
       "    <tr>\n",
       "      <th>7</th>\n",
       "      <td>27.987930</td>\n",
       "      <td>86.924460</td>\n",
       "      <td>1</td>\n",
       "      <td>301.843151</td>\n",
       "      <td>5617.785904</td>\n",
       "      <td>2989.818264</td>\n",
       "      <td>2</td>\n",
       "    </tr>\n",
       "    <tr>\n",
       "      <th>8</th>\n",
       "      <td>-33.806944</td>\n",
       "      <td>150.972500</td>\n",
       "      <td>0</td>\n",
       "      <td>-4628.805359</td>\n",
       "      <td>2568.693774</td>\n",
       "      <td>-3544.801016</td>\n",
       "      <td>-1</td>\n",
       "    </tr>\n",
       "    <tr>\n",
       "      <th>9</th>\n",
       "      <td>29.159240</td>\n",
       "      <td>75.798513</td>\n",
       "      <td>-1</td>\n",
       "      <td>1364.931197</td>\n",
       "      <td>5393.567126</td>\n",
       "      <td>3104.196754</td>\n",
       "      <td>-1</td>\n",
       "    </tr>\n",
       "    <tr>\n",
       "      <th>10</th>\n",
       "      <td>-34.049874</td>\n",
       "      <td>150.832017</td>\n",
       "      <td>0</td>\n",
       "      <td>-4609.327981</td>\n",
       "      <td>2572.687168</td>\n",
       "      <td>-3567.214221</td>\n",
       "      <td>0</td>\n",
       "    </tr>\n",
       "    <tr>\n",
       "      <th>11</th>\n",
       "      <td>35.737148</td>\n",
       "      <td>51.405461</td>\n",
       "      <td>-1</td>\n",
       "      <td>3225.928658</td>\n",
       "      <td>4041.841084</td>\n",
       "      <td>3721.094724</td>\n",
       "      <td>-1</td>\n",
       "    </tr>\n",
       "    <tr>\n",
       "      <th>12</th>\n",
       "      <td>27.707643</td>\n",
       "      <td>85.513632</td>\n",
       "      <td>-1</td>\n",
       "      <td>441.206556</td>\n",
       "      <td>5623.165202</td>\n",
       "      <td>2962.261110</td>\n",
       "      <td>-1</td>\n",
       "    </tr>\n",
       "    <tr>\n",
       "      <th>13</th>\n",
       "      <td>-34.052982</td>\n",
       "      <td>150.831350</td>\n",
       "      <td>0</td>\n",
       "      <td>-4609.129062</td>\n",
       "      <td>2572.646475</td>\n",
       "      <td>-3567.500582</td>\n",
       "      <td>0</td>\n",
       "    </tr>\n",
       "    <tr>\n",
       "      <th>14</th>\n",
       "      <td>27.988170</td>\n",
       "      <td>86.924973</td>\n",
       "      <td>1</td>\n",
       "      <td>301.792143</td>\n",
       "      <td>5617.776117</td>\n",
       "      <td>2989.841803</td>\n",
       "      <td>2</td>\n",
       "    </tr>\n",
       "    <tr>\n",
       "      <th>15</th>\n",
       "      <td>31.223629</td>\n",
       "      <td>121.445660</td>\n",
       "      <td>-1</td>\n",
       "      <td>-2842.250958</td>\n",
       "      <td>4648.021331</td>\n",
       "      <td>3302.597189</td>\n",
       "      <td>-1</td>\n",
       "    </tr>\n",
       "    <tr>\n",
       "      <th>16</th>\n",
       "      <td>-33.816300</td>\n",
       "      <td>151.050900</td>\n",
       "      <td>0</td>\n",
       "      <td>-4631.809314</td>\n",
       "      <td>2562.077402</td>\n",
       "      <td>-3545.665363</td>\n",
       "      <td>-1</td>\n",
       "    </tr>\n",
       "    <tr>\n",
       "      <th>17</th>\n",
       "      <td>-0.000086</td>\n",
       "      <td>-0.000043</td>\n",
       "      <td>2</td>\n",
       "      <td>6371.000000</td>\n",
       "      <td>-0.004773</td>\n",
       "      <td>-0.009544</td>\n",
       "      <td>3</td>\n",
       "    </tr>\n",
       "    <tr>\n",
       "      <th>18</th>\n",
       "      <td>-34.074460</td>\n",
       "      <td>150.799936</td>\n",
       "      <td>0</td>\n",
       "      <td>-4606.550105</td>\n",
       "      <td>2574.520617</td>\n",
       "      <td>-3569.479054</td>\n",
       "      <td>-1</td>\n",
       "    </tr>\n",
       "    <tr>\n",
       "      <th>19</th>\n",
       "      <td>32.877544</td>\n",
       "      <td>-96.716184</td>\n",
       "      <td>-1</td>\n",
       "      <td>-625.756401</td>\n",
       "      <td>-5313.856571</td>\n",
       "      <td>3458.467618</td>\n",
       "      <td>-1</td>\n",
       "    </tr>\n",
       "    <tr>\n",
       "      <th>20</th>\n",
       "      <td>17.824298</td>\n",
       "      <td>83.357178</td>\n",
       "      <td>-1</td>\n",
       "      <td>701.618437</td>\n",
       "      <td>6024.471752</td>\n",
       "      <td>1950.157090</td>\n",
       "      <td>-1</td>\n",
       "    </tr>\n",
       "    <tr>\n",
       "      <th>21</th>\n",
       "      <td>-33.774962</td>\n",
       "      <td>151.118627</td>\n",
       "      <td>0</td>\n",
       "      <td>-4637.073375</td>\n",
       "      <td>2557.835451</td>\n",
       "      <td>-3541.845469</td>\n",
       "      <td>1</td>\n",
       "    </tr>\n",
       "    <tr>\n",
       "      <th>22</th>\n",
       "      <td>0.049181</td>\n",
       "      <td>-0.850584</td>\n",
       "      <td>-1</td>\n",
       "      <td>6370.295619</td>\n",
       "      <td>-94.577084</td>\n",
       "      <td>5.468661</td>\n",
       "      <td>-1</td>\n",
       "    </tr>\n",
       "    <tr>\n",
       "      <th>23</th>\n",
       "      <td>16.508993</td>\n",
       "      <td>80.665283</td>\n",
       "      <td>-1</td>\n",
       "      <td>990.786104</td>\n",
       "      <td>6027.467253</td>\n",
       "      <td>1810.420505</td>\n",
       "      <td>-1</td>\n",
       "    </tr>\n",
       "    <tr>\n",
       "      <th>24</th>\n",
       "      <td>-33.696627</td>\n",
       "      <td>151.026892</td>\n",
       "      <td>0</td>\n",
       "      <td>-4637.204185</td>\n",
       "      <td>2567.599711</td>\n",
       "      <td>-3534.601826</td>\n",
       "      <td>-1</td>\n",
       "    </tr>\n",
       "    <tr>\n",
       "      <th>25</th>\n",
       "      <td>-33.775543</td>\n",
       "      <td>151.074402</td>\n",
       "      <td>0</td>\n",
       "      <td>-4635.066213</td>\n",
       "      <td>2561.396549</td>\n",
       "      <td>-3541.899197</td>\n",
       "      <td>4</td>\n",
       "    </tr>\n",
       "    <tr>\n",
       "      <th>26</th>\n",
       "      <td>-0.000004</td>\n",
       "      <td>-0.000001</td>\n",
       "      <td>2</td>\n",
       "      <td>6371.000000</td>\n",
       "      <td>-0.000115</td>\n",
       "      <td>-0.000450</td>\n",
       "      <td>3</td>\n",
       "    </tr>\n",
       "    <tr>\n",
       "      <th>27</th>\n",
       "      <td>14.563782</td>\n",
       "      <td>121.018953</td>\n",
       "      <td>-1</td>\n",
       "      <td>-3177.621911</td>\n",
       "      <td>5284.490475</td>\n",
       "      <td>1602.036332</td>\n",
       "      <td>-1</td>\n",
       "    </tr>\n",
       "    <tr>\n",
       "      <th>28</th>\n",
       "      <td>-33.777460</td>\n",
       "      <td>151.071516</td>\n",
       "      <td>0</td>\n",
       "      <td>-4634.833446</td>\n",
       "      <td>2561.572685</td>\n",
       "      <td>-3542.076412</td>\n",
       "      <td>4</td>\n",
       "    </tr>\n",
       "    <tr>\n",
       "      <th>29</th>\n",
       "      <td>-34.051482</td>\n",
       "      <td>150.833389</td>\n",
       "      <td>0</td>\n",
       "      <td>-4609.302154</td>\n",
       "      <td>2572.527977</td>\n",
       "      <td>-3567.362395</td>\n",
       "      <td>0</td>\n",
       "    </tr>\n",
       "    <tr>\n",
       "      <th>30</th>\n",
       "      <td>-33.891465</td>\n",
       "      <td>151.276495</td>\n",
       "      <td>0</td>\n",
       "      <td>-4637.778110</td>\n",
       "      <td>2541.582811</td>\n",
       "      <td>-3552.606370</td>\n",
       "      <td>-1</td>\n",
       "    </tr>\n",
       "  </tbody>\n",
       "</table>\n",
       "</div>"
      ]
     },
     "execution_count": 9,
     "metadata": {},
     "output_type": "execute_result"
    }
   ],
   "execution_count": 9
  },
  {
   "metadata": {
    "ExecuteTime": {
     "end_time": "2025-04-03T09:06:27.243673Z",
     "start_time": "2025-04-03T09:06:27.238150Z"
    }
   },
   "cell_type": "code",
   "source": "",
   "id": "670d8c82019523c6",
   "outputs": [],
   "execution_count": null
  },
  {
   "cell_type": "markdown",
   "id": "c921e2e2-fec4-4b7e-8f4e-07f732aee0c1",
   "metadata": {},
   "source": [
    "## Part 3 -- Can you categorise flowers into species?\n",
    "\n",
    "Up until now we've mostly worked with data sets that use place and space. But we can also cluster using any collecting of numbers. The data we are going to work with now comes from these 3 species of iris:\n",
    "\n",
    "- https://en.wikipedia.org/wiki/Iris_setosa\n",
    "  \n",
    "- https://en.wikipedia.org/wiki/Iris_versicolor\n",
    "\n",
    "- https://en.wikipedia.org/wiki/Iris_virginica\n",
    "\n",
    "There are measures of the sepal length and width, and the petal length and width.\n",
    "\n",
    "---\n",
    "\n",
    "### Step 1: Load the Iris dataset\n",
    "\n",
    "This data set is very famous, and it is supplied as part of the scikit-learn library. We need to import the part of the library\n",
    "which deals with datasets, and then call the loader, which will put the data into a variable called \"iris\""
   ]
  },
  {
   "cell_type": "code",
   "id": "c96aa2c1-e7d0-4cbc-aaef-0f166ba9439f",
   "metadata": {
    "ExecuteTime": {
     "end_time": "2025-04-03T09:06:29.167150Z",
     "start_time": "2025-04-03T09:06:28.934183Z"
    }
   },
   "source": [
    "import sklearn.datasets\n",
    "iris = sklearn.datasets.load_iris()"
   ],
   "outputs": [],
   "execution_count": 10
  },
  {
   "cell_type": "markdown",
   "id": "a813fe6a-df30-4944-a2dd-abb4bcce533f",
   "metadata": {},
   "source": [
    "The next cell might be less familiar to you. We're using the pandas library, and we want to create a dataframe\n",
    "(essentially, a spreadsheet of data) with the column names coming from the iris data's column names we just loaded, and the numbers\n",
    "in the rows coming from the data in that iris variable."
   ]
  },
  {
   "cell_type": "code",
   "id": "b49a0e69-836b-4023-907f-f977ace8ff70",
   "metadata": {
    "ExecuteTime": {
     "end_time": "2025-04-03T09:06:33.137463Z",
     "start_time": "2025-04-03T09:06:33.116334Z"
    }
   },
   "source": [
    "data = pd.DataFrame(iris.data, columns=iris.feature_names)\n",
    "data"
   ],
   "outputs": [
    {
     "data": {
      "text/plain": [
       "     sepal length (cm)  sepal width (cm)  petal length (cm)  petal width (cm)\n",
       "0                  5.1               3.5                1.4               0.2\n",
       "1                  4.9               3.0                1.4               0.2\n",
       "2                  4.7               3.2                1.3               0.2\n",
       "3                  4.6               3.1                1.5               0.2\n",
       "4                  5.0               3.6                1.4               0.2\n",
       "..                 ...               ...                ...               ...\n",
       "145                6.7               3.0                5.2               2.3\n",
       "146                6.3               2.5                5.0               1.9\n",
       "147                6.5               3.0                5.2               2.0\n",
       "148                6.2               3.4                5.4               2.3\n",
       "149                5.9               3.0                5.1               1.8\n",
       "\n",
       "[150 rows x 4 columns]"
      ],
      "text/html": [
       "<div>\n",
       "<style scoped>\n",
       "    .dataframe tbody tr th:only-of-type {\n",
       "        vertical-align: middle;\n",
       "    }\n",
       "\n",
       "    .dataframe tbody tr th {\n",
       "        vertical-align: top;\n",
       "    }\n",
       "\n",
       "    .dataframe thead th {\n",
       "        text-align: right;\n",
       "    }\n",
       "</style>\n",
       "<table border=\"1\" class=\"dataframe\">\n",
       "  <thead>\n",
       "    <tr style=\"text-align: right;\">\n",
       "      <th></th>\n",
       "      <th>sepal length (cm)</th>\n",
       "      <th>sepal width (cm)</th>\n",
       "      <th>petal length (cm)</th>\n",
       "      <th>petal width (cm)</th>\n",
       "    </tr>\n",
       "  </thead>\n",
       "  <tbody>\n",
       "    <tr>\n",
       "      <th>0</th>\n",
       "      <td>5.1</td>\n",
       "      <td>3.5</td>\n",
       "      <td>1.4</td>\n",
       "      <td>0.2</td>\n",
       "    </tr>\n",
       "    <tr>\n",
       "      <th>1</th>\n",
       "      <td>4.9</td>\n",
       "      <td>3.0</td>\n",
       "      <td>1.4</td>\n",
       "      <td>0.2</td>\n",
       "    </tr>\n",
       "    <tr>\n",
       "      <th>2</th>\n",
       "      <td>4.7</td>\n",
       "      <td>3.2</td>\n",
       "      <td>1.3</td>\n",
       "      <td>0.2</td>\n",
       "    </tr>\n",
       "    <tr>\n",
       "      <th>3</th>\n",
       "      <td>4.6</td>\n",
       "      <td>3.1</td>\n",
       "      <td>1.5</td>\n",
       "      <td>0.2</td>\n",
       "    </tr>\n",
       "    <tr>\n",
       "      <th>4</th>\n",
       "      <td>5.0</td>\n",
       "      <td>3.6</td>\n",
       "      <td>1.4</td>\n",
       "      <td>0.2</td>\n",
       "    </tr>\n",
       "    <tr>\n",
       "      <th>...</th>\n",
       "      <td>...</td>\n",
       "      <td>...</td>\n",
       "      <td>...</td>\n",
       "      <td>...</td>\n",
       "    </tr>\n",
       "    <tr>\n",
       "      <th>145</th>\n",
       "      <td>6.7</td>\n",
       "      <td>3.0</td>\n",
       "      <td>5.2</td>\n",
       "      <td>2.3</td>\n",
       "    </tr>\n",
       "    <tr>\n",
       "      <th>146</th>\n",
       "      <td>6.3</td>\n",
       "      <td>2.5</td>\n",
       "      <td>5.0</td>\n",
       "      <td>1.9</td>\n",
       "    </tr>\n",
       "    <tr>\n",
       "      <th>147</th>\n",
       "      <td>6.5</td>\n",
       "      <td>3.0</td>\n",
       "      <td>5.2</td>\n",
       "      <td>2.0</td>\n",
       "    </tr>\n",
       "    <tr>\n",
       "      <th>148</th>\n",
       "      <td>6.2</td>\n",
       "      <td>3.4</td>\n",
       "      <td>5.4</td>\n",
       "      <td>2.3</td>\n",
       "    </tr>\n",
       "    <tr>\n",
       "      <th>149</th>\n",
       "      <td>5.9</td>\n",
       "      <td>3.0</td>\n",
       "      <td>5.1</td>\n",
       "      <td>1.8</td>\n",
       "    </tr>\n",
       "  </tbody>\n",
       "</table>\n",
       "<p>150 rows × 4 columns</p>\n",
       "</div>"
      ]
     },
     "execution_count": 11,
     "metadata": {},
     "output_type": "execute_result"
    }
   ],
   "execution_count": 11
  },
  {
   "cell_type": "markdown",
   "id": "aa56f087-64d7-40ff-bd5b-e4f426a90f02",
   "metadata": {},
   "source": [
    "Notice that we don't have 2 dimensional data -- it's 4-dimensional: there are 4 features. This makes it much harder to visualise.\n",
    "Here's how you could visualise two of the features."
   ]
  },
  {
   "cell_type": "code",
   "id": "a9bfe020-7dad-4938-85e5-6a4c7ab8cb88",
   "metadata": {
    "ExecuteTime": {
     "end_time": "2025-04-03T09:06:34.423260Z",
     "start_time": "2025-04-03T09:06:34.216677Z"
    }
   },
   "source": [
    "data.plot.scatter(x='sepal length (cm)', y='sepal width (cm)')"
   ],
   "outputs": [
    {
     "data": {
      "text/plain": [
       "<Axes: xlabel='sepal length (cm)', ylabel='sepal width (cm)'>"
      ]
     },
     "execution_count": 12,
     "metadata": {},
     "output_type": "execute_result"
    },
    {
     "data": {
      "text/plain": [
       "<Figure size 640x480 with 1 Axes>"
      ],
      "image/png": "[encoded data removed]"
     },
     "metadata": {},
     "output_type": "display_data"
    }
   ],
   "execution_count": 12
  },
  {
   "cell_type": "markdown",
   "id": "ff013dfa-faed-4e6a-986c-f3b72447bd3c",
   "metadata": {},
   "source": [
    "Now make a scatter plot of the data using the other features ('petal length (cm)' and 'petal width (cm)')"
   ]
  },
  {
   "cell_type": "code",
   "id": "c6578898-4c3f-441c-a30d-5779741021b1",
   "metadata": {
    "ExecuteTime": {
     "end_time": "2025-04-03T09:06:35.787508Z",
     "start_time": "2025-04-03T09:06:35.611456Z"
    }
   },
   "source": "data.plot.scatter(x='petal length (cm)', y='petal width (cm)')",
   "outputs": [
    {
     "data": {
      "text/plain": [
       "<Axes: xlabel='petal length (cm)', ylabel='petal width (cm)'>"
      ]
     },
     "execution_count": 13,
     "metadata": {},
     "output_type": "execute_result"
    },
    {
     "data": {
      "text/plain": [
       "<Figure size 640x480 with 1 Axes>"
      ],
      "image/png": "[encoded data removed]"
     },
     "metadata": {},
     "output_type": "display_data"
    }
   ],
   "execution_count": 13
  },
  {
   "cell_type": "markdown",
   "id": "942ab5ae-6c6c-486c-8b57-1480b467631b",
   "metadata": {},
   "source": [
    "---"
   ]
  },
  {
   "cell_type": "markdown",
   "id": "a5014707-7330-469b-a527-463b38ad9477",
   "metadata": {},
   "source": [
    "### Step 2: Perform K-Means Clustering"
   ]
  },
  {
   "cell_type": "markdown",
   "id": "385fee85-9430-453e-8110-7c517ffd7f4a",
   "metadata": {},
   "source": [
    "Let's jump to the answer -- we know that there are three species. We would like to get the\n",
    "same answer each time, so we need to set the `random_state` for the algorithm to use. This will make\n",
    "the centroids start in the same place each time."
   ]
  },
  {
   "cell_type": "code",
   "id": "ce1ce56f-55a4-4ab9-9b3b-1a9712597a7a",
   "metadata": {
    "ExecuteTime": {
     "end_time": "2025-04-03T09:06:38.205279Z",
     "start_time": "2025-04-03T09:06:37.942648Z"
    }
   },
   "source": [
    "kmeans = sklearn.cluster.KMeans(n_clusters=3, random_state=42)\n",
    "data['kmeans_cluster_3_species'] = kmeans.fit_predict(data)\n",
    "data"
   ],
   "outputs": [
    {
     "data": {
      "text/plain": [
       "     sepal length (cm)  sepal width (cm)  petal length (cm)  petal width (cm)  \\\n",
       "0                  5.1               3.5                1.4               0.2   \n",
       "1                  4.9               3.0                1.4               0.2   \n",
       "2                  4.7               3.2                1.3               0.2   \n",
       "3                  4.6               3.1                1.5               0.2   \n",
       "4                  5.0               3.6                1.4               0.2   \n",
       "..                 ...               ...                ...               ...   \n",
       "145                6.7               3.0                5.2               2.3   \n",
       "146                6.3               2.5                5.0               1.9   \n",
       "147                6.5               3.0                5.2               2.0   \n",
       "148                6.2               3.4                5.4               2.3   \n",
       "149                5.9               3.0                5.1               1.8   \n",
       "\n",
       "     kmeans_cluster_3_species  \n",
       "0                           1  \n",
       "1                           1  \n",
       "2                           1  \n",
       "3                           1  \n",
       "4                           1  \n",
       "..                        ...  \n",
       "145                         0  \n",
       "146                         2  \n",
       "147                         0  \n",
       "148                         0  \n",
       "149                         2  \n",
       "\n",
       "[150 rows x 5 columns]"
      ],
      "text/html": [
       "<div>\n",
       "<style scoped>\n",
       "    .dataframe tbody tr th:only-of-type {\n",
       "        vertical-align: middle;\n",
       "    }\n",
       "\n",
       "    .dataframe tbody tr th {\n",
       "        vertical-align: top;\n",
       "    }\n",
       "\n",
       "    .dataframe thead th {\n",
       "        text-align: right;\n",
       "    }\n",
       "</style>\n",
       "<table border=\"1\" class=\"dataframe\">\n",
       "  <thead>\n",
       "    <tr style=\"text-align: right;\">\n",
       "      <th></th>\n",
       "      <th>sepal length (cm)</th>\n",
       "      <th>sepal width (cm)</th>\n",
       "      <th>petal length (cm)</th>\n",
       "      <th>petal width (cm)</th>\n",
       "      <th>kmeans_cluster_3_species</th>\n",
       "    </tr>\n",
       "  </thead>\n",
       "  <tbody>\n",
       "    <tr>\n",
       "      <th>0</th>\n",
       "      <td>5.1</td>\n",
       "      <td>3.5</td>\n",
       "      <td>1.4</td>\n",
       "      <td>0.2</td>\n",
       "      <td>1</td>\n",
       "    </tr>\n",
       "    <tr>\n",
       "      <th>1</th>\n",
       "      <td>4.9</td>\n",
       "      <td>3.0</td>\n",
       "      <td>1.4</td>\n",
       "      <td>0.2</td>\n",
       "      <td>1</td>\n",
       "    </tr>\n",
       "    <tr>\n",
       "      <th>2</th>\n",
       "      <td>4.7</td>\n",
       "      <td>3.2</td>\n",
       "      <td>1.3</td>\n",
       "      <td>0.2</td>\n",
       "      <td>1</td>\n",
       "    </tr>\n",
       "    <tr>\n",
       "      <th>3</th>\n",
       "      <td>4.6</td>\n",
       "      <td>3.1</td>\n",
       "      <td>1.5</td>\n",
       "      <td>0.2</td>\n",
       "      <td>1</td>\n",
       "    </tr>\n",
       "    <tr>\n",
       "      <th>4</th>\n",
       "      <td>5.0</td>\n",
       "      <td>3.6</td>\n",
       "      <td>1.4</td>\n",
       "      <td>0.2</td>\n",
       "      <td>1</td>\n",
       "    </tr>\n",
       "    <tr>\n",
       "      <th>...</th>\n",
       "      <td>...</td>\n",
       "      <td>...</td>\n",
       "      <td>...</td>\n",
       "      <td>...</td>\n",
       "      <td>...</td>\n",
       "    </tr>\n",
       "    <tr>\n",
       "      <th>145</th>\n",
       "      <td>6.7</td>\n",
       "      <td>3.0</td>\n",
       "      <td>5.2</td>\n",
       "      <td>2.3</td>\n",
       "      <td>0</td>\n",
       "    </tr>\n",
       "    <tr>\n",
       "      <th>146</th>\n",
       "      <td>6.3</td>\n",
       "      <td>2.5</td>\n",
       "      <td>5.0</td>\n",
       "      <td>1.9</td>\n",
       "      <td>2</td>\n",
       "    </tr>\n",
       "    <tr>\n",
       "      <th>147</th>\n",
       "      <td>6.5</td>\n",
       "      <td>3.0</td>\n",
       "      <td>5.2</td>\n",
       "      <td>2.0</td>\n",
       "      <td>0</td>\n",
       "    </tr>\n",
       "    <tr>\n",
       "      <th>148</th>\n",
       "      <td>6.2</td>\n",
       "      <td>3.4</td>\n",
       "      <td>5.4</td>\n",
       "      <td>2.3</td>\n",
       "      <td>0</td>\n",
       "    </tr>\n",
       "    <tr>\n",
       "      <th>149</th>\n",
       "      <td>5.9</td>\n",
       "      <td>3.0</td>\n",
       "      <td>5.1</td>\n",
       "      <td>1.8</td>\n",
       "      <td>2</td>\n",
       "    </tr>\n",
       "  </tbody>\n",
       "</table>\n",
       "<p>150 rows × 5 columns</p>\n",
       "</div>"
      ]
     },
     "execution_count": 14,
     "metadata": {},
     "output_type": "execute_result"
    }
   ],
   "execution_count": 14
  },
  {
   "cell_type": "markdown",
   "id": "38953558-ca44-4ddf-9aa1-5695fa591309",
   "metadata": {},
   "source": [
    "We can add that column as the colour to the plot we made earlier. \"c\" is short for \"colour\", and \"cmap\" is short for \"colourmap\"."
   ]
  },
  {
   "cell_type": "markdown",
   "id": "7a3d80d7-7808-4498-b169-ee959f9f62ab",
   "metadata": {},
   "source": [
    "### Try a few other cluster sizes"
   ]
  },
  {
   "cell_type": "markdown",
   "id": "c390f72d-8346-429b-b768-c6abe77d4cea",
   "metadata": {},
   "source": [
    "But if we didn't know it was three species, could we figure it out?\n",
    "\n",
    "Try a few other options. What happens if you use 2 clusters, or 4 or 5? Copy the code into a new cell\n",
    "and make any necessary changes."
   ]
  },
  {
   "cell_type": "code",
   "id": "d95dbd6b-77f0-43fd-9bee-160725ed09a1",
   "metadata": {
    "ExecuteTime": {
     "end_time": "2025-04-03T09:06:41.119883Z",
     "start_time": "2025-04-03T09:06:40.870492Z"
    }
   },
   "source": "data.plot.scatter(x='sepal length (cm)', y='sepal width (cm)', c='kmeans_cluster_3_species', cmap='rainbow')",
   "outputs": [
    {
     "data": {
      "text/plain": [
       "<Axes: xlabel='sepal length (cm)', ylabel='sepal width (cm)'>"
      ]
     },
     "execution_count": 15,
     "metadata": {},
     "output_type": "execute_result"
    },
    {
     "data": {
      "text/plain": [
       "<Figure size 640x480 with 2 Axes>"
      ],
      "image/png": "[encoded data removed]"
     },
     "metadata": {},
     "output_type": "display_data"
    }
   ],
   "execution_count": 15
  },
  {
   "metadata": {
    "ExecuteTime": {
     "end_time": "2025-04-03T09:06:41.727478Z",
     "start_time": "2025-04-03T09:06:41.675369Z"
    }
   },
   "cell_type": "code",
   "source": [
    "kmeans_2 = sklearn.cluster.KMeans(n_clusters=2, random_state=42)\n",
    "kmeans_4 = sklearn.cluster.KMeans(n_clusters=4, random_state=42)\n",
    "kmeans_5 = sklearn.cluster.KMeans(n_clusters=5, random_state=42)\n",
    "\n",
    "data['kmeans_cluster_2_species'] = kmeans_2.fit_predict(data)\n",
    "data['kmeans_cluster_4_species'] = kmeans_4.fit_predict(data)\n",
    "data['kmeans_cluster_5_species'] = kmeans_5.fit_predict(data)\n",
    "data"
   ],
   "id": "17900d566ed46cb8",
   "outputs": [
    {
     "data": {
      "text/plain": [
       "     sepal length (cm)  sepal width (cm)  petal length (cm)  petal width (cm)  \\\n",
       "0                  5.1               3.5                1.4               0.2   \n",
       "1                  4.9               3.0                1.4               0.2   \n",
       "2                  4.7               3.2                1.3               0.2   \n",
       "3                  4.6               3.1                1.5               0.2   \n",
       "4                  5.0               3.6                1.4               0.2   \n",
       "..                 ...               ...                ...               ...   \n",
       "145                6.7               3.0                5.2               2.3   \n",
       "146                6.3               2.5                5.0               1.9   \n",
       "147                6.5               3.0                5.2               2.0   \n",
       "148                6.2               3.4                5.4               2.3   \n",
       "149                5.9               3.0                5.1               1.8   \n",
       "\n",
       "     kmeans_cluster_3_species  kmeans_cluster_2_species  \\\n",
       "0                           1                         1   \n",
       "1                           1                         1   \n",
       "2                           1                         1   \n",
       "3                           1                         1   \n",
       "4                           1                         1   \n",
       "..                        ...                       ...   \n",
       "145                         0                         0   \n",
       "146                         2                         0   \n",
       "147                         0                         0   \n",
       "148                         0                         0   \n",
       "149                         2                         0   \n",
       "\n",
       "     kmeans_cluster_4_species  kmeans_cluster_5_species  \n",
       "0                           2                         4  \n",
       "1                           1                         2  \n",
       "2                           1                         2  \n",
       "3                           1                         2  \n",
       "4                           2                         4  \n",
       "..                        ...                       ...  \n",
       "145                         3                         1  \n",
       "146                         0                         0  \n",
       "147                         3                         1  \n",
       "148                         3                         1  \n",
       "149                         0                         0  \n",
       "\n",
       "[150 rows x 8 columns]"
      ],
      "text/html": [
       "<div>\n",
       "<style scoped>\n",
       "    .dataframe tbody tr th:only-of-type {\n",
       "        vertical-align: middle;\n",
       "    }\n",
       "\n",
       "    .dataframe tbody tr th {\n",
       "        vertical-align: top;\n",
       "    }\n",
       "\n",
       "    .dataframe thead th {\n",
       "        text-align: right;\n",
       "    }\n",
       "</style>\n",
       "<table border=\"1\" class=\"dataframe\">\n",
       "  <thead>\n",
       "    <tr style=\"text-align: right;\">\n",
       "      <th></th>\n",
       "      <th>sepal length (cm)</th>\n",
       "      <th>sepal width (cm)</th>\n",
       "      <th>petal length (cm)</th>\n",
       "      <th>petal width (cm)</th>\n",
       "      <th>kmeans_cluster_3_species</th>\n",
       "      <th>kmeans_cluster_2_species</th>\n",
       "      <th>kmeans_cluster_4_species</th>\n",
       "      <th>kmeans_cluster_5_species</th>\n",
       "    </tr>\n",
       "  </thead>\n",
       "  <tbody>\n",
       "    <tr>\n",
       "      <th>0</th>\n",
       "      <td>5.1</td>\n",
       "      <td>3.5</td>\n",
       "      <td>1.4</td>\n",
       "      <td>0.2</td>\n",
       "      <td>1</td>\n",
       "      <td>1</td>\n",
       "      <td>2</td>\n",
       "      <td>4</td>\n",
       "    </tr>\n",
       "    <tr>\n",
       "      <th>1</th>\n",
       "      <td>4.9</td>\n",
       "      <td>3.0</td>\n",
       "      <td>1.4</td>\n",
       "      <td>0.2</td>\n",
       "      <td>1</td>\n",
       "      <td>1</td>\n",
       "      <td>1</td>\n",
       "      <td>2</td>\n",
       "    </tr>\n",
       "    <tr>\n",
       "      <th>2</th>\n",
       "      <td>4.7</td>\n",
       "      <td>3.2</td>\n",
       "      <td>1.3</td>\n",
       "      <td>0.2</td>\n",
       "      <td>1</td>\n",
       "      <td>1</td>\n",
       "      <td>1</td>\n",
       "      <td>2</td>\n",
       "    </tr>\n",
       "    <tr>\n",
       "      <th>3</th>\n",
       "      <td>4.6</td>\n",
       "      <td>3.1</td>\n",
       "      <td>1.5</td>\n",
       "      <td>0.2</td>\n",
       "      <td>1</td>\n",
       "      <td>1</td>\n",
       "      <td>1</td>\n",
       "      <td>2</td>\n",
       "    </tr>\n",
       "    <tr>\n",
       "      <th>4</th>\n",
       "      <td>5.0</td>\n",
       "      <td>3.6</td>\n",
       "      <td>1.4</td>\n",
       "      <td>0.2</td>\n",
       "      <td>1</td>\n",
       "      <td>1</td>\n",
       "      <td>2</td>\n",
       "      <td>4</td>\n",
       "    </tr>\n",
       "    <tr>\n",
       "      <th>...</th>\n",
       "      <td>...</td>\n",
       "      <td>...</td>\n",
       "      <td>...</td>\n",
       "      <td>...</td>\n",
       "      <td>...</td>\n",
       "      <td>...</td>\n",
       "      <td>...</td>\n",
       "      <td>...</td>\n",
       "    </tr>\n",
       "    <tr>\n",
       "      <th>145</th>\n",
       "      <td>6.7</td>\n",
       "      <td>3.0</td>\n",
       "      <td>5.2</td>\n",
       "      <td>2.3</td>\n",
       "      <td>0</td>\n",
       "      <td>0</td>\n",
       "      <td>3</td>\n",
       "      <td>1</td>\n",
       "    </tr>\n",
       "    <tr>\n",
       "      <th>146</th>\n",
       "      <td>6.3</td>\n",
       "      <td>2.5</td>\n",
       "      <td>5.0</td>\n",
       "      <td>1.9</td>\n",
       "      <td>2</td>\n",
       "      <td>0</td>\n",
       "      <td>0</td>\n",
       "      <td>0</td>\n",
       "    </tr>\n",
       "    <tr>\n",
       "      <th>147</th>\n",
       "      <td>6.5</td>\n",
       "      <td>3.0</td>\n",
       "      <td>5.2</td>\n",
       "      <td>2.0</td>\n",
       "      <td>0</td>\n",
       "      <td>0</td>\n",
       "      <td>3</td>\n",
       "      <td>1</td>\n",
       "    </tr>\n",
       "    <tr>\n",
       "      <th>148</th>\n",
       "      <td>6.2</td>\n",
       "      <td>3.4</td>\n",
       "      <td>5.4</td>\n",
       "      <td>2.3</td>\n",
       "      <td>0</td>\n",
       "      <td>0</td>\n",
       "      <td>3</td>\n",
       "      <td>1</td>\n",
       "    </tr>\n",
       "    <tr>\n",
       "      <th>149</th>\n",
       "      <td>5.9</td>\n",
       "      <td>3.0</td>\n",
       "      <td>5.1</td>\n",
       "      <td>1.8</td>\n",
       "      <td>2</td>\n",
       "      <td>0</td>\n",
       "      <td>0</td>\n",
       "      <td>0</td>\n",
       "    </tr>\n",
       "  </tbody>\n",
       "</table>\n",
       "<p>150 rows × 8 columns</p>\n",
       "</div>"
      ]
     },
     "execution_count": 16,
     "metadata": {},
     "output_type": "execute_result"
    }
   ],
   "execution_count": 16
  },
  {
   "cell_type": "code",
   "id": "14e889fb-0623-4112-83ab-eb81f2c68e01",
   "metadata": {
    "ExecuteTime": {
     "end_time": "2025-04-03T09:06:42.817492Z",
     "start_time": "2025-04-03T09:06:42.548583Z"
    }
   },
   "source": "data.plot.scatter(x='sepal length (cm)', y='sepal width (cm)', c='kmeans_cluster_2_species', cmap='rainbow')",
   "outputs": [
    {
     "data": {
      "text/plain": [
       "<Axes: xlabel='sepal length (cm)', ylabel='sepal width (cm)'>"
      ]
     },
     "execution_count": 17,
     "metadata": {},
     "output_type": "execute_result"
    },
    {
     "data": {
      "text/plain": [
       "<Figure size 640x480 with 2 Axes>"
      ],
      "image/png": "[encoded data removed]"
     },
     "metadata": {},
     "output_type": "display_data"
    }
   ],
   "execution_count": 17
  },
  {
   "cell_type": "code",
   "id": "15ed38f0-c582-4c61-b945-0d9d918c70b1",
   "metadata": {
    "ExecuteTime": {
     "end_time": "2025-04-03T09:06:43.459885Z",
     "start_time": "2025-04-03T09:06:43.299788Z"
    }
   },
   "source": "data.plot.scatter(x='sepal length (cm)', y='sepal width (cm)', c='kmeans_cluster_4_species', cmap='rainbow')",
   "outputs": [
    {
     "data": {
      "text/plain": [
       "<Axes: xlabel='sepal length (cm)', ylabel='sepal width (cm)'>"
      ]
     },
     "execution_count": 18,
     "metadata": {},
     "output_type": "execute_result"
    },
    {
     "data": {
      "text/plain": [
       "<Figure size 640x480 with 2 Axes>"
      ],
      "image/png": "[encoded data removed]"
     },
     "metadata": {},
     "output_type": "display_data"
    }
   ],
   "execution_count": 18
  },
  {
   "cell_type": "markdown",
   "id": "25fb11ba-2731-4ca0-80a6-b82e332dc625",
   "metadata": {},
   "source": [
    "Visualise some of these other clusterings. Take a previous visualisation, and change the `c=` parameter to use a new column name."
   ]
  },
  {
   "metadata": {
    "ExecuteTime": {
     "end_time": "2025-04-03T09:06:45.486916Z",
     "start_time": "2025-04-03T09:06:45.200310Z"
    }
   },
   "cell_type": "code",
   "source": "data.plot.scatter(x='sepal length (cm)', y='sepal width (cm)', c='kmeans_cluster_5_species', cmap='rainbow')",
   "id": "4fed5d6d9948adbc",
   "outputs": [
    {
     "data": {
      "text/plain": [
       "<Axes: xlabel='sepal length (cm)', ylabel='sepal width (cm)'>"
      ]
     },
     "execution_count": 19,
     "metadata": {},
     "output_type": "execute_result"
    },
    {
     "data": {
      "text/plain": [
       "<Figure size 640x480 with 2 Axes>"
      ],
      "image/png": "[encoded data removed]"
     },
     "metadata": {},
     "output_type": "display_data"
    }
   ],
   "execution_count": 19
  },
  {
   "cell_type": "markdown",
   "id": "5c72b787-ce1e-4ebc-9f04-a2137c6661bf",
   "metadata": {},
   "source": [
    ".---\n",
    "\n",
    "### Step 3: Evaluate Clusters\n",
    "\n",
    "Check how well your clusters are separated using `sklearn.metrics.silhouette_score`. It needs the data you used for\n",
    "clustering and the labels your clust"
   ]
  },
  {
   "cell_type": "code",
   "id": "c3d35cf5-8ee3-4ad2-af94-343c204ead9d",
   "metadata": {
    "ExecuteTime": {
     "end_time": "2025-04-03T09:06:47.596546Z",
     "start_time": "2025-04-03T09:06:47.586617Z"
    }
   },
   "source": [
    "score3 = sklearn.metrics.silhouette_score(data[iris.feature_names], data['kmeans_cluster_3_species'])\n",
    "\n",
    "\n",
    "print(\"Silhouette Score:\", score3)\n"
   ],
   "outputs": [
    {
     "name": "stdout",
     "output_type": "stream",
     "text": [
      "Silhouette Score: 0.551191604619592\n"
     ]
    }
   ],
   "execution_count": 20
  },
  {
   "cell_type": "markdown",
   "id": "d1ed83a5-c2e1-46d4-b19b-07fce01e1cea",
   "metadata": {},
   "source": [
    "- Scores close to **1** indicate good clustering.\n",
    "- Scores near **0** mean clusters overlap.\n",
    "- Negative scores indicate points might be wrongly clustered."
   ]
  },
  {
   "cell_type": "markdown",
   "id": "fcdbabd9-a437-4c41-9b36-a2aa4aa1effd",
   "metadata": {},
   "source": [
    "Look at the silhouette score for the 2,4 and 5 cluster options as well. If you are feeling confident with Python you can code a visualisation here. If you aren't, feel free to use Excel or some graph paper to see how the silhouette score performs.\n",
    "\n",
    "You'll find that it isn't all that informative -- as the number of clusters increases, the silhouette score gets worse. This would\n",
    "suggest that two clusters is the best."
   ]
  },
  {
   "cell_type": "markdown",
   "id": "3e228197-f3c0-4f6d-8218-c628b4332830",
   "metadata": {},
   "source": [
    "---"
   ]
  },
  {
   "cell_type": "code",
   "id": "d175398b-127b-410d-b25a-caf6ec34ed64",
   "metadata": {
    "ExecuteTime": {
     "end_time": "2025-04-03T09:06:51.037600Z",
     "start_time": "2025-04-03T09:06:51.013728Z"
    }
   },
   "source": [
    "score2 = sklearn.metrics.silhouette_score(data[iris.feature_names], data['kmeans_cluster_2_species'])\n",
    "print(\"Silhouette Score (2):\", score2)\n",
    "score4 = sklearn.metrics.silhouette_score(data[iris.feature_names], data['kmeans_cluster_4_species'])\n",
    "print(\"Silhouette Score (4):\", score4)\n",
    "score5 = sklearn.metrics.silhouette_score(data[iris.feature_names], data['kmeans_cluster_5_species'])\n",
    "print(\"Silhouette Score (5):\", score5)"
   ],
   "outputs": [
    {
     "name": "stdout",
     "output_type": "stream",
     "text": [
      "Silhouette Score (2): 0.6810461692117462\n",
      "Silhouette Score (4): 0.4137668162428513\n",
      "Silhouette Score (5): 0.35608362578320735\n"
     ]
    }
   ],
   "execution_count": 21
  },
  {
   "cell_type": "code",
   "id": "12602871-31e5-4758-9aee-e32a5abdde43",
   "metadata": {
    "ExecuteTime": {
     "end_time": "2025-04-03T09:07:11.389969Z",
     "start_time": "2025-04-03T09:07:11.002898Z"
    }
   },
   "source": [
    "silhouette_data = pd.Series(index=[2,3,4,5], data=[score2, score3, score4, score5])\n",
    "silhouette_data.plot()"
   ],
   "outputs": [
    {
     "data": {
      "text/plain": [
       "<Axes: >"
      ]
     },
     "execution_count": 23,
     "metadata": {},
     "output_type": "execute_result"
    },
    {
     "data": {
      "text/plain": [
       "<Figure size 640x480 with 1 Axes>"
      ],
      "image/png": "[encoded data removed]"
     },
     "metadata": {},
     "output_type": "display_data"
    }
   ],
   "execution_count": 23
  },
  {
   "cell_type": "markdown",
   "id": "2998d670-3f61-48b4-8d40-bfbe0a8ee44f",
   "metadata": {},
   "source": [
    "There are several other metrics that are used for measuring how good a cluster specification is.\n",
    "\n",
    "- Calinski-Harabasz\n",
    "- Davies-Bouldin\n",
    "\n",
    "One of the nice things about the scikit-learn library, is that you can copy the code for the Silhouette score and replace it with another metric. e.g. Replace `sklearn.metrics.silhouette_score` with `sklearn.metrics.davies_bouldin_score`.\n",
    "\n",
    "There is also some documentation on how they work, e.g. https://scikit-learn.org/stable/modules/clustering.html#calinski-harabasz-index\n",
    "\n",
    "Try these two, and see if you can find any spikes that might indicate that a particular number of clusters is especially good\n",
    "according to one of these metrics."
   ]
  },
  {
   "cell_type": "code",
   "id": "1c0fa943-1c44-43a2-b1f9-c49de95dbc5d",
   "metadata": {
    "ExecuteTime": {
     "end_time": "2025-04-03T09:07:12.474796Z",
     "start_time": "2025-04-03T09:07:12.125855Z"
    }
   },
   "source": [
    "# The solution I've created here is for slightly-sophisticated programmers...\n",
    "\n",
    "davies_scores = []\n",
    "for i in range(2,6):\n",
    "    davies_scores.append(sklearn.metrics.davies_bouldin_score(data[iris.feature_names], data[f'kmeans_cluster_{i}_species']))\n",
    "\n",
    "davies_scores = pd.Series(index=range(2,6), data=davies_scores)\n",
    "davies_scores.plot()"
   ],
   "outputs": [
    {
     "data": {
      "text/plain": [
       "<Axes: >"
      ]
     },
     "execution_count": 24,
     "metadata": {},
     "output_type": "execute_result"
    },
    {
     "data": {
      "text/plain": [
       "<Figure size 640x480 with 1 Axes>"
      ],
      "image/png": "[encoded data removed]"
     },
     "metadata": {},
     "output_type": "display_data"
    }
   ],
   "execution_count": 24
  },
  {
   "cell_type": "code",
   "id": "cc15de0c-f7be-4171-ac78-917163efeb4a",
   "metadata": {
    "ExecuteTime": {
     "end_time": "2025-04-03T09:07:13.101642Z",
     "start_time": "2025-04-03T09:07:12.765886Z"
    }
   },
   "source": [
    "# The solution I've created here is for slightly-sophisticated programmers...\n",
    "\n",
    "calinksi_scores = []\n",
    "for i in range(2,6):\n",
    "    calinksi_scores.append(sklearn.metrics.calinski_harabasz_score(data[iris.feature_names], data[f'kmeans_cluster_{i}_species']))\n",
    "\n",
    "calinski_scores = pd.Series(index=range(2,6), data=calinksi_scores)\n",
    "calinski_scores.plot()"
   ],
   "outputs": [
    {
     "data": {
      "text/plain": [
       "<Axes: >"
      ]
     },
     "execution_count": 25,
     "metadata": {},
     "output_type": "execute_result"
    },
    {
     "data": {
      "text/plain": [
       "<Figure size 640x480 with 1 Axes>"
      ],
      "image/png": "[encoded data removed]"
     },
     "metadata": {},
     "output_type": "display_data"
    }
   ],
   "execution_count": 25
  },
  {
   "cell_type": "markdown",
   "id": "d9053bdb-454d-4d0e-bcac-e012da7190b8",
   "metadata": {},
   "source": [
    "### Step 4: Perform DBSCAN Clustering\n",
    "\n",
    "DBSCAN tries to find clusters by density. Run this:"
   ]
  },
  {
   "cell_type": "code",
   "id": "6539d785-2ca1-4b03-aaaa-9dbc27a11404",
   "metadata": {
    "ExecuteTime": {
     "end_time": "2025-04-03T09:07:14.160866Z",
     "start_time": "2025-04-03T09:07:14.094249Z"
    }
   },
   "source": [
    "dbscan = sklearn.cluster.DBSCAN(eps=0.5, min_samples=5)\n",
    "data['dbscan_cluster'] = dbscan.fit_predict(data[iris.feature_names])\n",
    "data"
   ],
   "outputs": [
    {
     "data": {
      "text/plain": [
       "     sepal length (cm)  sepal width (cm)  petal length (cm)  petal width (cm)  \\\n",
       "0                  5.1               3.5                1.4               0.2   \n",
       "1                  4.9               3.0                1.4               0.2   \n",
       "2                  4.7               3.2                1.3               0.2   \n",
       "3                  4.6               3.1                1.5               0.2   \n",
       "4                  5.0               3.6                1.4               0.2   \n",
       "..                 ...               ...                ...               ...   \n",
       "145                6.7               3.0                5.2               2.3   \n",
       "146                6.3               2.5                5.0               1.9   \n",
       "147                6.5               3.0                5.2               2.0   \n",
       "148                6.2               3.4                5.4               2.3   \n",
       "149                5.9               3.0                5.1               1.8   \n",
       "\n",
       "     kmeans_cluster_3_species  kmeans_cluster_2_species  \\\n",
       "0                           1                         1   \n",
       "1                           1                         1   \n",
       "2                           1                         1   \n",
       "3                           1                         1   \n",
       "4                           1                         1   \n",
       "..                        ...                       ...   \n",
       "145                         0                         0   \n",
       "146                         2                         0   \n",
       "147                         0                         0   \n",
       "148                         0                         0   \n",
       "149                         2                         0   \n",
       "\n",
       "     kmeans_cluster_4_species  kmeans_cluster_5_species  dbscan_cluster  \n",
       "0                           2                         4               0  \n",
       "1                           1                         2               0  \n",
       "2                           1                         2               0  \n",
       "3                           1                         2               0  \n",
       "4                           2                         4               0  \n",
       "..                        ...                       ...             ...  \n",
       "145                         3                         1               1  \n",
       "146                         0                         0               1  \n",
       "147                         3                         1               1  \n",
       "148                         3                         1               1  \n",
       "149                         0                         0               1  \n",
       "\n",
       "[150 rows x 9 columns]"
      ],
      "text/html": [
       "<div>\n",
       "<style scoped>\n",
       "    .dataframe tbody tr th:only-of-type {\n",
       "        vertical-align: middle;\n",
       "    }\n",
       "\n",
       "    .dataframe tbody tr th {\n",
       "        vertical-align: top;\n",
       "    }\n",
       "\n",
       "    .dataframe thead th {\n",
       "        text-align: right;\n",
       "    }\n",
       "</style>\n",
       "<table border=\"1\" class=\"dataframe\">\n",
       "  <thead>\n",
       "    <tr style=\"text-align: right;\">\n",
       "      <th></th>\n",
       "      <th>sepal length (cm)</th>\n",
       "      <th>sepal width (cm)</th>\n",
       "      <th>petal length (cm)</th>\n",
       "      <th>petal width (cm)</th>\n",
       "      <th>kmeans_cluster_3_species</th>\n",
       "      <th>kmeans_cluster_2_species</th>\n",
       "      <th>kmeans_cluster_4_species</th>\n",
       "      <th>kmeans_cluster_5_species</th>\n",
       "      <th>dbscan_cluster</th>\n",
       "    </tr>\n",
       "  </thead>\n",
       "  <tbody>\n",
       "    <tr>\n",
       "      <th>0</th>\n",
       "      <td>5.1</td>\n",
       "      <td>3.5</td>\n",
       "      <td>1.4</td>\n",
       "      <td>0.2</td>\n",
       "      <td>1</td>\n",
       "      <td>1</td>\n",
       "      <td>2</td>\n",
       "      <td>4</td>\n",
       "      <td>0</td>\n",
       "    </tr>\n",
       "    <tr>\n",
       "      <th>1</th>\n",
       "      <td>4.9</td>\n",
       "      <td>3.0</td>\n",
       "      <td>1.4</td>\n",
       "      <td>0.2</td>\n",
       "      <td>1</td>\n",
       "      <td>1</td>\n",
       "      <td>1</td>\n",
       "      <td>2</td>\n",
       "      <td>0</td>\n",
       "    </tr>\n",
       "    <tr>\n",
       "      <th>2</th>\n",
       "      <td>4.7</td>\n",
       "      <td>3.2</td>\n",
       "      <td>1.3</td>\n",
       "      <td>0.2</td>\n",
       "      <td>1</td>\n",
       "      <td>1</td>\n",
       "      <td>1</td>\n",
       "      <td>2</td>\n",
       "      <td>0</td>\n",
       "    </tr>\n",
       "    <tr>\n",
       "      <th>3</th>\n",
       "      <td>4.6</td>\n",
       "      <td>3.1</td>\n",
       "      <td>1.5</td>\n",
       "      <td>0.2</td>\n",
       "      <td>1</td>\n",
       "      <td>1</td>\n",
       "      <td>1</td>\n",
       "      <td>2</td>\n",
       "      <td>0</td>\n",
       "    </tr>\n",
       "    <tr>\n",
       "      <th>4</th>\n",
       "      <td>5.0</td>\n",
       "      <td>3.6</td>\n",
       "      <td>1.4</td>\n",
       "      <td>0.2</td>\n",
       "      <td>1</td>\n",
       "      <td>1</td>\n",
       "      <td>2</td>\n",
       "      <td>4</td>\n",
       "      <td>0</td>\n",
       "    </tr>\n",
       "    <tr>\n",
       "      <th>...</th>\n",
       "      <td>...</td>\n",
       "      <td>...</td>\n",
       "      <td>...</td>\n",
       "      <td>...</td>\n",
       "      <td>...</td>\n",
       "      <td>...</td>\n",
       "      <td>...</td>\n",
       "      <td>...</td>\n",
       "      <td>...</td>\n",
       "    </tr>\n",
       "    <tr>\n",
       "      <th>145</th>\n",
       "      <td>6.7</td>\n",
       "      <td>3.0</td>\n",
       "      <td>5.2</td>\n",
       "      <td>2.3</td>\n",
       "      <td>0</td>\n",
       "      <td>0</td>\n",
       "      <td>3</td>\n",
       "      <td>1</td>\n",
       "      <td>1</td>\n",
       "    </tr>\n",
       "    <tr>\n",
       "      <th>146</th>\n",
       "      <td>6.3</td>\n",
       "      <td>2.5</td>\n",
       "      <td>5.0</td>\n",
       "      <td>1.9</td>\n",
       "      <td>2</td>\n",
       "      <td>0</td>\n",
       "      <td>0</td>\n",
       "      <td>0</td>\n",
       "      <td>1</td>\n",
       "    </tr>\n",
       "    <tr>\n",
       "      <th>147</th>\n",
       "      <td>6.5</td>\n",
       "      <td>3.0</td>\n",
       "      <td>5.2</td>\n",
       "      <td>2.0</td>\n",
       "      <td>0</td>\n",
       "      <td>0</td>\n",
       "      <td>3</td>\n",
       "      <td>1</td>\n",
       "      <td>1</td>\n",
       "    </tr>\n",
       "    <tr>\n",
       "      <th>148</th>\n",
       "      <td>6.2</td>\n",
       "      <td>3.4</td>\n",
       "      <td>5.4</td>\n",
       "      <td>2.3</td>\n",
       "      <td>0</td>\n",
       "      <td>0</td>\n",
       "      <td>3</td>\n",
       "      <td>1</td>\n",
       "      <td>1</td>\n",
       "    </tr>\n",
       "    <tr>\n",
       "      <th>149</th>\n",
       "      <td>5.9</td>\n",
       "      <td>3.0</td>\n",
       "      <td>5.1</td>\n",
       "      <td>1.8</td>\n",
       "      <td>2</td>\n",
       "      <td>0</td>\n",
       "      <td>0</td>\n",
       "      <td>0</td>\n",
       "      <td>1</td>\n",
       "    </tr>\n",
       "  </tbody>\n",
       "</table>\n",
       "<p>150 rows × 9 columns</p>\n",
       "</div>"
      ]
     },
     "execution_count": 26,
     "metadata": {},
     "output_type": "execute_result"
    }
   ],
   "execution_count": 26
  },
  {
   "cell_type": "markdown",
   "id": "4299d0a8-ce56-4b08-a2e9-a0fe34c5a4fd",
   "metadata": {},
   "source": [
    "Pick your favourite metric and measure how good the DBSCAN clustering was."
   ]
  },
  {
   "cell_type": "code",
   "id": "f08fd596-1ce1-44ff-9433-213276500e42",
   "metadata": {
    "ExecuteTime": {
     "end_time": "2025-04-03T09:07:16.761320Z",
     "start_time": "2025-04-03T09:07:16.744167Z"
    }
   },
   "source": [
    "sklearn.metrics.calinski_harabasz_score(data[iris.feature_names], data[f'dbscan_cluster'])"
   ],
   "outputs": [
    {
     "data": {
      "text/plain": [
       "np.float64(220.29751498443005)"
      ]
     },
     "execution_count": 27,
     "metadata": {},
     "output_type": "execute_result"
    }
   ],
   "execution_count": 27
  },
  {
   "cell_type": "markdown",
   "id": "c79225f8-7190-4296-8325-63ee627b3a48",
   "metadata": {},
   "source": [
    "We can also look at different values for `eps` or `min_samples` and see if we can find a better clustering."
   ]
  },
  {
   "cell_type": "code",
   "id": "d41f1480-00f3-4c37-94a5-86f316f4fee6",
   "metadata": {
    "ExecuteTime": {
     "end_time": "2025-04-03T09:07:18.847031Z",
     "start_time": "2025-04-03T09:07:18.832173Z"
    }
   },
   "source": [
    "alternate_dbscan = sklearn.cluster.DBSCAN(eps=0.25, min_samples=5)\n",
    "sklearn.metrics.calinski_harabasz_score(data[iris.feature_names], alternate_dbscan.fit_predict(data[iris.feature_names]))"
   ],
   "outputs": [
    {
     "data": {
      "text/plain": [
       "np.float64(58.01522715592349)"
      ]
     },
     "execution_count": 28,
     "metadata": {},
     "output_type": "execute_result"
    }
   ],
   "execution_count": 28
  },
  {
   "cell_type": "code",
   "id": "1567c8b6-6259-408c-992a-f543beef355b",
   "metadata": {
    "ExecuteTime": {
     "end_time": "2025-04-03T09:07:19.730506Z",
     "start_time": "2025-04-03T09:07:19.715750Z"
    }
   },
   "source": [
    "alternate_dbscan.fit_predict(data[iris.feature_names])"
   ],
   "outputs": [
    {
     "data": {
      "text/plain": [
       "array([ 0,  0,  0,  0,  0, -1,  0,  0, -1,  0,  0,  0,  0, -1, -1, -1, -1,\n",
       "        0, -1,  0, -1,  0, -1,  0, -1,  0,  0,  0,  0,  0,  0, -1, -1, -1,\n",
       "        0,  0, -1,  0, -1,  0,  0, -1,  0,  0, -1,  0,  0,  0,  0,  0, -1,\n",
       "       -1, -1, -1, -1, -1, -1, -1, -1, -1, -1, -1, -1, -1, -1, -1, -1, -1,\n",
       "       -1, -1, -1, -1, -1, -1, -1, -1, -1, -1, -1, -1, -1, -1, -1, -1, -1,\n",
       "       -1, -1, -1,  1, -1, -1, -1, -1, -1,  1,  1,  1, -1, -1,  1, -1, -1,\n",
       "       -1, -1, -1, -1, -1, -1, -1, -1, -1, -1, -1, -1, -1, -1, -1, -1, -1,\n",
       "       -1, -1, -1, -1, -1, -1, -1, -1, -1, -1, -1, -1, -1, -1, -1, -1, -1,\n",
       "       -1, -1, -1, -1, -1, -1, -1, -1, -1, -1, -1, -1, -1, -1])"
      ]
     },
     "execution_count": 29,
     "metadata": {},
     "output_type": "execute_result"
    }
   ],
   "execution_count": 29
  },
  {
   "cell_type": "markdown",
   "id": "cd158b62-d0a6-412d-a688-a4864d2d8b90",
   "metadata": {},
   "source": [
    "---\n",
    "\n",
    "### Discussion Questions:\n",
    "\n",
    "1. How many clusters did each method identify?\n",
    "2. Which clustering results seem clearer or more useful?\n",
    "3. Why might DBSCAN and K-means give different results?\n",
    "4. What does your Silhouette Score / Davies-Bouldin / Calinski-Harabasz scores suggest about the quality of the K-Means clusters?\n",
    "5. Why did we not do train, validation and test here?\n",
    "\n",
    "\n",
    "Discuss these questions in your group."
   ]
  },
  {
   "metadata": {},
   "cell_type": "code",
   "outputs": [],
   "execution_count": null,
   "source": "",
   "id": "82f0cea51357e117"
  }
 ],
 "metadata": {
  "kernelspec": {
   "display_name": "Python 3 (ipykernel)",
   "language": "python",
   "name": "python3"
  },
  "language_info": {
   "codemirror_mode": {
    "name": "ipython",
    "version": 3
   },
   "file_extension": ".py",
   "mimetype": "text/x-python",
   "name": "python",
   "nbconvert_exporter": "python",
   "pygments_lexer": "ipython3",
   "version": "3.12.2"
  }
 },
 "nbformat": 4,
 "nbformat_minor": 5
}
