{
 "cells": [
  {
   "cell_type": "markdown",
   "id": "1e5f0b6e-af30-453d-a8a3-eaae2758df01",
   "metadata": {},
   "source": [
    "# Week 7 Practical - Nearest Neighbours and Scaling Methods\n",
    "\n",
    "Tools used:\n",
    "\n",
    "- How to scale your data correctly (**StandardScaler** and **RobustScaler**)\n",
    "- How scaling impacts **Nearest Neighbour methods** (classification and regression)\n",
    "\n",
    "\n",
    "---\n",
    "\n",
    "## 🟢 **1. Setup and Data Preparation**\n",
    "\n",
    "**Step 1: Import libraries**"
   ]
  },
  {
   "cell_type": "code",
   "id": "29ac009b-ea5d-4700-abd5-4a9c6d39d5e2",
   "metadata": {
    "ExecuteTime": {
     "end_time": "2025-04-10T15:49:35.044586Z",
     "start_time": "2025-04-10T15:49:14.162348Z"
    }
   },
   "source": [
    "import pandas as pd\n",
    "import numpy as np\n",
    "import matplotlib.pyplot as plt\n",
    "import sklearn.model_selection\n",
    "import sklearn.preprocessing\n",
    "import sklearn.dummy\n",
    "import sklearn.metrics\n",
    "import sklearn.neighbors\n",
    "from glob import glob\n",
    "from sklearn.model_selection import train_test_split\n",
    "from sklearn.preprocessing import StandardScaler"
   ],
   "outputs": [],
   "execution_count": 1
  },
  {
   "cell_type": "markdown",
   "id": "42294c4f-cb5e-42ce-bf43-9fe912f95199",
   "metadata": {},
   "source": [
    "---\n",
    "\n",
    "## 🟢 **2. Load and Explore the Customer Churn Dataset**\n",
    "\n",
    "We'll start with a dataset used for **classification** tasks (predicting \"churn\": whether customers leave or stay). There is a\n",
    "file `WA_Fn-UseC_-Telco-Customer-Churn.csv` with some customer churn data for a telecommunications company. It is from https://www.kaggle.com/datasets/blastchar/telco-customer-churn\n",
    "\n",
    "Use `pd.read_csv` to load, then use some python commands look at the data (make additional cells if you need to). "
   ]
  },
  {
   "cell_type": "code",
   "id": "9531c834-fe6e-43d4-b9c0-2a3ee59a0ec0",
   "metadata": {
    "ExecuteTime": {
     "end_time": "2025-04-10T15:53:49.262711Z",
     "start_time": "2025-04-10T15:53:47.307480Z"
    }
   },
   "source": [
    "import kagglehub\n",
    "\n",
    "# Download latest version\n",
    "path = kagglehub.dataset_download(\"blastchar/telco-customer-churn\")\n",
    "\n",
    "print(\"Path to dataset files:\", path)"
   ],
   "outputs": [
    {
     "name": "stdout",
     "output_type": "stream",
     "text": [
      "Path to dataset files: C:\\Users\\pc\\.cache\\kagglehub\\datasets\\blastchar\\telco-customer-churn\\versions\\1\n"
     ]
    }
   ],
   "execution_count": 3
  },
  {
   "metadata": {
    "ExecuteTime": {
     "end_time": "2025-04-10T15:53:49.462193Z",
     "start_time": "2025-04-10T15:53:49.360783Z"
    }
   },
   "cell_type": "code",
   "source": [
    "fname = glob(path + \"/*.csv\")[0]\n",
    "df_churn = pd.read_csv(fname)\n",
    "df_churn.head()"
   ],
   "id": "7ffa7167858a4f36",
   "outputs": [
    {
     "data": {
      "text/plain": [
       "   customerID  gender  SeniorCitizen Partner Dependents  tenure PhoneService  \\\n",
       "0  7590-VHVEG  Female              0     Yes         No       1           No   \n",
       "1  5575-GNVDE    Male              0      No         No      34          Yes   \n",
       "2  3668-QPYBK    Male              0      No         No       2          Yes   \n",
       "3  7795-CFOCW    Male              0      No         No      45           No   \n",
       "4  9237-HQITU  Female              0      No         No       2          Yes   \n",
       "\n",
       "      MultipleLines InternetService OnlineSecurity  ... DeviceProtection  \\\n",
       "0  No phone service             DSL             No  ...               No   \n",
       "1                No             DSL            Yes  ...              Yes   \n",
       "2                No             DSL            Yes  ...               No   \n",
       "3  No phone service             DSL            Yes  ...              Yes   \n",
       "4                No     Fiber optic             No  ...               No   \n",
       "\n",
       "  TechSupport StreamingTV StreamingMovies        Contract PaperlessBilling  \\\n",
       "0          No          No              No  Month-to-month              Yes   \n",
       "1          No          No              No        One year               No   \n",
       "2          No          No              No  Month-to-month              Yes   \n",
       "3         Yes          No              No        One year               No   \n",
       "4          No          No              No  Month-to-month              Yes   \n",
       "\n",
       "               PaymentMethod MonthlyCharges  TotalCharges Churn  \n",
       "0           Electronic check          29.85         29.85    No  \n",
       "1               Mailed check          56.95        1889.5    No  \n",
       "2               Mailed check          53.85        108.15   Yes  \n",
       "3  Bank transfer (automatic)          42.30       1840.75    No  \n",
       "4           Electronic check          70.70        151.65   Yes  \n",
       "\n",
       "[5 rows x 21 columns]"
      ],
      "text/html": [
       "<div>\n",
       "<style scoped>\n",
       "    .dataframe tbody tr th:only-of-type {\n",
       "        vertical-align: middle;\n",
       "    }\n",
       "\n",
       "    .dataframe tbody tr th {\n",
       "        vertical-align: top;\n",
       "    }\n",
       "\n",
       "    .dataframe thead th {\n",
       "        text-align: right;\n",
       "    }\n",
       "</style>\n",
       "<table border=\"1\" class=\"dataframe\">\n",
       "  <thead>\n",
       "    <tr style=\"text-align: right;\">\n",
       "      <th></th>\n",
       "      <th>customerID</th>\n",
       "      <th>gender</th>\n",
       "      <th>SeniorCitizen</th>\n",
       "      <th>Partner</th>\n",
       "      <th>Dependents</th>\n",
       "      <th>tenure</th>\n",
       "      <th>PhoneService</th>\n",
       "      <th>MultipleLines</th>\n",
       "      <th>InternetService</th>\n",
       "      <th>OnlineSecurity</th>\n",
       "      <th>...</th>\n",
       "      <th>DeviceProtection</th>\n",
       "      <th>TechSupport</th>\n",
       "      <th>StreamingTV</th>\n",
       "      <th>StreamingMovies</th>\n",
       "      <th>Contract</th>\n",
       "      <th>PaperlessBilling</th>\n",
       "      <th>PaymentMethod</th>\n",
       "      <th>MonthlyCharges</th>\n",
       "      <th>TotalCharges</th>\n",
       "      <th>Churn</th>\n",
       "    </tr>\n",
       "  </thead>\n",
       "  <tbody>\n",
       "    <tr>\n",
       "      <th>0</th>\n",
       "      <td>7590-VHVEG</td>\n",
       "      <td>Female</td>\n",
       "      <td>0</td>\n",
       "      <td>Yes</td>\n",
       "      <td>No</td>\n",
       "      <td>1</td>\n",
       "      <td>No</td>\n",
       "      <td>No phone service</td>\n",
       "      <td>DSL</td>\n",
       "      <td>No</td>\n",
       "      <td>...</td>\n",
       "      <td>No</td>\n",
       "      <td>No</td>\n",
       "      <td>No</td>\n",
       "      <td>No</td>\n",
       "      <td>Month-to-month</td>\n",
       "      <td>Yes</td>\n",
       "      <td>Electronic check</td>\n",
       "      <td>29.85</td>\n",
       "      <td>29.85</td>\n",
       "      <td>No</td>\n",
       "    </tr>\n",
       "    <tr>\n",
       "      <th>1</th>\n",
       "      <td>5575-GNVDE</td>\n",
       "      <td>Male</td>\n",
       "      <td>0</td>\n",
       "      <td>No</td>\n",
       "      <td>No</td>\n",
       "      <td>34</td>\n",
       "      <td>Yes</td>\n",
       "      <td>No</td>\n",
       "      <td>DSL</td>\n",
       "      <td>Yes</td>\n",
       "      <td>...</td>\n",
       "      <td>Yes</td>\n",
       "      <td>No</td>\n",
       "      <td>No</td>\n",
       "      <td>No</td>\n",
       "      <td>One year</td>\n",
       "      <td>No</td>\n",
       "      <td>Mailed check</td>\n",
       "      <td>56.95</td>\n",
       "      <td>1889.5</td>\n",
       "      <td>No</td>\n",
       "    </tr>\n",
       "    <tr>\n",
       "      <th>2</th>\n",
       "      <td>3668-QPYBK</td>\n",
       "      <td>Male</td>\n",
       "      <td>0</td>\n",
       "      <td>No</td>\n",
       "      <td>No</td>\n",
       "      <td>2</td>\n",
       "      <td>Yes</td>\n",
       "      <td>No</td>\n",
       "      <td>DSL</td>\n",
       "      <td>Yes</td>\n",
       "      <td>...</td>\n",
       "      <td>No</td>\n",
       "      <td>No</td>\n",
       "      <td>No</td>\n",
       "      <td>No</td>\n",
       "      <td>Month-to-month</td>\n",
       "      <td>Yes</td>\n",
       "      <td>Mailed check</td>\n",
       "      <td>53.85</td>\n",
       "      <td>108.15</td>\n",
       "      <td>Yes</td>\n",
       "    </tr>\n",
       "    <tr>\n",
       "      <th>3</th>\n",
       "      <td>7795-CFOCW</td>\n",
       "      <td>Male</td>\n",
       "      <td>0</td>\n",
       "      <td>No</td>\n",
       "      <td>No</td>\n",
       "      <td>45</td>\n",
       "      <td>No</td>\n",
       "      <td>No phone service</td>\n",
       "      <td>DSL</td>\n",
       "      <td>Yes</td>\n",
       "      <td>...</td>\n",
       "      <td>Yes</td>\n",
       "      <td>Yes</td>\n",
       "      <td>No</td>\n",
       "      <td>No</td>\n",
       "      <td>One year</td>\n",
       "      <td>No</td>\n",
       "      <td>Bank transfer (automatic)</td>\n",
       "      <td>42.30</td>\n",
       "      <td>1840.75</td>\n",
       "      <td>No</td>\n",
       "    </tr>\n",
       "    <tr>\n",
       "      <th>4</th>\n",
       "      <td>9237-HQITU</td>\n",
       "      <td>Female</td>\n",
       "      <td>0</td>\n",
       "      <td>No</td>\n",
       "      <td>No</td>\n",
       "      <td>2</td>\n",
       "      <td>Yes</td>\n",
       "      <td>No</td>\n",
       "      <td>Fiber optic</td>\n",
       "      <td>No</td>\n",
       "      <td>...</td>\n",
       "      <td>No</td>\n",
       "      <td>No</td>\n",
       "      <td>No</td>\n",
       "      <td>No</td>\n",
       "      <td>Month-to-month</td>\n",
       "      <td>Yes</td>\n",
       "      <td>Electronic check</td>\n",
       "      <td>70.70</td>\n",
       "      <td>151.65</td>\n",
       "      <td>Yes</td>\n",
       "    </tr>\n",
       "  </tbody>\n",
       "</table>\n",
       "<p>5 rows × 21 columns</p>\n",
       "</div>"
      ]
     },
     "execution_count": 4,
     "metadata": {},
     "output_type": "execute_result"
    }
   ],
   "execution_count": 4
  },
  {
   "cell_type": "markdown",
   "id": "952fe667-0d24-47db-9ec9-b54efcb92b0e",
   "metadata": {},
   "source": [
    "**Quick check:**  \n",
    "- Which columns can you see?\n",
    "- Do they all look numeric?\n",
    "\n",
    "Use `.value_counts()` to see how many different values there are in the `Churn` column."
   ]
  },
  {
   "cell_type": "code",
   "id": "d948106b-398e-4dfd-bbf8-37be48f6f6c5",
   "metadata": {
    "ExecuteTime": {
     "end_time": "2025-04-10T15:53:50.610798Z",
     "start_time": "2025-04-10T15:53:50.598103Z"
    }
   },
   "source": "df_churn.Churn.value_counts()",
   "outputs": [
    {
     "data": {
      "text/plain": [
       "Churn\n",
       "No     5174\n",
       "Yes    1869\n",
       "Name: count, dtype: int64"
      ]
     },
     "execution_count": 5,
     "metadata": {},
     "output_type": "execute_result"
    }
   ],
   "execution_count": 5
  },
  {
   "cell_type": "markdown",
   "id": "0baa669e-f309-4290-9e6d-cd95343470bb",
   "metadata": {},
   "source": [
    "---\n",
    "\n",
    "## 🟢 **3. Selecting Numeric Features**\n",
    "\n",
    "Nearest neighbours methods work well with numeric data. Let's pick three numeric columns:\n",
    "\n",
    "- `tenure`: How long customers stay (months).\n",
    "- `MonthlyCharges`: Monthly bill.\n",
    "- `TotalCharges`: Total bill so far.\n",
    "\n",
    "Create a dataframe called `df_churn` that has those features (plus \"Churn\") in it. Use the `.dropna()` method to drop any rows\n",
    "that have nulls in them."
   ]
  },
  {
   "cell_type": "code",
   "id": "4cf591dd-3dcf-461c-8aba-4de2424e9b4d",
   "metadata": {
    "ExecuteTime": {
     "end_time": "2025-04-10T15:53:52.366871Z",
     "start_time": "2025-04-10T15:53:52.338274Z"
    }
   },
   "source": [
    "features = ['tenure', 'MonthlyCharges', 'TotalCharges']\n",
    "df_churn = df_churn[features + ['Churn']].dropna()\n",
    "df_churn.head()\n"
   ],
   "outputs": [
    {
     "data": {
      "text/plain": [
       "   tenure  MonthlyCharges TotalCharges Churn\n",
       "0       1           29.85        29.85    No\n",
       "1      34           56.95       1889.5    No\n",
       "2       2           53.85       108.15   Yes\n",
       "3      45           42.30      1840.75    No\n",
       "4       2           70.70       151.65   Yes"
      ],
      "text/html": [
       "<div>\n",
       "<style scoped>\n",
       "    .dataframe tbody tr th:only-of-type {\n",
       "        vertical-align: middle;\n",
       "    }\n",
       "\n",
       "    .dataframe tbody tr th {\n",
       "        vertical-align: top;\n",
       "    }\n",
       "\n",
       "    .dataframe thead th {\n",
       "        text-align: right;\n",
       "    }\n",
       "</style>\n",
       "<table border=\"1\" class=\"dataframe\">\n",
       "  <thead>\n",
       "    <tr style=\"text-align: right;\">\n",
       "      <th></th>\n",
       "      <th>tenure</th>\n",
       "      <th>MonthlyCharges</th>\n",
       "      <th>TotalCharges</th>\n",
       "      <th>Churn</th>\n",
       "    </tr>\n",
       "  </thead>\n",
       "  <tbody>\n",
       "    <tr>\n",
       "      <th>0</th>\n",
       "      <td>1</td>\n",
       "      <td>29.85</td>\n",
       "      <td>29.85</td>\n",
       "      <td>No</td>\n",
       "    </tr>\n",
       "    <tr>\n",
       "      <th>1</th>\n",
       "      <td>34</td>\n",
       "      <td>56.95</td>\n",
       "      <td>1889.5</td>\n",
       "      <td>No</td>\n",
       "    </tr>\n",
       "    <tr>\n",
       "      <th>2</th>\n",
       "      <td>2</td>\n",
       "      <td>53.85</td>\n",
       "      <td>108.15</td>\n",
       "      <td>Yes</td>\n",
       "    </tr>\n",
       "    <tr>\n",
       "      <th>3</th>\n",
       "      <td>45</td>\n",
       "      <td>42.30</td>\n",
       "      <td>1840.75</td>\n",
       "      <td>No</td>\n",
       "    </tr>\n",
       "    <tr>\n",
       "      <th>4</th>\n",
       "      <td>2</td>\n",
       "      <td>70.70</td>\n",
       "      <td>151.65</td>\n",
       "      <td>Yes</td>\n",
       "    </tr>\n",
       "  </tbody>\n",
       "</table>\n",
       "</div>"
      ]
     },
     "execution_count": 6,
     "metadata": {},
     "output_type": "execute_result"
    }
   ],
   "execution_count": 6
  },
  {
   "cell_type": "markdown",
   "id": "61914000-ce6f-4e3d-b1f9-b02292a64124",
   "metadata": {},
   "source": [
    "## 🟢 **4. Data cleanup**\n",
    "\n",
    "We'll now do some slightly more complicated feature engineering. This is the probably first time you've seen something like this, so don't worry if it is a bit confusing at first. This kind of error correcting and data cleaning is often one of the largest tasks in a data science project.\n",
    "\n",
    "Some of the \"TotalCharges\" have not been correctly recorded. Sometimes it comes up with ' ' instead. (Just a space character).\n",
    "\n",
    "Let's just confirm that this really does happen: we'll look at the rows in the `df_churn` dataframe where that is the case."
   ]
  },
  {
   "cell_type": "code",
   "id": "f585b339-417b-4a1d-9c7e-36709fb9d06a",
   "metadata": {
    "ExecuteTime": {
     "end_time": "2025-04-09T23:52:03.514908Z",
     "start_time": "2025-04-09T23:52:03.492101Z"
    }
   },
   "source": [
    "df_churn[df_churn.TotalCharges == ' ']"
   ],
   "outputs": [
    {
     "data": {
      "text/plain": [
       "      tenure  MonthlyCharges TotalCharges Churn\n",
       "488        0           52.55                 No\n",
       "753        0           20.25                 No\n",
       "936        0           80.85                 No\n",
       "1082       0           25.75                 No\n",
       "1340       0           56.05                 No\n",
       "3331       0           19.85                 No\n",
       "3826       0           25.35                 No\n",
       "4380       0           20.00                 No\n",
       "5218       0           19.70                 No\n",
       "6670       0           73.35                 No\n",
       "6754       0           61.90                 No"
      ],
      "text/html": [
       "<div>\n",
       "<style scoped>\n",
       "    .dataframe tbody tr th:only-of-type {\n",
       "        vertical-align: middle;\n",
       "    }\n",
       "\n",
       "    .dataframe tbody tr th {\n",
       "        vertical-align: top;\n",
       "    }\n",
       "\n",
       "    .dataframe thead th {\n",
       "        text-align: right;\n",
       "    }\n",
       "</style>\n",
       "<table border=\"1\" class=\"dataframe\">\n",
       "  <thead>\n",
       "    <tr style=\"text-align: right;\">\n",
       "      <th></th>\n",
       "      <th>tenure</th>\n",
       "      <th>MonthlyCharges</th>\n",
       "      <th>TotalCharges</th>\n",
       "      <th>Churn</th>\n",
       "    </tr>\n",
       "  </thead>\n",
       "  <tbody>\n",
       "    <tr>\n",
       "      <th>488</th>\n",
       "      <td>0</td>\n",
       "      <td>52.55</td>\n",
       "      <td></td>\n",
       "      <td>No</td>\n",
       "    </tr>\n",
       "    <tr>\n",
       "      <th>753</th>\n",
       "      <td>0</td>\n",
       "      <td>20.25</td>\n",
       "      <td></td>\n",
       "      <td>No</td>\n",
       "    </tr>\n",
       "    <tr>\n",
       "      <th>936</th>\n",
       "      <td>0</td>\n",
       "      <td>80.85</td>\n",
       "      <td></td>\n",
       "      <td>No</td>\n",
       "    </tr>\n",
       "    <tr>\n",
       "      <th>1082</th>\n",
       "      <td>0</td>\n",
       "      <td>25.75</td>\n",
       "      <td></td>\n",
       "      <td>No</td>\n",
       "    </tr>\n",
       "    <tr>\n",
       "      <th>1340</th>\n",
       "      <td>0</td>\n",
       "      <td>56.05</td>\n",
       "      <td></td>\n",
       "      <td>No</td>\n",
       "    </tr>\n",
       "    <tr>\n",
       "      <th>3331</th>\n",
       "      <td>0</td>\n",
       "      <td>19.85</td>\n",
       "      <td></td>\n",
       "      <td>No</td>\n",
       "    </tr>\n",
       "    <tr>\n",
       "      <th>3826</th>\n",
       "      <td>0</td>\n",
       "      <td>25.35</td>\n",
       "      <td></td>\n",
       "      <td>No</td>\n",
       "    </tr>\n",
       "    <tr>\n",
       "      <th>4380</th>\n",
       "      <td>0</td>\n",
       "      <td>20.00</td>\n",
       "      <td></td>\n",
       "      <td>No</td>\n",
       "    </tr>\n",
       "    <tr>\n",
       "      <th>5218</th>\n",
       "      <td>0</td>\n",
       "      <td>19.70</td>\n",
       "      <td></td>\n",
       "      <td>No</td>\n",
       "    </tr>\n",
       "    <tr>\n",
       "      <th>6670</th>\n",
       "      <td>0</td>\n",
       "      <td>73.35</td>\n",
       "      <td></td>\n",
       "      <td>No</td>\n",
       "    </tr>\n",
       "    <tr>\n",
       "      <th>6754</th>\n",
       "      <td>0</td>\n",
       "      <td>61.90</td>\n",
       "      <td></td>\n",
       "      <td>No</td>\n",
       "    </tr>\n",
       "  </tbody>\n",
       "</table>\n",
       "</div>"
      ]
     },
     "execution_count": 16,
     "metadata": {},
     "output_type": "execute_result"
    }
   ],
   "execution_count": 16
  },
  {
   "cell_type": "markdown",
   "id": "071a312b-df8f-40a2-aa9e-421a7b32654f",
   "metadata": {},
   "source": [
    "Read that as \"show me the df_churn rows at the locations where the df_churn.TotalCharges data series is equal to a space\"\n",
    "\n",
    "We can also turn that around, show me the rows where it isn't a space."
   ]
  },
  {
   "cell_type": "code",
   "id": "6111b7c3-67a4-4bc4-b817-4e805bfcb183",
   "metadata": {
    "ExecuteTime": {
     "end_time": "2025-04-10T16:05:22.306364Z",
     "start_time": "2025-04-10T16:05:22.292047Z"
    }
   },
   "source": [
    "df_churn[df_churn.TotalCharges != ' ']"
   ],
   "outputs": [
    {
     "data": {
      "text/plain": [
       "      tenure  MonthlyCharges TotalCharges Churn\n",
       "0          1           29.85        29.85    No\n",
       "1         34           56.95       1889.5    No\n",
       "2          2           53.85       108.15   Yes\n",
       "3         45           42.30      1840.75    No\n",
       "4          2           70.70       151.65   Yes\n",
       "...      ...             ...          ...   ...\n",
       "7038      24           84.80       1990.5    No\n",
       "7039      72          103.20       7362.9    No\n",
       "7040      11           29.60       346.45    No\n",
       "7041       4           74.40        306.6   Yes\n",
       "7042      66          105.65       6844.5    No\n",
       "\n",
       "[7032 rows x 4 columns]"
      ],
      "text/html": [
       "<div>\n",
       "<style scoped>\n",
       "    .dataframe tbody tr th:only-of-type {\n",
       "        vertical-align: middle;\n",
       "    }\n",
       "\n",
       "    .dataframe tbody tr th {\n",
       "        vertical-align: top;\n",
       "    }\n",
       "\n",
       "    .dataframe thead th {\n",
       "        text-align: right;\n",
       "    }\n",
       "</style>\n",
       "<table border=\"1\" class=\"dataframe\">\n",
       "  <thead>\n",
       "    <tr style=\"text-align: right;\">\n",
       "      <th></th>\n",
       "      <th>tenure</th>\n",
       "      <th>MonthlyCharges</th>\n",
       "      <th>TotalCharges</th>\n",
       "      <th>Churn</th>\n",
       "    </tr>\n",
       "  </thead>\n",
       "  <tbody>\n",
       "    <tr>\n",
       "      <th>0</th>\n",
       "      <td>1</td>\n",
       "      <td>29.85</td>\n",
       "      <td>29.85</td>\n",
       "      <td>No</td>\n",
       "    </tr>\n",
       "    <tr>\n",
       "      <th>1</th>\n",
       "      <td>34</td>\n",
       "      <td>56.95</td>\n",
       "      <td>1889.5</td>\n",
       "      <td>No</td>\n",
       "    </tr>\n",
       "    <tr>\n",
       "      <th>2</th>\n",
       "      <td>2</td>\n",
       "      <td>53.85</td>\n",
       "      <td>108.15</td>\n",
       "      <td>Yes</td>\n",
       "    </tr>\n",
       "    <tr>\n",
       "      <th>3</th>\n",
       "      <td>45</td>\n",
       "      <td>42.30</td>\n",
       "      <td>1840.75</td>\n",
       "      <td>No</td>\n",
       "    </tr>\n",
       "    <tr>\n",
       "      <th>4</th>\n",
       "      <td>2</td>\n",
       "      <td>70.70</td>\n",
       "      <td>151.65</td>\n",
       "      <td>Yes</td>\n",
       "    </tr>\n",
       "    <tr>\n",
       "      <th>...</th>\n",
       "      <td>...</td>\n",
       "      <td>...</td>\n",
       "      <td>...</td>\n",
       "      <td>...</td>\n",
       "    </tr>\n",
       "    <tr>\n",
       "      <th>7038</th>\n",
       "      <td>24</td>\n",
       "      <td>84.80</td>\n",
       "      <td>1990.5</td>\n",
       "      <td>No</td>\n",
       "    </tr>\n",
       "    <tr>\n",
       "      <th>7039</th>\n",
       "      <td>72</td>\n",
       "      <td>103.20</td>\n",
       "      <td>7362.9</td>\n",
       "      <td>No</td>\n",
       "    </tr>\n",
       "    <tr>\n",
       "      <th>7040</th>\n",
       "      <td>11</td>\n",
       "      <td>29.60</td>\n",
       "      <td>346.45</td>\n",
       "      <td>No</td>\n",
       "    </tr>\n",
       "    <tr>\n",
       "      <th>7041</th>\n",
       "      <td>4</td>\n",
       "      <td>74.40</td>\n",
       "      <td>306.6</td>\n",
       "      <td>Yes</td>\n",
       "    </tr>\n",
       "    <tr>\n",
       "      <th>7042</th>\n",
       "      <td>66</td>\n",
       "      <td>105.65</td>\n",
       "      <td>6844.5</td>\n",
       "      <td>No</td>\n",
       "    </tr>\n",
       "  </tbody>\n",
       "</table>\n",
       "<p>7032 rows × 4 columns</p>\n",
       "</div>"
      ]
     },
     "execution_count": 19,
     "metadata": {},
     "output_type": "execute_result"
    }
   ],
   "execution_count": 19
  },
  {
   "cell_type": "markdown",
   "id": "452b3283-eb97-4628-b3ce-7d435c939985",
   "metadata": {},
   "source": [
    "And that's the dataframe we really want to have, so let's replace the `df_churn` dataframe with that dataframe that doesn't have any spaces in it."
   ]
  },
  {
   "cell_type": "code",
   "id": "5579c932-179e-4610-84bd-9b6baa0c1b01",
   "metadata": {
    "ExecuteTime": {
     "end_time": "2025-04-10T16:05:23.866555Z",
     "start_time": "2025-04-10T16:05:23.857376Z"
    }
   },
   "source": [
    "df_churn = df_churn[df_churn.TotalCharges != ' ']"
   ],
   "outputs": [],
   "execution_count": 20
  },
  {
   "cell_type": "markdown",
   "id": "53ec95b2-f4aa-4a26-856a-a2a0da0ff8d2",
   "metadata": {},
   "source": [
    "Unfortunately, it remembers that `df_churn` wasn't 100% numeric. It doesn't know that we've removed all the non-numeric data.\n",
    "\n",
    "We can see this when we use the `.dtypes` attribute to show us the *types* of each column."
   ]
  },
  {
   "cell_type": "code",
   "id": "b76233e4-ef6b-4880-967b-d3f762bcfeca",
   "metadata": {
    "ExecuteTime": {
     "end_time": "2025-04-10T16:05:25.085385Z",
     "start_time": "2025-04-10T16:05:25.076416Z"
    }
   },
   "source": [
    "df_churn.dtypes"
   ],
   "outputs": [
    {
     "data": {
      "text/plain": [
       "tenure              int64\n",
       "MonthlyCharges    float64\n",
       "TotalCharges       object\n",
       "Churn              object\n",
       "dtype: object"
      ]
     },
     "execution_count": 21,
     "metadata": {},
     "output_type": "execute_result"
    }
   ],
   "execution_count": 21
  },
  {
   "cell_type": "markdown",
   "id": "6367fe56-b175-42f5-b94f-33fc47621b96",
   "metadata": {},
   "source": [
    "So we need to convert `TotalCharges` to being numeric. There is a pandas function called `to_numeric` that does this. It takes a Series as an argument, and returns a Series."
   ]
  },
  {
   "cell_type": "code",
   "id": "d2b11472-a139-4897-8b9a-5bcf7ef4f6a7",
   "metadata": {
    "ExecuteTime": {
     "end_time": "2025-04-10T16:05:26.374010Z",
     "start_time": "2025-04-10T16:05:26.358594Z"
    }
   },
   "source": [
    "pd.to_numeric(df_churn.TotalCharges)"
   ],
   "outputs": [
    {
     "data": {
      "text/plain": [
       "0         29.85\n",
       "1       1889.50\n",
       "2        108.15\n",
       "3       1840.75\n",
       "4        151.65\n",
       "         ...   \n",
       "7038    1990.50\n",
       "7039    7362.90\n",
       "7040     346.45\n",
       "7041     306.60\n",
       "7042    6844.50\n",
       "Name: TotalCharges, Length: 7032, dtype: float64"
      ]
     },
     "execution_count": 22,
     "metadata": {},
     "output_type": "execute_result"
    }
   ],
   "execution_count": 22
  },
  {
   "cell_type": "markdown",
   "id": "2b954fc6-ac90-4461-b37c-1aab8e3f7ef5",
   "metadata": {},
   "source": [
    "Let's set the `TotalCharges` column to being the numeric version of it."
   ]
  },
  {
   "cell_type": "code",
   "id": "e1510362-470c-40bd-bb20-32ce62260089",
   "metadata": {
    "ExecuteTime": {
     "end_time": "2025-04-10T16:05:32.460261Z",
     "start_time": "2025-04-10T16:05:32.444426Z"
    }
   },
   "source": [
    "df_churn.TotalCharges = pd.to_numeric(df_churn.TotalCharges)"
   ],
   "outputs": [],
   "execution_count": 23
  },
  {
   "cell_type": "markdown",
   "id": "ddcc040b-f248-4e28-9b0e-ba54d1937018",
   "metadata": {},
   "source": [
    "## 🟢 **5. Split Data into Training and Test Sets**\n",
    "\n",
    "We must always evaluate our model on data it hasn't \"seen\" yet. That's why we split our data.\n",
    "\n",
    "Split the data into a training set, a validation set and a test set. Use `.shape` to confirm the sizes each of these."
   ]
  },
  {
   "cell_type": "code",
   "id": "c8eee92c-c626-4d21-af77-add5bc38a300",
   "metadata": {
    "ExecuteTime": {
     "end_time": "2025-04-10T16:05:33.904168Z",
     "start_time": "2025-04-10T16:05:33.884930Z"
    }
   },
   "source": [
    "train, temp = train_test_split(df_churn, test_size=0.4, random_state=42)\n",
    "validation, test = train_test_split(temp, test_size=0.5, random_state=42)\n",
    "train.shape, validation.shape, test.shape"
   ],
   "outputs": [
    {
     "data": {
      "text/plain": [
       "((4219, 4), (1406, 4), (1407, 4))"
      ]
     },
     "execution_count": 24,
     "metadata": {},
     "output_type": "execute_result"
    }
   ],
   "execution_count": 24
  },
  {
   "cell_type": "markdown",
   "id": "761981c8-36e8-486e-a36a-edbc17730afc",
   "metadata": {},
   "source": [
    "What are the ranges of the features we are using for training? Dataframes have a `.describe()` method you can use."
   ]
  },
  {
   "cell_type": "code",
   "id": "99751810-1052-4b5e-a908-0e0466d0a2b0",
   "metadata": {
    "ExecuteTime": {
     "end_time": "2025-04-10T16:05:35.010417Z",
     "start_time": "2025-04-10T16:05:34.999316Z"
    }
   },
   "source": "train.tenure.describe()",
   "outputs": [
    {
     "data": {
      "text/plain": [
       "count    4219.000000\n",
       "mean       32.141266\n",
       "std        24.596477\n",
       "min         1.000000\n",
       "25%         8.000000\n",
       "50%        28.000000\n",
       "75%        55.000000\n",
       "max        72.000000\n",
       "Name: tenure, dtype: float64"
      ]
     },
     "execution_count": 25,
     "metadata": {},
     "output_type": "execute_result"
    }
   ],
   "execution_count": 25
  },
  {
   "cell_type": "markdown",
   "id": "5e50dc3c-3749-4780-a8fc-16f4412f2de0",
   "metadata": {},
   "source": [
    "Let's visualise the histogram of these columns with `.plot.hist()`"
   ]
  },
  {
   "cell_type": "code",
   "id": "9fc9cf13-2f41-48c0-ba02-48ebc2a98590",
   "metadata": {
    "ExecuteTime": {
     "end_time": "2025-04-10T16:05:36.663306Z",
     "start_time": "2025-04-10T16:05:36.483172Z"
    }
   },
   "source": "train.tenure.plot.hist()",
   "outputs": [
    {
     "data": {
      "text/plain": [
       "<Axes: ylabel='Frequency'>"
      ]
     },
     "execution_count": 26,
     "metadata": {},
     "output_type": "execute_result"
    },
    {
     "data": {
      "text/plain": [
       "<Figure size 640x480 with 1 Axes>"
      ],
      "image/png": "[encoded data removed]"
     },
     "metadata": {},
     "output_type": "display_data"
    }
   ],
   "execution_count": 26
  },
  {
   "cell_type": "code",
   "id": "a71d3a2f-4f8b-4465-9942-84ac843cddd0",
   "metadata": {
    "ExecuteTime": {
     "end_time": "2025-04-10T16:05:37.704602Z",
     "start_time": "2025-04-10T16:05:37.582021Z"
    }
   },
   "source": "train.MonthlyCharges.plot.hist()",
   "outputs": [
    {
     "data": {
      "text/plain": [
       "<Axes: ylabel='Frequency'>"
      ]
     },
     "execution_count": 27,
     "metadata": {},
     "output_type": "execute_result"
    },
    {
     "data": {
      "text/plain": [
       "<Figure size 640x480 with 1 Axes>"
      ],
      "image/png": "[encoded data removed]"
     },
     "metadata": {},
     "output_type": "display_data"
    }
   ],
   "execution_count": 27
  },
  {
   "metadata": {
    "ExecuteTime": {
     "end_time": "2025-04-10T16:05:38.921529Z",
     "start_time": "2025-04-10T16:05:38.803404Z"
    }
   },
   "cell_type": "code",
   "source": "train.TotalCharges.plot.hist()",
   "id": "7fb37ae6e491172c",
   "outputs": [
    {
     "data": {
      "text/plain": [
       "<Axes: ylabel='Frequency'>"
      ]
     },
     "execution_count": 28,
     "metadata": {},
     "output_type": "execute_result"
    },
    {
     "data": {
      "text/plain": [
       "<Figure size 640x480 with 1 Axes>"
      ],
      "image/png": "[encoded data removed]"
     },
     "metadata": {},
     "output_type": "display_data"
    }
   ],
   "execution_count": 28
  },
  {
   "cell_type": "markdown",
   "id": "7ad80629-d449-4dd1-b68b-01e4b94cabb3",
   "metadata": {},
   "source": [
    "## 🟢 **6. Establish a baseline**\n",
    "\n",
    "We often want to compare out results against a simple baseline -- if we assume everyone is not going to churn (which is the most\n",
    "common case). Create a `DummyClassifier` using the \"most_frequent\" strategy), and run inference on the validation data (\"run inference\" means \"make predictions\").\n",
    "\n",
    "It really doesn't matter all that much whether you use the validation or test data to evaluate it since it doesn't pay any \n",
    "attention to the data it is given, as you will see if you look at the predictions."
   ]
  },
  {
   "cell_type": "code",
   "id": "5c1a55f9-c402-4261-8521-efe9c1114982",
   "metadata": {
    "ExecuteTime": {
     "end_time": "2025-04-10T16:05:40.699947Z",
     "start_time": "2025-04-10T16:05:40.689844Z"
    }
   },
   "source": [
    "dummy = sklearn.dummy.DummyClassifier(strategy='most_frequent')\n",
    "dummy.fit(train[['tenure', 'MonthlyCharges', 'TotalCharges']], train.Churn)\n",
    "dummy_validation_pred = dummy.predict(validation[['tenure', 'MonthlyCharges', 'TotalCharges']])\n",
    "dummy_validation_pred"
   ],
   "outputs": [
    {
     "data": {
      "text/plain": [
       "array(['No', 'No', 'No', ..., 'No', 'No', 'No'],\n",
       "      shape=(1406,), dtype='<U2')"
      ]
     },
     "execution_count": 29,
     "metadata": {},
     "output_type": "execute_result"
    }
   ],
   "execution_count": 29
  },
  {
   "cell_type": "markdown",
   "id": "f63b306b-d9a4-4a3a-b46e-c3dc6d2b4a09",
   "metadata": {},
   "source": [
    "Measure how well it works: give an accuracy score, a confusion matrix and a classification report."
   ]
  },
  {
   "cell_type": "code",
   "id": "a34dcdff-0634-4481-9ade-13d7a50fb39d",
   "metadata": {
    "ExecuteTime": {
     "end_time": "2025-04-10T16:05:41.987598Z",
     "start_time": "2025-04-10T16:05:41.980665Z"
    }
   },
   "source": "sklearn.metrics.accuracy_score(validation.Churn, dummy_validation_pred)",
   "outputs": [
    {
     "data": {
      "text/plain": [
       "0.7354196301564723"
      ]
     },
     "execution_count": 30,
     "metadata": {},
     "output_type": "execute_result"
    }
   ],
   "execution_count": 30
  },
  {
   "cell_type": "code",
   "id": "d511bb1f-c3c0-43c0-ac81-052d7377b671",
   "metadata": {
    "ExecuteTime": {
     "end_time": "2025-04-10T16:05:42.704402Z",
     "start_time": "2025-04-10T16:05:42.688327Z"
    }
   },
   "source": "sklearn.metrics.confusion_matrix(validation.Churn, dummy_validation_pred)",
   "outputs": [
    {
     "data": {
      "text/plain": [
       "array([[1034,    0],\n",
       "       [ 372,    0]])"
      ]
     },
     "execution_count": 31,
     "metadata": {},
     "output_type": "execute_result"
    }
   ],
   "execution_count": 31
  },
  {
   "cell_type": "code",
   "id": "199fac9d-f5c3-42f5-9701-bb91c05460fa",
   "metadata": {
    "ExecuteTime": {
     "end_time": "2025-04-10T16:05:43.717615Z",
     "start_time": "2025-04-10T16:05:43.693295Z"
    }
   },
   "source": "print(sklearn.metrics.classification_report(validation.Churn, dummy_validation_pred))",
   "outputs": [
    {
     "name": "stdout",
     "output_type": "stream",
     "text": [
      "              precision    recall  f1-score   support\n",
      "\n",
      "          No       0.74      1.00      0.85      1034\n",
      "         Yes       0.00      0.00      0.00       372\n",
      "\n",
      "    accuracy                           0.74      1406\n",
      "   macro avg       0.37      0.50      0.42      1406\n",
      "weighted avg       0.54      0.74      0.62      1406\n",
      "\n"
     ]
    },
    {
     "name": "stderr",
     "output_type": "stream",
     "text": [
      "P:\\OneDrive - Macquarie University\\Master's Program\\Master UNit guide\\COMP6200 - Data Science\\WorkShop\\data-science-backup\\.venv\\Lib\\site-packages\\sklearn\\metrics\\_classification.py:1565: UndefinedMetricWarning: Precision is ill-defined and being set to 0.0 in labels with no predicted samples. Use `zero_division` parameter to control this behavior.\n",
      "  _warn_prf(average, modifier, f\"{metric.capitalize()} is\", len(result))\n",
      "P:\\OneDrive - Macquarie University\\Master's Program\\Master UNit guide\\COMP6200 - Data Science\\WorkShop\\data-science-backup\\.venv\\Lib\\site-packages\\sklearn\\metrics\\_classification.py:1565: UndefinedMetricWarning: Precision is ill-defined and being set to 0.0 in labels with no predicted samples. Use `zero_division` parameter to control this behavior.\n",
      "  _warn_prf(average, modifier, f\"{metric.capitalize()} is\", len(result))\n",
      "P:\\OneDrive - Macquarie University\\Master's Program\\Master UNit guide\\COMP6200 - Data Science\\WorkShop\\data-science-backup\\.venv\\Lib\\site-packages\\sklearn\\metrics\\_classification.py:1565: UndefinedMetricWarning: Precision is ill-defined and being set to 0.0 in labels with no predicted samples. Use `zero_division` parameter to control this behavior.\n",
      "  _warn_prf(average, modifier, f\"{metric.capitalize()} is\", len(result))\n"
     ]
    }
   ],
   "execution_count": 32
  },
  {
   "cell_type": "markdown",
   "id": "a36b4f0c-a09c-4799-9d87-15c8c988d413",
   "metadata": {},
   "source": [
    "## 🟢 **7. What happens if we don't scale the data?**\n",
    "\n",
    "Each feature has quite a different scale, so whichever feature is the smallest is the one that will have the most impact on the result.\n",
    "\n",
    "Let's look at that. Let’s classify customer churn using **KNearestNeighborsClassifier**. Try with `n_neighbors=1`"
   ]
  },
  {
   "cell_type": "code",
   "id": "bf8b10d9-b062-4ff7-82ac-b07ebefe65d7",
   "metadata": {
    "ExecuteTime": {
     "end_time": "2025-04-10T16:05:45.181785Z",
     "start_time": "2025-04-10T16:05:45.163406Z"
    }
   },
   "source": [
    "\n",
    "knn = sklearn.neighbors.KNeighborsClassifier(n_neighbors=5)\n",
    "knn.fit(train[['tenure', 'MonthlyCharges', 'TotalCharges']], train.Churn)"
   ],
   "outputs": [
    {
     "data": {
      "text/plain": [
       "KNeighborsClassifier()"
      ],
      "text/html": [
       "<style>#sk-container-id-1 {\n",
       "  /* Definition of color scheme common for light and dark mode */\n",
       "  --sklearn-color-text: #000;\n",
       "  --sklearn-color-text-muted: #666;\n",
       "  --sklearn-color-line: gray;\n",
       "  /* Definition of color scheme for unfitted estimators */\n",
       "  --sklearn-color-unfitted-level-0: #fff5e6;\n",
       "  --sklearn-color-unfitted-level-1: #f6e4d2;\n",
       "  --sklearn-color-unfitted-level-2: #ffe0b3;\n",
       "  --sklearn-color-unfitted-level-3: chocolate;\n",
       "  /* Definition of color scheme for fitted estimators */\n",
       "  --sklearn-color-fitted-level-0: #f0f8ff;\n",
       "  --sklearn-color-fitted-level-1: #d4ebff;\n",
       "  --sklearn-color-fitted-level-2: #b3dbfd;\n",
       "  --sklearn-color-fitted-level-3: cornflowerblue;\n",
       "\n",
       "  /* Specific color for light theme */\n",
       "  --sklearn-color-text-on-default-background: var(--sg-text-color, var(--theme-code-foreground, var(--jp-content-font-color1, black)));\n",
       "  --sklearn-color-background: var(--sg-background-color, var(--theme-background, var(--jp-layout-color0, white)));\n",
       "  --sklearn-color-border-box: var(--sg-text-color, var(--theme-code-foreground, var(--jp-content-font-color1, black)));\n",
       "  --sklearn-color-icon: #696969;\n",
       "\n",
       "  @media (prefers-color-scheme: dark) {\n",
       "    /* Redefinition of color scheme for dark theme */\n",
       "    --sklearn-color-text-on-default-background: var(--sg-text-color, var(--theme-code-foreground, var(--jp-content-font-color1, white)));\n",
       "    --sklearn-color-background: var(--sg-background-color, var(--theme-background, var(--jp-layout-color0, #111)));\n",
       "    --sklearn-color-border-box: var(--sg-text-color, var(--theme-code-foreground, var(--jp-content-font-color1, white)));\n",
       "    --sklearn-color-icon: #878787;\n",
       "  }\n",
       "}\n",
       "\n",
       "#sk-container-id-1 {\n",
       "  color: var(--sklearn-color-text);\n",
       "}\n",
       "\n",
       "#sk-container-id-1 pre {\n",
       "  padding: 0;\n",
       "}\n",
       "\n",
       "#sk-container-id-1 input.sk-hidden--visually {\n",
       "  border: 0;\n",
       "  clip: rect(1px 1px 1px 1px);\n",
       "  clip: rect(1px, 1px, 1px, 1px);\n",
       "  height: 1px;\n",
       "  margin: -1px;\n",
       "  overflow: hidden;\n",
       "  padding: 0;\n",
       "  position: absolute;\n",
       "  width: 1px;\n",
       "}\n",
       "\n",
       "#sk-container-id-1 div.sk-dashed-wrapped {\n",
       "  border: 1px dashed var(--sklearn-color-line);\n",
       "  margin: 0 0.4em 0.5em 0.4em;\n",
       "  box-sizing: border-box;\n",
       "  padding-bottom: 0.4em;\n",
       "  background-color: var(--sklearn-color-background);\n",
       "}\n",
       "\n",
       "#sk-container-id-1 div.sk-container {\n",
       "  /* jupyter's `normalize.less` sets `[hidden] { display: none; }`\n",
       "     but bootstrap.min.css set `[hidden] { display: none !important; }`\n",
       "     so we also need the `!important` here to be able to override the\n",
       "     default hidden behavior on the sphinx rendered scikit-learn.org.\n",
       "     See: https://github.com/scikit-learn/scikit-learn/issues/21755 */\n",
       "  display: inline-block !important;\n",
       "  position: relative;\n",
       "}\n",
       "\n",
       "#sk-container-id-1 div.sk-text-repr-fallback {\n",
       "  display: none;\n",
       "}\n",
       "\n",
       "div.sk-parallel-item,\n",
       "div.sk-serial,\n",
       "div.sk-item {\n",
       "  /* draw centered vertical line to link estimators */\n",
       "  background-image: linear-gradient(var(--sklearn-color-text-on-default-background), var(--sklearn-color-text-on-default-background));\n",
       "  background-size: 2px 100%;\n",
       "  background-repeat: no-repeat;\n",
       "  background-position: center center;\n",
       "}\n",
       "\n",
       "/* Parallel-specific style estimator block */\n",
       "\n",
       "#sk-container-id-1 div.sk-parallel-item::after {\n",
       "  content: \"\";\n",
       "  width: 100%;\n",
       "  border-bottom: 2px solid var(--sklearn-color-text-on-default-background);\n",
       "  flex-grow: 1;\n",
       "}\n",
       "\n",
       "#sk-container-id-1 div.sk-parallel {\n",
       "  display: flex;\n",
       "  align-items: stretch;\n",
       "  justify-content: center;\n",
       "  background-color: var(--sklearn-color-background);\n",
       "  position: relative;\n",
       "}\n",
       "\n",
       "#sk-container-id-1 div.sk-parallel-item {\n",
       "  display: flex;\n",
       "  flex-direction: column;\n",
       "}\n",
       "\n",
       "#sk-container-id-1 div.sk-parallel-item:first-child::after {\n",
       "  align-self: flex-end;\n",
       "  width: 50%;\n",
       "}\n",
       "\n",
       "#sk-container-id-1 div.sk-parallel-item:last-child::after {\n",
       "  align-self: flex-start;\n",
       "  width: 50%;\n",
       "}\n",
       "\n",
       "#sk-container-id-1 div.sk-parallel-item:only-child::after {\n",
       "  width: 0;\n",
       "}\n",
       "\n",
       "/* Serial-specific style estimator block */\n",
       "\n",
       "#sk-container-id-1 div.sk-serial {\n",
       "  display: flex;\n",
       "  flex-direction: column;\n",
       "  align-items: center;\n",
       "  background-color: var(--sklearn-color-background);\n",
       "  padding-right: 1em;\n",
       "  padding-left: 1em;\n",
       "}\n",
       "\n",
       "\n",
       "/* Toggleable style: style used for estimator/Pipeline/ColumnTransformer box that is\n",
       "clickable and can be expanded/collapsed.\n",
       "- Pipeline and ColumnTransformer use this feature and define the default style\n",
       "- Estimators will overwrite some part of the style using the `sk-estimator` class\n",
       "*/\n",
       "\n",
       "/* Pipeline and ColumnTransformer style (default) */\n",
       "\n",
       "#sk-container-id-1 div.sk-toggleable {\n",
       "  /* Default theme specific background. It is overwritten whether we have a\n",
       "  specific estimator or a Pipeline/ColumnTransformer */\n",
       "  background-color: var(--sklearn-color-background);\n",
       "}\n",
       "\n",
       "/* Toggleable label */\n",
       "#sk-container-id-1 label.sk-toggleable__label {\n",
       "  cursor: pointer;\n",
       "  display: flex;\n",
       "  width: 100%;\n",
       "  margin-bottom: 0;\n",
       "  padding: 0.5em;\n",
       "  box-sizing: border-box;\n",
       "  text-align: center;\n",
       "  align-items: start;\n",
       "  justify-content: space-between;\n",
       "  gap: 0.5em;\n",
       "}\n",
       "\n",
       "#sk-container-id-1 label.sk-toggleable__label .caption {\n",
       "  font-size: 0.6rem;\n",
       "  font-weight: lighter;\n",
       "  color: var(--sklearn-color-text-muted);\n",
       "}\n",
       "\n",
       "#sk-container-id-1 label.sk-toggleable__label-arrow:before {\n",
       "  /* Arrow on the left of the label */\n",
       "  content: \"▸\";\n",
       "  float: left;\n",
       "  margin-right: 0.25em;\n",
       "  color: var(--sklearn-color-icon);\n",
       "}\n",
       "\n",
       "#sk-container-id-1 label.sk-toggleable__label-arrow:hover:before {\n",
       "  color: var(--sklearn-color-text);\n",
       "}\n",
       "\n",
       "/* Toggleable content - dropdown */\n",
       "\n",
       "#sk-container-id-1 div.sk-toggleable__content {\n",
       "  max-height: 0;\n",
       "  max-width: 0;\n",
       "  overflow: hidden;\n",
       "  text-align: left;\n",
       "  /* unfitted */\n",
       "  background-color: var(--sklearn-color-unfitted-level-0);\n",
       "}\n",
       "\n",
       "#sk-container-id-1 div.sk-toggleable__content.fitted {\n",
       "  /* fitted */\n",
       "  background-color: var(--sklearn-color-fitted-level-0);\n",
       "}\n",
       "\n",
       "#sk-container-id-1 div.sk-toggleable__content pre {\n",
       "  margin: 0.2em;\n",
       "  border-radius: 0.25em;\n",
       "  color: var(--sklearn-color-text);\n",
       "  /* unfitted */\n",
       "  background-color: var(--sklearn-color-unfitted-level-0);\n",
       "}\n",
       "\n",
       "#sk-container-id-1 div.sk-toggleable__content.fitted pre {\n",
       "  /* unfitted */\n",
       "  background-color: var(--sklearn-color-fitted-level-0);\n",
       "}\n",
       "\n",
       "#sk-container-id-1 input.sk-toggleable__control:checked~div.sk-toggleable__content {\n",
       "  /* Expand drop-down */\n",
       "  max-height: 200px;\n",
       "  max-width: 100%;\n",
       "  overflow: auto;\n",
       "}\n",
       "\n",
       "#sk-container-id-1 input.sk-toggleable__control:checked~label.sk-toggleable__label-arrow:before {\n",
       "  content: \"▾\";\n",
       "}\n",
       "\n",
       "/* Pipeline/ColumnTransformer-specific style */\n",
       "\n",
       "#sk-container-id-1 div.sk-label input.sk-toggleable__control:checked~label.sk-toggleable__label {\n",
       "  color: var(--sklearn-color-text);\n",
       "  background-color: var(--sklearn-color-unfitted-level-2);\n",
       "}\n",
       "\n",
       "#sk-container-id-1 div.sk-label.fitted input.sk-toggleable__control:checked~label.sk-toggleable__label {\n",
       "  background-color: var(--sklearn-color-fitted-level-2);\n",
       "}\n",
       "\n",
       "/* Estimator-specific style */\n",
       "\n",
       "/* Colorize estimator box */\n",
       "#sk-container-id-1 div.sk-estimator input.sk-toggleable__control:checked~label.sk-toggleable__label {\n",
       "  /* unfitted */\n",
       "  background-color: var(--sklearn-color-unfitted-level-2);\n",
       "}\n",
       "\n",
       "#sk-container-id-1 div.sk-estimator.fitted input.sk-toggleable__control:checked~label.sk-toggleable__label {\n",
       "  /* fitted */\n",
       "  background-color: var(--sklearn-color-fitted-level-2);\n",
       "}\n",
       "\n",
       "#sk-container-id-1 div.sk-label label.sk-toggleable__label,\n",
       "#sk-container-id-1 div.sk-label label {\n",
       "  /* The background is the default theme color */\n",
       "  color: var(--sklearn-color-text-on-default-background);\n",
       "}\n",
       "\n",
       "/* On hover, darken the color of the background */\n",
       "#sk-container-id-1 div.sk-label:hover label.sk-toggleable__label {\n",
       "  color: var(--sklearn-color-text);\n",
       "  background-color: var(--sklearn-color-unfitted-level-2);\n",
       "}\n",
       "\n",
       "/* Label box, darken color on hover, fitted */\n",
       "#sk-container-id-1 div.sk-label.fitted:hover label.sk-toggleable__label.fitted {\n",
       "  color: var(--sklearn-color-text);\n",
       "  background-color: var(--sklearn-color-fitted-level-2);\n",
       "}\n",
       "\n",
       "/* Estimator label */\n",
       "\n",
       "#sk-container-id-1 div.sk-label label {\n",
       "  font-family: monospace;\n",
       "  font-weight: bold;\n",
       "  display: inline-block;\n",
       "  line-height: 1.2em;\n",
       "}\n",
       "\n",
       "#sk-container-id-1 div.sk-label-container {\n",
       "  text-align: center;\n",
       "}\n",
       "\n",
       "/* Estimator-specific */\n",
       "#sk-container-id-1 div.sk-estimator {\n",
       "  font-family: monospace;\n",
       "  border: 1px dotted var(--sklearn-color-border-box);\n",
       "  border-radius: 0.25em;\n",
       "  box-sizing: border-box;\n",
       "  margin-bottom: 0.5em;\n",
       "  /* unfitted */\n",
       "  background-color: var(--sklearn-color-unfitted-level-0);\n",
       "}\n",
       "\n",
       "#sk-container-id-1 div.sk-estimator.fitted {\n",
       "  /* fitted */\n",
       "  background-color: var(--sklearn-color-fitted-level-0);\n",
       "}\n",
       "\n",
       "/* on hover */\n",
       "#sk-container-id-1 div.sk-estimator:hover {\n",
       "  /* unfitted */\n",
       "  background-color: var(--sklearn-color-unfitted-level-2);\n",
       "}\n",
       "\n",
       "#sk-container-id-1 div.sk-estimator.fitted:hover {\n",
       "  /* fitted */\n",
       "  background-color: var(--sklearn-color-fitted-level-2);\n",
       "}\n",
       "\n",
       "/* Specification for estimator info (e.g. \"i\" and \"?\") */\n",
       "\n",
       "/* Common style for \"i\" and \"?\" */\n",
       "\n",
       ".sk-estimator-doc-link,\n",
       "a:link.sk-estimator-doc-link,\n",
       "a:visited.sk-estimator-doc-link {\n",
       "  float: right;\n",
       "  font-size: smaller;\n",
       "  line-height: 1em;\n",
       "  font-family: monospace;\n",
       "  background-color: var(--sklearn-color-background);\n",
       "  border-radius: 1em;\n",
       "  height: 1em;\n",
       "  width: 1em;\n",
       "  text-decoration: none !important;\n",
       "  margin-left: 0.5em;\n",
       "  text-align: center;\n",
       "  /* unfitted */\n",
       "  border: var(--sklearn-color-unfitted-level-1) 1pt solid;\n",
       "  color: var(--sklearn-color-unfitted-level-1);\n",
       "}\n",
       "\n",
       ".sk-estimator-doc-link.fitted,\n",
       "a:link.sk-estimator-doc-link.fitted,\n",
       "a:visited.sk-estimator-doc-link.fitted {\n",
       "  /* fitted */\n",
       "  border: var(--sklearn-color-fitted-level-1) 1pt solid;\n",
       "  color: var(--sklearn-color-fitted-level-1);\n",
       "}\n",
       "\n",
       "/* On hover */\n",
       "div.sk-estimator:hover .sk-estimator-doc-link:hover,\n",
       ".sk-estimator-doc-link:hover,\n",
       "div.sk-label-container:hover .sk-estimator-doc-link:hover,\n",
       ".sk-estimator-doc-link:hover {\n",
       "  /* unfitted */\n",
       "  background-color: var(--sklearn-color-unfitted-level-3);\n",
       "  color: var(--sklearn-color-background);\n",
       "  text-decoration: none;\n",
       "}\n",
       "\n",
       "div.sk-estimator.fitted:hover .sk-estimator-doc-link.fitted:hover,\n",
       ".sk-estimator-doc-link.fitted:hover,\n",
       "div.sk-label-container:hover .sk-estimator-doc-link.fitted:hover,\n",
       ".sk-estimator-doc-link.fitted:hover {\n",
       "  /* fitted */\n",
       "  background-color: var(--sklearn-color-fitted-level-3);\n",
       "  color: var(--sklearn-color-background);\n",
       "  text-decoration: none;\n",
       "}\n",
       "\n",
       "/* Span, style for the box shown on hovering the info icon */\n",
       ".sk-estimator-doc-link span {\n",
       "  display: none;\n",
       "  z-index: 9999;\n",
       "  position: relative;\n",
       "  font-weight: normal;\n",
       "  right: .2ex;\n",
       "  padding: .5ex;\n",
       "  margin: .5ex;\n",
       "  width: min-content;\n",
       "  min-width: 20ex;\n",
       "  max-width: 50ex;\n",
       "  color: var(--sklearn-color-text);\n",
       "  box-shadow: 2pt 2pt 4pt #999;\n",
       "  /* unfitted */\n",
       "  background: var(--sklearn-color-unfitted-level-0);\n",
       "  border: .5pt solid var(--sklearn-color-unfitted-level-3);\n",
       "}\n",
       "\n",
       ".sk-estimator-doc-link.fitted span {\n",
       "  /* fitted */\n",
       "  background: var(--sklearn-color-fitted-level-0);\n",
       "  border: var(--sklearn-color-fitted-level-3);\n",
       "}\n",
       "\n",
       ".sk-estimator-doc-link:hover span {\n",
       "  display: block;\n",
       "}\n",
       "\n",
       "/* \"?\"-specific style due to the `<a>` HTML tag */\n",
       "\n",
       "#sk-container-id-1 a.estimator_doc_link {\n",
       "  float: right;\n",
       "  font-size: 1rem;\n",
       "  line-height: 1em;\n",
       "  font-family: monospace;\n",
       "  background-color: var(--sklearn-color-background);\n",
       "  border-radius: 1rem;\n",
       "  height: 1rem;\n",
       "  width: 1rem;\n",
       "  text-decoration: none;\n",
       "  /* unfitted */\n",
       "  color: var(--sklearn-color-unfitted-level-1);\n",
       "  border: var(--sklearn-color-unfitted-level-1) 1pt solid;\n",
       "}\n",
       "\n",
       "#sk-container-id-1 a.estimator_doc_link.fitted {\n",
       "  /* fitted */\n",
       "  border: var(--sklearn-color-fitted-level-1) 1pt solid;\n",
       "  color: var(--sklearn-color-fitted-level-1);\n",
       "}\n",
       "\n",
       "/* On hover */\n",
       "#sk-container-id-1 a.estimator_doc_link:hover {\n",
       "  /* unfitted */\n",
       "  background-color: var(--sklearn-color-unfitted-level-3);\n",
       "  color: var(--sklearn-color-background);\n",
       "  text-decoration: none;\n",
       "}\n",
       "\n",
       "#sk-container-id-1 a.estimator_doc_link.fitted:hover {\n",
       "  /* fitted */\n",
       "  background-color: var(--sklearn-color-fitted-level-3);\n",
       "}\n",
       "</style><div id=\"sk-container-id-1\" class=\"sk-top-container\"><div class=\"sk-text-repr-fallback\"><pre>KNeighborsClassifier()</pre><b>In a Jupyter environment, please rerun this cell to show the HTML representation or trust the notebook. <br />On GitHub, the HTML representation is unable to render, please try loading this page with nbviewer.org.</b></div><div class=\"sk-container\" hidden><div class=\"sk-item\"><div class=\"sk-estimator fitted sk-toggleable\"><input class=\"sk-toggleable__control sk-hidden--visually\" id=\"sk-estimator-id-1\" type=\"checkbox\" checked><label for=\"sk-estimator-id-1\" class=\"sk-toggleable__label fitted sk-toggleable__label-arrow\"><div><div>KNeighborsClassifier</div></div><div><a class=\"sk-estimator-doc-link fitted\" rel=\"noreferrer\" target=\"_blank\" href=\"https://scikit-learn.org/1.6/modules/generated/sklearn.neighbors.KNeighborsClassifier.html\">?<span>Documentation for KNeighborsClassifier</span></a><span class=\"sk-estimator-doc-link fitted\">i<span>Fitted</span></span></div></label><div class=\"sk-toggleable__content fitted\"><pre>KNeighborsClassifier()</pre></div> </div></div></div></div>"
      ]
     },
     "execution_count": 33,
     "metadata": {},
     "output_type": "execute_result"
    }
   ],
   "execution_count": 33
  },
  {
   "cell_type": "markdown",
   "id": "9ef54093-e47c-4ed4-80e7-e2d6795b334a",
   "metadata": {},
   "source": [
    "Predict the data in the validation set"
   ]
  },
  {
   "cell_type": "code",
   "id": "5359fc70-c7d0-4d4b-9b5a-e029dcc140cd",
   "metadata": {
    "ExecuteTime": {
     "end_time": "2025-04-10T16:05:49.967924Z",
     "start_time": "2025-04-10T16:05:49.922548Z"
    }
   },
   "source": [
    "y_pred = knn.predict(validation[['tenure', 'MonthlyCharges', 'TotalCharges']])\n",
    "print(\"First 10 predictions:\", y_pred[:10], \"\\n\")"
   ],
   "outputs": [
    {
     "name": "stdout",
     "output_type": "stream",
     "text": [
      "First 10 predictions: ['No' 'No' 'Yes' 'No' 'No' 'No' 'Yes' 'Yes' 'No' 'No'] \n",
      "\n"
     ]
    }
   ],
   "execution_count": 34
  },
  {
   "cell_type": "markdown",
   "id": "205d98ad-3d35-4b4d-8683-e7b93bcda8a9",
   "metadata": {},
   "source": "Evaluate the accuracy on the validation set, and print out a classification report."
  },
  {
   "cell_type": "code",
   "id": "7d93d1ff-3669-4e8b-b1fb-406ba21f3e78",
   "metadata": {
    "ExecuteTime": {
     "end_time": "2025-04-10T16:05:51.537336Z",
     "start_time": "2025-04-10T16:05:51.524907Z"
    }
   },
   "source": "sklearn.metrics.accuracy_score(validation.Churn, y_pred)",
   "outputs": [
    {
     "data": {
      "text/plain": [
       "0.7695590327169275"
      ]
     },
     "execution_count": 35,
     "metadata": {},
     "output_type": "execute_result"
    }
   ],
   "execution_count": 35
  },
  {
   "cell_type": "code",
   "id": "4d7a52ea-1eb4-419c-bd32-4a9acb0eebe3",
   "metadata": {
    "ExecuteTime": {
     "end_time": "2025-04-10T16:05:52.322790Z",
     "start_time": "2025-04-10T16:05:52.310160Z"
    }
   },
   "source": [
    "sklearn.metrics.confusion_matrix(validation.Churn, y_pred)\n",
    "\n"
   ],
   "outputs": [
    {
     "data": {
      "text/plain": [
       "array([[923, 111],\n",
       "       [213, 159]])"
      ]
     },
     "execution_count": 36,
     "metadata": {},
     "output_type": "execute_result"
    }
   ],
   "execution_count": 36
  },
  {
   "cell_type": "code",
   "id": "c49cabc8-251b-4536-9c4b-17c91f411152",
   "metadata": {
    "ExecuteTime": {
     "end_time": "2025-04-10T16:09:10.569570Z",
     "start_time": "2025-04-10T16:09:10.553641Z"
    }
   },
   "source": [
    "# print out classification data\n",
    "# Print value counts for the target column 'Churn'\n",
    "class_counts = df_churn['Churn'].value_counts()\n",
    "print(\"Class Distribution:\")\n",
    "print(class_counts)\n"
   ],
   "outputs": [
    {
     "name": "stdout",
     "output_type": "stream",
     "text": [
      "Class Distribution:\n",
      "Churn\n",
      "No     5163\n",
      "Yes    1869\n",
      "Name: count, dtype: int64\n"
     ]
    }
   ],
   "execution_count": 38
  },
  {
   "cell_type": "markdown",
   "id": "64a6ab35-2823-4719-bcc8-c8a55a15ae8c",
   "metadata": {},
   "source": [
    "**Discussion point:**  \n",
    "- Is the accuracy of this model better or worse than the dummy model?\n",
    "- Try changing the number of neighbours (`n_neighbors`). Does accuracy improve?\n",
    "\n",
    "---"
   ]
  },
  {
   "cell_type": "markdown",
   "id": "5fe93e0e-a1bc-4c23-bcd9-2b14ee91fbdf",
   "metadata": {},
   "source": [
    "## 🟢 **8. Scaling your Data (StandardScaler)**\n",
    "\n",
    "Scaling is important because nearest neighbours rely on distances between points. Different scales can bias distances.\n",
    "\n",
    "**Step 8.1: Scaling the training data**\n",
    "\n",
    "Create an `sklearn.preprocessing.StandardScaler` object. Use its `.fit_transform()` method to create an array of scaled data from the training\n",
    "data. Note that you should only try to scale the numeric columns. Save it in a variable called `X_train_scaled` so that the following cell\n",
    "works correctly."
   ]
  },
  {
   "cell_type": "code",
   "id": "51ec6e0b-d766-47a3-993a-964067046ca3",
   "metadata": {
    "ExecuteTime": {
     "end_time": "2025-04-10T16:09:25.164773Z",
     "start_time": "2025-04-10T16:09:25.145581Z"
    }
   },
   "source": [
    "scaler_std = sklearn.preprocessing.StandardScaler()\n",
    "X_train_scaled = scaler_std.fit_transform(train[['tenure', 'MonthlyCharges', 'TotalCharges']])"
   ],
   "outputs": [],
   "execution_count": 39
  },
  {
   "cell_type": "markdown",
   "id": "191ff75d-6d7e-4dd5-9d34-c41074394faa",
   "metadata": {},
   "source": [
    "**Explanation:**  \n",
    "- **`fit_transform`** calculates the mean and standard deviation from the **training data only**, then scales it.\n",
    "\n",
    "**Quick Check:**  \n",
    "- How has the data changed? Let's see visually!\n",
    "\n",
    "Enter this new cell:"
   ]
  },
  {
   "cell_type": "code",
   "id": "83f2f2ae-7824-45ee-be7d-c26d86516095",
   "metadata": {
    "ExecuteTime": {
     "end_time": "2025-04-10T16:09:27.128628Z",
     "start_time": "2025-04-10T16:09:27.009193Z"
    }
   },
   "source": [
    "plt.boxplot(X_train_scaled, labels=features, vert=False)\n",
    "plt.title(\"Training Data After Standard Scaling\")\n",
    "plt.show()"
   ],
   "outputs": [
    {
     "name": "stderr",
     "output_type": "stream",
     "text": [
      "C:\\Users\\pc\\AppData\\Local\\Temp\\ipykernel_24316\\243638215.py:1: MatplotlibDeprecationWarning: The 'labels' parameter of boxplot() has been renamed 'tick_labels' since Matplotlib 3.9; support for the old name will be dropped in 3.11.\n",
      "  plt.boxplot(X_train_scaled, labels=features, vert=False)\n"
     ]
    },
    {
     "data": {
      "text/plain": [
       "<Figure size 640x480 with 1 Axes>"
      ],
      "image/png": "[encoded data removed]"
     },
     "metadata": {},
     "output_type": "display_data"
    }
   ],
   "execution_count": 40
  },
  {
   "cell_type": "markdown",
   "id": "9afced5a-9e08-453d-9254-9673cb3d6eff",
   "metadata": {},
   "source": [
    "## 🟢 **9. Scaling the Test Data Correctly**\n",
    "\n",
    "We must apply the **same scaler** (trained on our training set) to the test data. But we don't want to retrain the scaler -- it should use the same numbers for adjusting the mean and the stddev as was applied to the training set.\n",
    "\n",
    "\n",
    "```python"
   ]
  },
  {
   "cell_type": "code",
   "id": "5a491617-e6d6-489a-8206-6ced7fc52fe2",
   "metadata": {
    "ExecuteTime": {
     "end_time": "2025-04-10T16:09:33.207427Z",
     "start_time": "2025-04-10T16:09:33.195894Z"
    }
   },
   "source": [
    "X_validation_scaled = scaler_std.transform(validation[['tenure', 'MonthlyCharges', 'TotalCharges']])"
   ],
   "outputs": [],
   "execution_count": 41
  },
  {
   "cell_type": "markdown",
   "id": "22be44a4-7f94-42bd-a9bd-294019d243be",
   "metadata": {},
   "source": [
    "**Explanation:**  \n",
    "- We used `transform` (**not fit_transform**!) because we shouldn't learn scaling parameters from the test set.\n",
    "\n",
    "---"
   ]
  },
  {
   "cell_type": "markdown",
   "id": "e1f80e0b-b1db-4954-b931-da6729f6a495",
   "metadata": {},
   "source": [
    "## 🟢 **10. Does the scaled data give better results?**\n",
    "\n",
    "Repeat the same code from section 7, but use the scaled data."
   ]
  },
  {
   "cell_type": "code",
   "id": "c1a02aa3-5a9b-4294-a7a1-87bd6d501918",
   "metadata": {
    "ExecuteTime": {
     "end_time": "2025-04-10T16:09:37.782920Z",
     "start_time": "2025-04-10T16:09:37.731816Z"
    }
   },
   "source": [
    "knn = sklearn.neighbors.KNeighborsClassifier(n_neighbors=1)\n",
    "knn.fit(X_train_scaled, train.Churn)\n",
    "y_pred = knn.predict(X_validation_scaled)\n",
    "sklearn.metrics.accuracy_score(validation.Churn, y_pred)"
   ],
   "outputs": [
    {
     "data": {
      "text/plain": [
       "0.7162162162162162"
      ]
     },
     "execution_count": 42,
     "metadata": {},
     "output_type": "execute_result"
    }
   ],
   "execution_count": 42
  },
  {
   "cell_type": "code",
   "id": "0b006d29-a1d0-4699-a333-577c7e48b737",
   "metadata": {
    "ExecuteTime": {
     "end_time": "2025-04-10T16:09:38.769797Z",
     "start_time": "2025-04-10T16:09:38.755869Z"
    }
   },
   "source": "sklearn.metrics.confusion_matrix(validation.Churn, y_pred)",
   "outputs": [
    {
     "data": {
      "text/plain": [
       "array([[844, 190],\n",
       "       [209, 163]])"
      ]
     },
     "execution_count": 43,
     "metadata": {},
     "output_type": "execute_result"
    }
   ],
   "execution_count": 43
  },
  {
   "cell_type": "markdown",
   "id": "84605136-5de1-479b-a44d-7b19d5db2e31",
   "metadata": {},
   "source": [
    "## 🔵 **11. Using RadiusNeighboursClassifier (Customer Churn)**\n",
    "\n",
    "RadiusNeighboursClassifier finds all neighbours within a given radius rather than a fixed number of neighbours."
   ]
  },
  {
   "cell_type": "code",
   "id": "a6495a55-c690-4291-8672-5c23ad99eeb4",
   "metadata": {
    "ExecuteTime": {
     "end_time": "2025-04-10T16:09:40.880079Z",
     "start_time": "2025-04-10T16:09:40.869096Z"
    }
   },
   "source": [
    "# Create classifier with a chosen radius\n",
    "radius_clf = sklearn.neighbors.RadiusNeighborsClassifier(radius=1.5)\n",
    "\n",
    "# Train the classifier\n",
    "radius_clf.fit(X_train_scaled, train.Churn)"
   ],
   "outputs": [
    {
     "data": {
      "text/plain": [
       "RadiusNeighborsClassifier(radius=1.5)"
      ],
      "text/html": [
       "<style>#sk-container-id-2 {\n",
       "  /* Definition of color scheme common for light and dark mode */\n",
       "  --sklearn-color-text: #000;\n",
       "  --sklearn-color-text-muted: #666;\n",
       "  --sklearn-color-line: gray;\n",
       "  /* Definition of color scheme for unfitted estimators */\n",
       "  --sklearn-color-unfitted-level-0: #fff5e6;\n",
       "  --sklearn-color-unfitted-level-1: #f6e4d2;\n",
       "  --sklearn-color-unfitted-level-2: #ffe0b3;\n",
       "  --sklearn-color-unfitted-level-3: chocolate;\n",
       "  /* Definition of color scheme for fitted estimators */\n",
       "  --sklearn-color-fitted-level-0: #f0f8ff;\n",
       "  --sklearn-color-fitted-level-1: #d4ebff;\n",
       "  --sklearn-color-fitted-level-2: #b3dbfd;\n",
       "  --sklearn-color-fitted-level-3: cornflowerblue;\n",
       "\n",
       "  /* Specific color for light theme */\n",
       "  --sklearn-color-text-on-default-background: var(--sg-text-color, var(--theme-code-foreground, var(--jp-content-font-color1, black)));\n",
       "  --sklearn-color-background: var(--sg-background-color, var(--theme-background, var(--jp-layout-color0, white)));\n",
       "  --sklearn-color-border-box: var(--sg-text-color, var(--theme-code-foreground, var(--jp-content-font-color1, black)));\n",
       "  --sklearn-color-icon: #696969;\n",
       "\n",
       "  @media (prefers-color-scheme: dark) {\n",
       "    /* Redefinition of color scheme for dark theme */\n",
       "    --sklearn-color-text-on-default-background: var(--sg-text-color, var(--theme-code-foreground, var(--jp-content-font-color1, white)));\n",
       "    --sklearn-color-background: var(--sg-background-color, var(--theme-background, var(--jp-layout-color0, #111)));\n",
       "    --sklearn-color-border-box: var(--sg-text-color, var(--theme-code-foreground, var(--jp-content-font-color1, white)));\n",
       "    --sklearn-color-icon: #878787;\n",
       "  }\n",
       "}\n",
       "\n",
       "#sk-container-id-2 {\n",
       "  color: var(--sklearn-color-text);\n",
       "}\n",
       "\n",
       "#sk-container-id-2 pre {\n",
       "  padding: 0;\n",
       "}\n",
       "\n",
       "#sk-container-id-2 input.sk-hidden--visually {\n",
       "  border: 0;\n",
       "  clip: rect(1px 1px 1px 1px);\n",
       "  clip: rect(1px, 1px, 1px, 1px);\n",
       "  height: 1px;\n",
       "  margin: -1px;\n",
       "  overflow: hidden;\n",
       "  padding: 0;\n",
       "  position: absolute;\n",
       "  width: 1px;\n",
       "}\n",
       "\n",
       "#sk-container-id-2 div.sk-dashed-wrapped {\n",
       "  border: 1px dashed var(--sklearn-color-line);\n",
       "  margin: 0 0.4em 0.5em 0.4em;\n",
       "  box-sizing: border-box;\n",
       "  padding-bottom: 0.4em;\n",
       "  background-color: var(--sklearn-color-background);\n",
       "}\n",
       "\n",
       "#sk-container-id-2 div.sk-container {\n",
       "  /* jupyter's `normalize.less` sets `[hidden] { display: none; }`\n",
       "     but bootstrap.min.css set `[hidden] { display: none !important; }`\n",
       "     so we also need the `!important` here to be able to override the\n",
       "     default hidden behavior on the sphinx rendered scikit-learn.org.\n",
       "     See: https://github.com/scikit-learn/scikit-learn/issues/21755 */\n",
       "  display: inline-block !important;\n",
       "  position: relative;\n",
       "}\n",
       "\n",
       "#sk-container-id-2 div.sk-text-repr-fallback {\n",
       "  display: none;\n",
       "}\n",
       "\n",
       "div.sk-parallel-item,\n",
       "div.sk-serial,\n",
       "div.sk-item {\n",
       "  /* draw centered vertical line to link estimators */\n",
       "  background-image: linear-gradient(var(--sklearn-color-text-on-default-background), var(--sklearn-color-text-on-default-background));\n",
       "  background-size: 2px 100%;\n",
       "  background-repeat: no-repeat;\n",
       "  background-position: center center;\n",
       "}\n",
       "\n",
       "/* Parallel-specific style estimator block */\n",
       "\n",
       "#sk-container-id-2 div.sk-parallel-item::after {\n",
       "  content: \"\";\n",
       "  width: 100%;\n",
       "  border-bottom: 2px solid var(--sklearn-color-text-on-default-background);\n",
       "  flex-grow: 1;\n",
       "}\n",
       "\n",
       "#sk-container-id-2 div.sk-parallel {\n",
       "  display: flex;\n",
       "  align-items: stretch;\n",
       "  justify-content: center;\n",
       "  background-color: var(--sklearn-color-background);\n",
       "  position: relative;\n",
       "}\n",
       "\n",
       "#sk-container-id-2 div.sk-parallel-item {\n",
       "  display: flex;\n",
       "  flex-direction: column;\n",
       "}\n",
       "\n",
       "#sk-container-id-2 div.sk-parallel-item:first-child::after {\n",
       "  align-self: flex-end;\n",
       "  width: 50%;\n",
       "}\n",
       "\n",
       "#sk-container-id-2 div.sk-parallel-item:last-child::after {\n",
       "  align-self: flex-start;\n",
       "  width: 50%;\n",
       "}\n",
       "\n",
       "#sk-container-id-2 div.sk-parallel-item:only-child::after {\n",
       "  width: 0;\n",
       "}\n",
       "\n",
       "/* Serial-specific style estimator block */\n",
       "\n",
       "#sk-container-id-2 div.sk-serial {\n",
       "  display: flex;\n",
       "  flex-direction: column;\n",
       "  align-items: center;\n",
       "  background-color: var(--sklearn-color-background);\n",
       "  padding-right: 1em;\n",
       "  padding-left: 1em;\n",
       "}\n",
       "\n",
       "\n",
       "/* Toggleable style: style used for estimator/Pipeline/ColumnTransformer box that is\n",
       "clickable and can be expanded/collapsed.\n",
       "- Pipeline and ColumnTransformer use this feature and define the default style\n",
       "- Estimators will overwrite some part of the style using the `sk-estimator` class\n",
       "*/\n",
       "\n",
       "/* Pipeline and ColumnTransformer style (default) */\n",
       "\n",
       "#sk-container-id-2 div.sk-toggleable {\n",
       "  /* Default theme specific background. It is overwritten whether we have a\n",
       "  specific estimator or a Pipeline/ColumnTransformer */\n",
       "  background-color: var(--sklearn-color-background);\n",
       "}\n",
       "\n",
       "/* Toggleable label */\n",
       "#sk-container-id-2 label.sk-toggleable__label {\n",
       "  cursor: pointer;\n",
       "  display: flex;\n",
       "  width: 100%;\n",
       "  margin-bottom: 0;\n",
       "  padding: 0.5em;\n",
       "  box-sizing: border-box;\n",
       "  text-align: center;\n",
       "  align-items: start;\n",
       "  justify-content: space-between;\n",
       "  gap: 0.5em;\n",
       "}\n",
       "\n",
       "#sk-container-id-2 label.sk-toggleable__label .caption {\n",
       "  font-size: 0.6rem;\n",
       "  font-weight: lighter;\n",
       "  color: var(--sklearn-color-text-muted);\n",
       "}\n",
       "\n",
       "#sk-container-id-2 label.sk-toggleable__label-arrow:before {\n",
       "  /* Arrow on the left of the label */\n",
       "  content: \"▸\";\n",
       "  float: left;\n",
       "  margin-right: 0.25em;\n",
       "  color: var(--sklearn-color-icon);\n",
       "}\n",
       "\n",
       "#sk-container-id-2 label.sk-toggleable__label-arrow:hover:before {\n",
       "  color: var(--sklearn-color-text);\n",
       "}\n",
       "\n",
       "/* Toggleable content - dropdown */\n",
       "\n",
       "#sk-container-id-2 div.sk-toggleable__content {\n",
       "  max-height: 0;\n",
       "  max-width: 0;\n",
       "  overflow: hidden;\n",
       "  text-align: left;\n",
       "  /* unfitted */\n",
       "  background-color: var(--sklearn-color-unfitted-level-0);\n",
       "}\n",
       "\n",
       "#sk-container-id-2 div.sk-toggleable__content.fitted {\n",
       "  /* fitted */\n",
       "  background-color: var(--sklearn-color-fitted-level-0);\n",
       "}\n",
       "\n",
       "#sk-container-id-2 div.sk-toggleable__content pre {\n",
       "  margin: 0.2em;\n",
       "  border-radius: 0.25em;\n",
       "  color: var(--sklearn-color-text);\n",
       "  /* unfitted */\n",
       "  background-color: var(--sklearn-color-unfitted-level-0);\n",
       "}\n",
       "\n",
       "#sk-container-id-2 div.sk-toggleable__content.fitted pre {\n",
       "  /* unfitted */\n",
       "  background-color: var(--sklearn-color-fitted-level-0);\n",
       "}\n",
       "\n",
       "#sk-container-id-2 input.sk-toggleable__control:checked~div.sk-toggleable__content {\n",
       "  /* Expand drop-down */\n",
       "  max-height: 200px;\n",
       "  max-width: 100%;\n",
       "  overflow: auto;\n",
       "}\n",
       "\n",
       "#sk-container-id-2 input.sk-toggleable__control:checked~label.sk-toggleable__label-arrow:before {\n",
       "  content: \"▾\";\n",
       "}\n",
       "\n",
       "/* Pipeline/ColumnTransformer-specific style */\n",
       "\n",
       "#sk-container-id-2 div.sk-label input.sk-toggleable__control:checked~label.sk-toggleable__label {\n",
       "  color: var(--sklearn-color-text);\n",
       "  background-color: var(--sklearn-color-unfitted-level-2);\n",
       "}\n",
       "\n",
       "#sk-container-id-2 div.sk-label.fitted input.sk-toggleable__control:checked~label.sk-toggleable__label {\n",
       "  background-color: var(--sklearn-color-fitted-level-2);\n",
       "}\n",
       "\n",
       "/* Estimator-specific style */\n",
       "\n",
       "/* Colorize estimator box */\n",
       "#sk-container-id-2 div.sk-estimator input.sk-toggleable__control:checked~label.sk-toggleable__label {\n",
       "  /* unfitted */\n",
       "  background-color: var(--sklearn-color-unfitted-level-2);\n",
       "}\n",
       "\n",
       "#sk-container-id-2 div.sk-estimator.fitted input.sk-toggleable__control:checked~label.sk-toggleable__label {\n",
       "  /* fitted */\n",
       "  background-color: var(--sklearn-color-fitted-level-2);\n",
       "}\n",
       "\n",
       "#sk-container-id-2 div.sk-label label.sk-toggleable__label,\n",
       "#sk-container-id-2 div.sk-label label {\n",
       "  /* The background is the default theme color */\n",
       "  color: var(--sklearn-color-text-on-default-background);\n",
       "}\n",
       "\n",
       "/* On hover, darken the color of the background */\n",
       "#sk-container-id-2 div.sk-label:hover label.sk-toggleable__label {\n",
       "  color: var(--sklearn-color-text);\n",
       "  background-color: var(--sklearn-color-unfitted-level-2);\n",
       "}\n",
       "\n",
       "/* Label box, darken color on hover, fitted */\n",
       "#sk-container-id-2 div.sk-label.fitted:hover label.sk-toggleable__label.fitted {\n",
       "  color: var(--sklearn-color-text);\n",
       "  background-color: var(--sklearn-color-fitted-level-2);\n",
       "}\n",
       "\n",
       "/* Estimator label */\n",
       "\n",
       "#sk-container-id-2 div.sk-label label {\n",
       "  font-family: monospace;\n",
       "  font-weight: bold;\n",
       "  display: inline-block;\n",
       "  line-height: 1.2em;\n",
       "}\n",
       "\n",
       "#sk-container-id-2 div.sk-label-container {\n",
       "  text-align: center;\n",
       "}\n",
       "\n",
       "/* Estimator-specific */\n",
       "#sk-container-id-2 div.sk-estimator {\n",
       "  font-family: monospace;\n",
       "  border: 1px dotted var(--sklearn-color-border-box);\n",
       "  border-radius: 0.25em;\n",
       "  box-sizing: border-box;\n",
       "  margin-bottom: 0.5em;\n",
       "  /* unfitted */\n",
       "  background-color: var(--sklearn-color-unfitted-level-0);\n",
       "}\n",
       "\n",
       "#sk-container-id-2 div.sk-estimator.fitted {\n",
       "  /* fitted */\n",
       "  background-color: var(--sklearn-color-fitted-level-0);\n",
       "}\n",
       "\n",
       "/* on hover */\n",
       "#sk-container-id-2 div.sk-estimator:hover {\n",
       "  /* unfitted */\n",
       "  background-color: var(--sklearn-color-unfitted-level-2);\n",
       "}\n",
       "\n",
       "#sk-container-id-2 div.sk-estimator.fitted:hover {\n",
       "  /* fitted */\n",
       "  background-color: var(--sklearn-color-fitted-level-2);\n",
       "}\n",
       "\n",
       "/* Specification for estimator info (e.g. \"i\" and \"?\") */\n",
       "\n",
       "/* Common style for \"i\" and \"?\" */\n",
       "\n",
       ".sk-estimator-doc-link,\n",
       "a:link.sk-estimator-doc-link,\n",
       "a:visited.sk-estimator-doc-link {\n",
       "  float: right;\n",
       "  font-size: smaller;\n",
       "  line-height: 1em;\n",
       "  font-family: monospace;\n",
       "  background-color: var(--sklearn-color-background);\n",
       "  border-radius: 1em;\n",
       "  height: 1em;\n",
       "  width: 1em;\n",
       "  text-decoration: none !important;\n",
       "  margin-left: 0.5em;\n",
       "  text-align: center;\n",
       "  /* unfitted */\n",
       "  border: var(--sklearn-color-unfitted-level-1) 1pt solid;\n",
       "  color: var(--sklearn-color-unfitted-level-1);\n",
       "}\n",
       "\n",
       ".sk-estimator-doc-link.fitted,\n",
       "a:link.sk-estimator-doc-link.fitted,\n",
       "a:visited.sk-estimator-doc-link.fitted {\n",
       "  /* fitted */\n",
       "  border: var(--sklearn-color-fitted-level-1) 1pt solid;\n",
       "  color: var(--sklearn-color-fitted-level-1);\n",
       "}\n",
       "\n",
       "/* On hover */\n",
       "div.sk-estimator:hover .sk-estimator-doc-link:hover,\n",
       ".sk-estimator-doc-link:hover,\n",
       "div.sk-label-container:hover .sk-estimator-doc-link:hover,\n",
       ".sk-estimator-doc-link:hover {\n",
       "  /* unfitted */\n",
       "  background-color: var(--sklearn-color-unfitted-level-3);\n",
       "  color: var(--sklearn-color-background);\n",
       "  text-decoration: none;\n",
       "}\n",
       "\n",
       "div.sk-estimator.fitted:hover .sk-estimator-doc-link.fitted:hover,\n",
       ".sk-estimator-doc-link.fitted:hover,\n",
       "div.sk-label-container:hover .sk-estimator-doc-link.fitted:hover,\n",
       ".sk-estimator-doc-link.fitted:hover {\n",
       "  /* fitted */\n",
       "  background-color: var(--sklearn-color-fitted-level-3);\n",
       "  color: var(--sklearn-color-background);\n",
       "  text-decoration: none;\n",
       "}\n",
       "\n",
       "/* Span, style for the box shown on hovering the info icon */\n",
       ".sk-estimator-doc-link span {\n",
       "  display: none;\n",
       "  z-index: 9999;\n",
       "  position: relative;\n",
       "  font-weight: normal;\n",
       "  right: .2ex;\n",
       "  padding: .5ex;\n",
       "  margin: .5ex;\n",
       "  width: min-content;\n",
       "  min-width: 20ex;\n",
       "  max-width: 50ex;\n",
       "  color: var(--sklearn-color-text);\n",
       "  box-shadow: 2pt 2pt 4pt #999;\n",
       "  /* unfitted */\n",
       "  background: var(--sklearn-color-unfitted-level-0);\n",
       "  border: .5pt solid var(--sklearn-color-unfitted-level-3);\n",
       "}\n",
       "\n",
       ".sk-estimator-doc-link.fitted span {\n",
       "  /* fitted */\n",
       "  background: var(--sklearn-color-fitted-level-0);\n",
       "  border: var(--sklearn-color-fitted-level-3);\n",
       "}\n",
       "\n",
       ".sk-estimator-doc-link:hover span {\n",
       "  display: block;\n",
       "}\n",
       "\n",
       "/* \"?\"-specific style due to the `<a>` HTML tag */\n",
       "\n",
       "#sk-container-id-2 a.estimator_doc_link {\n",
       "  float: right;\n",
       "  font-size: 1rem;\n",
       "  line-height: 1em;\n",
       "  font-family: monospace;\n",
       "  background-color: var(--sklearn-color-background);\n",
       "  border-radius: 1rem;\n",
       "  height: 1rem;\n",
       "  width: 1rem;\n",
       "  text-decoration: none;\n",
       "  /* unfitted */\n",
       "  color: var(--sklearn-color-unfitted-level-1);\n",
       "  border: var(--sklearn-color-unfitted-level-1) 1pt solid;\n",
       "}\n",
       "\n",
       "#sk-container-id-2 a.estimator_doc_link.fitted {\n",
       "  /* fitted */\n",
       "  border: var(--sklearn-color-fitted-level-1) 1pt solid;\n",
       "  color: var(--sklearn-color-fitted-level-1);\n",
       "}\n",
       "\n",
       "/* On hover */\n",
       "#sk-container-id-2 a.estimator_doc_link:hover {\n",
       "  /* unfitted */\n",
       "  background-color: var(--sklearn-color-unfitted-level-3);\n",
       "  color: var(--sklearn-color-background);\n",
       "  text-decoration: none;\n",
       "}\n",
       "\n",
       "#sk-container-id-2 a.estimator_doc_link.fitted:hover {\n",
       "  /* fitted */\n",
       "  background-color: var(--sklearn-color-fitted-level-3);\n",
       "}\n",
       "</style><div id=\"sk-container-id-2\" class=\"sk-top-container\"><div class=\"sk-text-repr-fallback\"><pre>RadiusNeighborsClassifier(radius=1.5)</pre><b>In a Jupyter environment, please rerun this cell to show the HTML representation or trust the notebook. <br />On GitHub, the HTML representation is unable to render, please try loading this page with nbviewer.org.</b></div><div class=\"sk-container\" hidden><div class=\"sk-item\"><div class=\"sk-estimator fitted sk-toggleable\"><input class=\"sk-toggleable__control sk-hidden--visually\" id=\"sk-estimator-id-2\" type=\"checkbox\" checked><label for=\"sk-estimator-id-2\" class=\"sk-toggleable__label fitted sk-toggleable__label-arrow\"><div><div>RadiusNeighborsClassifier</div></div><div><a class=\"sk-estimator-doc-link fitted\" rel=\"noreferrer\" target=\"_blank\" href=\"https://scikit-learn.org/1.6/modules/generated/sklearn.neighbors.RadiusNeighborsClassifier.html\">?<span>Documentation for RadiusNeighborsClassifier</span></a><span class=\"sk-estimator-doc-link fitted\">i<span>Fitted</span></span></div></label><div class=\"sk-toggleable__content fitted\"><pre>RadiusNeighborsClassifier(radius=1.5)</pre></div> </div></div></div></div>"
      ]
     },
     "execution_count": 44,
     "metadata": {},
     "output_type": "execute_result"
    }
   ],
   "execution_count": 44
  },
  {
   "cell_type": "markdown",
   "id": "4eb59a0a-4636-437e-a4c4-e51ba23f5ec1",
   "metadata": {},
   "source": [
    "```\n",
    "\n",
    "**Explanation:**  \n",
    "- Radius = 1.5 means all points within a \"distance\" of 1.5 from a new point will vote on its classification.\n",
    "- If no points fall within the radius, it won't classify (special cases occur).\n",
    "\n",
    "---\n",
    "\n",
    "Predict and evaluate as you've done for all the other classifiers:"
   ]
  },
  {
   "cell_type": "code",
   "id": "a355b11b-bc6f-454c-bd07-7f0b82c63fbb",
   "metadata": {
    "ExecuteTime": {
     "end_time": "2025-04-10T16:09:42.855908Z",
     "start_time": "2025-04-10T16:09:42.708055Z"
    }
   },
   "source": [
    "y_radius_pred = radius_clf.predict(X_validation_scaled)\n",
    "sklearn.metrics.accuracy_score(validation.Churn, y_radius_pred)"
   ],
   "outputs": [
    {
     "data": {
      "text/plain": [
       "0.7460881934566145"
      ]
     },
     "execution_count": 45,
     "metadata": {},
     "output_type": "execute_result"
    }
   ],
   "execution_count": 45
  },
  {
   "cell_type": "code",
   "id": "95c23c60-5479-423e-8dd3-e5eb0fea2eda",
   "metadata": {
    "ExecuteTime": {
     "end_time": "2025-04-10T16:09:43.576833Z",
     "start_time": "2025-04-10T16:09:43.568298Z"
    }
   },
   "source": [
    "sklearn.metrics.confusion_matrix(validation.Churn, y_radius_pred)"
   ],
   "outputs": [
    {
     "data": {
      "text/plain": [
       "array([[1023,   11],\n",
       "       [ 346,   26]])"
      ]
     },
     "execution_count": 46,
     "metadata": {},
     "output_type": "execute_result"
    }
   ],
   "execution_count": 46
  },
  {
   "cell_type": "code",
   "id": "865a6a1c-4c62-4a50-8ba2-b520ff588bd6",
   "metadata": {
    "ExecuteTime": {
     "end_time": "2025-04-10T16:09:44.100862Z",
     "start_time": "2025-04-10T16:09:44.079059Z"
    }
   },
   "source": [
    "print(sklearn.metrics.classification_report(validation.Churn, y_radius_pred))"
   ],
   "outputs": [
    {
     "name": "stdout",
     "output_type": "stream",
     "text": [
      "              precision    recall  f1-score   support\n",
      "\n",
      "          No       0.75      0.99      0.85      1034\n",
      "         Yes       0.70      0.07      0.13       372\n",
      "\n",
      "    accuracy                           0.75      1406\n",
      "   macro avg       0.72      0.53      0.49      1406\n",
      "weighted avg       0.74      0.75      0.66      1406\n",
      "\n"
     ]
    }
   ],
   "execution_count": 47
  },
  {
   "cell_type": "markdown",
   "id": "aa678fa8-f314-44a6-8e31-daf4386e5ca2",
   "metadata": {},
   "source": [
    "**Discussion point:**  \n",
    "- What happens if the radius is too small or too large?\n",
    "- When might radius-based neighbours be more appropriate?\n",
    "\n",
    "---\n",
    "\n",
    "We would normally now decide which classifier was the best (and which `n_neighbors` was the best) and then evaluate that on the test dataset.\n",
    "\n",
    "Just to save some time in the prac we have removed that."
   ]
  },
  {
   "cell_type": "markdown",
   "id": "9d108566-e75a-48bb-bec3-5eea7daa12fe",
   "metadata": {},
   "source": [
    "## 🟢 **12. RobustScaler Example (Diabetes Regression)**\n",
    "\n",
    "Now let's repeat the same clearly explained steps for a **regression** problem, using the diabetes dataset.\n",
    " \n",
    "There is a library on diabetes progression built in to scikit learn. Since we aren't going to compare any models,\n",
    "we can do without the validation dataset."
   ]
  },
  {
   "cell_type": "code",
   "id": "b0d33fe7-4987-4bc1-b613-25992b083a09",
   "metadata": {
    "ExecuteTime": {
     "end_time": "2025-04-10T16:09:50.557842Z",
     "start_time": "2025-04-10T16:09:50.040896Z"
    }
   },
   "source": [
    "import sklearn.datasets\n",
    "\n",
    "diabetes = sklearn.datasets.load_diabetes(as_frame=True)\n",
    "X_dia = diabetes.data\n",
    "y_dia = diabetes.target\n",
    "\n",
    "X_dia_train, X_dia_test, y_dia_train, y_dia_test = sklearn.model_selection.train_test_split(\n",
    "    X_dia, y_dia, test_size=0.3, random_state=42)\n",
    "\n",
    "print(\"Diabetes Training set:\", X_dia_train.shape)\n",
    "print(\"Diabetes Test set:\", X_dia_test.shape)"
   ],
   "outputs": [
    {
     "name": "stdout",
     "output_type": "stream",
     "text": [
      "Diabetes Training set: (309, 10)\n",
      "Diabetes Test set: (133, 10)\n"
     ]
    }
   ],
   "execution_count": 48
  },
  {
   "cell_type": "markdown",
   "id": "f547fed5-960d-4deb-b935-b32357576439",
   "metadata": {},
   "source": [
    "## 🟢 **13. Scaling Diabetes Data (RobustScaler)**\n",
    "\n",
    "This dataset may have outliers. We'll use **RobustScaler**."
   ]
  },
  {
   "cell_type": "code",
   "id": "5384a82c-a3bc-4230-935e-038bdcc08fc6",
   "metadata": {
    "ExecuteTime": {
     "end_time": "2025-04-10T16:09:53.272058Z",
     "start_time": "2025-04-10T16:09:53.258640Z"
    }
   },
   "source": [
    "scaler_robust = sklearn.preprocessing.RobustScaler()\n",
    "X_dia_train_scaled = scaler_robust.fit_transform(X_dia_train)"
   ],
   "outputs": [],
   "execution_count": 49
  },
  {
   "cell_type": "markdown",
   "id": "c1f284a9-30ff-494c-a058-04a942a2862e",
   "metadata": {},
   "source": [
    "**Explanation:**\n",
    "\n",
    "The **RobustScaler** scales data according to:\n",
    "\n",
    "$ X_{\\text{scaled}} = \\frac{X - \\text{median}(X)}{\\text{IQR}(X)} $\n",
    "\n",
    "where the interquartile range (IQR) is defined as:\n",
    "\n",
    "$ \\text{IQR}(X) = Q_{3}(X) - Q_{1}(X) $\n",
    "\n",
    "- $Q_{1}(X)$: 25th percentile (first quartile)\n",
    "- $Q_{3}(X)$: 75th percentile (third quartile)\n"
   ]
  },
  {
   "cell_type": "markdown",
   "id": "520ccc25-0361-4ba0-be0b-4776205db386",
   "metadata": {},
   "source": [
    "## 🔵 **14. KNeighboursRegressor (Diabetes regression)**\n",
    "\n",
    "Now let's use k-nearest neighbours for *regression*. Make a regressor with `n_neighbors=5`. Fit on the training data \n",
    "and predict the test data."
   ]
  },
  {
   "cell_type": "code",
   "id": "1f2c6f1e-732c-435e-9f9d-92860783f20e",
   "metadata": {
    "ExecuteTime": {
     "end_time": "2025-04-10T16:09:55.372125Z",
     "start_time": "2025-04-10T16:09:55.361565Z"
    }
   },
   "source": [
    "knn_reg = sklearn.neighbors.KNeighborsRegressor(n_neighbors=5)\n",
    "knn_reg.fit(X_dia_train_scaled, y_dia_train)\n",
    "\n",
    "X_dia_test_scaled = scaler_robust.transform(X_dia_test)\n",
    "y_dia_pred = knn_reg.predict(X_dia_test_scaled)"
   ],
   "outputs": [],
   "execution_count": 50
  },
  {
   "cell_type": "markdown",
   "id": "bcda3a01-f84d-4afc-9c4e-52c599252b64",
   "metadata": {},
   "source": [
    "We are evaluating a regressor, so we'll need to use a metric that is appropriate for evaluating regressors, like r^2 score or mean\n",
    "square error."
   ]
  },
  {
   "cell_type": "code",
   "id": "90e4543b-5632-4e60-ba23-65015b298b03",
   "metadata": {
    "ExecuteTime": {
     "end_time": "2025-04-10T16:09:56.701075Z",
     "start_time": "2025-04-10T16:09:56.694215Z"
    }
   },
   "source": [
    "sklearn.metrics.mean_squared_error(y_dia_test, y_dia_pred)"
   ],
   "outputs": [
    {
     "data": {
      "text/plain": [
       "3220.2604511278196"
      ]
     },
     "execution_count": 51,
     "metadata": {},
     "output_type": "execute_result"
    }
   ],
   "execution_count": 51
  },
  {
   "cell_type": "code",
   "id": "09c98dc5-614e-4837-9cf0-e17c13fe45b7",
   "metadata": {
    "ExecuteTime": {
     "end_time": "2025-04-10T16:09:57.345676Z",
     "start_time": "2025-04-10T16:09:57.335719Z"
    }
   },
   "source": [
    "sklearn.metrics.r2_score(y_dia_test, y_dia_pred)"
   ],
   "outputs": [
    {
     "data": {
      "text/plain": [
       "0.4034685325160472"
      ]
     },
     "execution_count": 52,
     "metadata": {},
     "output_type": "execute_result"
    }
   ],
   "execution_count": 52
  },
  {
   "cell_type": "markdown",
   "id": "2dcee97b-caed-4cab-9fbc-1e06d9fc58c5",
   "metadata": {},
   "source": [
    "It is often helpful to visualise the test predictions to understand how the regressor worked."
   ]
  },
  {
   "cell_type": "code",
   "id": "f4d1ce6c-94fc-447c-9780-e579a504ee5b",
   "metadata": {
    "ExecuteTime": {
     "end_time": "2025-04-10T16:09:58.734622Z",
     "start_time": "2025-04-10T16:09:58.615733Z"
    }
   },
   "source": [
    "plt.scatter(x=y_dia_test, y=y_dia_pred)"
   ],
   "outputs": [
    {
     "data": {
      "text/plain": [
       "<matplotlib.collections.PathCollection at 0x2b8415430e0>"
      ]
     },
     "execution_count": 53,
     "metadata": {},
     "output_type": "execute_result"
    },
    {
     "data": {
      "text/plain": [
       "<Figure size 640x480 with 1 Axes>"
      ],
      "image/png": "[encoded data removed]"
     },
     "metadata": {},
     "output_type": "display_data"
    }
   ],
   "execution_count": 53
  },
  {
   "cell_type": "markdown",
   "id": "dbbbe811-5283-4445-aafe-24c726768fac",
   "metadata": {},
   "source": [
    "**Discussion point:**  \n",
    "- Does changing the number of neighbours affect MSE?\n",
    "- What would be a good way to choose the best number of neighbours?\n",
    "\n",
    "---\n",
    "\n",
    "## ✅ **Recap:**\n",
    "\n",
    "You’ve now explicitly:\n",
    "\n",
    "- Used **KNeighboursClassifier** for churn prediction.\n",
    "- Tried **RadiusNeighboursClassifier** to explore radius-based neighbours.\n",
    "- Applied **KNeighboursRegressor** for diabetes progression prediction."
   ]
  },
  {
   "metadata": {},
   "cell_type": "code",
   "outputs": [],
   "execution_count": null,
   "source": "",
   "id": "470aae8f7f80794c"
  }
 ],
 "metadata": {
  "kernelspec": {
   "display_name": "Python 3 (ipykernel)",
   "language": "python",
   "name": "python3"
  },
  "language_info": {
   "codemirror_mode": {
    "name": "ipython",
    "version": 3
   },
   "file_extension": ".py",
   "mimetype": "text/x-python",
   "name": "python",
   "nbconvert_exporter": "python",
   "pygments_lexer": "ipython3",
   "version": "3.12.3"
  }
 },
 "nbformat": 4,
 "nbformat_minor": 5
}
