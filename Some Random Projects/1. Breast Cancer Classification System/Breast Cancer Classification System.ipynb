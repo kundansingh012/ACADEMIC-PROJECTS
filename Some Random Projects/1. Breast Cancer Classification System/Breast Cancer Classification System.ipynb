{
 "cells": [
  {
   "metadata": {},
   "cell_type": "markdown",
   "source": "# Breast Cancer Classification System",
   "id": "420ca3a79e20daca"
  },
  {
   "metadata": {
    "ExecuteTime": {
     "end_time": "2025-07-31T03:10:41.295279Z",
     "start_time": "2025-07-31T03:10:24.616091Z"
    }
   },
   "cell_type": "code",
   "outputs": [
    {
     "name": "stdout",
     "output_type": "stream",
     "text": [
      "Training set size: (455, 31)\n",
      "Validation set size: (57, 31)\n",
      "Test set size: (57, 31)\n"
     ]
    }
   ],
   "execution_count": 1,
   "source": [
    "#  Import necessary libraries\n",
    "\n",
    "from sklearn.datasets import load_breast_cancer  # Load the dataset\n",
    "from sklearn.model_selection import train_test_split  # For splitting the data\n",
    "import pandas as pd  # For creating and manipulating dataframes\n",
    "\n",
    "# Set a seed for reproducibility\n",
    "\n",
    "SEED = 42  # Ensures that the splits are the same every time you run the code\n",
    "\n",
    "# Load the breast cancer dataset\n",
    "\n",
    "cancer_data = load_breast_cancer()\n",
    "\n",
    "# Create a DataFrame with feature names\n",
    "\n",
    "df = pd.DataFrame(cancer_data.data, columns=cancer_data.feature_names)\n",
    "\n",
    "# Add the target variable to the DataFrame\n",
    "\n",
    "df['target'] = cancer_data.target\n",
    "\n",
    "# Split the data into training (80%), validation (10%), and test (10%) sets\n",
    "\n",
    "train_df, temp_df = train_test_split(df, test_size=0.2, random_state=SEED)\n",
    "val_df, test_df = train_test_split(temp_df, test_size=0.5, random_state=SEED)\n",
    "\n",
    "# Display the sizes of the resulting dataframes\n",
    "\n",
    "print(\"Training set size:\", train_df.shape)\n",
    "print(\"Validation set size:\", val_df.shape)\n",
    "print(\"Test set size:\", test_df.shape)"
   ],
   "id": "4e222e7a-25df-4a39-9b90-ef0bae7549ea"
  },
  {
   "cell_type": "code",
   "id": "3efec497-49f8-4e97-8888-6e185021398c",
   "metadata": {
    "ExecuteTime": {
     "end_time": "2025-07-31T03:10:51.044047Z",
     "start_time": "2025-07-31T03:10:51.039598Z"
    }
   },
   "source": [
    "# silly rule if the radius is greater than 14, we identify this as 1 cancer or 0 no cancer\n",
    "def silly_rule(df) :\n",
    "    df[\"prediction\"] = (df['mean radius'] > 14).astype(int)\n",
    "    return df[\"prediction\"]"
   ],
   "outputs": [],
   "execution_count": 2
  },
  {
   "cell_type": "code",
   "id": "268fec85-134a-4484-a1d0-facbf1972b4b",
   "metadata": {
    "ExecuteTime": {
     "end_time": "2025-07-31T03:10:54.133224Z",
     "start_time": "2025-07-31T03:10:54.126006Z"
    }
   },
   "source": [
    "val_df[\"prediction\"] = silly_rule(val_df)\n",
    "# checking the accuracy of silly rule \n",
    "accuracy = (val_df[\"prediction\"] == val_df[\"target\"]).mean()\n",
    "print(f\"--Silly rule accuracy on validation test : {accuracy:.2%}\")"
   ],
   "outputs": [
    {
     "name": "stdout",
     "output_type": "stream",
     "text": [
      "--Silly rule accuracy on validation test : 15.79%\n"
     ]
    }
   ],
   "execution_count": 3
  },
  {
   "cell_type": "code",
   "id": "db418d7b-2958-450a-b31c-ba4fd469c386",
   "metadata": {
    "ExecuteTime": {
     "end_time": "2025-07-31T03:11:12.728414Z",
     "start_time": "2025-07-31T03:11:12.720536Z"
    }
   },
   "source": [
    "test_df[\"prediction\"] = silly_rule(test_df)\n",
    "# checking the accuracy of test data\n",
    "silly_test_accuracy = (test_df[\"prediction\"] == test_df['target']).mean()\n",
    "print(f\"--Silly rule accuracy on test data: {silly_test_accuracy : 0.2%}\")"
   ],
   "outputs": [
    {
     "name": "stdout",
     "output_type": "stream",
     "text": [
      "--Silly rule accuracy on test data:  12.28%\n"
     ]
    }
   ],
   "execution_count": 4
  },
  {
   "cell_type": "code",
   "id": "ec88cab6-1dc2-46c4-83af-ed912fd29a44",
   "metadata": {
    "ExecuteTime": {
     "end_time": "2025-07-31T03:11:19.626325Z",
     "start_time": "2025-07-31T03:11:19.618035Z"
    }
   },
   "source": [
    "#sensible rule if the mean area is less than 1000 return 1 as malignant or 0 for no cancer\n",
    "\n",
    "def sensible_rule(df) :\n",
    "    df[\"prediction\"] = ((df[\"mean area\"]) < 1000).astype(int)\n",
    "    return df['prediction']"
   ],
   "outputs": [],
   "execution_count": 5
  },
  {
   "cell_type": "code",
   "id": "ba003be5-6664-4384-9516-80865743f566",
   "metadata": {
    "ExecuteTime": {
     "end_time": "2025-07-31T03:11:20.716209Z",
     "start_time": "2025-07-31T03:11:20.706761Z"
    }
   },
   "source": [
    "# validation of sensible rule \n",
    "val_df[\"prediction\"] = sensible_rule(val_df)\n",
    "# checking the accuracy\n",
    "accuracy = (val_df[\"prediction\"] == val_df[\"target\"]).mean()\n",
    "print(f\"--Sensible rule accuracy on validation test : {accuracy:.2%}\")"
   ],
   "outputs": [
    {
     "name": "stdout",
     "output_type": "stream",
     "text": [
      "--Sensible rule accuracy on validation test : 68.42%\n"
     ]
    }
   ],
   "execution_count": 6
  },
  {
   "cell_type": "code",
   "id": "b8061d44-0305-44e0-9147-ef5f5ef821f2",
   "metadata": {
    "ExecuteTime": {
     "end_time": "2025-07-31T03:11:33.161236Z",
     "start_time": "2025-07-31T03:11:33.150303Z"
    }
   },
   "source": [
    "test_df[\"prediction\"] = sensible_rule(test_df)\n",
    "# checking the accuracy of test data\n",
    "test_accuracy = (test_df[\"prediction\"] == test_df['target']).mean()\n",
    "print(f\"--Sensible run accuracy on test data: {test_accuracy : 0.3%}\")"
   ],
   "outputs": [
    {
     "name": "stdout",
     "output_type": "stream",
     "text": [
      "--Sensible run accuracy on test data:  85.965%\n"
     ]
    }
   ],
   "execution_count": 7
  },
  {
   "cell_type": "code",
   "id": "f222b5b5-190f-47f8-a500-96c4dba53fc2",
   "metadata": {
    "ExecuteTime": {
     "end_time": "2025-07-31T03:11:45.202338Z",
     "start_time": "2025-07-31T03:11:45.198872Z"
    }
   },
   "source": [
    "# sophisticated rule if mean perimeter is < 100 and mean texture is < 15\n",
    "def soph_rule(df):\n",
    "    df[\"prediction\"] = ((df[\"mean perimeter\"] < 100) & (df[\"mean texture\"] > 15)).astype(int)\n",
    "    return df[\"prediction\"]\n",
    "    "
   ],
   "outputs": [],
   "execution_count": 8
  },
  {
   "cell_type": "code",
   "id": "ecd29e11-0eff-4a95-b712-0d24b456523b",
   "metadata": {
    "ExecuteTime": {
     "end_time": "2025-07-31T03:11:47.014687Z",
     "start_time": "2025-07-31T03:11:47.008805Z"
    }
   },
   "source": [
    "val_df[\"prediction\"] = soph_rule(val_df)\n",
    "# checking the accuracy of validation data\n",
    "accuracy = (val_df[\"prediction\"] == val_df[\"target\"]).mean()\n",
    "print(f\"--Sophisticated rule accuracy on validation test : {accuracy:0.2%}\")"
   ],
   "outputs": [
    {
     "name": "stdout",
     "output_type": "stream",
     "text": [
      "--Sophisticated rule accuracy on validation test : 71.93%\n"
     ]
    }
   ],
   "execution_count": 9
  },
  {
   "cell_type": "code",
   "id": "8b947bf9-da4a-41a2-a425-32a9c615840b",
   "metadata": {
    "ExecuteTime": {
     "end_time": "2025-07-31T03:11:57.468387Z",
     "start_time": "2025-07-31T03:11:57.456102Z"
    }
   },
   "source": [
    "test_df[\"prediction\"] = soph_rule(test_df)\n",
    "# checking the accuracy of test data\n",
    "sophisticated_test_accuracy = (test_df[\"prediction\"] == test_df['target']).mean()\n",
    "print(f\"--Sophisticated run accuracy on test data: {sophisticated_test_accuracy : 0.2%}\")"
   ],
   "outputs": [
    {
     "name": "stdout",
     "output_type": "stream",
     "text": [
      "--Sophisticated run accuracy on test data:  78.95%\n"
     ]
    }
   ],
   "execution_count": 10
  }
 ],
 "metadata": {
  "kernelspec": {
   "display_name": "Python 3 (ipykernel)",
   "language": "python",
   "name": "python3"
  },
  "language_info": {
   "codemirror_mode": {
    "name": "ipython",
    "version": 3
   },
   "file_extension": ".py",
   "mimetype": "text/x-python",
   "name": "python",
   "nbconvert_exporter": "python",
   "pygments_lexer": "ipython3",
   "version": "3.12.7"
  }
 },
 "nbformat": 4,
 "nbformat_minor": 5
}
