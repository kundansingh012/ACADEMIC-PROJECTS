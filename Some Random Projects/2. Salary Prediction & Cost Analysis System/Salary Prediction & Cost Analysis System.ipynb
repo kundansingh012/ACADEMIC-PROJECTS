{
 "cells": [
  {
   "metadata": {},
   "cell_type": "markdown",
   "source": [
    "## Salary Prediction & Cost Analysis System\n",
    "The City of Baltimore publishes data about all of its employees, including their salaries. And these annual salaries can differ from their gross pay: Perhaps an employee works nightshift/overtime and earns more than their official salary; perhaps they are only employed for a part of the year and earn less.\n",
    "\n",
    "In this project, we'll estimate what a typical city employee's gross pay will be based on their annual salary."
   ]
  },
  {
   "cell_type": "markdown",
   "metadata": {},
   "source": [
    "**Note**\n",
    "\n",
    "Here are the steps we'll do:\n",
    "\n",
    "- Data Acquisition—there will be a little of coding for you here\n",
    "\n",
    "- Data Cleaning and Preparation\n",
    "\n",
    "- Training—there will be a little bit here for you to do as well\n",
    "\n",
    "- Validation—lots to do here\n",
    "\n",
    "- Evaluation—lots to do here"
   ]
  },
  {
   "cell_type": "markdown",
   "metadata": {},
   "source": [
    "# Data Acquisition\n",
    "\n",
    "First up, let's load the libraries we need:"
   ]
  },
  {
   "cell_type": "code",
   "metadata": {
    "ExecuteTime": {
     "end_time": "2025-07-31T04:01:52.899031Z",
     "start_time": "2025-07-31T04:01:51.117277Z"
    }
   },
   "source": [
    "from sklearn.cluster import mean_shift\n",
    "from sklearn.metrics import mean_absolute_error\n",
    "%matplotlib inline\n",
    "import pandas as pd\n",
    "import seaborn as sns\n",
    "import numpy as np\n",
    "import matplotlib.pyplot as plt\n",
    "import datetime as dt\n",
    "import sklearn.linear_model\n",
    "import sklearn.model_selection\n",
    "import sklearn.metrics"
   ],
   "outputs": [],
   "execution_count": 1
  },
  {
   "cell_type": "markdown",
   "metadata": {},
   "source": [
    "The Baltimore salaries data set is available in `Baltimore_City_Employee_Salaries_2011.csv`. This is a file and needs to be in the same directory as this notebook. Column 0 is the name of the employee, and we'll use it as an index. Column 4 is a date. (Note that we count columns starting with \"0\").\n",
    "\n",
    "The pandas `read_csv` function reads it into a dataframe called `salaries`"
   ]
  },
  {
   "cell_type": "code",
   "metadata": {
    "ExecuteTime": {
     "end_time": "2025-07-31T04:01:53.223525Z",
     "start_time": "2025-07-31T04:01:53.120802Z"
    }
   },
   "source": [
    "salaries = pd.read_csv('Baltimore_City_Employee_Salaries_2011.csv', \n",
    "                       index_col=0, #colum 1 will be marked as index\n",
    "                      parse_dates=[4]) # colum 5 will be parsed as datetime\n",
    "salaries.head()"
   ],
   "outputs": [
    {
     "data": {
      "text/plain": [
       "                                         JobTitle AgencyID  \\\n",
       "Name                                                         \n",
       "Aaron,Patricia G    Facilities/Office Services II   A03031   \n",
       "Aaron,Petra L          ASSISTANT STATE'S ATTORNEY   A29005   \n",
       "Abaineh,Yohannes T                 EPIDEMIOLOGIST   A65026   \n",
       "Abdal-Rahim,Naim A                EMT Firefighter   A64063   \n",
       "Abdi,Ezekiel W                     POLICE OFFICER   A99398   \n",
       "\n",
       "                                     Agency   HireDate AnnualSalary   GrossPay  \n",
       "Name                                                                            \n",
       "Aaron,Patricia G         OED-Employment Dev 1979-10-24    $50845.00  $45505.94  \n",
       "Aaron,Petra L       States Attorneys Office 2006-09-25    $56595.00  $51588.89  \n",
       "Abaineh,Yohannes T   HLTH-Health Department 2009-07-23    $56500.00  $50633.26  \n",
       "Abdal-Rahim,Naim A    Fire Academy Recruits 2011-03-30    $33476.00   $3888.95  \n",
       "Abdi,Ezekiel W            Police Department 2007-06-14    $50919.00  $51421.73  "
      ],
      "text/html": [
       "<div>\n",
       "<style scoped>\n",
       "    .dataframe tbody tr th:only-of-type {\n",
       "        vertical-align: middle;\n",
       "    }\n",
       "\n",
       "    .dataframe tbody tr th {\n",
       "        vertical-align: top;\n",
       "    }\n",
       "\n",
       "    .dataframe thead th {\n",
       "        text-align: right;\n",
       "    }\n",
       "</style>\n",
       "<table border=\"1\" class=\"dataframe\">\n",
       "  <thead>\n",
       "    <tr style=\"text-align: right;\">\n",
       "      <th></th>\n",
       "      <th>JobTitle</th>\n",
       "      <th>AgencyID</th>\n",
       "      <th>Agency</th>\n",
       "      <th>HireDate</th>\n",
       "      <th>AnnualSalary</th>\n",
       "      <th>GrossPay</th>\n",
       "    </tr>\n",
       "    <tr>\n",
       "      <th>Name</th>\n",
       "      <th></th>\n",
       "      <th></th>\n",
       "      <th></th>\n",
       "      <th></th>\n",
       "      <th></th>\n",
       "      <th></th>\n",
       "    </tr>\n",
       "  </thead>\n",
       "  <tbody>\n",
       "    <tr>\n",
       "      <th>Aaron,Patricia G</th>\n",
       "      <td>Facilities/Office Services II</td>\n",
       "      <td>A03031</td>\n",
       "      <td>OED-Employment Dev</td>\n",
       "      <td>1979-10-24</td>\n",
       "      <td>$50845.00</td>\n",
       "      <td>$45505.94</td>\n",
       "    </tr>\n",
       "    <tr>\n",
       "      <th>Aaron,Petra L</th>\n",
       "      <td>ASSISTANT STATE'S ATTORNEY</td>\n",
       "      <td>A29005</td>\n",
       "      <td>States Attorneys Office</td>\n",
       "      <td>2006-09-25</td>\n",
       "      <td>$56595.00</td>\n",
       "      <td>$51588.89</td>\n",
       "    </tr>\n",
       "    <tr>\n",
       "      <th>Abaineh,Yohannes T</th>\n",
       "      <td>EPIDEMIOLOGIST</td>\n",
       "      <td>A65026</td>\n",
       "      <td>HLTH-Health Department</td>\n",
       "      <td>2009-07-23</td>\n",
       "      <td>$56500.00</td>\n",
       "      <td>$50633.26</td>\n",
       "    </tr>\n",
       "    <tr>\n",
       "      <th>Abdal-Rahim,Naim A</th>\n",
       "      <td>EMT Firefighter</td>\n",
       "      <td>A64063</td>\n",
       "      <td>Fire Academy Recruits</td>\n",
       "      <td>2011-03-30</td>\n",
       "      <td>$33476.00</td>\n",
       "      <td>$3888.95</td>\n",
       "    </tr>\n",
       "    <tr>\n",
       "      <th>Abdi,Ezekiel W</th>\n",
       "      <td>POLICE OFFICER</td>\n",
       "      <td>A99398</td>\n",
       "      <td>Police Department</td>\n",
       "      <td>2007-06-14</td>\n",
       "      <td>$50919.00</td>\n",
       "      <td>$51421.73</td>\n",
       "    </tr>\n",
       "  </tbody>\n",
       "</table>\n",
       "</div>"
      ]
     },
     "execution_count": 2,
     "metadata": {},
     "output_type": "execute_result"
    }
   ],
   "execution_count": 2
  },
  {
   "cell_type": "markdown",
   "metadata": {},
   "source": [
    "We'll use `.tail()` method to see the last few rows in a database. Use that now to look at\n",
    "the end of the `salaries` dataframe."
   ]
  },
  {
   "cell_type": "code",
   "metadata": {
    "ExecuteTime": {
     "end_time": "2025-07-31T04:01:53.280651Z",
     "start_time": "2025-07-31T04:01:53.268123Z"
    }
   },
   "source": "salaries.tail() #will show us tail of the csv file",
   "outputs": [
    {
     "data": {
      "text/plain": [
       "                                       JobTitle AgencyID  \\\n",
       "Name                                                       \n",
       "Lewis,Awanda S   SCHOOL HEALTH AIDE (10 MONTHS)   A65104   \n",
       "Lewis,Bernard T              FIRE PUMP OPERATOR   A64120   \n",
       "Lewis,Brian C                    POLICE OFFICER   A99322   \n",
       "Lewis,Capri T                 JTPA TRAINEE MOMR   W03T19   \n",
       "Lewis,Carlos E                     CARPENTER II   A50212   \n",
       "\n",
       "                                  Agency   HireDate AnnualSalary   GrossPay  \n",
       "Name                                                                         \n",
       "Lewis,Awanda S    HLTH-Health Department 2006-07-01    $23395.00  $21746.79  \n",
       "Lewis,Bernard T          Fire Department 1990-03-26    $61653.00  $59866.23  \n",
       "Lewis,Brian C          Police Department 1998-04-20    $61672.00  $84219.58  \n",
       "Lewis,Capri T                 Youth Cust 2009-06-11    $15080.00   $1881.38  \n",
       "Lewis,Carlos E   DPW-Water & Waste Water 1993-08-02    $34643.00  $29709.64  "
      ],
      "text/html": [
       "<div>\n",
       "<style scoped>\n",
       "    .dataframe tbody tr th:only-of-type {\n",
       "        vertical-align: middle;\n",
       "    }\n",
       "\n",
       "    .dataframe tbody tr th {\n",
       "        vertical-align: top;\n",
       "    }\n",
       "\n",
       "    .dataframe thead th {\n",
       "        text-align: right;\n",
       "    }\n",
       "</style>\n",
       "<table border=\"1\" class=\"dataframe\">\n",
       "  <thead>\n",
       "    <tr style=\"text-align: right;\">\n",
       "      <th></th>\n",
       "      <th>JobTitle</th>\n",
       "      <th>AgencyID</th>\n",
       "      <th>Agency</th>\n",
       "      <th>HireDate</th>\n",
       "      <th>AnnualSalary</th>\n",
       "      <th>GrossPay</th>\n",
       "    </tr>\n",
       "    <tr>\n",
       "      <th>Name</th>\n",
       "      <th></th>\n",
       "      <th></th>\n",
       "      <th></th>\n",
       "      <th></th>\n",
       "      <th></th>\n",
       "      <th></th>\n",
       "    </tr>\n",
       "  </thead>\n",
       "  <tbody>\n",
       "    <tr>\n",
       "      <th>Lewis,Awanda S</th>\n",
       "      <td>SCHOOL HEALTH AIDE (10 MONTHS)</td>\n",
       "      <td>A65104</td>\n",
       "      <td>HLTH-Health Department</td>\n",
       "      <td>2006-07-01</td>\n",
       "      <td>$23395.00</td>\n",
       "      <td>$21746.79</td>\n",
       "    </tr>\n",
       "    <tr>\n",
       "      <th>Lewis,Bernard T</th>\n",
       "      <td>FIRE PUMP OPERATOR</td>\n",
       "      <td>A64120</td>\n",
       "      <td>Fire Department</td>\n",
       "      <td>1990-03-26</td>\n",
       "      <td>$61653.00</td>\n",
       "      <td>$59866.23</td>\n",
       "    </tr>\n",
       "    <tr>\n",
       "      <th>Lewis,Brian C</th>\n",
       "      <td>POLICE OFFICER</td>\n",
       "      <td>A99322</td>\n",
       "      <td>Police Department</td>\n",
       "      <td>1998-04-20</td>\n",
       "      <td>$61672.00</td>\n",
       "      <td>$84219.58</td>\n",
       "    </tr>\n",
       "    <tr>\n",
       "      <th>Lewis,Capri T</th>\n",
       "      <td>JTPA TRAINEE MOMR</td>\n",
       "      <td>W03T19</td>\n",
       "      <td>Youth Cust</td>\n",
       "      <td>2009-06-11</td>\n",
       "      <td>$15080.00</td>\n",
       "      <td>$1881.38</td>\n",
       "    </tr>\n",
       "    <tr>\n",
       "      <th>Lewis,Carlos E</th>\n",
       "      <td>CARPENTER II</td>\n",
       "      <td>A50212</td>\n",
       "      <td>DPW-Water &amp; Waste Water</td>\n",
       "      <td>1993-08-02</td>\n",
       "      <td>$34643.00</td>\n",
       "      <td>$29709.64</td>\n",
       "    </tr>\n",
       "  </tbody>\n",
       "</table>\n",
       "</div>"
      ]
     },
     "execution_count": 3,
     "metadata": {},
     "output_type": "execute_result"
    }
   ],
   "execution_count": 3
  },
  {
   "cell_type": "markdown",
   "metadata": {},
   "source": "we can also use `.sample(5)` to get 5 random rows from the `salaries` dataframe."
  },
  {
   "cell_type": "code",
   "metadata": {
    "ExecuteTime": {
     "end_time": "2025-07-31T04:01:53.366918Z",
     "start_time": "2025-07-31T04:01:53.355687Z"
    }
   },
   "source": "salaries.sample(5) # find 5 sample rows to show",
   "outputs": [
    {
     "data": {
      "text/plain": [
       "                                    JobTitle AgencyID                 Agency  \\\n",
       "Name                                                                           \n",
       "Fout Jr,Donald C                FIRE CAPTAIN   A64206        Fire Department   \n",
       "Freet,Adam R                 EMT Firefighter   A64063  Fire Academy Recruits   \n",
       "Kearney,Thomas E                 FIREFIGHTER   A64301        Fire Department   \n",
       "Katherine,Brower       CONTRACT SERV SPEC II   A67002     R&P-Administration   \n",
       "Woolfolk Jr,Lee   CIVIL ENG DRAFTING TECH II   A49103         TRANS-Highways   \n",
       "\n",
       "                   HireDate AnnualSalary   GrossPay  \n",
       "Name                                                 \n",
       "Fout Jr,Donald C 1981-07-06    $80644.00  $80736.83  \n",
       "Freet,Adam R     2011-01-19    $33476.00  $10552.43  \n",
       "Kearney,Thomas E 1992-08-31    $57776.00  $57288.67  \n",
       "Katherine,Brower 2011-05-02    $72800.00   $2668.75  \n",
       "Woolfolk Jr,Lee  1998-11-30    $38807.00  $40796.04  "
      ],
      "text/html": [
       "<div>\n",
       "<style scoped>\n",
       "    .dataframe tbody tr th:only-of-type {\n",
       "        vertical-align: middle;\n",
       "    }\n",
       "\n",
       "    .dataframe tbody tr th {\n",
       "        vertical-align: top;\n",
       "    }\n",
       "\n",
       "    .dataframe thead th {\n",
       "        text-align: right;\n",
       "    }\n",
       "</style>\n",
       "<table border=\"1\" class=\"dataframe\">\n",
       "  <thead>\n",
       "    <tr style=\"text-align: right;\">\n",
       "      <th></th>\n",
       "      <th>JobTitle</th>\n",
       "      <th>AgencyID</th>\n",
       "      <th>Agency</th>\n",
       "      <th>HireDate</th>\n",
       "      <th>AnnualSalary</th>\n",
       "      <th>GrossPay</th>\n",
       "    </tr>\n",
       "    <tr>\n",
       "      <th>Name</th>\n",
       "      <th></th>\n",
       "      <th></th>\n",
       "      <th></th>\n",
       "      <th></th>\n",
       "      <th></th>\n",
       "      <th></th>\n",
       "    </tr>\n",
       "  </thead>\n",
       "  <tbody>\n",
       "    <tr>\n",
       "      <th>Fout Jr,Donald C</th>\n",
       "      <td>FIRE CAPTAIN</td>\n",
       "      <td>A64206</td>\n",
       "      <td>Fire Department</td>\n",
       "      <td>1981-07-06</td>\n",
       "      <td>$80644.00</td>\n",
       "      <td>$80736.83</td>\n",
       "    </tr>\n",
       "    <tr>\n",
       "      <th>Freet,Adam R</th>\n",
       "      <td>EMT Firefighter</td>\n",
       "      <td>A64063</td>\n",
       "      <td>Fire Academy Recruits</td>\n",
       "      <td>2011-01-19</td>\n",
       "      <td>$33476.00</td>\n",
       "      <td>$10552.43</td>\n",
       "    </tr>\n",
       "    <tr>\n",
       "      <th>Kearney,Thomas E</th>\n",
       "      <td>FIREFIGHTER</td>\n",
       "      <td>A64301</td>\n",
       "      <td>Fire Department</td>\n",
       "      <td>1992-08-31</td>\n",
       "      <td>$57776.00</td>\n",
       "      <td>$57288.67</td>\n",
       "    </tr>\n",
       "    <tr>\n",
       "      <th>Katherine,Brower</th>\n",
       "      <td>CONTRACT SERV SPEC II</td>\n",
       "      <td>A67002</td>\n",
       "      <td>R&amp;P-Administration</td>\n",
       "      <td>2011-05-02</td>\n",
       "      <td>$72800.00</td>\n",
       "      <td>$2668.75</td>\n",
       "    </tr>\n",
       "    <tr>\n",
       "      <th>Woolfolk Jr,Lee</th>\n",
       "      <td>CIVIL ENG DRAFTING TECH II</td>\n",
       "      <td>A49103</td>\n",
       "      <td>TRANS-Highways</td>\n",
       "      <td>1998-11-30</td>\n",
       "      <td>$38807.00</td>\n",
       "      <td>$40796.04</td>\n",
       "    </tr>\n",
       "  </tbody>\n",
       "</table>\n",
       "</div>"
      ]
     },
     "execution_count": 4,
     "metadata": {},
     "output_type": "execute_result"
    }
   ],
   "execution_count": 4
  },
  {
   "cell_type": "markdown",
   "metadata": {},
   "source": [
    "# Data Preprocessing\n",
    "\n",
    "## Preprocess the Data (Convert Strings to Numbers)\n",
    "\n",
    "The `AnnualSalary` and `GrossPay` columns are strings and start with a `$`. We'll have to strip this off and convert these columns to floats."
   ]
  },
  {
   "cell_type": "code",
   "metadata": {
    "ExecuteTime": {
     "end_time": "2025-07-31T04:01:53.657253Z",
     "start_time": "2025-07-31T04:01:53.634263Z"
    }
   },
   "source": [
    "salaries.AnnualSalary = salaries.AnnualSalary.str.strip('$').astype(float)\n",
    "salaries.GrossPay = salaries.GrossPay.str.strip('$').astype(float)\n",
    "salaries.head()\n",
    "\n"
   ],
   "outputs": [
    {
     "data": {
      "text/plain": [
       "                                         JobTitle AgencyID  \\\n",
       "Name                                                         \n",
       "Aaron,Patricia G    Facilities/Office Services II   A03031   \n",
       "Aaron,Petra L          ASSISTANT STATE'S ATTORNEY   A29005   \n",
       "Abaineh,Yohannes T                 EPIDEMIOLOGIST   A65026   \n",
       "Abdal-Rahim,Naim A                EMT Firefighter   A64063   \n",
       "Abdi,Ezekiel W                     POLICE OFFICER   A99398   \n",
       "\n",
       "                                     Agency   HireDate  AnnualSalary  GrossPay  \n",
       "Name                                                                            \n",
       "Aaron,Patricia G         OED-Employment Dev 1979-10-24       50845.0  45505.94  \n",
       "Aaron,Petra L       States Attorneys Office 2006-09-25       56595.0  51588.89  \n",
       "Abaineh,Yohannes T   HLTH-Health Department 2009-07-23       56500.0  50633.26  \n",
       "Abdal-Rahim,Naim A    Fire Academy Recruits 2011-03-30       33476.0   3888.95  \n",
       "Abdi,Ezekiel W            Police Department 2007-06-14       50919.0  51421.73  "
      ],
      "text/html": [
       "<div>\n",
       "<style scoped>\n",
       "    .dataframe tbody tr th:only-of-type {\n",
       "        vertical-align: middle;\n",
       "    }\n",
       "\n",
       "    .dataframe tbody tr th {\n",
       "        vertical-align: top;\n",
       "    }\n",
       "\n",
       "    .dataframe thead th {\n",
       "        text-align: right;\n",
       "    }\n",
       "</style>\n",
       "<table border=\"1\" class=\"dataframe\">\n",
       "  <thead>\n",
       "    <tr style=\"text-align: right;\">\n",
       "      <th></th>\n",
       "      <th>JobTitle</th>\n",
       "      <th>AgencyID</th>\n",
       "      <th>Agency</th>\n",
       "      <th>HireDate</th>\n",
       "      <th>AnnualSalary</th>\n",
       "      <th>GrossPay</th>\n",
       "    </tr>\n",
       "    <tr>\n",
       "      <th>Name</th>\n",
       "      <th></th>\n",
       "      <th></th>\n",
       "      <th></th>\n",
       "      <th></th>\n",
       "      <th></th>\n",
       "      <th></th>\n",
       "    </tr>\n",
       "  </thead>\n",
       "  <tbody>\n",
       "    <tr>\n",
       "      <th>Aaron,Patricia G</th>\n",
       "      <td>Facilities/Office Services II</td>\n",
       "      <td>A03031</td>\n",
       "      <td>OED-Employment Dev</td>\n",
       "      <td>1979-10-24</td>\n",
       "      <td>50845.0</td>\n",
       "      <td>45505.94</td>\n",
       "    </tr>\n",
       "    <tr>\n",
       "      <th>Aaron,Petra L</th>\n",
       "      <td>ASSISTANT STATE'S ATTORNEY</td>\n",
       "      <td>A29005</td>\n",
       "      <td>States Attorneys Office</td>\n",
       "      <td>2006-09-25</td>\n",
       "      <td>56595.0</td>\n",
       "      <td>51588.89</td>\n",
       "    </tr>\n",
       "    <tr>\n",
       "      <th>Abaineh,Yohannes T</th>\n",
       "      <td>EPIDEMIOLOGIST</td>\n",
       "      <td>A65026</td>\n",
       "      <td>HLTH-Health Department</td>\n",
       "      <td>2009-07-23</td>\n",
       "      <td>56500.0</td>\n",
       "      <td>50633.26</td>\n",
       "    </tr>\n",
       "    <tr>\n",
       "      <th>Abdal-Rahim,Naim A</th>\n",
       "      <td>EMT Firefighter</td>\n",
       "      <td>A64063</td>\n",
       "      <td>Fire Academy Recruits</td>\n",
       "      <td>2011-03-30</td>\n",
       "      <td>33476.0</td>\n",
       "      <td>3888.95</td>\n",
       "    </tr>\n",
       "    <tr>\n",
       "      <th>Abdi,Ezekiel W</th>\n",
       "      <td>POLICE OFFICER</td>\n",
       "      <td>A99398</td>\n",
       "      <td>Police Department</td>\n",
       "      <td>2007-06-14</td>\n",
       "      <td>50919.0</td>\n",
       "      <td>51421.73</td>\n",
       "    </tr>\n",
       "  </tbody>\n",
       "</table>\n",
       "</div>"
      ]
     },
     "execution_count": 5,
     "metadata": {},
     "output_type": "execute_result"
    }
   ],
   "execution_count": 5
  },
  {
   "cell_type": "markdown",
   "metadata": {},
   "source": [
    "## Perform Exploratory Data Analysis\n",
    "\n",
    "Create a scatterplot of annual salary versus gross pay."
   ]
  },
  {
   "cell_type": "code",
   "metadata": {
    "ExecuteTime": {
     "end_time": "2025-07-31T04:01:54.142347Z",
     "start_time": "2025-07-31T04:01:53.874563Z"
    }
   },
   "source": [
    "salaries.plot.scatter(x='AnnualSalary', y='GrossPay')"
   ],
   "outputs": [
    {
     "data": {
      "text/plain": [
       "<Axes: xlabel='AnnualSalary', ylabel='GrossPay'>"
      ]
     },
     "execution_count": 6,
     "metadata": {},
     "output_type": "execute_result"
    },
    {
     "data": {
      "text/plain": [
       "<Figure size 640x480 with 1 Axes>"
      ],
      "image/png": "[encoded data removed]"
     },
     "metadata": {},
     "output_type": "display_data"
    }
   ],
   "execution_count": 6
  },
  {
   "cell_type": "markdown",
   "metadata": {},
   "source": [
    "# Look for a Linear Relationship\n",
    "\n",
    "It seems like there is a linear relationship in there, but it's obscured by a lot of noise.\n",
    "\n",
    "Let's get a vibe for the data, and what we should expect to see in our machine generated model.\n",
    "\n",
    "We will extract a tiny sample of it and do an approximation of the Theil-Sen algorithm by hand."
   ]
  },
  {
   "cell_type": "code",
   "metadata": {
    "ExecuteTime": {
     "end_time": "2025-07-31T04:01:54.209259Z",
     "start_time": "2025-07-31T04:01:54.198639Z"
    }
   },
   "source": [
    "tiny_sample = salaries.sample(10)\n",
    "tiny_sample"
   ],
   "outputs": [
    {
     "data": {
      "text/plain": [
       "                                           JobTitle AgencyID  \\\n",
       "Name                                                           \n",
       "Roth,Michael R                         FIRE CAPTAIN   A64065   \n",
       "Talley,Edward L      CONSTRUCTION ELECTRCL INSPEC I   A06035   \n",
       "Griffin,Michele L           PARKING CONTROL AGENT I   A90201   \n",
       "Shelton,Gwendolyn D   Facilities/Office Services II   A03090   \n",
       "Hicks,William A              MOTOR VEHICLE DRIVER I   B70105   \n",
       "Lewis,Pearlie                     JTPA TRAINEE MOMR   W08M38   \n",
       "Bryant,Lisa            Facilities/Office Services I   A03085   \n",
       "McKnight,Abraham S                   POLICE OFFICER   A99170   \n",
       "Brunson,Sylvester    UTILITIES INSTALLER REPAIR SII   A50501   \n",
       "Martinez,Gustavo A                   POLICE OFFICER   A99095   \n",
       "\n",
       "                                      Agency   HireDate  AnnualSalary  \\\n",
       "Name                                                                    \n",
       "Roth,Michael R               Fire Department 1987-04-20       77863.0   \n",
       "Talley,Edward L      Housing & Community Dev 2002-07-15       40828.0   \n",
       "Griffin,Michele L              TRANS-Traffic 1987-05-21       32599.0   \n",
       "Shelton,Gwendolyn D       OED-Employment Dev 2007-06-04       39694.0   \n",
       "Hicks,William A              DPW-Solid Waste 2004-11-22       30139.0   \n",
       "Lewis,Pearlie                      TANF Cust 2011-01-31       15080.0   \n",
       "Bryant,Lisa               OED-Employment Dev 2004-08-31       31199.0   \n",
       "McKnight,Abraham S         Police Department 2006-12-12       54125.0   \n",
       "Brunson,Sylvester    DPW-Water & Waste Water 1987-05-18       47604.0   \n",
       "Martinez,Gustavo A         Police Department 2009-09-14       42391.0   \n",
       "\n",
       "                     GrossPay  \n",
       "Name                           \n",
       "Roth,Michael R       78245.90  \n",
       "Talley,Edward L      37127.10  \n",
       "Griffin,Michele L    30395.13  \n",
       "Shelton,Gwendolyn D  35832.49  \n",
       "Hicks,William A      27712.13  \n",
       "Lewis,Pearlie         2030.00  \n",
       "Bryant,Lisa          28257.75  \n",
       "McKnight,Abraham S   68058.72  \n",
       "Brunson,Sylvester    52270.76  \n",
       "Martinez,Gustavo A   38363.71  "
      ],
      "text/html": [
       "<div>\n",
       "<style scoped>\n",
       "    .dataframe tbody tr th:only-of-type {\n",
       "        vertical-align: middle;\n",
       "    }\n",
       "\n",
       "    .dataframe tbody tr th {\n",
       "        vertical-align: top;\n",
       "    }\n",
       "\n",
       "    .dataframe thead th {\n",
       "        text-align: right;\n",
       "    }\n",
       "</style>\n",
       "<table border=\"1\" class=\"dataframe\">\n",
       "  <thead>\n",
       "    <tr style=\"text-align: right;\">\n",
       "      <th></th>\n",
       "      <th>JobTitle</th>\n",
       "      <th>AgencyID</th>\n",
       "      <th>Agency</th>\n",
       "      <th>HireDate</th>\n",
       "      <th>AnnualSalary</th>\n",
       "      <th>GrossPay</th>\n",
       "    </tr>\n",
       "    <tr>\n",
       "      <th>Name</th>\n",
       "      <th></th>\n",
       "      <th></th>\n",
       "      <th></th>\n",
       "      <th></th>\n",
       "      <th></th>\n",
       "      <th></th>\n",
       "    </tr>\n",
       "  </thead>\n",
       "  <tbody>\n",
       "    <tr>\n",
       "      <th>Roth,Michael R</th>\n",
       "      <td>FIRE CAPTAIN</td>\n",
       "      <td>A64065</td>\n",
       "      <td>Fire Department</td>\n",
       "      <td>1987-04-20</td>\n",
       "      <td>77863.0</td>\n",
       "      <td>78245.90</td>\n",
       "    </tr>\n",
       "    <tr>\n",
       "      <th>Talley,Edward L</th>\n",
       "      <td>CONSTRUCTION ELECTRCL INSPEC I</td>\n",
       "      <td>A06035</td>\n",
       "      <td>Housing &amp; Community Dev</td>\n",
       "      <td>2002-07-15</td>\n",
       "      <td>40828.0</td>\n",
       "      <td>37127.10</td>\n",
       "    </tr>\n",
       "    <tr>\n",
       "      <th>Griffin,Michele L</th>\n",
       "      <td>PARKING CONTROL AGENT I</td>\n",
       "      <td>A90201</td>\n",
       "      <td>TRANS-Traffic</td>\n",
       "      <td>1987-05-21</td>\n",
       "      <td>32599.0</td>\n",
       "      <td>30395.13</td>\n",
       "    </tr>\n",
       "    <tr>\n",
       "      <th>Shelton,Gwendolyn D</th>\n",
       "      <td>Facilities/Office Services II</td>\n",
       "      <td>A03090</td>\n",
       "      <td>OED-Employment Dev</td>\n",
       "      <td>2007-06-04</td>\n",
       "      <td>39694.0</td>\n",
       "      <td>35832.49</td>\n",
       "    </tr>\n",
       "    <tr>\n",
       "      <th>Hicks,William A</th>\n",
       "      <td>MOTOR VEHICLE DRIVER I</td>\n",
       "      <td>B70105</td>\n",
       "      <td>DPW-Solid Waste</td>\n",
       "      <td>2004-11-22</td>\n",
       "      <td>30139.0</td>\n",
       "      <td>27712.13</td>\n",
       "    </tr>\n",
       "    <tr>\n",
       "      <th>Lewis,Pearlie</th>\n",
       "      <td>JTPA TRAINEE MOMR</td>\n",
       "      <td>W08M38</td>\n",
       "      <td>TANF Cust</td>\n",
       "      <td>2011-01-31</td>\n",
       "      <td>15080.0</td>\n",
       "      <td>2030.00</td>\n",
       "    </tr>\n",
       "    <tr>\n",
       "      <th>Bryant,Lisa</th>\n",
       "      <td>Facilities/Office Services I</td>\n",
       "      <td>A03085</td>\n",
       "      <td>OED-Employment Dev</td>\n",
       "      <td>2004-08-31</td>\n",
       "      <td>31199.0</td>\n",
       "      <td>28257.75</td>\n",
       "    </tr>\n",
       "    <tr>\n",
       "      <th>McKnight,Abraham S</th>\n",
       "      <td>POLICE OFFICER</td>\n",
       "      <td>A99170</td>\n",
       "      <td>Police Department</td>\n",
       "      <td>2006-12-12</td>\n",
       "      <td>54125.0</td>\n",
       "      <td>68058.72</td>\n",
       "    </tr>\n",
       "    <tr>\n",
       "      <th>Brunson,Sylvester</th>\n",
       "      <td>UTILITIES INSTALLER REPAIR SII</td>\n",
       "      <td>A50501</td>\n",
       "      <td>DPW-Water &amp; Waste Water</td>\n",
       "      <td>1987-05-18</td>\n",
       "      <td>47604.0</td>\n",
       "      <td>52270.76</td>\n",
       "    </tr>\n",
       "    <tr>\n",
       "      <th>Martinez,Gustavo A</th>\n",
       "      <td>POLICE OFFICER</td>\n",
       "      <td>A99095</td>\n",
       "      <td>Police Department</td>\n",
       "      <td>2009-09-14</td>\n",
       "      <td>42391.0</td>\n",
       "      <td>38363.71</td>\n",
       "    </tr>\n",
       "  </tbody>\n",
       "</table>\n",
       "</div>"
      ]
     },
     "execution_count": 7,
     "metadata": {},
     "output_type": "execute_result"
    }
   ],
   "execution_count": 7
  },
  {
   "cell_type": "markdown",
   "metadata": {},
   "source": [
    "The next cell creates an image"
   ]
  },
  {
   "cell_type": "code",
   "metadata": {
    "ExecuteTime": {
     "end_time": "2025-07-31T04:01:54.699552Z",
     "start_time": "2025-07-31T04:01:54.302630Z"
    }
   },
   "source": [
    "fig, ax = plt.subplots(figsize=(20,16))\n",
    "tiny_sample.plot.scatter(x='AnnualSalary', y='GrossPay', ax=ax)\n",
    "for name, details in tiny_sample.iterrows():\n",
    "    ax.annotate(text=name, xy=(details.AnnualSalary,details.GrossPay), xytext=(details.AnnualSalary+5000, details.GrossPay-5000),\n",
    "                arrowprops=dict(arrowstyle=\"-\", color='black')\n",
    "               )"
   ],
   "outputs": [
    {
     "data": {
      "text/plain": [
       "<Figure size 2000x1600 with 1 Axes>"
      ],
      "image/png": "[encoded data removed]"
     },
     "metadata": {},
     "output_type": "display_data"
    }
   ],
   "execution_count": 8
  },
  {
   "cell_type": "markdown",
   "metadata": {},
   "source": [
    "\n",
    "The next cell will give you five random pairs of people to draw a line between. Draw them, and then **save the image into your\n",
    "GitHub classroom repo so that we know that you've done it**."
   ]
  },
  {
   "cell_type": "code",
   "metadata": {
    "ExecuteTime": {
     "end_time": "2025-07-31T04:01:54.851346Z",
     "start_time": "2025-07-31T04:01:54.842402Z"
    }
   },
   "source": [
    "for i in range(5):\n",
    "    pair = tiny_sample.sample(2)\n",
    "    first_name = pair.index[0]\n",
    "    second_name = pair.index[1]\n",
    "    print(f\"\"\"\n",
    "Draw a line that goes through {first_name} and {second_name}. \n",
    "\n",
    "This should go through ({pair.AnnualSalary.iloc[0]},{pair.GrossPay.iloc[0]}) and ({pair.AnnualSalary.iloc[1]},{pair.GrossPay.iloc[1]})\n",
    "\n",
    "It has a gradient (slope) of {(pair.GrossPay.iloc[1]-pair.GrossPay.iloc[0])/(pair.AnnualSalary.iloc[1]-pair.AnnualSalary.iloc[0])}\n",
    "\n",
    "-----------------------------\n",
    "\"\"\")"
   ],
   "outputs": [
    {
     "name": "stdout",
     "output_type": "stream",
     "text": [
      "\n",
      "Draw a line that goes through Lewis,Pearlie and Griffin,Michele L. \n",
      "\n",
      "This should go through (15080.0,2030.0) and (32599.0,30395.13)\n",
      "\n",
      "It has a gradient (slope) of 1.619106684171471\n",
      "\n",
      "-----------------------------\n",
      "\n",
      "\n",
      "Draw a line that goes through McKnight,Abraham S and Brunson,Sylvester. \n",
      "\n",
      "This should go through (54125.0,68058.72) and (47604.0,52270.76)\n",
      "\n",
      "It has a gradient (slope) of 2.421094924091397\n",
      "\n",
      "-----------------------------\n",
      "\n",
      "\n",
      "Draw a line that goes through Hicks,William A and Griffin,Michele L. \n",
      "\n",
      "This should go through (30139.0,27712.13) and (32599.0,30395.13)\n",
      "\n",
      "It has a gradient (slope) of 1.090650406504065\n",
      "\n",
      "-----------------------------\n",
      "\n",
      "\n",
      "Draw a line that goes through Brunson,Sylvester and Bryant,Lisa. \n",
      "\n",
      "This should go through (47604.0,52270.76) and (31199.0,28257.75)\n",
      "\n",
      "It has a gradient (slope) of 1.4637616580310882\n",
      "\n",
      "-----------------------------\n",
      "\n",
      "\n",
      "Draw a line that goes through Brunson,Sylvester and Bryant,Lisa. \n",
      "\n",
      "This should go through (47604.0,52270.76) and (31199.0,28257.75)\n",
      "\n",
      "It has a gradient (slope) of 1.4637616580310882\n",
      "\n",
      "-----------------------------\n",
      "\n"
     ]
    }
   ],
   "execution_count": 9
  },
  {
   "metadata": {
    "ExecuteTime": {
     "end_time": "2025-07-31T04:01:55.210441Z",
     "start_time": "2025-07-31T04:01:54.972919Z"
    }
   },
   "cell_type": "code",
   "source": [
    "# Scatter points\n",
    "points = {\n",
    "    \"Levin, JoAnn E\": (92800.0, 81736.07),\n",
    "    \"Falls Sr, Deral T\": (38318.0, 34251.78),\n",
    "    \"Garcia, Naisha A\": (57102.0, 56402.18),\n",
    "    \"Bright, Crystal\": (29326.0, 27927.05),\n",
    "    \"Jackson Jr, William G\": (58245.0, 57722.89),\n",
    "    \"Clements, Kevin W\": (63955.0, 66954.73),\n",
    "}\n",
    "\n",
    "# Line equations\n",
    "lines = [\n",
    "    {\"m\": 0.8716, \"c\": 836.98, \"label\": \"Line 1\"},\n",
    "    {\"m\": 1.0252, \"c\": -2116.60, \"label\": \"Line 2\"},\n",
    "    {\"m\": 1.0303, \"c\": -2286.25, \"label\": \"Line 3\"},\n",
    "    {\"m\": 1.6168, \"c\": -36416.70, \"label\": \"Line 4\"},\n",
    "    {\"m\": 1.2756, \"c\": -14634.18, \"label\": \"Line 5\"},\n",
    "]\n",
    "\n",
    "# Generate x values\n",
    "x_values = np.linspace(20000, 95000, 500)\n",
    "\n",
    "# Plot each line\n",
    "for line in lines:\n",
    "    y_values = line[\"m\"] * x_values + line[\"c\"]\n",
    "    plt.plot(x_values, y_values, label=line[\"label\"])\n",
    "\n",
    "# Plot scatter points\n",
    "for name, (x, y) in points.items():\n",
    "    plt.scatter(x, y, label=name)\n",
    "\n",
    "# Add labels and legend\n",
    "plt.xlabel(\"X-axis\")\n",
    "plt.ylabel(\"Y-axis\")\n",
    "plt.title(\"Scatterplot with Lines\")\n",
    "plt.legend()\n",
    "plt.grid()\n",
    "plt.show()\n"
   ],
   "outputs": [
    {
     "data": {
      "text/plain": [
       "<Figure size 640x480 with 1 Axes>"
      ],
      "image/png": "[encoded data removed]"
     },
     "metadata": {},
     "output_type": "display_data"
    }
   ],
   "execution_count": 10
  },
  {
   "cell_type": "markdown",
   "metadata": {},
   "source": [
    "### Get an estimate\n",
    "\n",
    "Which was the \"middle\" slope line on your diagram? i.e., what was the median gradient?"
   ]
  },
  {
   "cell_type": "markdown",
   "metadata": {},
   "source": "_Answer:_ Since the median is 1.0303 and the closest line with the same slope is line 3 that shows that line 3 is middle slope line"
  },
  {
   "cell_type": "markdown",
   "metadata": {},
   "source": [
    "### A moment of reflection\n",
    "\n",
    "Does that mean that Baltimore employees typically get more pay than their salary, or less than their salary?"
   ]
  },
  {
   "cell_type": "markdown",
   "metadata": {},
   "source": "_Answer:_ Yes, this shows that Baltimore employees get more gross salary as the median is 1.03"
  },
  {
   "cell_type": "markdown",
   "metadata": {},
   "source": [
    "# Data Splitting\n",
    "\n",
    "We need to have train, validation and test data. (We actually should have done that before we did our manual Theil-Sen algorithm.)"
   ]
  },
  {
   "cell_type": "code",
   "metadata": {
    "ExecuteTime": {
     "end_time": "2025-07-31T04:01:55.301195Z",
     "start_time": "2025-07-31T04:01:55.284239Z"
    }
   },
   "source": [
    "training_data, holdout_data = sklearn.model_selection.train_test_split(salaries, test_size=0.2)\n",
    "validation_data, test_data = sklearn.model_selection.train_test_split(holdout_data, test_size=0.5)"
   ],
   "outputs": [],
   "execution_count": 11
  },
  {
   "cell_type": "code",
   "metadata": {
    "ExecuteTime": {
     "end_time": "2025-07-31T04:01:55.360772Z",
     "start_time": "2025-07-31T04:01:55.354296Z"
    }
   },
   "source": [
    "training_data.shape, validation_data.shape, test_data.shape"
   ],
   "outputs": [
    {
     "data": {
      "text/plain": [
       "((11563, 6), (1445, 6), (1446, 6))"
      ]
     },
     "execution_count": 12,
     "metadata": {},
     "output_type": "execute_result"
    }
   ],
   "execution_count": 12
  },
  {
   "cell_type": "markdown",
   "metadata": {},
   "source": [
    "# Scikit Learn Regression\n",
    "\n",
    "We'll follow the pattern we followed in the code from lectures:\n",
    "\n",
    "- Construct a Regressor object\n",
    "\n",
    "- `.fit()` it\n",
    "\n",
    "- Use it to `.predict()` the validation data\n",
    "\n",
    "- Look at the coefficients of the model (in this case, the gradient)."
   ]
  },
  {
   "cell_type": "markdown",
   "metadata": {},
   "source": [
    "### Theil-Sen\n",
    "\n",
    "Let's see how close your five-sample version was to a more complete computation."
   ]
  },
  {
   "cell_type": "code",
   "metadata": {
    "ExecuteTime": {
     "end_time": "2025-07-31T04:01:59.962801Z",
     "start_time": "2025-07-31T04:01:55.403959Z"
    }
   },
   "source": [
    "ts = sklearn.linear_model.TheilSenRegressor()\n",
    "ts.fit(training_data[['AnnualSalary']], training_data['GrossPay'])\n",
    "ts_predictions = ts.predict(validation_data[['AnnualSalary']])\n",
    "ts.coef_"
   ],
   "outputs": [
    {
     "name": "stderr",
     "output_type": "stream",
     "text": [
      "P:\\OneDrive - Macquarie University\\Master's Program\\Master UNit guide\\COMP6200 - Data Science\\WorkShop\\data-science-backup\\.venv\\Lib\\site-packages\\sklearn\\linear_model\\_theil_sen.py:128: ConvergenceWarning: Maximum number of iterations 300 reached in spatial median for TheilSen regressor.\n",
      "  warnings.warn(\n"
     ]
    },
    {
     "data": {
      "text/plain": [
       "array([1.03488776])"
      ]
     },
     "execution_count": 13,
     "metadata": {},
     "output_type": "execute_result"
    }
   ],
   "execution_count": 13
  },
  {
   "cell_type": "markdown",
   "metadata": {},
   "source": [
    "### RANSAC\n",
    "\n",
    "Let's use a RANSAC regressor. Getting the coefficients for a RANSAC model is a little unusual: you ask for the best estimator, and then you ask for the coefficients of that best estimator."
   ]
  },
  {
   "cell_type": "code",
   "metadata": {
    "ExecuteTime": {
     "end_time": "2025-07-31T04:02:00.062288Z",
     "start_time": "2025-07-31T04:02:00.023744Z"
    }
   },
   "source": [
    "ransac = sklearn.linear_model.RANSACRegressor()\n",
    "ransac.fit(training_data[['AnnualSalary']], training_data['GrossPay'])\n",
    "ransac_predictions = ransac.predict(validation_data[['AnnualSalary']])\n",
    "ransac.estimator_.coef_"
   ],
   "outputs": [
    {
     "data": {
      "text/plain": [
       "array([1.0213288])"
      ]
     },
     "execution_count": 14,
     "metadata": {},
     "output_type": "execute_result"
    }
   ],
   "execution_count": 14
  },
  {
   "cell_type": "markdown",
   "metadata": {},
   "source": [
    "### Huber\n",
    "\n",
    "One of the best and most robust regressors is the Huber model. Finish off this code."
   ]
  },
  {
   "cell_type": "code",
   "metadata": {
    "ExecuteTime": {
     "end_time": "2025-07-31T04:02:00.149632Z",
     "start_time": "2025-07-31T04:02:00.113770Z"
    }
   },
   "source": [
    "huber = sklearn.linear_model.HuberRegressor()\n",
    "huber.fit(training_data[['AnnualSalary']], training_data['GrossPay'])\n",
    "huber_predictions = huber.predict(validation_data[['AnnualSalary']])\n",
    "huber.coef_\n"
   ],
   "outputs": [
    {
     "data": {
      "text/plain": [
       "array([0.91084771])"
      ]
     },
     "execution_count": 15,
     "metadata": {},
     "output_type": "execute_result"
    }
   ],
   "execution_count": 15
  },
  {
   "cell_type": "markdown",
   "metadata": {},
   "source": [
    "### Ordinary Least Squares\n",
    "\n",
    "It is very common and popular, so the scikit learn class is called `LinearRegression()`"
   ]
  },
  {
   "cell_type": "code",
   "metadata": {
    "ExecuteTime": {
     "end_time": "2025-07-31T04:02:00.199253Z",
     "start_time": "2025-07-31T04:02:00.188064Z"
    }
   },
   "source": [
    "ols = sklearn.linear_model.LinearRegression()\n",
    "ols.fit(training_data[['AnnualSalary']], training_data['GrossPay'])\n",
    "ols_predictions = ols.predict(validation_data[['AnnualSalary']])\n",
    "ols.coef_"
   ],
   "outputs": [
    {
     "data": {
      "text/plain": [
       "array([1.02360398])"
      ]
     },
     "execution_count": 16,
     "metadata": {},
     "output_type": "execute_result"
    }
   ],
   "execution_count": 16
  },
  {
   "cell_type": "markdown",
   "metadata": {},
   "source": [
    "# Evaluating these models\n",
    "\n",
    "How wrong were the predictions? We can subtract the prediction from the correct answer to look."
   ]
  },
  {
   "cell_type": "code",
   "metadata": {
    "ExecuteTime": {
     "end_time": "2025-07-31T04:02:00.249224Z",
     "start_time": "2025-07-31T04:02:00.241477Z"
    }
   },
   "source": [
    "validation_data.GrossPay - ts_predictions"
   ],
   "outputs": [
    {
     "data": {
      "text/plain": [
       "Name\n",
       "Ashenafi,Behailu        -2093.424172\n",
       "Schley,Michael F         2963.899936\n",
       "Alsup,Alexis             -735.879066\n",
       "Campbell Jr,Robert M    -7016.597666\n",
       "Bell,Terry M            18190.506678\n",
       "                            ...     \n",
       "Green,Garnell W        -12993.510854\n",
       "Hart,Patrick J           7313.505652\n",
       "Paul,Thomas G             -85.573131\n",
       "Scott,Gerard W          -6655.599840\n",
       "Bonsall,Darby M         -2575.076184\n",
       "Name: GrossPay, Length: 1445, dtype: float64"
      ]
     },
     "execution_count": 17,
     "metadata": {},
     "output_type": "execute_result"
    }
   ],
   "execution_count": 17
  },
  {
   "cell_type": "code",
   "metadata": {
    "ExecuteTime": {
     "end_time": "2025-07-31T04:02:00.328738Z",
     "start_time": "2025-07-31T04:02:00.321058Z"
    }
   },
   "source": [
    "validation_data.GrossPay - ransac_predictions"
   ],
   "outputs": [
    {
     "data": {
      "text/plain": [
       "Name\n",
       "Ashenafi,Behailu         -536.442687\n",
       "Schley,Michael F         4282.189489\n",
       "Alsup,Alexis              661.052455\n",
       "Campbell Jr,Robert M    -5554.867875\n",
       "Bell,Terry M            20061.676386\n",
       "                            ...     \n",
       "Green,Garnell W        -10716.751975\n",
       "Hart,Patrick J           9025.696553\n",
       "Paul,Thomas G            1795.887827\n",
       "Scott,Gerard W          -5337.283169\n",
       "Bonsall,Darby M         -1122.227511\n",
       "Name: GrossPay, Length: 1445, dtype: float64"
      ]
     },
     "execution_count": 18,
     "metadata": {},
     "output_type": "execute_result"
    }
   ],
   "execution_count": 18
  },
  {
   "cell_type": "markdown",
   "metadata": {},
   "source": [
    "Now look at the data for your Huber regressor and your Ordinary Least Squares regressor. (Put the calculations into the next two cells.)"
   ]
  },
  {
   "cell_type": "code",
   "metadata": {
    "ExecuteTime": {
     "end_time": "2025-07-31T04:02:00.524232Z",
     "start_time": "2025-07-31T04:02:00.518012Z"
    }
   },
   "source": "validation_data.GrossPay - huber_predictions",
   "outputs": [
    {
     "data": {
      "text/plain": [
       "Name\n",
       "Ashenafi,Behailu           -0.237174\n",
       "Schley,Michael F         2873.485862\n",
       "Alsup,Alexis             -106.860839\n",
       "Campbell Jr,Robert M    -5794.792031\n",
       "Bell,Terry M            23157.949756\n",
       "                            ...     \n",
       "Green,Garnell W         -4315.657707\n",
       "Hart,Patrick J          10826.579122\n",
       "Paul,Thomas G            4976.016347\n",
       "Scott,Gerard W          -6745.765833\n",
       "Bonsall,Darby M         -1434.516783\n",
       "Name: GrossPay, Length: 1445, dtype: float64"
      ]
     },
     "execution_count": 19,
     "metadata": {},
     "output_type": "execute_result"
    }
   ],
   "execution_count": 19
  },
  {
   "cell_type": "code",
   "metadata": {
    "ExecuteTime": {
     "end_time": "2025-07-31T04:02:01.084997Z",
     "start_time": "2025-07-31T04:02:01.078429Z"
    }
   },
   "source": "validation_data.GrossPay - ols_predictions",
   "outputs": [
    {
     "data": {
      "text/plain": [
       "Name\n",
       "Ashenafi,Behailu         -411.324922\n",
       "Schley,Michael F         4447.359616\n",
       "Alsup,Alexis              813.026507\n",
       "Campbell Jr,Robert M    -5413.766933\n",
       "Bell,Terry M            20134.073556\n",
       "                            ...     \n",
       "Green,Garnell W        -10712.412424\n",
       "Hart,Patrick J           9124.770271\n",
       "Paul,Thomas G            1866.558132\n",
       "Scott,Gerard W          -5172.117592\n",
       "Bonsall,Darby M          -979.636323\n",
       "Name: GrossPay, Length: 1445, dtype: float64"
      ]
     },
     "execution_count": 20,
     "metadata": {},
     "output_type": "execute_result"
    }
   ],
   "execution_count": 20
  },
  {
   "cell_type": "markdown",
   "metadata": {},
   "source": [
    "## Summarising how wrong they were\n",
    "\n",
    "Ideally, we'd like a number that says which one was the best. But choosing which way we calculate that number is a decision\n",
    "that reflects what we think is important. These are questions we might ask:\n",
    "\n",
    "- What's the most inaccurate prediction?\n",
    "\n",
    "- 99% of the time, the correct answer was within ____ of what we predicted?\n",
    "\n",
    "- On average, how far away from the right answer were we?\n"
   ]
  },
  {
   "cell_type": "markdown",
   "metadata": {},
   "source": "Here's how to get the most inaccurate prediction for the Theil-Sen regressor. (The maximum of the absolute values of the error in our prediction.). In the following cells, do RANSAC, Huber and Ordinary Least Squares"
  },
  {
   "cell_type": "code",
   "metadata": {
    "ExecuteTime": {
     "end_time": "2025-07-31T04:02:01.270609Z",
     "start_time": "2025-07-31T04:02:01.263470Z"
    }
   },
   "source": [
    "(validation_data.GrossPay - ts_predictions).abs().max()"
   ],
   "outputs": [
    {
     "data": {
      "text/plain": [
       "np.float64(156287.98418480967)"
      ]
     },
     "execution_count": 21,
     "metadata": {},
     "output_type": "execute_result"
    }
   ],
   "execution_count": 21
  },
  {
   "cell_type": "code",
   "metadata": {
    "ExecuteTime": {
     "end_time": "2025-07-31T04:02:01.423483Z",
     "start_time": "2025-07-31T04:02:01.416904Z"
    }
   },
   "source": "(validation_data.GrossPay - ransac_predictions).abs().max()",
   "outputs": [
    {
     "data": {
      "text/plain": [
       "np.float64(152112.6183659754)"
      ]
     },
     "execution_count": 22,
     "metadata": {},
     "output_type": "execute_result"
    }
   ],
   "execution_count": 22
  },
  {
   "cell_type": "code",
   "metadata": {
    "ExecuteTime": {
     "end_time": "2025-07-31T04:02:01.564717Z",
     "start_time": "2025-07-31T04:02:01.558070Z"
    }
   },
   "source": "(validation_data.GrossPay - huber_predictions).abs().max()",
   "outputs": [
    {
     "data": {
      "text/plain": [
       "np.float64(130241.29874525094)"
      ]
     },
     "execution_count": 23,
     "metadata": {},
     "output_type": "execute_result"
    }
   ],
   "execution_count": 23
  },
  {
   "metadata": {
    "ExecuteTime": {
     "end_time": "2025-07-31T04:02:01.625796Z",
     "start_time": "2025-07-31T04:02:01.620346Z"
    }
   },
   "cell_type": "code",
   "source": "(validation_data.GrossPay - ols_predictions).abs().max()",
   "outputs": [
    {
     "data": {
      "text/plain": [
       "np.float64(152426.86391660967)"
      ]
     },
     "execution_count": 24,
     "metadata": {},
     "output_type": "execute_result"
    }
   ],
   "execution_count": 24
  },
  {
   "cell_type": "markdown",
   "metadata": {},
   "source": "99% of the predictions were wrong by less than this amount… (fill in RANSAC, Huber and Ordinary Least Squares)"
  },
  {
   "cell_type": "code",
   "metadata": {
    "ExecuteTime": {
     "end_time": "2025-07-31T04:02:01.688581Z",
     "start_time": "2025-07-31T04:02:01.679800Z"
    }
   },
   "source": [
    "(validation_data.GrossPay - ts_predictions).abs().quantile(0.99)"
   ],
   "outputs": [
    {
     "data": {
      "text/plain": [
       "np.float64(45216.003552515875)"
      ]
     },
     "execution_count": 25,
     "metadata": {},
     "output_type": "execute_result"
    }
   ],
   "execution_count": 25
  },
  {
   "cell_type": "code",
   "metadata": {
    "ExecuteTime": {
     "end_time": "2025-07-31T04:02:01.786768Z",
     "start_time": "2025-07-31T04:02:01.778639Z"
    }
   },
   "source": "(validation_data.GrossPay - ransac_predictions).abs().quantile(0.99)",
   "outputs": [
    {
     "data": {
      "text/plain": [
       "np.float64(45135.60439026732)"
      ]
     },
     "execution_count": 26,
     "metadata": {},
     "output_type": "execute_result"
    }
   ],
   "execution_count": 26
  },
  {
   "cell_type": "code",
   "metadata": {
    "ExecuteTime": {
     "end_time": "2025-07-31T04:02:01.847839Z",
     "start_time": "2025-07-31T04:02:01.840899Z"
    }
   },
   "source": "(validation_data.GrossPay - huber_predictions).abs().quantile(0.99)",
   "outputs": [
    {
     "data": {
      "text/plain": [
       "np.float64(42074.30920633877)"
      ]
     },
     "execution_count": 27,
     "metadata": {},
     "output_type": "execute_result"
    }
   ],
   "execution_count": 27
  },
  {
   "cell_type": "code",
   "metadata": {
    "ExecuteTime": {
     "end_time": "2025-07-31T04:02:01.902162Z",
     "start_time": "2025-07-31T04:02:01.895690Z"
    }
   },
   "source": "(validation_data.GrossPay - ols_predictions).abs().quantile(0.99)",
   "outputs": [
    {
     "data": {
      "text/plain": [
       "np.float64(45064.82487705559)"
      ]
     },
     "execution_count": 28,
     "metadata": {},
     "output_type": "execute_result"
    }
   ],
   "execution_count": 28
  },
  {
   "cell_type": "markdown",
   "metadata": {},
   "source": [
    "Here's how we could get the mean absolute error (how far we are away from the right answer on average). sklearn has many built-in functions for doing these sorts of calculations. (Fill in RANSAC, Huber and Ordinary Least Squares)."
   ]
  },
  {
   "cell_type": "code",
   "metadata": {
    "ExecuteTime": {
     "end_time": "2025-07-31T04:02:01.961103Z",
     "start_time": "2025-07-31T04:02:01.954263Z"
    }
   },
   "source": [
    "sklearn.metrics.mean_absolute_error(validation_data.GrossPay, ts_predictions)"
   ],
   "outputs": [
    {
     "data": {
      "text/plain": [
       "6633.380887158854"
      ]
     },
     "execution_count": 29,
     "metadata": {},
     "output_type": "execute_result"
    }
   ],
   "execution_count": 29
  },
  {
   "cell_type": "code",
   "metadata": {
    "ExecuteTime": {
     "end_time": "2025-07-31T04:02:02.017660Z",
     "start_time": "2025-07-31T04:02:02.010751Z"
    }
   },
   "source": "sklearn.metrics.mean_absolute_error(validation_data.GrossPay, ransac_predictions)",
   "outputs": [
    {
     "data": {
      "text/plain": [
       "6485.0011577774"
      ]
     },
     "execution_count": 30,
     "metadata": {},
     "output_type": "execute_result"
    }
   ],
   "execution_count": 30
  },
  {
   "cell_type": "code",
   "metadata": {
    "ExecuteTime": {
     "end_time": "2025-07-31T04:02:02.080272Z",
     "start_time": "2025-07-31T04:02:02.071878Z"
    }
   },
   "source": "sklearn.metrics.mean_absolute_error(validation_data.GrossPay, huber_predictions)",
   "outputs": [
    {
     "data": {
      "text/plain": [
       "6389.698188672716"
      ]
     },
     "execution_count": 31,
     "metadata": {},
     "output_type": "execute_result"
    }
   ],
   "execution_count": 31
  },
  {
   "cell_type": "code",
   "metadata": {
    "ExecuteTime": {
     "end_time": "2025-07-31T04:02:02.131659Z",
     "start_time": "2025-07-31T04:02:02.124823Z"
    }
   },
   "source": "sklearn.metrics.mean_absolute_error(validation_data.GrossPay, ols_predictions)",
   "outputs": [
    {
     "data": {
      "text/plain": [
       "6497.775697553018"
      ]
     },
     "execution_count": 32,
     "metadata": {},
     "output_type": "execute_result"
    }
   ],
   "execution_count": 32
  },
  {
   "cell_type": "markdown",
   "metadata": {},
   "source": "A very common measure is the $R^2$ measure:"
  },
  {
   "cell_type": "code",
   "metadata": {
    "ExecuteTime": {
     "end_time": "2025-07-31T04:02:02.192030Z",
     "start_time": "2025-07-31T04:02:02.185380Z"
    }
   },
   "source": [
    "sklearn.metrics.r2_score(validation_data.GrossPay, ts_predictions)"
   ],
   "outputs": [
    {
     "data": {
      "text/plain": [
       "0.7357453436511918"
      ]
     },
     "execution_count": 33,
     "metadata": {},
     "output_type": "execute_result"
    }
   ],
   "execution_count": 33
  },
  {
   "cell_type": "code",
   "metadata": {
    "ExecuteTime": {
     "end_time": "2025-07-31T04:02:02.247974Z",
     "start_time": "2025-07-31T04:02:02.241421Z"
    }
   },
   "source": "sklearn.metrics.r2_score(validation_data.GrossPay, ransac_predictions)",
   "outputs": [
    {
     "data": {
      "text/plain": [
       "0.7436997755869692"
      ]
     },
     "execution_count": 34,
     "metadata": {},
     "output_type": "execute_result"
    }
   ],
   "execution_count": 34
  },
  {
   "cell_type": "code",
   "metadata": {
    "ExecuteTime": {
     "end_time": "2025-07-31T04:02:02.308876Z",
     "start_time": "2025-07-31T04:02:02.303099Z"
    }
   },
   "source": "sklearn.metrics.r2_score(validation_data.GrossPay, huber_predictions)",
   "outputs": [
    {
     "data": {
      "text/plain": [
       "0.745193147648665"
      ]
     },
     "execution_count": 35,
     "metadata": {},
     "output_type": "execute_result"
    }
   ],
   "execution_count": 35
  },
  {
   "cell_type": "code",
   "metadata": {
    "ExecuteTime": {
     "end_time": "2025-07-31T04:02:02.361808Z",
     "start_time": "2025-07-31T04:02:02.354942Z"
    }
   },
   "source": "sklearn.metrics.r2_score(validation_data.GrossPay, ols_predictions)",
   "outputs": [
    {
     "data": {
      "text/plain": [
       "0.743567055337299"
      ]
     },
     "execution_count": 36,
     "metadata": {},
     "output_type": "execute_result"
    }
   ],
   "execution_count": 36
  },
  {
   "cell_type": "markdown",
   "metadata": {},
   "source": [
    "## Time to choose!\n",
    "\n",
    "On the basis of the information you chose above, which regressor are you going to choose to use?\n"
   ]
  },
  {
   "cell_type": "markdown",
   "metadata": {},
   "source": "_Answer_: As we can see, that huber model is showing the least error which is equal to 6133.35 in my code."
  },
  {
   "cell_type": "markdown",
   "metadata": {},
   "source": [
    "### Evaluating it\n",
    "\n",
    "You don't want to run `.fit()` again, but you do want to run `.predict()` again, using the model that you chose in the last section,\n",
    "but this time using the test data. Call the variable that stores those predictions `test_predictions`."
   ]
  },
  {
   "cell_type": "code",
   "metadata": {
    "ExecuteTime": {
     "end_time": "2025-07-31T04:02:02.414799Z",
     "start_time": "2025-07-31T04:02:02.406139Z"
    }
   },
   "source": "test_predictions = huber.predict(test_data[['AnnualSalary']])",
   "outputs": [],
   "execution_count": 37
  },
  {
   "cell_type": "markdown",
   "metadata": {},
   "source": [
    "Using the measure that you thought was the most important—the reason you chose that model over the others—evaluate how good your chosen model is.\n",
    "\n",
    "i.e., if you thought $R^2$ score was the most important, you would copy that same metric calculation here, comparing `test_data.GrossPay` to `test_predictions`."
   ]
  },
  {
   "cell_type": "code",
   "metadata": {
    "ExecuteTime": {
     "end_time": "2025-07-31T04:02:02.502104Z",
     "start_time": "2025-07-31T04:02:02.491905Z"
    }
   },
   "source": "test_data.GrossPay - test_predictions",
   "outputs": [
    {
     "data": {
      "text/plain": [
       "Name\n",
       "Gilchrist Anders,Donna       29.411353\n",
       "Gervis,Irene S           -36670.710005\n",
       "Terry,Michael J           13626.092854\n",
       "Gentil,Michael C          15178.812768\n",
       "Fold,Elizabeth R          11959.813100\n",
       "                              ...     \n",
       "Murphy,Brandi B            1016.513745\n",
       "Ford,Jerry D               2643.572945\n",
       "Shiloh,Laura A            29011.225318\n",
       "Hopkins,Brian C            2378.063446\n",
       "Maith,Robert J             4516.183011\n",
       "Name: GrossPay, Length: 1446, dtype: float64"
      ]
     },
     "execution_count": 38,
     "metadata": {},
     "output_type": "execute_result"
    }
   ],
   "execution_count": 38
  },
  {
   "cell_type": "markdown",
   "metadata": {},
   "source": [
    "# A completely different analysis\n",
    "\n",
    "Now imagine that you are the City of Baltimore's hiring manager. New employees regularly ask how much they are actually likely to earn given the salary to which they are about to agree.\n",
    "\n",
    "You don't want to give an answer that is too high because you might be putting the city at risk for a lawsuit for misrepresenting the job. On the other hand, you don't want to give an answer that's too low because the candidate might pass up on the job and work elsewhere.\n",
    "\n",
    "You decide that it will cost \\\\$0.05 in lawsuit risk for each dollar you overrepresented, but only \\\\$0.01 for each dollar you underrepresented.\n",
    "\n",
    "E.g., if a candidate is actually likely to earn \\\\$100,000, and you say \\\\$120,000, this is worth \\\\$10,000 in potential lawsuits for misrepresentation. If you say \\\\$80,000, then that will cost you \\$200 in potential recruiters' fees to find someone else.\n",
    "\n",
    "Here's a function that will calculate the cost of these predictions. Don't worry if it is too complicated for you to create\n",
    "by yourself right now, but see if you can make sense of how it works"
   ]
  },
  {
   "cell_type": "code",
   "metadata": {
    "ExecuteTime": {
     "end_time": "2025-07-31T04:02:02.597923Z",
     "start_time": "2025-07-31T04:02:02.593012Z"
    }
   },
   "source": [
    "def cost(actuals, predictions):\n",
    "    cost = 0.0\n",
    "    for actual,prediction in zip(actuals, predictions):\n",
    "        if prediction > actual:\n",
    "            cost += 0.05 * (prediction - actual)\n",
    "        elif prediction < actual:\n",
    "            cost += 0.02 * (actual - prediction)\n",
    "        else:\n",
    "            cost += 0.0\n",
    "    return cost"
   ],
   "outputs": [],
   "execution_count": 39
  },
  {
   "cell_type": "markdown",
   "metadata": {},
   "source": [
    "Here's how you would use it for the Theil-Sen predictions. Use it to calculate the cost of the RANSAC, Huber and Ordinary Least Squares Regressors."
   ]
  },
  {
   "cell_type": "code",
   "metadata": {
    "ExecuteTime": {
     "end_time": "2025-07-31T04:02:02.748906Z",
     "start_time": "2025-07-31T04:02:02.743367Z"
    }
   },
   "source": [
    "cost(validation_data['GrossPay'], ts_predictions)"
   ],
   "outputs": [
    {
     "data": {
      "text/plain": [
       "np.float64(375702.40723129344)"
      ]
     },
     "execution_count": 40,
     "metadata": {},
     "output_type": "execute_result"
    }
   ],
   "execution_count": 40
  },
  {
   "cell_type": "code",
   "metadata": {
    "ExecuteTime": {
     "end_time": "2025-07-31T04:02:02.837050Z",
     "start_time": "2025-07-31T04:02:02.831753Z"
    }
   },
   "source": "cost(validation_data['GrossPay'], ransac_predictions)",
   "outputs": [
    {
     "data": {
      "text/plain": [
       "np.float64(334269.15044504503)"
      ]
     },
     "execution_count": 41,
     "metadata": {},
     "output_type": "execute_result"
    }
   ],
   "execution_count": 41
  },
  {
   "cell_type": "code",
   "metadata": {
    "ExecuteTime": {
     "end_time": "2025-07-31T04:02:02.894092Z",
     "start_time": "2025-07-31T04:02:02.887352Z"
    }
   },
   "source": "cost(validation_data['GrossPay'], huber_predictions)",
   "outputs": [
    {
     "data": {
      "text/plain": [
       "np.float64(316349.0421492715)"
      ]
     },
     "execution_count": 42,
     "metadata": {},
     "output_type": "execute_result"
    }
   ],
   "execution_count": 42
  },
  {
   "cell_type": "code",
   "metadata": {
    "ExecuteTime": {
     "end_time": "2025-07-31T04:02:02.978940Z",
     "start_time": "2025-07-31T04:02:02.972390Z"
    }
   },
   "source": "cost(validation_data['GrossPay'], ols_predictions)",
   "outputs": [
    {
     "data": {
      "text/plain": [
       "np.float64(332233.730413442)"
      ]
     },
     "execution_count": 43,
     "metadata": {},
     "output_type": "execute_result"
    }
   ],
   "execution_count": 43
  },
  {
   "cell_type": "markdown",
   "metadata": {},
   "source": [
    "Based on this, which of the models we created today model would be the best one to use for answering new employees' questions?"
   ]
  },
  {
   "cell_type": "markdown",
   "metadata": {},
   "source": "_Answer:_ Based on the results above huber model is the best suitable for answering employees' questions regarding gross pay."
  }
 ],
 "metadata": {
  "kernelspec": {
   "display_name": "Python 3 (ipykernel)",
   "language": "python",
   "name": "python3"
  },
  "language_info": {
   "codemirror_mode": {
    "name": "ipython",
    "version": 3
   },
   "file_extension": ".py",
   "mimetype": "text/x-python",
   "name": "python",
   "nbconvert_exporter": "python",
   "pygments_lexer": "ipython3",
   "version": "3.11.6"
  }
 },
 "nbformat": 4,
 "nbformat_minor": 4
}
