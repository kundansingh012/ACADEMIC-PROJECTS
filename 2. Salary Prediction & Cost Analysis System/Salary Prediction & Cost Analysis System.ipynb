{
 "cells": [
  {
   "metadata": {},
   "cell_type": "markdown",
   "source": [
    "# COMP2200/COMP6200 Prac 1\n",
    "\n",
    "_Authors: Greg Baker (greg.baker@mq.edu.au)_\n",
    "\n",
    "---\n",
    "\n",
    "The City of Baltimore publishes data about all of its employees, including their salaries. And these annual salaries can differ from their gross pay: Perhaps an employee works nightshift/overtime and earns more than their official salary; perhaps they are only employed for a part of the year and earn less.\n",
    "\n",
    "In this lab, we'll estimate what a typical city employee's gross pay will be based on their annual salary.\n",
    "\n",
    "Remember to using a notebook, you need to run each cell. If left side of a cell says `[ ]`, it hasn't been run. If the left side\n",
    "says something like `[25]` then it has been. Shift-Enter runs a cell; if you look around the user interface, various other menu items can run several cells in sequence."
   ]
  },
  {
   "cell_type": "markdown",
   "metadata": {},
   "source": [
    "**Note**\n",
    "\n",
    "This prac will cover a very complete data science lifecycle. Unfortunately, this requires some skills that we don't know yet. So there are some blocks of code that do things which we haven't explained yet. That's OK. We'll get there.\n",
    "\n",
    "Here are the steps we'll do:\n",
    "\n",
    "- Data Acquisition—there will be a little of coding for you here\n",
    "\n",
    "- Data Cleaning and Preparation\n",
    "\n",
    "- Training—there will be a little bit here for you to do as well\n",
    "\n",
    "- Validation—lots to do here\n",
    "\n",
    "- Evaluation—lots to do here"
   ]
  },
  {
   "cell_type": "markdown",
   "metadata": {},
   "source": [
    "# Data Acquisition\n",
    "\n",
    "Don't worry too much about the following blocks of code. Over the next few weeks, you'll get more comfortable with this, and you'll\n",
    "see that a lot of data science programming work is simple and easy-to-repeat.\n",
    "\n",
    "First up, let's load the libraries we need:"
   ]
  },
  {
   "cell_type": "code",
   "metadata": {
    "ExecuteTime": {
     "end_time": "2025-03-07T04:46:33.556848Z",
     "start_time": "2025-03-07T04:46:33.549730Z"
    }
   },
   "source": [
    "from sklearn.cluster import mean_shift\n",
    "from sklearn.metrics import mean_absolute_error\n",
    "%matplotlib inline\n",
    "import pandas as pd\n",
    "import seaborn as sns\n",
    "import numpy as np\n",
    "import matplotlib.pyplot as plt\n",
    "import datetime as dt\n",
    "import sklearn.linear_model\n",
    "import sklearn.model_selection\n",
    "import sklearn.metrics"
   ],
   "outputs": [],
   "execution_count": 95
  },
  {
   "cell_type": "markdown",
   "metadata": {},
   "source": [
    "The Baltimore salaries data set is available in `Baltimore_City_Employee_Salaries_2011.csv`. This is a file and needs to be in the same directory as this notebook. Column 0 is the name of the employee, and we'll use it as an index. Column 4 is a date. (Note that we count columns starting with \"0\").\n",
    "\n",
    "The pandas `read_csv` function reads it into a dataframe called `salaries`"
   ]
  },
  {
   "cell_type": "code",
   "metadata": {
    "ExecuteTime": {
     "end_time": "2025-03-07T04:46:36.907868Z",
     "start_time": "2025-03-07T04:46:36.810788Z"
    }
   },
   "source": [
    "salaries = pd.read_csv('Baltimore_City_Employee_Salaries_2011.csv', \n",
    "                       index_col=0, #colum 1 will be marked as index\n",
    "                      parse_dates=[4]) # colum 5 will be parsed as datetime\n",
    "salaries.head()"
   ],
   "outputs": [
    {
     "data": {
      "text/plain": [
       "                                         JobTitle AgencyID  \\\n",
       "Name                                                         \n",
       "Aaron,Patricia G    Facilities/Office Services II   A03031   \n",
       "Aaron,Petra L          ASSISTANT STATE'S ATTORNEY   A29005   \n",
       "Abaineh,Yohannes T                 EPIDEMIOLOGIST   A65026   \n",
       "Abdal-Rahim,Naim A                EMT Firefighter   A64063   \n",
       "Abdi,Ezekiel W                     POLICE OFFICER   A99398   \n",
       "\n",
       "                                     Agency   HireDate AnnualSalary   GrossPay  \n",
       "Name                                                                            \n",
       "Aaron,Patricia G         OED-Employment Dev 1979-10-24    $50845.00  $45505.94  \n",
       "Aaron,Petra L       States Attorneys Office 2006-09-25    $56595.00  $51588.89  \n",
       "Abaineh,Yohannes T   HLTH-Health Department 2009-07-23    $56500.00  $50633.26  \n",
       "Abdal-Rahim,Naim A    Fire Academy Recruits 2011-03-30    $33476.00   $3888.95  \n",
       "Abdi,Ezekiel W            Police Department 2007-06-14    $50919.00  $51421.73  "
      ],
      "text/html": [
       "<div>\n",
       "<style scoped>\n",
       "    .dataframe tbody tr th:only-of-type {\n",
       "        vertical-align: middle;\n",
       "    }\n",
       "\n",
       "    .dataframe tbody tr th {\n",
       "        vertical-align: top;\n",
       "    }\n",
       "\n",
       "    .dataframe thead th {\n",
       "        text-align: right;\n",
       "    }\n",
       "</style>\n",
       "<table border=\"1\" class=\"dataframe\">\n",
       "  <thead>\n",
       "    <tr style=\"text-align: right;\">\n",
       "      <th></th>\n",
       "      <th>JobTitle</th>\n",
       "      <th>AgencyID</th>\n",
       "      <th>Agency</th>\n",
       "      <th>HireDate</th>\n",
       "      <th>AnnualSalary</th>\n",
       "      <th>GrossPay</th>\n",
       "    </tr>\n",
       "    <tr>\n",
       "      <th>Name</th>\n",
       "      <th></th>\n",
       "      <th></th>\n",
       "      <th></th>\n",
       "      <th></th>\n",
       "      <th></th>\n",
       "      <th></th>\n",
       "    </tr>\n",
       "  </thead>\n",
       "  <tbody>\n",
       "    <tr>\n",
       "      <th>Aaron,Patricia G</th>\n",
       "      <td>Facilities/Office Services II</td>\n",
       "      <td>A03031</td>\n",
       "      <td>OED-Employment Dev</td>\n",
       "      <td>1979-10-24</td>\n",
       "      <td>$50845.00</td>\n",
       "      <td>$45505.94</td>\n",
       "    </tr>\n",
       "    <tr>\n",
       "      <th>Aaron,Petra L</th>\n",
       "      <td>ASSISTANT STATE'S ATTORNEY</td>\n",
       "      <td>A29005</td>\n",
       "      <td>States Attorneys Office</td>\n",
       "      <td>2006-09-25</td>\n",
       "      <td>$56595.00</td>\n",
       "      <td>$51588.89</td>\n",
       "    </tr>\n",
       "    <tr>\n",
       "      <th>Abaineh,Yohannes T</th>\n",
       "      <td>EPIDEMIOLOGIST</td>\n",
       "      <td>A65026</td>\n",
       "      <td>HLTH-Health Department</td>\n",
       "      <td>2009-07-23</td>\n",
       "      <td>$56500.00</td>\n",
       "      <td>$50633.26</td>\n",
       "    </tr>\n",
       "    <tr>\n",
       "      <th>Abdal-Rahim,Naim A</th>\n",
       "      <td>EMT Firefighter</td>\n",
       "      <td>A64063</td>\n",
       "      <td>Fire Academy Recruits</td>\n",
       "      <td>2011-03-30</td>\n",
       "      <td>$33476.00</td>\n",
       "      <td>$3888.95</td>\n",
       "    </tr>\n",
       "    <tr>\n",
       "      <th>Abdi,Ezekiel W</th>\n",
       "      <td>POLICE OFFICER</td>\n",
       "      <td>A99398</td>\n",
       "      <td>Police Department</td>\n",
       "      <td>2007-06-14</td>\n",
       "      <td>$50919.00</td>\n",
       "      <td>$51421.73</td>\n",
       "    </tr>\n",
       "  </tbody>\n",
       "</table>\n",
       "</div>"
      ]
     },
     "execution_count": 96,
     "metadata": {},
     "output_type": "execute_result"
    }
   ],
   "execution_count": 96
  },
  {
   "cell_type": "markdown",
   "metadata": {},
   "source": [
    "## Your Turn....\n",
    "\n",
    "Last week you learned about the `.tail()` method to see the last few rows in a database. Use that now to look at\n",
    "the end of the `salaries` dataframe."
   ]
  },
  {
   "cell_type": "code",
   "metadata": {
    "ExecuteTime": {
     "end_time": "2025-03-07T04:46:39.892696Z",
     "start_time": "2025-03-07T04:46:39.875912Z"
    }
   },
   "source": "salaries.tail() #will show us tail of the csv file",
   "outputs": [
    {
     "data": {
      "text/plain": [
       "                                       JobTitle AgencyID  \\\n",
       "Name                                                       \n",
       "Lewis,Awanda S   SCHOOL HEALTH AIDE (10 MONTHS)   A65104   \n",
       "Lewis,Bernard T              FIRE PUMP OPERATOR   A64120   \n",
       "Lewis,Brian C                    POLICE OFFICER   A99322   \n",
       "Lewis,Capri T                 JTPA TRAINEE MOMR   W03T19   \n",
       "Lewis,Carlos E                     CARPENTER II   A50212   \n",
       "\n",
       "                                  Agency   HireDate AnnualSalary   GrossPay  \n",
       "Name                                                                         \n",
       "Lewis,Awanda S    HLTH-Health Department 2006-07-01    $23395.00  $21746.79  \n",
       "Lewis,Bernard T          Fire Department 1990-03-26    $61653.00  $59866.23  \n",
       "Lewis,Brian C          Police Department 1998-04-20    $61672.00  $84219.58  \n",
       "Lewis,Capri T                 Youth Cust 2009-06-11    $15080.00   $1881.38  \n",
       "Lewis,Carlos E   DPW-Water & Waste Water 1993-08-02    $34643.00  $29709.64  "
      ],
      "text/html": [
       "<div>\n",
       "<style scoped>\n",
       "    .dataframe tbody tr th:only-of-type {\n",
       "        vertical-align: middle;\n",
       "    }\n",
       "\n",
       "    .dataframe tbody tr th {\n",
       "        vertical-align: top;\n",
       "    }\n",
       "\n",
       "    .dataframe thead th {\n",
       "        text-align: right;\n",
       "    }\n",
       "</style>\n",
       "<table border=\"1\" class=\"dataframe\">\n",
       "  <thead>\n",
       "    <tr style=\"text-align: right;\">\n",
       "      <th></th>\n",
       "      <th>JobTitle</th>\n",
       "      <th>AgencyID</th>\n",
       "      <th>Agency</th>\n",
       "      <th>HireDate</th>\n",
       "      <th>AnnualSalary</th>\n",
       "      <th>GrossPay</th>\n",
       "    </tr>\n",
       "    <tr>\n",
       "      <th>Name</th>\n",
       "      <th></th>\n",
       "      <th></th>\n",
       "      <th></th>\n",
       "      <th></th>\n",
       "      <th></th>\n",
       "      <th></th>\n",
       "    </tr>\n",
       "  </thead>\n",
       "  <tbody>\n",
       "    <tr>\n",
       "      <th>Lewis,Awanda S</th>\n",
       "      <td>SCHOOL HEALTH AIDE (10 MONTHS)</td>\n",
       "      <td>A65104</td>\n",
       "      <td>HLTH-Health Department</td>\n",
       "      <td>2006-07-01</td>\n",
       "      <td>$23395.00</td>\n",
       "      <td>$21746.79</td>\n",
       "    </tr>\n",
       "    <tr>\n",
       "      <th>Lewis,Bernard T</th>\n",
       "      <td>FIRE PUMP OPERATOR</td>\n",
       "      <td>A64120</td>\n",
       "      <td>Fire Department</td>\n",
       "      <td>1990-03-26</td>\n",
       "      <td>$61653.00</td>\n",
       "      <td>$59866.23</td>\n",
       "    </tr>\n",
       "    <tr>\n",
       "      <th>Lewis,Brian C</th>\n",
       "      <td>POLICE OFFICER</td>\n",
       "      <td>A99322</td>\n",
       "      <td>Police Department</td>\n",
       "      <td>1998-04-20</td>\n",
       "      <td>$61672.00</td>\n",
       "      <td>$84219.58</td>\n",
       "    </tr>\n",
       "    <tr>\n",
       "      <th>Lewis,Capri T</th>\n",
       "      <td>JTPA TRAINEE MOMR</td>\n",
       "      <td>W03T19</td>\n",
       "      <td>Youth Cust</td>\n",
       "      <td>2009-06-11</td>\n",
       "      <td>$15080.00</td>\n",
       "      <td>$1881.38</td>\n",
       "    </tr>\n",
       "    <tr>\n",
       "      <th>Lewis,Carlos E</th>\n",
       "      <td>CARPENTER II</td>\n",
       "      <td>A50212</td>\n",
       "      <td>DPW-Water &amp; Waste Water</td>\n",
       "      <td>1993-08-02</td>\n",
       "      <td>$34643.00</td>\n",
       "      <td>$29709.64</td>\n",
       "    </tr>\n",
       "  </tbody>\n",
       "</table>\n",
       "</div>"
      ]
     },
     "execution_count": 97,
     "metadata": {},
     "output_type": "execute_result"
    }
   ],
   "execution_count": 97
  },
  {
   "cell_type": "markdown",
   "metadata": {},
   "source": [
    "You can also use `.sample(5)` to get 5 random rows from the `salaries` dataframe."
   ]
  },
  {
   "cell_type": "code",
   "metadata": {
    "ExecuteTime": {
     "end_time": "2025-03-07T04:46:41.916187Z",
     "start_time": "2025-03-07T04:46:41.897514Z"
    }
   },
   "source": "salaries.sample(5) # find 5 sample rows to show",
   "outputs": [
    {
     "data": {
      "text/plain": [
       "                                           JobTitle AgencyID  \\\n",
       "Name                                                           \n",
       "Jenkins,Robert H             SOLID WASTE SUPERVISOR   A70410   \n",
       "Bolden,Earlene       OFFICE SERVICES ASSISTANT II S   A29004   \n",
       "Brown,Charles O      Waste Water Opns Tech II Sanit   A50208   \n",
       "Brozoskie,Timothy W   FIRE EMERG VEHICLE DRIVER,ALS   A64225   \n",
       "Thompson,Frank               PUMPING TECHNICIAN III   A50302   \n",
       "\n",
       "                                      Agency   HireDate AnnualSalary  \\\n",
       "Name                                                                   \n",
       "Jenkins,Robert H             DPW-Solid Waste 1971-11-22    $55497.00   \n",
       "Bolden,Earlene       States Attorneys Office 2004-10-12    $33841.00   \n",
       "Brown,Charles O      DPW-Water & Waste Water 1987-05-04    $40886.00   \n",
       "Brozoskie,Timothy W          Fire Department 2005-09-19    $56772.00   \n",
       "Thompson,Frank       DPW-Water & Waste Water 2003-03-03    $42092.00   \n",
       "\n",
       "                      GrossPay  \n",
       "Name                            \n",
       "Jenkins,Robert H     $49893.94  \n",
       "Bolden,Earlene       $30587.34  \n",
       "Brown,Charles O      $39343.40  \n",
       "Brozoskie,Timothy W  $51811.39  \n",
       "Thompson,Frank       $34753.20  "
      ],
      "text/html": [
       "<div>\n",
       "<style scoped>\n",
       "    .dataframe tbody tr th:only-of-type {\n",
       "        vertical-align: middle;\n",
       "    }\n",
       "\n",
       "    .dataframe tbody tr th {\n",
       "        vertical-align: top;\n",
       "    }\n",
       "\n",
       "    .dataframe thead th {\n",
       "        text-align: right;\n",
       "    }\n",
       "</style>\n",
       "<table border=\"1\" class=\"dataframe\">\n",
       "  <thead>\n",
       "    <tr style=\"text-align: right;\">\n",
       "      <th></th>\n",
       "      <th>JobTitle</th>\n",
       "      <th>AgencyID</th>\n",
       "      <th>Agency</th>\n",
       "      <th>HireDate</th>\n",
       "      <th>AnnualSalary</th>\n",
       "      <th>GrossPay</th>\n",
       "    </tr>\n",
       "    <tr>\n",
       "      <th>Name</th>\n",
       "      <th></th>\n",
       "      <th></th>\n",
       "      <th></th>\n",
       "      <th></th>\n",
       "      <th></th>\n",
       "      <th></th>\n",
       "    </tr>\n",
       "  </thead>\n",
       "  <tbody>\n",
       "    <tr>\n",
       "      <th>Jenkins,Robert H</th>\n",
       "      <td>SOLID WASTE SUPERVISOR</td>\n",
       "      <td>A70410</td>\n",
       "      <td>DPW-Solid Waste</td>\n",
       "      <td>1971-11-22</td>\n",
       "      <td>$55497.00</td>\n",
       "      <td>$49893.94</td>\n",
       "    </tr>\n",
       "    <tr>\n",
       "      <th>Bolden,Earlene</th>\n",
       "      <td>OFFICE SERVICES ASSISTANT II S</td>\n",
       "      <td>A29004</td>\n",
       "      <td>States Attorneys Office</td>\n",
       "      <td>2004-10-12</td>\n",
       "      <td>$33841.00</td>\n",
       "      <td>$30587.34</td>\n",
       "    </tr>\n",
       "    <tr>\n",
       "      <th>Brown,Charles O</th>\n",
       "      <td>Waste Water Opns Tech II Sanit</td>\n",
       "      <td>A50208</td>\n",
       "      <td>DPW-Water &amp; Waste Water</td>\n",
       "      <td>1987-05-04</td>\n",
       "      <td>$40886.00</td>\n",
       "      <td>$39343.40</td>\n",
       "    </tr>\n",
       "    <tr>\n",
       "      <th>Brozoskie,Timothy W</th>\n",
       "      <td>FIRE EMERG VEHICLE DRIVER,ALS</td>\n",
       "      <td>A64225</td>\n",
       "      <td>Fire Department</td>\n",
       "      <td>2005-09-19</td>\n",
       "      <td>$56772.00</td>\n",
       "      <td>$51811.39</td>\n",
       "    </tr>\n",
       "    <tr>\n",
       "      <th>Thompson,Frank</th>\n",
       "      <td>PUMPING TECHNICIAN III</td>\n",
       "      <td>A50302</td>\n",
       "      <td>DPW-Water &amp; Waste Water</td>\n",
       "      <td>2003-03-03</td>\n",
       "      <td>$42092.00</td>\n",
       "      <td>$34753.20</td>\n",
       "    </tr>\n",
       "  </tbody>\n",
       "</table>\n",
       "</div>"
      ]
     },
     "execution_count": 98,
     "metadata": {},
     "output_type": "execute_result"
    }
   ],
   "execution_count": 98
  },
  {
   "cell_type": "markdown",
   "metadata": {},
   "source": [
    "# Data Preprocessing\n",
    "\n",
    "## Preprocess the Data (Convert Strings to Numbers)\n",
    "\n",
    "The `AnnualSalary` and `GrossPay` columns are strings and start with a `$`. We'll have to strip this off and convert these columns to floats.\n",
    "\n",
    "Don't worry too much about this code... just confirm that it works by checking that it now looks like a number without a `$` sign."
   ]
  },
  {
   "cell_type": "code",
   "metadata": {
    "ExecuteTime": {
     "end_time": "2025-03-07T04:50:20.805129Z",
     "start_time": "2025-03-07T04:50:20.765645Z"
    }
   },
   "source": [
    "salaries.AnnualSalary = salaries.AnnualSalary.str.strip('$').astype(float)\n",
    "salaries.GrossPay = salaries.GrossPay.str.strip('$').astype(float)\n",
    "salaries.head()\n",
    "\n"
   ],
   "outputs": [
    {
     "data": {
      "text/plain": [
       "                                         JobTitle AgencyID  \\\n",
       "Name                                                         \n",
       "Aaron,Patricia G    Facilities/Office Services II   A03031   \n",
       "Aaron,Petra L          ASSISTANT STATE'S ATTORNEY   A29005   \n",
       "Abaineh,Yohannes T                 EPIDEMIOLOGIST   A65026   \n",
       "Abdal-Rahim,Naim A                EMT Firefighter   A64063   \n",
       "Abdi,Ezekiel W                     POLICE OFFICER   A99398   \n",
       "\n",
       "                                     Agency   HireDate  AnnualSalary  GrossPay  \n",
       "Name                                                                            \n",
       "Aaron,Patricia G         OED-Employment Dev 1979-10-24       50845.0  45505.94  \n",
       "Aaron,Petra L       States Attorneys Office 2006-09-25       56595.0  51588.89  \n",
       "Abaineh,Yohannes T   HLTH-Health Department 2009-07-23       56500.0  50633.26  \n",
       "Abdal-Rahim,Naim A    Fire Academy Recruits 2011-03-30       33476.0   3888.95  \n",
       "Abdi,Ezekiel W            Police Department 2007-06-14       50919.0  51421.73  "
      ],
      "text/html": [
       "<div>\n",
       "<style scoped>\n",
       "    .dataframe tbody tr th:only-of-type {\n",
       "        vertical-align: middle;\n",
       "    }\n",
       "\n",
       "    .dataframe tbody tr th {\n",
       "        vertical-align: top;\n",
       "    }\n",
       "\n",
       "    .dataframe thead th {\n",
       "        text-align: right;\n",
       "    }\n",
       "</style>\n",
       "<table border=\"1\" class=\"dataframe\">\n",
       "  <thead>\n",
       "    <tr style=\"text-align: right;\">\n",
       "      <th></th>\n",
       "      <th>JobTitle</th>\n",
       "      <th>AgencyID</th>\n",
       "      <th>Agency</th>\n",
       "      <th>HireDate</th>\n",
       "      <th>AnnualSalary</th>\n",
       "      <th>GrossPay</th>\n",
       "    </tr>\n",
       "    <tr>\n",
       "      <th>Name</th>\n",
       "      <th></th>\n",
       "      <th></th>\n",
       "      <th></th>\n",
       "      <th></th>\n",
       "      <th></th>\n",
       "      <th></th>\n",
       "    </tr>\n",
       "  </thead>\n",
       "  <tbody>\n",
       "    <tr>\n",
       "      <th>Aaron,Patricia G</th>\n",
       "      <td>Facilities/Office Services II</td>\n",
       "      <td>A03031</td>\n",
       "      <td>OED-Employment Dev</td>\n",
       "      <td>1979-10-24</td>\n",
       "      <td>50845.0</td>\n",
       "      <td>45505.94</td>\n",
       "    </tr>\n",
       "    <tr>\n",
       "      <th>Aaron,Petra L</th>\n",
       "      <td>ASSISTANT STATE'S ATTORNEY</td>\n",
       "      <td>A29005</td>\n",
       "      <td>States Attorneys Office</td>\n",
       "      <td>2006-09-25</td>\n",
       "      <td>56595.0</td>\n",
       "      <td>51588.89</td>\n",
       "    </tr>\n",
       "    <tr>\n",
       "      <th>Abaineh,Yohannes T</th>\n",
       "      <td>EPIDEMIOLOGIST</td>\n",
       "      <td>A65026</td>\n",
       "      <td>HLTH-Health Department</td>\n",
       "      <td>2009-07-23</td>\n",
       "      <td>56500.0</td>\n",
       "      <td>50633.26</td>\n",
       "    </tr>\n",
       "    <tr>\n",
       "      <th>Abdal-Rahim,Naim A</th>\n",
       "      <td>EMT Firefighter</td>\n",
       "      <td>A64063</td>\n",
       "      <td>Fire Academy Recruits</td>\n",
       "      <td>2011-03-30</td>\n",
       "      <td>33476.0</td>\n",
       "      <td>3888.95</td>\n",
       "    </tr>\n",
       "    <tr>\n",
       "      <th>Abdi,Ezekiel W</th>\n",
       "      <td>POLICE OFFICER</td>\n",
       "      <td>A99398</td>\n",
       "      <td>Police Department</td>\n",
       "      <td>2007-06-14</td>\n",
       "      <td>50919.0</td>\n",
       "      <td>51421.73</td>\n",
       "    </tr>\n",
       "  </tbody>\n",
       "</table>\n",
       "</div>"
      ]
     },
     "execution_count": 101,
     "metadata": {},
     "output_type": "execute_result"
    }
   ],
   "execution_count": 101
  },
  {
   "cell_type": "markdown",
   "metadata": {},
   "source": [
    "## Perform Exploratory Data Analysis\n",
    "\n",
    "Create a scatterplot of annual salary versus gross pay."
   ]
  },
  {
   "cell_type": "code",
   "metadata": {
    "ExecuteTime": {
     "end_time": "2025-03-07T04:50:32.098241Z",
     "start_time": "2025-03-07T04:50:31.864696Z"
    }
   },
   "source": [
    "salaries.plot.scatter(x='AnnualSalary', y='GrossPay')"
   ],
   "outputs": [
    {
     "data": {
      "text/plain": [
       "<Axes: xlabel='AnnualSalary', ylabel='GrossPay'>"
      ]
     },
     "execution_count": 102,
     "metadata": {},
     "output_type": "execute_result"
    },
    {
     "data": {
      "text/plain": [
       "<Figure size 640x480 with 1 Axes>"
      ],
      "image/png": "[encoded data removed]"
     },
     "metadata": {},
     "output_type": "display_data"
    }
   ],
   "execution_count": 102
  },
  {
   "cell_type": "markdown",
   "metadata": {},
   "source": [
    "# Look for a Linear Relationship\n",
    "\n",
    "It seems like there is a linear relationship in there, but it's obscured by a lot of noise.\n",
    "\n",
    "Let's get a vibe for the data, and what we should expect to see in our machine generated model.\n",
    "\n",
    "We will extract a tiny sample of it and do an approximation of the Theil-Sen algorithm by hand.\n",
    "\n",
    "Note that because we are _sampling_ the data, everyone is going to get a different subset of the data here."
   ]
  },
  {
   "cell_type": "code",
   "metadata": {
    "ExecuteTime": {
     "end_time": "2025-03-07T03:11:52.737514Z",
     "start_time": "2025-03-07T03:11:52.722253Z"
    }
   },
   "source": [
    "tiny_sample = salaries.sample(10)\n",
    "tiny_sample"
   ],
   "outputs": [
    {
     "data": {
      "text/plain": [
       "                                         JobTitle AgencyID  \\\n",
       "Name                                                         \n",
       "Gossett,John D                     POLICE OFFICER   A99004   \n",
       "Metts,Sinkler           TIRE MAINTENANCE WORKER I   A85301   \n",
       "Brackett,Luke S       WATERSHED RANGER SUPERVISOR   A50306   \n",
       "Jackson Jr,William G               POLICE OFFICER   A99094   \n",
       "Bright,Crystal             EMERGENCY MEDICAL AIDE   A65037   \n",
       "Williams,Tirokah S                   911 OPERATOR   A99371   \n",
       "Levin,JoAnn E                     CHIEF SOLICITOR   A30001   \n",
       "Garcia,Naisha A              POLICE OFFICER (EID)   A99064   \n",
       "Clements,Kevin W                   POLICE OFFICER   A99415   \n",
       "Falls Sr,Deral T                   Human Services   A03090   \n",
       "\n",
       "                                       Agency   HireDate  AnnualSalary  \\\n",
       "Name                                                                     \n",
       "Gossett,John D              Police Department 2009-12-16       42391.0   \n",
       "Metts,Sinkler                General Services 2004-05-03       30103.0   \n",
       "Brackett,Luke S       DPW-Water & Waste Water 2007-11-19       59100.0   \n",
       "Jackson Jr,William G        Police Department 2003-12-17       58245.0   \n",
       "Bright,Crystal         HLTH-Health Department 2004-09-23       29326.0   \n",
       "Williams,Tirokah S          Police Department 2006-04-27       37677.0   \n",
       "Levin,JoAnn E                  Law Department 2008-02-04       92800.0   \n",
       "Garcia,Naisha A             Police Department 2008-06-23       57102.0   \n",
       "Clements,Kevin W            Police Department 1993-10-14       63955.0   \n",
       "Falls Sr,Deral T           OED-Employment Dev 2006-08-21       38318.0   \n",
       "\n",
       "                      GrossPay  \n",
       "Name                            \n",
       "Gossett,John D        21532.86  \n",
       "Metts,Sinkler         27563.95  \n",
       "Brackett,Luke S       49464.30  \n",
       "Jackson Jr,William G  57722.89  \n",
       "Bright,Crystal        27927.05  \n",
       "Williams,Tirokah S    33578.70  \n",
       "Levin,JoAnn E         81736.07  \n",
       "Garcia,Naisha A       56402.18  \n",
       "Clements,Kevin W      66954.73  \n",
       "Falls Sr,Deral T      34251.78  "
      ],
      "text/html": [
       "<div>\n",
       "<style scoped>\n",
       "    .dataframe tbody tr th:only-of-type {\n",
       "        vertical-align: middle;\n",
       "    }\n",
       "\n",
       "    .dataframe tbody tr th {\n",
       "        vertical-align: top;\n",
       "    }\n",
       "\n",
       "    .dataframe thead th {\n",
       "        text-align: right;\n",
       "    }\n",
       "</style>\n",
       "<table border=\"1\" class=\"dataframe\">\n",
       "  <thead>\n",
       "    <tr style=\"text-align: right;\">\n",
       "      <th></th>\n",
       "      <th>JobTitle</th>\n",
       "      <th>AgencyID</th>\n",
       "      <th>Agency</th>\n",
       "      <th>HireDate</th>\n",
       "      <th>AnnualSalary</th>\n",
       "      <th>GrossPay</th>\n",
       "    </tr>\n",
       "    <tr>\n",
       "      <th>Name</th>\n",
       "      <th></th>\n",
       "      <th></th>\n",
       "      <th></th>\n",
       "      <th></th>\n",
       "      <th></th>\n",
       "      <th></th>\n",
       "    </tr>\n",
       "  </thead>\n",
       "  <tbody>\n",
       "    <tr>\n",
       "      <th>Gossett,John D</th>\n",
       "      <td>POLICE OFFICER</td>\n",
       "      <td>A99004</td>\n",
       "      <td>Police Department</td>\n",
       "      <td>2009-12-16</td>\n",
       "      <td>42391.0</td>\n",
       "      <td>21532.86</td>\n",
       "    </tr>\n",
       "    <tr>\n",
       "      <th>Metts,Sinkler</th>\n",
       "      <td>TIRE MAINTENANCE WORKER I</td>\n",
       "      <td>A85301</td>\n",
       "      <td>General Services</td>\n",
       "      <td>2004-05-03</td>\n",
       "      <td>30103.0</td>\n",
       "      <td>27563.95</td>\n",
       "    </tr>\n",
       "    <tr>\n",
       "      <th>Brackett,Luke S</th>\n",
       "      <td>WATERSHED RANGER SUPERVISOR</td>\n",
       "      <td>A50306</td>\n",
       "      <td>DPW-Water &amp; Waste Water</td>\n",
       "      <td>2007-11-19</td>\n",
       "      <td>59100.0</td>\n",
       "      <td>49464.30</td>\n",
       "    </tr>\n",
       "    <tr>\n",
       "      <th>Jackson Jr,William G</th>\n",
       "      <td>POLICE OFFICER</td>\n",
       "      <td>A99094</td>\n",
       "      <td>Police Department</td>\n",
       "      <td>2003-12-17</td>\n",
       "      <td>58245.0</td>\n",
       "      <td>57722.89</td>\n",
       "    </tr>\n",
       "    <tr>\n",
       "      <th>Bright,Crystal</th>\n",
       "      <td>EMERGENCY MEDICAL AIDE</td>\n",
       "      <td>A65037</td>\n",
       "      <td>HLTH-Health Department</td>\n",
       "      <td>2004-09-23</td>\n",
       "      <td>29326.0</td>\n",
       "      <td>27927.05</td>\n",
       "    </tr>\n",
       "    <tr>\n",
       "      <th>Williams,Tirokah S</th>\n",
       "      <td>911 OPERATOR</td>\n",
       "      <td>A99371</td>\n",
       "      <td>Police Department</td>\n",
       "      <td>2006-04-27</td>\n",
       "      <td>37677.0</td>\n",
       "      <td>33578.70</td>\n",
       "    </tr>\n",
       "    <tr>\n",
       "      <th>Levin,JoAnn E</th>\n",
       "      <td>CHIEF SOLICITOR</td>\n",
       "      <td>A30001</td>\n",
       "      <td>Law Department</td>\n",
       "      <td>2008-02-04</td>\n",
       "      <td>92800.0</td>\n",
       "      <td>81736.07</td>\n",
       "    </tr>\n",
       "    <tr>\n",
       "      <th>Garcia,Naisha A</th>\n",
       "      <td>POLICE OFFICER (EID)</td>\n",
       "      <td>A99064</td>\n",
       "      <td>Police Department</td>\n",
       "      <td>2008-06-23</td>\n",
       "      <td>57102.0</td>\n",
       "      <td>56402.18</td>\n",
       "    </tr>\n",
       "    <tr>\n",
       "      <th>Clements,Kevin W</th>\n",
       "      <td>POLICE OFFICER</td>\n",
       "      <td>A99415</td>\n",
       "      <td>Police Department</td>\n",
       "      <td>1993-10-14</td>\n",
       "      <td>63955.0</td>\n",
       "      <td>66954.73</td>\n",
       "    </tr>\n",
       "    <tr>\n",
       "      <th>Falls Sr,Deral T</th>\n",
       "      <td>Human Services</td>\n",
       "      <td>A03090</td>\n",
       "      <td>OED-Employment Dev</td>\n",
       "      <td>2006-08-21</td>\n",
       "      <td>38318.0</td>\n",
       "      <td>34251.78</td>\n",
       "    </tr>\n",
       "  </tbody>\n",
       "</table>\n",
       "</div>"
      ]
     },
     "execution_count": 30,
     "metadata": {},
     "output_type": "execute_result"
    }
   ],
   "execution_count": 30
  },
  {
   "cell_type": "markdown",
   "metadata": {},
   "source": [
    "The next cell creates an image"
   ]
  },
  {
   "cell_type": "code",
   "metadata": {
    "ExecuteTime": {
     "end_time": "2025-03-07T03:11:56.956537Z",
     "start_time": "2025-03-07T03:11:56.644526Z"
    }
   },
   "source": [
    "fig, ax = plt.subplots(figsize=(20,16))\n",
    "tiny_sample.plot.scatter(x='AnnualSalary', y='GrossPay', ax=ax)\n",
    "for name, details in tiny_sample.iterrows():\n",
    "    ax.annotate(text=name, xy=(details.AnnualSalary,details.GrossPay), xytext=(details.AnnualSalary+5000, details.GrossPay-5000),\n",
    "                arrowprops=dict(arrowstyle=\"-\", color='black')\n",
    "               )"
   ],
   "outputs": [
    {
     "data": {
      "text/plain": [
       "<Figure size 2000x1600 with 1 Axes>"
      ],
      "image/png": "[encoded data removed]"
     },
     "metadata": {},
     "output_type": "display_data"
    }
   ],
   "execution_count": 31
  },
  {
   "cell_type": "markdown",
   "metadata": {},
   "source": [
    "Take that image, and open it in an editing tool that has a ruler tool.\n",
    "\n",
    "**Windows** You could use *Microsoft Paint* (type \"Paint\" in the start menu) or *Snipping Tool / Snip & Sketch* (Take a screenshot with Windows + Shift + S and then annotate directly on the captured image.)\n",
    "\n",
    "**macOS** Preview or Quick Look\n",
    "\n",
    "The next cell will give you five random pairs of people to draw a line between. Draw them, and then **save the image into your\n",
    "GitHub classroom repo so that we know that you've done it**."
   ]
  },
  {
   "cell_type": "code",
   "metadata": {
    "ExecuteTime": {
     "end_time": "2025-03-07T03:14:16.723141Z",
     "start_time": "2025-03-07T03:14:16.705739Z"
    }
   },
   "source": [
    "for i in range(5):\n",
    "    pair = tiny_sample.sample(2)\n",
    "    first_name = pair.index[0]\n",
    "    second_name = pair.index[1]\n",
    "    print(f\"\"\"\n",
    "Draw a line that goes through {first_name} and {second_name}. \n",
    "\n",
    "This should go through ({pair.AnnualSalary.iloc[0]},{pair.GrossPay.iloc[0]}) and ({pair.AnnualSalary.iloc[1]},{pair.GrossPay.iloc[1]})\n",
    "\n",
    "It has a gradient (slope) of {(pair.GrossPay.iloc[1]-pair.GrossPay.iloc[0])/(pair.AnnualSalary.iloc[1]-pair.AnnualSalary.iloc[0])}\n",
    "\n",
    "-----------------------------\n",
    "\"\"\")"
   ],
   "outputs": [
    {
     "name": "stdout",
     "output_type": "stream",
     "text": [
      "\n",
      "Draw a line that goes through Levin,JoAnn E and Falls Sr,Deral T. \n",
      "\n",
      "This should go through (92800.0,81736.07) and (38318.0,34251.78)\n",
      "\n",
      "It has a gradient (slope) of 0.871559230571565\n",
      "\n",
      "-----------------------------\n",
      "\n",
      "\n",
      "Draw a line that goes through Garcia,Naisha A and Bright,Crystal. \n",
      "\n",
      "This should go through (57102.0,56402.18) and (29326.0,27927.05)\n",
      "\n",
      "It has a gradient (slope) of 1.0251702908986176\n",
      "\n",
      "-----------------------------\n",
      "\n",
      "\n",
      "Draw a line that goes through Jackson Jr,William G and Bright,Crystal. \n",
      "\n",
      "This should go through (58245.0,57722.89) and (29326.0,27927.05)\n",
      "\n",
      "It has a gradient (slope) of 1.0303205505031294\n",
      "\n",
      "-----------------------------\n",
      "\n",
      "\n",
      "Draw a line that goes through Clements,Kevin W and Jackson Jr,William G. \n",
      "\n",
      "This should go through (63955.0,66954.73) and (58245.0,57722.89)\n",
      "\n",
      "It has a gradient (slope) of 1.6167845884413303\n",
      "\n",
      "-----------------------------\n",
      "\n",
      "\n",
      "Draw a line that goes through Clements,Kevin W and Falls Sr,Deral T. \n",
      "\n",
      "This should go through (63955.0,66954.73) and (38318.0,34251.78)\n",
      "\n",
      "It has a gradient (slope) of 1.275615321605492\n",
      "\n",
      "-----------------------------\n",
      "\n"
     ]
    }
   ],
   "execution_count": 32
  },
  {
   "metadata": {
    "ExecuteTime": {
     "end_time": "2025-03-07T03:53:46.669346Z",
     "start_time": "2025-03-07T03:53:46.395015Z"
    }
   },
   "cell_type": "code",
   "source": [
    "# Scatter points\n",
    "points = {\n",
    "    \"Levin, JoAnn E\": (92800.0, 81736.07),\n",
    "    \"Falls Sr, Deral T\": (38318.0, 34251.78),\n",
    "    \"Garcia, Naisha A\": (57102.0, 56402.18),\n",
    "    \"Bright, Crystal\": (29326.0, 27927.05),\n",
    "    \"Jackson Jr, William G\": (58245.0, 57722.89),\n",
    "    \"Clements, Kevin W\": (63955.0, 66954.73),\n",
    "}\n",
    "\n",
    "# Line equations\n",
    "lines = [\n",
    "    {\"m\": 0.8716, \"c\": 836.98, \"label\": \"Line 1\"},\n",
    "    {\"m\": 1.0252, \"c\": -2116.60, \"label\": \"Line 2\"},\n",
    "    {\"m\": 1.0303, \"c\": -2286.25, \"label\": \"Line 3\"},\n",
    "    {\"m\": 1.6168, \"c\": -36416.70, \"label\": \"Line 4\"},\n",
    "    {\"m\": 1.2756, \"c\": -14634.18, \"label\": \"Line 5\"},\n",
    "]\n",
    "\n",
    "# Generate x values\n",
    "x_values = np.linspace(20000, 95000, 500)\n",
    "\n",
    "# Plot each line\n",
    "for line in lines:\n",
    "    y_values = line[\"m\"] * x_values + line[\"c\"]\n",
    "    plt.plot(x_values, y_values, label=line[\"label\"])\n",
    "\n",
    "# Plot scatter points\n",
    "for name, (x, y) in points.items():\n",
    "    plt.scatter(x, y, label=name)\n",
    "\n",
    "# Add labels and legend\n",
    "plt.xlabel(\"X-axis\")\n",
    "plt.ylabel(\"Y-axis\")\n",
    "plt.title(\"Scatterplot with Lines\")\n",
    "plt.legend()\n",
    "plt.grid()\n",
    "plt.show()\n"
   ],
   "outputs": [
    {
     "data": {
      "text/plain": [
       "<Figure size 640x480 with 1 Axes>"
      ],
      "image/png": "[encoded data removed]"
     },
     "metadata": {},
     "output_type": "display_data"
    }
   ],
   "execution_count": 35
  },
  {
   "cell_type": "markdown",
   "metadata": {},
   "source": [
    "### Get an estimate\n",
    "\n",
    "Which was the \"middle\" slope line on your diagram? i.e., what was the median gradient?\n",
    "\n",
    "(Write it in the next cell so that we know you did it. Note that it's unlikely that two students will get the same answer.)"
   ]
  },
  {
   "cell_type": "markdown",
   "metadata": {},
   "source": "_Answer:_ Since the median is 1.0303 and the closest line with the same slope is line 3 that shows that line 3 is middle slope line"
  },
  {
   "cell_type": "markdown",
   "metadata": {},
   "source": [
    "### A moment of reflection\n",
    "\n",
    "Does that mean that Baltimore employees typically get more pay than their salary, or less than their salary?\n",
    "\n",
    "(Write it in the next cell so that we know you did it. You might or might not have the same answer as your neighbour, but generally you will.)"
   ]
  },
  {
   "cell_type": "markdown",
   "metadata": {},
   "source": "_Answer:_ Yes, this shows that Baltimore employees get more gross salary as the median is 1.03"
  },
  {
   "cell_type": "markdown",
   "metadata": {},
   "source": [
    "# Data Splitting\n",
    "\n",
    "We need to have train, validation and test data. (We actually should have done that before we did our manual Theil-Sen algorithm.)"
   ]
  },
  {
   "cell_type": "code",
   "metadata": {
    "ExecuteTime": {
     "end_time": "2025-03-07T04:06:04.347165Z",
     "start_time": "2025-03-07T04:06:04.336585Z"
    }
   },
   "source": [
    "training_data, holdout_data = sklearn.model_selection.train_test_split(salaries, test_size=0.2)\n",
    "validation_data, test_data = sklearn.model_selection.train_test_split(holdout_data, test_size=0.5)"
   ],
   "outputs": [],
   "execution_count": 36
  },
  {
   "cell_type": "code",
   "metadata": {
    "ExecuteTime": {
     "end_time": "2025-03-07T04:06:43.392716Z",
     "start_time": "2025-03-07T04:06:43.384944Z"
    }
   },
   "source": [
    "training_data.shape, validation_data.shape, test_data.shape"
   ],
   "outputs": [
    {
     "data": {
      "text/plain": [
       "((11563, 6), (1445, 6), (1446, 6))"
      ]
     },
     "execution_count": 39,
     "metadata": {},
     "output_type": "execute_result"
    }
   ],
   "execution_count": 39
  },
  {
   "cell_type": "markdown",
   "metadata": {},
   "source": [
    "# Scikit Learn Regression\n",
    "\n",
    "We'll follow the pattern we followed in the code from lectures:\n",
    "\n",
    "- Construct a Regressor object\n",
    "\n",
    "- `.fit()` it\n",
    "\n",
    "- Use it to `.predict()` the validation data\n",
    "\n",
    "- Look at the coefficients of the model (in this case, the gradient)."
   ]
  },
  {
   "cell_type": "markdown",
   "metadata": {},
   "source": [
    "### Theil-Sen\n",
    "\n",
    "You just did a Theil-Sen regression by hand, and we saw one in class. Let's see how close your five-sample version was to a more complete computation."
   ]
  },
  {
   "cell_type": "code",
   "metadata": {
    "ExecuteTime": {
     "end_time": "2025-03-07T04:38:56.023841Z",
     "start_time": "2025-03-07T04:38:52.354860Z"
    }
   },
   "source": [
    "ts = sklearn.linear_model.TheilSenRegressor()\n",
    "ts.fit(training_data[['AnnualSalary']], training_data['GrossPay'])\n",
    "ts_predictions = ts.predict(validation_data[['AnnualSalary']])\n",
    "ts.coef_"
   ],
   "outputs": [
    {
     "data": {
      "text/plain": [
       "array([1.07224881])"
      ]
     },
     "execution_count": 83,
     "metadata": {},
     "output_type": "execute_result"
    }
   ],
   "execution_count": 83
  },
  {
   "cell_type": "markdown",
   "metadata": {},
   "source": [
    "### RANSAC\n",
    "\n",
    "Let's use a RANSAC regressor. This was demonstrated in class. (Getting the coefficients for a RANSAC model is a little unusual: you ask for the best estimator, and then you ask for the coefficients of that best estimator."
   ]
  },
  {
   "cell_type": "code",
   "metadata": {
    "ExecuteTime": {
     "end_time": "2025-03-07T04:07:05.432518Z",
     "start_time": "2025-03-07T04:07:05.397027Z"
    }
   },
   "source": [
    "ransac = sklearn.linear_model.RANSACRegressor()\n",
    "ransac.fit(training_data[['AnnualSalary']], training_data['GrossPay'])\n",
    "ransac_predictions = ransac.predict(validation_data[['AnnualSalary']])\n",
    "ransac.estimator_.coef_"
   ],
   "outputs": [
    {
     "data": {
      "text/plain": [
       "array([0.99488187])"
      ]
     },
     "execution_count": 41,
     "metadata": {},
     "output_type": "execute_result"
    }
   ],
   "execution_count": 41
  },
  {
   "cell_type": "markdown",
   "metadata": {},
   "source": [
    "### Huber\n",
    "\n",
    "One of the best and most robust regressors is the Huber model. Finish off this code."
   ]
  },
  {
   "cell_type": "code",
   "metadata": {
    "ExecuteTime": {
     "end_time": "2025-03-07T04:09:49.529303Z",
     "start_time": "2025-03-07T04:09:49.458813Z"
    }
   },
   "source": [
    "huber = sklearn.linear_model.HuberRegressor()\n",
    "huber.fit(training_data[['AnnualSalary']], training_data['GrossPay'])\n",
    "huber_predictions = huber.predict(validation_data[['AnnualSalary']])\n",
    "huber.coef_\n"
   ],
   "outputs": [
    {
     "data": {
      "text/plain": [
       "array([0.91153361])"
      ]
     },
     "execution_count": 42,
     "metadata": {},
     "output_type": "execute_result"
    }
   ],
   "execution_count": 42
  },
  {
   "cell_type": "markdown",
   "metadata": {},
   "source": [
    "### Ordinary Least Squares\n",
    "\n",
    "If you're done STAT1170, you might have encountered this choice for finding a line of best fit through some points.\n",
    "\n",
    "It is very common and popular, so the scikit learn class is called `LinearRegression()`\n",
    "\n",
    "Finish off this code:"
   ]
  },
  {
   "cell_type": "code",
   "metadata": {
    "ExecuteTime": {
     "end_time": "2025-03-07T04:12:38.939220Z",
     "start_time": "2025-03-07T04:12:38.923768Z"
    }
   },
   "source": [
    "ols = sklearn.linear_model.LinearRegression()\n",
    "ols.fit(training_data[['AnnualSalary']], training_data['GrossPay'])\n",
    "ols_predictions = ols.predict(validation_data[['AnnualSalary']])\n",
    "ols.coef_"
   ],
   "outputs": [
    {
     "data": {
      "text/plain": [
       "array([1.02162002])"
      ]
     },
     "execution_count": 44,
     "metadata": {},
     "output_type": "execute_result"
    }
   ],
   "execution_count": 44
  },
  {
   "cell_type": "markdown",
   "metadata": {},
   "source": [
    "# Evaluating these models\n",
    "\n",
    "How wrong were the predictions? We can subtract the prediction from the correct answer to look."
   ]
  },
  {
   "cell_type": "code",
   "metadata": {
    "ExecuteTime": {
     "end_time": "2025-03-07T04:13:58.451356Z",
     "start_time": "2025-03-07T04:13:58.430607Z"
    }
   },
   "source": [
    "validation_data.GrossPay - ts_predictions"
   ],
   "outputs": [
    {
     "data": {
      "text/plain": [
       "Name\n",
       "Stine,David G           6737.518397\n",
       "Daughtry,Kenneth L     10557.928487\n",
       "Ross,Karen L           -2505.323687\n",
       "Williams,Reginald E     1921.926405\n",
       "Williams,Randolph E   -18658.390207\n",
       "                           ...     \n",
       "Flynn,Ronald W          4717.615386\n",
       "Knox,Tami D              121.406160\n",
       "Levere,Queen E          4322.125958\n",
       "Goods,Eric R             174.103926\n",
       "Odom,Anthony A         -2387.873041\n",
       "Name: GrossPay, Length: 1445, dtype: float64"
      ]
     },
     "execution_count": 45,
     "metadata": {},
     "output_type": "execute_result"
    }
   ],
   "execution_count": 45
  },
  {
   "cell_type": "code",
   "metadata": {
    "ExecuteTime": {
     "end_time": "2025-03-07T04:22:38.941651Z",
     "start_time": "2025-03-07T04:22:38.932277Z"
    }
   },
   "source": [
    "validation_data.GrossPay - ransac_predictions"
   ],
   "outputs": [
    {
     "data": {
      "text/plain": [
       "Name\n",
       "Stine,David G           5819.897180\n",
       "Daughtry,Kenneth L      9725.116504\n",
       "Ross,Karen L           -3492.009648\n",
       "Williams,Reginald E     1423.238454\n",
       "Williams,Randolph E   -19165.924289\n",
       "                           ...     \n",
       "Flynn,Ronald W          3609.694152\n",
       "Knox,Tami D             -561.467969\n",
       "Levere,Queen E          3658.905388\n",
       "Goods,Eric R            -480.256987\n",
       "Odom,Anthony A         -3292.238588\n",
       "Name: GrossPay, Length: 1445, dtype: float64"
      ]
     },
     "execution_count": 63,
     "metadata": {},
     "output_type": "execute_result"
    }
   ],
   "execution_count": 63
  },
  {
   "cell_type": "markdown",
   "metadata": {},
   "source": [
    "Now look at the data for your Huber regressor and your Ordinary Least Squares regressor. (Put the calculations into the next two cells.)"
   ]
  },
  {
   "cell_type": "code",
   "metadata": {
    "ExecuteTime": {
     "end_time": "2025-03-07T04:22:41.147125Z",
     "start_time": "2025-03-07T04:22:41.132166Z"
    }
   },
   "source": "validation_data.GrossPay - huber_predictions",
   "outputs": [
    {
     "data": {
      "text/plain": [
       "Name\n",
       "Stine,David G           7562.164850\n",
       "Daughtry,Kenneth L     10944.790586\n",
       "Ross,Karen L           -1324.165764\n",
       "Williams,Reginald E      584.043826\n",
       "Williams,Randolph E   -19950.609155\n",
       "                           ...     \n",
       "Flynn,Ronald W          6524.588488\n",
       "Knox,Tami D             -265.709345\n",
       "Levere,Queen E          3833.558991\n",
       "Goods,Eric R            -360.196494\n",
       "Odom,Anthony A         -1631.652212\n",
       "Name: GrossPay, Length: 1445, dtype: float64"
      ]
     },
     "execution_count": 64,
     "metadata": {},
     "output_type": "execute_result"
    }
   ],
   "execution_count": 64
  },
  {
   "cell_type": "code",
   "metadata": {
    "ExecuteTime": {
     "end_time": "2025-03-07T04:22:42.012070Z",
     "start_time": "2025-03-07T04:22:42.000594Z"
    }
   },
   "source": "validation_data.GrossPay - ols_predictions",
   "outputs": [
    {
     "data": {
      "text/plain": [
       "Name\n",
       "Stine,David G           5183.820666\n",
       "Daughtry,Kenneth L      9256.688164\n",
       "Ross,Karen L           -4264.611135\n",
       "Williams,Reginald E     1615.295792\n",
       "Williams,Randolph E   -18991.353698\n",
       "                           ...     \n",
       "Flynn,Ronald W          2597.438664\n",
       "Knox,Tami D             -733.503962\n",
       "Levere,Queen E          3525.719921\n",
       "Goods,Eric R            -595.928969\n",
       "Odom,Anthony A         -3902.111719\n",
       "Name: GrossPay, Length: 1445, dtype: float64"
      ]
     },
     "execution_count": 65,
     "metadata": {},
     "output_type": "execute_result"
    }
   ],
   "execution_count": 65
  },
  {
   "cell_type": "markdown",
   "metadata": {},
   "source": [
    "## Summarising how wrong they were\n",
    "\n",
    "Ideally, we'd like a number that says which one was the best. But choosing which way we calculate that number is a decision\n",
    "that reflects what we think is important. These are questions we might ask:\n",
    "\n",
    "- What's the most inaccurate prediction?\n",
    "\n",
    "- 99% of the time, the correct answer was within ____ of what we predicted?\n",
    "\n",
    "- On average, how far away from the right answer were we?\n"
   ]
  },
  {
   "cell_type": "markdown",
   "metadata": {},
   "source": "Here's how to get the most inaccurate prediction for the Theil-Sen regressor. (The maximum of the absolute values of the error in our prediction.). In the following cells, do RANSAC, Huber and Ordinary Least Squares"
  },
  {
   "cell_type": "code",
   "metadata": {
    "ExecuteTime": {
     "end_time": "2025-03-07T04:23:57.721938Z",
     "start_time": "2025-03-07T04:23:57.713283Z"
    }
   },
   "source": [
    "(validation_data.GrossPay - ts_predictions).abs().max()"
   ],
   "outputs": [
    {
     "data": {
      "text/plain": [
       "np.float64(81632.5069622925)"
      ]
     },
     "execution_count": 66,
     "metadata": {},
     "output_type": "execute_result"
    }
   ],
   "execution_count": 66
  },
  {
   "cell_type": "code",
   "metadata": {
    "ExecuteTime": {
     "end_time": "2025-03-07T04:23:58.703835Z",
     "start_time": "2025-03-07T04:23:58.696972Z"
    }
   },
   "source": "(validation_data.GrossPay - ransac_predictions).abs().max()",
   "outputs": [
    {
     "data": {
      "text/plain": [
       "np.float64(83234.63472723708)"
      ]
     },
     "execution_count": 67,
     "metadata": {},
     "output_type": "execute_result"
    }
   ],
   "execution_count": 67
  },
  {
   "cell_type": "code",
   "metadata": {
    "ExecuteTime": {
     "end_time": "2025-03-07T04:23:59.724367Z",
     "start_time": "2025-03-07T04:23:59.711292Z"
    }
   },
   "source": "(validation_data.GrossPay - huber_predictions).abs().max()",
   "outputs": [
    {
     "data": {
      "text/plain": [
       "np.float64(77274.445029575)"
      ]
     },
     "execution_count": 68,
     "metadata": {},
     "output_type": "execute_result"
    }
   ],
   "execution_count": 68
  },
  {
   "metadata": {
    "ExecuteTime": {
     "end_time": "2025-03-07T04:24:00.991626Z",
     "start_time": "2025-03-07T04:24:00.979511Z"
    }
   },
   "cell_type": "code",
   "source": "(validation_data.GrossPay - ols_predictions).abs().max()",
   "outputs": [
    {
     "data": {
      "text/plain": [
       "np.float64(85223.82184981302)"
      ]
     },
     "execution_count": 69,
     "metadata": {},
     "output_type": "execute_result"
    }
   ],
   "execution_count": 69
  },
  {
   "cell_type": "markdown",
   "metadata": {},
   "source": [
    "(If you are ahead of the rest of the prac group and are waiting around idle, you could use `idxmax()` instead of `max()` to find out _which_ employee was most badly mis-predicted.)\n",
    "\n",
    "------"
   ]
  },
  {
   "cell_type": "markdown",
   "metadata": {},
   "source": "99% of the predictions were wrong by less than this amount… (fill in RANSAC, Huber and Ordinary Least Squares)"
  },
  {
   "cell_type": "code",
   "metadata": {
    "ExecuteTime": {
     "end_time": "2025-03-07T04:25:15.618886Z",
     "start_time": "2025-03-07T04:25:15.605903Z"
    }
   },
   "source": [
    "(validation_data.GrossPay - ts_predictions).abs().quantile(0.99)"
   ],
   "outputs": [
    {
     "data": {
      "text/plain": [
       "np.float64(35801.72094263676)"
      ]
     },
     "execution_count": 71,
     "metadata": {},
     "output_type": "execute_result"
    }
   ],
   "execution_count": 71
  },
  {
   "cell_type": "code",
   "metadata": {
    "ExecuteTime": {
     "end_time": "2025-03-07T04:25:16.607332Z",
     "start_time": "2025-03-07T04:25:16.600404Z"
    }
   },
   "source": "(validation_data.GrossPay - ransac_predictions).abs().quantile(0.99)",
   "outputs": [
    {
     "data": {
      "text/plain": [
       "np.float64(35742.10241094101)"
      ]
     },
     "execution_count": 72,
     "metadata": {},
     "output_type": "execute_result"
    }
   ],
   "execution_count": 72
  },
  {
   "cell_type": "code",
   "metadata": {
    "ExecuteTime": {
     "end_time": "2025-03-07T04:25:17.492601Z",
     "start_time": "2025-03-07T04:25:17.480657Z"
    }
   },
   "source": "(validation_data.GrossPay - huber_predictions).abs().quantile(0.99)",
   "outputs": [
    {
     "data": {
      "text/plain": [
       "np.float64(36607.46327063532)"
      ]
     },
     "execution_count": 73,
     "metadata": {},
     "output_type": "execute_result"
    }
   ],
   "execution_count": 73
  },
  {
   "cell_type": "code",
   "metadata": {
    "ExecuteTime": {
     "end_time": "2025-03-07T04:25:26.938533Z",
     "start_time": "2025-03-07T04:25:26.927233Z"
    }
   },
   "source": "(validation_data.GrossPay - ols_predictions).abs().quantile(0.99)",
   "outputs": [
    {
     "data": {
      "text/plain": [
       "np.float64(35519.91843684655)"
      ]
     },
     "execution_count": 74,
     "metadata": {},
     "output_type": "execute_result"
    }
   ],
   "execution_count": 74
  },
  {
   "cell_type": "markdown",
   "metadata": {},
   "source": [
    "Here's how we could get the mean absolute error (how far we are away from the right answer on average). sklearn has many built-in functions for doing these sorts of calculations. (Fill in RANSAC, Huber and Ordinary Least Squares)."
   ]
  },
  {
   "cell_type": "code",
   "metadata": {
    "ExecuteTime": {
     "end_time": "2025-03-07T04:25:38.362919Z",
     "start_time": "2025-03-07T04:25:38.351980Z"
    }
   },
   "source": [
    "sklearn.metrics.mean_absolute_error(validation_data.GrossPay, ts_predictions)"
   ],
   "outputs": [
    {
     "data": {
      "text/plain": [
       "6184.950687873753"
      ]
     },
     "execution_count": 75,
     "metadata": {},
     "output_type": "execute_result"
    }
   ],
   "execution_count": 75
  },
  {
   "cell_type": "code",
   "metadata": {
    "ExecuteTime": {
     "end_time": "2025-03-07T04:25:40.062093Z",
     "start_time": "2025-03-07T04:25:40.055579Z"
    }
   },
   "source": "sklearn.metrics.mean_absolute_error(validation_data.GrossPay, ransac_predictions)",
   "outputs": [
    {
     "data": {
      "text/plain": [
       "6158.711932843479"
      ]
     },
     "execution_count": 76,
     "metadata": {},
     "output_type": "execute_result"
    }
   ],
   "execution_count": 76
  },
  {
   "cell_type": "code",
   "metadata": {
    "ExecuteTime": {
     "end_time": "2025-03-07T04:25:42.066962Z",
     "start_time": "2025-03-07T04:25:42.055423Z"
    }
   },
   "source": "sklearn.metrics.mean_absolute_error(validation_data.GrossPay, huber_predictions)",
   "outputs": [
    {
     "data": {
      "text/plain": [
       "6133.350663525929"
      ]
     },
     "execution_count": 77,
     "metadata": {},
     "output_type": "execute_result"
    }
   ],
   "execution_count": 77
  },
  {
   "cell_type": "code",
   "metadata": {
    "ExecuteTime": {
     "end_time": "2025-03-07T04:25:43.723671Z",
     "start_time": "2025-03-07T04:25:43.711668Z"
    }
   },
   "source": "sklearn.metrics.mean_absolute_error(validation_data.GrossPay, ols_predictions)",
   "outputs": [
    {
     "data": {
      "text/plain": [
       "6222.994930375138"
      ]
     },
     "execution_count": 78,
     "metadata": {},
     "output_type": "execute_result"
    }
   ],
   "execution_count": 78
  },
  {
   "cell_type": "markdown",
   "metadata": {},
   "source": [
    "A very common measure (which you might have encountered in STAT1170 if you've done it) is the $R^2$ measure:"
   ]
  },
  {
   "cell_type": "code",
   "metadata": {
    "ExecuteTime": {
     "end_time": "2025-03-07T04:50:57.283119Z",
     "start_time": "2025-03-07T04:50:57.276907Z"
    }
   },
   "source": [
    "sklearn.metrics.r2_score(validation_data.GrossPay, ts_predictions)"
   ],
   "outputs": [
    {
     "data": {
      "text/plain": [
       "0.7751774502943728"
      ]
     },
     "execution_count": 103,
     "metadata": {},
     "output_type": "execute_result"
    }
   ],
   "execution_count": 103
  },
  {
   "cell_type": "code",
   "metadata": {
    "ExecuteTime": {
     "end_time": "2025-03-07T04:50:58.087161Z",
     "start_time": "2025-03-07T04:50:58.077420Z"
    }
   },
   "source": "sklearn.metrics.r2_score(validation_data.GrossPay, ransac_predictions)",
   "outputs": [
    {
     "data": {
      "text/plain": [
       "0.8000914869324706"
      ]
     },
     "execution_count": 104,
     "metadata": {},
     "output_type": "execute_result"
    }
   ],
   "execution_count": 104
  },
  {
   "cell_type": "code",
   "metadata": {
    "ExecuteTime": {
     "end_time": "2025-03-07T04:50:58.651710Z",
     "start_time": "2025-03-07T04:50:58.642973Z"
    }
   },
   "source": "sklearn.metrics.r2_score(validation_data.GrossPay, huber_predictions)",
   "outputs": [
    {
     "data": {
      "text/plain": [
       "0.7921380312229614"
      ]
     },
     "execution_count": 105,
     "metadata": {},
     "output_type": "execute_result"
    }
   ],
   "execution_count": 105
  },
  {
   "cell_type": "code",
   "metadata": {
    "ExecuteTime": {
     "end_time": "2025-03-07T04:50:59.184375Z",
     "start_time": "2025-03-07T04:50:59.176476Z"
    }
   },
   "source": "sklearn.metrics.r2_score(validation_data.GrossPay, ols_predictions)",
   "outputs": [
    {
     "data": {
      "text/plain": [
       "0.8002194307133339"
      ]
     },
     "execution_count": 106,
     "metadata": {},
     "output_type": "execute_result"
    }
   ],
   "execution_count": 106
  },
  {
   "cell_type": "markdown",
   "metadata": {},
   "source": [
    "## Time to choose!\n",
    "\n",
    "On the basis of the information you chose above, which regressor are you going to choose to use?\n",
    "\n",
    "Say which model you think is best, and the basis you chose for using it. (While there are some obviously wrong answers you can give here, there are many options for the \"right\" answer depending on your criteria for best.)"
   ]
  },
  {
   "cell_type": "markdown",
   "metadata": {},
   "source": "_Answer_: As we can see, that huber model is showing the least error which is equal to 6133.35 in my code."
  },
  {
   "cell_type": "markdown",
   "metadata": {},
   "source": [
    "### Evaluating it\n",
    "\n",
    "You don't want to run `.fit()` again, but you do want to run `.predict()` again, using the model that you chose in the last section,\n",
    "but this time using the test data. Call the variable that stores those predictions `test_predictions`."
   ]
  },
  {
   "cell_type": "code",
   "metadata": {
    "ExecuteTime": {
     "end_time": "2025-03-07T05:13:04.468670Z",
     "start_time": "2025-03-07T05:13:04.460126Z"
    }
   },
   "source": "test_predictions = huber.predict(test_data[['AnnualSalary']])",
   "outputs": [],
   "execution_count": 108
  },
  {
   "cell_type": "markdown",
   "metadata": {},
   "source": [
    "Using the measure that you thought was the most important—the reason you chose that model over the others—evaluate how good your chosen model is.\n",
    "\n",
    "i.e., if you thought $R^2$ score was the most important, you would copy that same metric calculation here, comparing `test_data.GrossPay` to `test_predictions`."
   ]
  },
  {
   "cell_type": "code",
   "metadata": {
    "ExecuteTime": {
     "end_time": "2025-03-07T05:18:47.842601Z",
     "start_time": "2025-03-07T05:18:47.834829Z"
    }
   },
   "source": "test_data.GrossPay - test_predictions",
   "outputs": [
    {
     "data": {
      "text/plain": [
       "Name\n",
       "Garner Jr,Jeffrey K     6879.727134\n",
       "Triaca,Jennifer A       5975.661507\n",
       "McDonald,Crystal M      -509.335892\n",
       "Jett,Derrick J          1003.833683\n",
       "Jones,Sharon           -8742.858749\n",
       "                           ...     \n",
       "Carrington,Isaac D     31237.401937\n",
       "Green,Eric L           19145.938692\n",
       "Saunders,Minoka D      -2654.816754\n",
       "Harris,Troy J          -1551.392889\n",
       "Smith III,Milton G    -50041.572221\n",
       "Name: GrossPay, Length: 1446, dtype: float64"
      ]
     },
     "execution_count": 110,
     "metadata": {},
     "output_type": "execute_result"
    }
   ],
   "execution_count": 110
  },
  {
   "cell_type": "markdown",
   "metadata": {},
   "source": [
    "# A completely different analysis\n",
    "\n",
    "Now imagine that you are the City of Baltimore's hiring manager. New employees regularly ask how much they are actually likely to earn given the salary to which they are about to agree.\n",
    "\n",
    "You don't want to give an answer that is too high because you might be putting the city at risk for a lawsuit for misrepresenting the job. On the other hand, you don't want to give an answer that's too low because the candidate might pass up on the job and work elsewhere.\n",
    "\n",
    "You decide that it will cost \\\\$0.05 in lawsuit risk for each dollar you overrepresented, but only \\\\$0.01 for each dollar you underrepresented.\n",
    "\n",
    "E.g., if a candidate is actually likely to earn \\\\$100,000, and you say \\\\$120,000, this is worth \\\\$10,000 in potential lawsuits for misrepresentation. If you say \\\\$80,000, then that will cost you \\$200 in potential recruiters' fees to find someone else.\n",
    "\n",
    "Here's a function that will calculate the cost of these predictions. Don't worry if it is too complicated for you to create\n",
    "by yourself right now, but see if you can make sense of how it works"
   ]
  },
  {
   "cell_type": "code",
   "metadata": {
    "ExecuteTime": {
     "end_time": "2025-03-07T05:24:21.960377Z",
     "start_time": "2025-03-07T05:24:21.950952Z"
    }
   },
   "source": [
    "def cost(actuals, predictions):\n",
    "    cost = 0.0\n",
    "    for actual,prediction in zip(actuals, predictions):\n",
    "        if prediction > actual:\n",
    "            cost += 0.05 * (prediction - actual)\n",
    "        elif prediction < actual:\n",
    "            cost += 0.02 * (actual - prediction)\n",
    "        else:\n",
    "            cost += 0.0\n",
    "    return cost"
   ],
   "outputs": [],
   "execution_count": 116
  },
  {
   "cell_type": "markdown",
   "metadata": {},
   "source": [
    "Here's how you would use it for the Theil-Sen predictions. Use it to calculate the cost of the RANSAC, Huber and Ordinary Least Squares Regressors."
   ]
  },
  {
   "cell_type": "code",
   "metadata": {
    "ExecuteTime": {
     "end_time": "2025-03-07T05:24:25.242003Z",
     "start_time": "2025-03-07T05:24:25.233416Z"
    }
   },
   "source": [
    "cost(validation_data['GrossPay'], ts_predictions)"
   ],
   "outputs": [
    {
     "data": {
      "text/plain": [
       "np.float64(426285.16830219934)"
      ]
     },
     "execution_count": 117,
     "metadata": {},
     "output_type": "execute_result"
    }
   ],
   "execution_count": 117
  },
  {
   "cell_type": "code",
   "metadata": {
    "ExecuteTime": {
     "end_time": "2025-03-07T05:24:26.489307Z",
     "start_time": "2025-03-07T05:24:26.479062Z"
    }
   },
   "source": "cost(validation_data['GrossPay'], ransac_predictions)",
   "outputs": [
    {
     "data": {
      "text/plain": [
       "np.float64(313009.5473716184)"
      ]
     },
     "execution_count": 118,
     "metadata": {},
     "output_type": "execute_result"
    }
   ],
   "execution_count": 118
  },
  {
   "cell_type": "code",
   "metadata": {
    "ExecuteTime": {
     "end_time": "2025-03-07T05:24:27.640202Z",
     "start_time": "2025-03-07T05:24:27.629210Z"
    }
   },
   "source": "cost(validation_data['GrossPay'], huber_predictions)",
   "outputs": [
    {
     "data": {
      "text/plain": [
       "np.float64(305437.38275243674)"
      ]
     },
     "execution_count": 119,
     "metadata": {},
     "output_type": "execute_result"
    }
   ],
   "execution_count": 119
  },
  {
   "cell_type": "code",
   "metadata": {
    "ExecuteTime": {
     "end_time": "2025-03-07T05:24:28.794811Z",
     "start_time": "2025-03-07T05:24:28.785891Z"
    }
   },
   "source": "cost(validation_data['GrossPay'], ols_predictions)",
   "outputs": [
    {
     "data": {
      "text/plain": [
       "np.float64(319950.7073260362)"
      ]
     },
     "execution_count": 120,
     "metadata": {},
     "output_type": "execute_result"
    }
   ],
   "execution_count": 120
  },
  {
   "cell_type": "markdown",
   "metadata": {},
   "source": [
    "Based on this, which of the models we created today model would be the best one to use for answering new employees' questions?"
   ]
  },
  {
   "cell_type": "markdown",
   "metadata": {},
   "source": "_Answer:_ Based on the results above huber model is the best suitable for answering employees' questions regarding gross pay."
  },
  {
   "cell_type": "markdown",
   "metadata": {},
   "source": [
    "# Very much optional, super-hard question\n",
    "\n",
    "If you are already familiar with Python programming, calculus or other data science concepts, try to find the optimal coefficients of a linear regression model which would minimize the hiring manager's regret."
   ]
  }
 ],
 "metadata": {
  "kernelspec": {
   "display_name": "Python 3 (ipykernel)",
   "language": "python",
   "name": "python3"
  },
  "language_info": {
   "codemirror_mode": {
    "name": "ipython",
    "version": 3
   },
   "file_extension": ".py",
   "mimetype": "text/x-python",
   "name": "python",
   "nbconvert_exporter": "python",
   "pygments_lexer": "ipython3",
   "version": "3.11.6"
  }
 },
 "nbformat": 4,
 "nbformat_minor": 4
}
